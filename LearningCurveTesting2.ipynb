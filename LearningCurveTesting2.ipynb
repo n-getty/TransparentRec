{
 "worksheets": [
  {
   "cells": [
    {
     "cell_type": "code",
     "execution_count": null,
     "metadata": {},
     "outputs": [
      {
       "output_type": "stream",
       "stream": "stdout",
       "text": [
        "Installed autotime.py. To use it, type:\n  %load_ext autotime\n"
       ]
      }
     ],
     "input": [
      "%matplotlib inline\n",
      "%install_ext https://raw.github.com/cpcloud/ipython-autotime/master/autotime.py\n",
      "%load_ext autotime\n",
      "import matplotlib.pyplot as plt\n",
      "from RationaleSelect import *\n",
      "from Classifiers import TransparentLinearRegression\n",
      "from sklearn import cross_validation, linear_model\n",
      "from sklearn.metrics import mean_absolute_error\n",
      "from sklearn.cross_validation import train_test_split"
     ],
     "language": "python",
     "prompt_number": 1
    },
    {
     "cell_type": "code",
     "execution_count": null,
     "metadata": {},
     "outputs": [
      {
       "output_type": "stream",
       "stream": "stdout",
       "text": [
        "time: 8.81 s\n"
       ]
      }
     ],
     "input": [
      "userid = 170099\n",
      "user_ratings = get_matched_user_ratings(userid)\n",
      "movies = user_ratings.keys()\n",
      "ratings = user_ratings.values()"
     ],
     "language": "python",
     "prompt_number": 3
    },
    {
     "cell_type": "code",
     "execution_count": null,
     "metadata": {},
     "outputs": [
      {
       "output_type": "stream",
       "stream": "stdout",
       "text": [
        "time: 2.5 s\n"
       ]
      }
     ],
     "input": [
      "id_dict = get_id_row_dict()\n",
      "idxs = [id_dict[k] for k in movies]\n",
      "avg_and_num = sort_avg()"
     ],
     "language": "python",
     "prompt_number": 4
    },
    {
     "cell_type": "code",
     "execution_count": null,
     "metadata": {},
     "outputs": [
      {
       "output_type": "stream",
       "stream": "stdout",
       "text": [
        "time: 34.4 s\n"
       ]
      }
     ],
     "input": [
      "genre_matrix = get_genre_matrix()[idxs]\n",
      "user_key_matrix  = get_key_matrix()[idxs]\n",
      "actor_matrix = get_actor_matrix()[idxs]"
     ],
     "language": "python",
     "prompt_number": 5
    },
    {
     "cell_type": "code",
     "execution_count": null,
     "metadata": {},
     "outputs": [
      {
       "output_type": "stream",
       "stream": "stdout",
       "text": [
        "time: 32 ms\n"
       ]
      }
     ],
     "input": [
      "pp.scale(avg_and_num[:,0], with_mean=True, with_std=True, copy=False)\n",
      "pp.scale(avg_and_num[:,1], with_mean=True, with_std=True, copy=False)\n",
      "data = np.column_stack((avg_and_num[idxs], genre_matrix, user_key_matrix, actor_matrix))\n",
      "target = ratings"
     ],
     "language": "python",
     "prompt_number": 6
    },
    {
     "cell_type": "code",
     "execution_count": null,
     "metadata": {},
     "outputs": [
      {
       "output_type": "stream",
       "stream": "stdout",
       "text": [
        "time: 6 ms\n"
       ]
      }
     ],
     "input": [
      "def get_frequent_rationales(train_data, y_train, frequency):\n",
      "    non_avg = train_data[:,2:]\n",
      "    rationale_weights = get_rationale_weights(non_avg, y_train)\n",
      "    maxs, mins = build_rationales(non_avg, y_train, rationale_weights, frequency)\n",
      "    maxs = maxs.keys()\n",
      "    mins = mins.keys()\n",
      "    return maxs, mins"
     ],
     "language": "python",
     "prompt_number": 21
    },
    {
     "cell_type": "code",
     "execution_count": null,
     "metadata": {},
     "outputs": [
      {
       "output_type": "stream",
       "stream": "stdout",
       "text": [
        "time: 11 ms\n"
       ]
      }
     ],
     "input": [
      "def build_train_with_rationales(train_data, y_train, maxs, mins):\n",
      "    non_avg = train_data[:,2:]\n",
      "    count = 0\n",
      "    for x in range(train_data.shape[0]):\n",
      "        movie = non_avg[x]\n",
      "        nz = np.nonzero(movie)\n",
      "        valid_maxs = np.intersect1d(maxs, nz)\n",
      "        valid_mins = np.intersect1d(mins, nz)\n",
      "        if len(valid_maxs) + len(valid_mins) > 1:\n",
      "            count +=1\n",
      "        if y_train[x] > 3.0 and len(valid_maxs) > 0:\n",
      "            movie = np.multiply(movie, .01)\n",
      "            rationale = np.random.choice(maxs, min(len(valid_maxs),5))\n",
      "            movie[rationale] *= 101\n",
      "        elif y_train[x] < 3.0 and len(valid_mins) > 0:\n",
      "            movie = np.multiply(movie, .01)\n",
      "            rationale = np.random.choice(mins, min(len(valid_mins),5))\n",
      "            movie[rationale] *= 101\n",
      "    train_data[x][2:] = movie\n",
      "    print \"Times where there was atleast 1 potential rationale:\", count\n",
      "    return train_data"
     ],
     "language": "python",
     "prompt_number": 30
    },
    {
     "cell_type": "code",
     "execution_count": null,
     "metadata": {},
     "outputs": [
      {
       "output_type": "stream",
       "stream": "stdout",
       "text": [
        "time: 44 ms\n"
       ]
      }
     ],
     "input": [
      "def get_ridge_cv_curves(data, target, alpha, folds, trials, step, budget):\n",
      "    \n",
      "    ridge = linear_model.Ridge()\n",
      "    ridge.alpha = alpha\n",
      "    \n",
      "    kf = cross_validation.KFold(data.shape[0], n_folds=folds, shuffle = True, random_state = 42)\n",
      "    \n",
      "    mae_dict = {}\n",
      "    rationale_mae_dict = {}\n",
      "    \n",
      "    rationale_data = build_train_with_rationales(data, target, maxs, mins)\n",
      "    \n",
      "    for train_index, test_index in kf:\n",
      "        X_train, X_test = data[train_index], data[test_index]\n",
      "        y_train, y_test = target[train_index], target[test_index]\n",
      "        rationale_train = rationale_data[train_index]\n",
      "        \n",
      "        indices = np.arange(len(y_train))\n",
      "        \n",
      "        for _ in xrange(trials):\n",
      "            hi = np.where(y_train > 3.5)[0]\n",
      "            np.random.shuffle(hi)\n",
      "            lo = np.where(y_train < 2.5)[0]\n",
      "            np.random.shuffle(lo)\n",
      "            hi_lo = np.hstack((hi[:10],lo[:10]))\n",
      "            indices = np.setdiff1d(indices, hi_lo, assume_unique= True)\n",
      "            np.random.shuffle(indices)\n",
      "            indices = np.hstack((hi_lo, indices))\n",
      "            sublens = np.arange(step, min(len(y_train),budget), step) \n",
      "    \n",
      "            for sublen in sublens:\n",
      "                sub = indices[range(sublen)]\n",
      "                ridge.fit(X_train[sub], y_train[sub])\n",
      "                y_pred = ridge.predict(X_test)\n",
      "                mae = mean_absolute_error(y_test, y_pred)\n",
      "                if sublen in mae_dict:\n",
      "                    mae_dict[sublen].append(mae)\n",
      "                else:\n",
      "                    mae_dict[sublen] = [mae]\n",
      "    \n",
      "                ridge.fit(rationale_train[sub], y_train[sub])\n",
      "                y_pred = ridge.predict(X_test)\n",
      "                mae = mean_absolute_error(y_test, y_pred)\n",
      "                if sublen in rationale_mae_dict:\n",
      "                    rationale_mae_dict[sublen].append(mae)\n",
      "                else:\n",
      "                    rationale_mae_dict[sublen] = [mae]\n",
      "\n",
      "    mae_curve = [[k,np.average(v)] for k,v in mae_dict.iteritems()]\n",
      "    mae_curve.sort(key=lambda x:x[0])\n",
      "    rationale_mae_curve = [[k,np.average(v)] for k,v in rationale_mae_dict.iteritems()]\n",
      "    rationale_mae_curve.sort(key=lambda x:x[0])\n",
      "    \n",
      "    return np.array(mae_curve), np.array(rationale_mae_curve)"
     ],
     "language": "python",
     "prompt_number": 33
    },
    {
     "cell_type": "code",
     "execution_count": null,
     "metadata": {},
     "outputs": [
      {
       "output_type": "stream",
       "stream": "stdout",
       "text": [
        "38\n17\ntime: 7.53 s\n"
       ]
      }
     ],
     "input": [
      "frequency = .01\n",
      "maxs, mins = get_rationales(data, target, frequency)\n",
      "print len(maxs)\n",
      "print len(mins)"
     ],
     "language": "python",
     "prompt_number": 34
    },
    {
     "cell_type": "code",
     "execution_count": null,
     "metadata": {},
     "outputs": [
      {
       "output_type": "stream",
       "stream": "stdout",
       "text": [
        "time: 2 ms\n"
       ]
      }
     ],
     "input": [
      "alpha = 1\n",
      "folds = 5\n",
      "trials = 5\n",
      "step = 20\n",
      "budget = 1000"
     ],
     "language": "python",
     "prompt_number": 35
    },
    {
     "cell_type": "code",
     "execution_count": null,
     "metadata": {},
     "outputs": [
      {
       "output_type": "stream",
       "stream": "stdout",
       "text": [
        "Times where there was atleast 1 potential rationale: 2102\ntime: 3min 4s"
       ]
      },
      {
       "output_type": "stream",
       "stream": "stdout",
       "text": [
        "\n"
       ]
      }
     ],
     "input": [
      "curve, rationale_curve = get_ridge_cv_curves(np.array(data), np.array(target), alpha, folds, trials, step, budget)"
     ],
     "language": "python",
     "prompt_number": 41
    },
    {
     "cell_type": "code",
     "execution_count": null,
     "metadata": {},
     "outputs": [
      {
       "output_type": "display_data",
       "png": "[encoded data removed]",
       "text": [
        "<matplotlib.figure.Figure at 0x165c1e10>"
       ],
       "metadata": {}
      },
      {
       "output_type": "stream",
       "stream": "stdout",
       "text": [
        "time: 131 ms\n"
       ]
      }
     ],
     "input": [
      "plt.plot(curve[:,0], curve[:,1], '.r-', rationale_curve[:,0], rationale_curve[:,1], '.b-')\n",
      "plt.show()"
     ],
     "language": "python",
     "prompt_number": 42
    },
    {
     "cell_type": "code",
     "execution_count": null,
     "metadata": {},
     "outputs": [
      {
       "output_type": "stream",
       "stream": "stdout",
       "text": [
        "time: 2 ms\n"
       ]
      }
     ],
     "input": [
      "alpha = 10\n",
      "folds = 5\n",
      "trials = 5\n",
      "step = 20\n",
      "budget = 1000"
     ],
     "language": "python",
     "prompt_number": 43
    },
    {
     "cell_type": "code",
     "execution_count": null,
     "metadata": {},
     "outputs": [
      {
       "output_type": "stream",
       "stream": "stdout",
       "text": [
        "Times where there was atleast 1 potential rationale: 2102\ntime: 3min 7s"
       ]
      },
      {
       "output_type": "stream",
       "stream": "stdout",
       "text": [
        "\n"
       ]
      }
     ],
     "input": [
      "curve, rationale_curve = get_ridge_cv_curves(np.array(data), np.array(target), alpha, folds, trials, step, budget)"
     ],
     "language": "python",
     "prompt_number": 44
    },
    {
     "cell_type": "code",
     "execution_count": null,
     "metadata": {},
     "outputs": [
      {
       "output_type": "display_data",
       "png": "[encoded data removed]",
       "text": [
        "<matplotlib.figure.Figure at 0x17f5b358>"
       ],
       "metadata": {}
      },
      {
       "output_type": "stream",
       "stream": "stdout",
       "text": [
        "time: 125 ms\n"
       ]
      }
     ],
     "input": [
      "plt.clf()\n",
      "plt.plot(curve[:,0], curve[:,1], '.r-', rationale_curve[:,0], rationale_curve[:,1], '.b-')\n",
      "plt.show()"
     ],
     "language": "python",
     "prompt_number": 45
    },
    {
     "cell_type": "code",
     "execution_count": null,
     "metadata": {},
     "outputs": [],
     "input": [
      "curve, rationale_curve = get_ridge_cv_curves(np.array(data), np.array(target), alpha, folds, trials, step, budget)"
     ],
     "language": "python",
     "prompt_number": 22
    },
    {
     "cell_type": "code",
     "execution_count": null,
     "metadata": {},
     "outputs": [],
     "input": [
      "plt.clf()\n",
      "plt.plot(curve[:,0], curve[:,1], '.r-', rationale_curve[:,0], rationale_curve[:,1], '.b-')\n",
      "plt.show()"
     ],
     "language": "python",
     "prompt_number": 23
    },
    {
     "cell_type": "code",
     "execution_count": null,
     "metadata": {},
     "outputs": [],
     "input": [
      "lasso_rationale_curve = get_lasso_rationale_curve(np.array(data),np.array(target),step,indices)"
     ],
     "language": "python",
     "prompt_number": 21
    },
    {
     "cell_type": "markdown",
     "metadata": {},
     "source": [
      "# MAE v Number of Movies with Lasso Regression and Cross Validation"
     ]
    },
    {
     "cell_type": "code",
     "execution_count": null,
     "metadata": {},
     "outputs": [],
     "input": [
      "plt.clf()\n",
      "sublens = np.arange(step, len(target), step)\n",
      "plt.plot(sublens, lasso_curve, 'ro', sublens, lasso_rationale_curve, 'g^')\n",
      "plt.show()"
     ],
     "language": "python",
     "prompt_number": 29
    },
    {
     "cell_type": "code",
     "execution_count": null,
     "metadata": {},
     "outputs": [],
     "input": [
      ""
     ],
     "language": "python"
    }
   ]
  }
 ],
 "cells": [],
 "metadata": {},
 "nbformat": 3,
 "nbformat_minor": 0
}