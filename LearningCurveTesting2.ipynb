{
 "worksheets": [
  {
   "cells": [
    {
     "cell_type": "code",
     "execution_count": null,
     "metadata": {},
     "outputs": [
      {
       "output_type": "stream",
       "stream": "stdout",
       "text": [
        "The autoreload extension is already loaded. To reload it, use:\n  %reload_ext autoreload\nInstalled autotime.py. To use it, type:"
       ]
      },
      {
       "output_type": "stream",
       "stream": "stdout",
       "text": [
        "\n  %load_ext autotime\nThe autotime extension is already loaded. To reload it, use:\n  %reload_ext autotime\ntime: 306 ms\n"
       ]
      }
     ],
     "input": [
      "%load_ext autoreload\n",
      "%matplotlib inline\n",
      "%install_ext https://raw.github.com/cpcloud/ipython-autotime/master/autotime.py\n",
      "%load_ext autotime\n",
      "import matplotlib.pyplot as plt\n",
      "import RationaleSelect\n",
      "from RationaleSelect import *\n",
      "from Classifiers import TransparentLinearRegression\n",
      "from sklearn import cross_validation, linear_model\n",
      "from sklearn.metrics import mean_absolute_error\n",
      "from sklearn.cross_validation import train_test_split"
     ],
     "language": "python",
     "prompt_number": 137
    },
    {
     "cell_type": "code",
     "execution_count": null,
     "metadata": {},
     "outputs": [
      {
       "output_type": "pyout",
       "prompt_number": 138,
       "text": [
        "<module 'RationaleSelect' from 'RationaleSelect.py'>"
       ],
       "metadata": {}
      },
      {
       "output_type": "stream",
       "stream": "stdout",
       "text": [
        "time: 8 ms\n"
       ]
      }
     ],
     "input": [
      "reload(RationaleSelect)"
     ],
     "language": "python",
     "prompt_number": 138
    },
    {
     "cell_type": "code",
     "execution_count": null,
     "metadata": {},
     "outputs": [
      {
       "output_type": "stream",
       "stream": "stdout",
       "text": [
        "time: 8.74 s\n"
       ]
      }
     ],
     "input": [
      "userid = 170099\n",
      "user_ratings = get_matched_user_ratings(userid)\n",
      "movies = user_ratings.keys()\n",
      "ratings = user_ratings.values()"
     ],
     "language": "python",
     "prompt_number": 2
    },
    {
     "cell_type": "code",
     "execution_count": null,
     "metadata": {},
     "outputs": [
      {
       "output_type": "stream",
       "stream": "stdout",
       "text": [
        "time: 2.68 s\n"
       ]
      }
     ],
     "input": [
      "id_dict = get_id_row_dict()\n",
      "idxs = [id_dict[k] for k in movies]\n",
      "avg_and_num = sort_avg()"
     ],
     "language": "python",
     "prompt_number": 3
    },
    {
     "cell_type": "code",
     "execution_count": null,
     "metadata": {},
     "outputs": [
      {
       "output_type": "stream",
       "stream": "stdout",
       "text": [
        "time: 33.9 s\n"
       ]
      }
     ],
     "input": [
      "genre_matrix = get_genre_matrix()[idxs]\n",
      "user_key_matrix  = get_key_matrix()[idxs]\n",
      "actor_matrix = get_actor_matrix()[idxs]"
     ],
     "language": "python",
     "prompt_number": 4
    },
    {
     "cell_type": "code",
     "execution_count": null,
     "metadata": {},
     "outputs": [
      {
       "output_type": "stream",
       "stream": "stdout",
       "text": [
        "time: 43 ms\n"
       ]
      }
     ],
     "input": [
      "pp.scale(avg_and_num[:,0], with_mean=True, with_std=True, copy=False)\n",
      "pp.scale(avg_and_num[:,1], with_mean=True, with_std=True, copy=False)\n",
      "data = np.column_stack((avg_and_num[idxs], genre_matrix, user_key_matrix, actor_matrix))\n",
      "target = ratings"
     ],
     "language": "python",
     "prompt_number": 5
    },
    {
     "cell_type": "code",
     "execution_count": null,
     "metadata": {},
     "outputs": [
      {
       "output_type": "stream",
       "stream": "stdout",
       "text": [
        "time: 5 ms\n"
       ]
      }
     ],
     "input": [
      "def get_frequent_rationales(train_data, y_train, frequency):\n",
      "    non_avg = train_data[:,2:]\n",
      "    rationale_weights = get_rationale_weights(non_avg, y_train)\n",
      "    maxs, mins = build_rationales(non_avg, y_train, rationale_weights, frequency)\n",
      "    maxs = maxs.keys()\n",
      "    mins = mins.keys()\n",
      "    return maxs, mins"
     ],
     "language": "python",
     "prompt_number": 6
    },
    {
     "cell_type": "code",
     "execution_count": null,
     "metadata": {},
     "outputs": [
      {
       "output_type": "stream",
       "stream": "stdout",
       "text": [
        "time: 12 ms\n"
       ]
      }
     ],
     "input": [
      "def build_train_with_rationales(train_data, y_train, maxs, mins):\n",
      "    temp = np.array(train_data)\n",
      "    non_avg = train_data[:,2:]\n",
      "    count = 0\n",
      "    for x in range(train_data.shape[0]):\n",
      "        movie = non_avg[x]\n",
      "        nz = np.nonzero(movie)\n",
      "        valid_maxs = np.intersect1d(maxs, nz)\n",
      "        valid_mins = np.intersect1d(mins, nz)\n",
      "        if y_train[x] > 3.0 and len(valid_maxs) > 0:\n",
      "            count +=1\n",
      "            movie = np.multiply(movie, 0.001)\n",
      "            rationale = np.random.choice(maxs, min(len(valid_maxs),1))\n",
      "            movie[rationale] += 1\n",
      "        elif y_train[x] < 3.0 and len(valid_mins) > 0:\n",
      "            count +=1            \n",
      "            movie = np.multiply(movie, 0.001)\n",
      "            rationale = np.random.choice(mins, min(len(valid_mins),1))\n",
      "            movie[rationale] *= 101\n",
      "        train_data[x][2:] = movie\n",
      "    print \"Times where there was atleast 1 rationale:\", count\n",
      "    print \"Temp/train equal:\",np.array_equal(temp,train_data)\n",
      "    return train_data"
     ],
     "language": "python",
     "prompt_number": 174
    },
    {
     "cell_type": "code",
     "execution_count": null,
     "metadata": {},
     "outputs": [
      {
       "output_type": "stream",
       "stream": "stdout",
       "text": [
        "time: 49 ms\n"
       ]
      }
     ],
     "input": [
      "def get_ridge_cv_curves(data, target, alpha, folds, trials, step, budget):\n",
      "    \n",
      "    ridge = linear_model.Ridge()\n",
      "    ridge.alpha = alpha\n",
      "    \n",
      "    kf = cross_validation.KFold(data.shape[0], n_folds=folds, shuffle = True, random_state = 42)\n",
      "    \n",
      "    mae_dict = {}\n",
      "    rationale_mae_dict = {}\n",
      "    \n",
      "    rationale_data = build_train_with_rationales(np.array(data), np.array(target), maxs, mins)\n",
      "    maene = 0\n",
      "    for train_index, test_index in kf:\n",
      "        X_train, X_test = data[train_index], data[test_index]\n",
      "        y_train, y_test = target[train_index], target[test_index]\n",
      "        rationale_train = rationale_data[train_index]\n",
      "        \n",
      "        indices = np.arange(len(y_train))\n",
      "        \n",
      "        for _ in xrange(trials):\n",
      "            #ridge.alpha = 1\n",
      "            hi = np.where(y_train > 3.5)[0]\n",
      "            np.random.shuffle(hi)\n",
      "            lo = np.where(y_train < 2.5)[0]\n",
      "            np.random.shuffle(lo)\n",
      "            hi_lo = np.hstack((hi[:10],lo[:10]))\n",
      "            indices = np.setdiff1d(indices, hi_lo, assume_unique= True)\n",
      "            np.random.shuffle(indices)\n",
      "            indices = np.hstack((hi_lo, indices))\n",
      "            sublens = np.arange(step, min(len(y_train),budget), step) \n",
      "    \n",
      "            for sublen in sublens:\n",
      "                #ridge.alpha += 1\n",
      "                sub = indices[range(sublen)]\n",
      "                ridge.fit(X_train[sub], y_train[sub])\n",
      "                y_pred = ridge.predict(X_test)\n",
      "                mae = mean_absolute_error(y_test, y_pred)\n",
      "                if sublen in mae_dict:\n",
      "                    mae_dict[sublen].append(mae)\n",
      "                else:\n",
      "                    mae_dict[sublen] = [mae]\n",
      "    \n",
      "                ridge.fit(rationale_train[sub], y_train[sub])\n",
      "                y_pred = ridge.predict(X_test)\n",
      "                mae2 = mean_absolute_error(y_test, y_pred)\n",
      "                if sublen in rationale_mae_dict:\n",
      "                    rationale_mae_dict[sublen].append(mae2)\n",
      "                else:\n",
      "                    rationale_mae_dict[sublen] = [mae2]\n",
      "                \n",
      "                if not np.array_equal(X_train[sub],rationale_train[sub]):\n",
      "                    maene +=1\n",
      "    mae_curve = [[k,np.average(v)] for k,v in mae_dict.iteritems()]\n",
      "    mae_curve.sort(key=lambda x:x[0])\n",
      "    rationale_mae_curve = [[k,np.average(v)] for k,v in rationale_mae_dict.iteritems()]\n",
      "    rationale_mae_curve.sort(key=lambda x:x[0])\n",
      "    print \"Times when maes were not equal:\", maene\n",
      "    return np.array(mae_curve), np.array(rationale_mae_curve)"
     ],
     "language": "python",
     "prompt_number": 131
    },
    {
     "cell_type": "code",
     "execution_count": null,
     "metadata": {},
     "outputs": [
      {
       "output_type": "stream",
       "stream": "stdout",
       "text": [
        "Nonzero weights: 4080\nNonzero: "
       ]
      },
      {
       "output_type": "stream",
       "stream": "stdout",
       "text": [
        "174543\nPrim: 1869\nPost: 1869\nNumber of frequent positive features: 34\nNumber of frequent negative features: 10\ntime: 892 ms\n"
       ]
      }
     ],
     "input": [
      "frequency = .005\n",
      "maxs, mins = get_frequent_rationales(np.array(data), np.array(target), frequency)\n",
      "print \"Number of frequent positive features:\", len(maxs)\n",
      "print \"Number of frequent negative features:\", len(mins)"
     ],
     "language": "python",
     "prompt_number": 139
    },
    {
     "cell_type": "code",
     "execution_count": null,
     "metadata": {},
     "outputs": [],
     "input": [
      "alpha = 10\n",
      "folds = 5\n",
      "trials = 5\n",
      "step = 20\n",
      "budget = 400\n",
      "print \"Number of movies rated by user:\", len(ratings)\n",
      "curve, rationale_curve = get_ridge_cv_curves(np.array(data), np.array(target), alpha, folds, trials, step, budget)"
     ],
     "language": "python",
     "prompt_number": 175
    },
    {
     "cell_type": "code",
     "execution_count": null,
     "metadata": {},
     "outputs": [],
     "input": [
      "plt.plot(curve[:,0], curve[:,1], '.r-', rationale_curve[:,0], rationale_curve[:,1], '.b-')\n",
      "plt.show()"
     ],
     "language": "python",
     "prompt_number": 176
    },
    {
     "cell_type": "code",
     "execution_count": null,
     "metadata": {},
     "outputs": [
      {
       "output_type": "stream",
       "stream": "stdout",
       "text": [
        "time: 60 ms\n"
       ]
      }
     ],
     "input": [
      "def get_lasso_cv_curves(data, target, alpha, folds, trials, step, budget):\n",
      "    \n",
      "    lasso = linear_model.Lasso()\n",
      "    lasso.alpha = alpha\n",
      "    \n",
      "    kf = cross_validation.KFold(data.shape[0], n_folds=folds, shuffle = True, random_state = 42)\n",
      "    \n",
      "    mae_dict = {}\n",
      "    rationale_mae_dict = {}\n",
      "    \n",
      "    rationale_data = build_train_with_rationales(np.array(data), np.array(target), maxs, mins)\n",
      "    maene = 0\n",
      "    for train_index, test_index in kf:\n",
      "        X_train, X_test = data[train_index], data[test_index]\n",
      "        y_train, y_test = target[train_index], target[test_index]\n",
      "        rationale_train = rationale_data[train_index]\n",
      "        \n",
      "        indices = np.arange(len(y_train))\n",
      "        \n",
      "        for _ in xrange(trials):\n",
      "            hi = np.where(y_train > 3.5)[0]\n",
      "            np.random.shuffle(hi)\n",
      "            lo = np.where(y_train < 2.5)[0]\n",
      "            np.random.shuffle(lo)\n",
      "            hi_lo = np.hstack((hi[:10],lo[:10]))\n",
      "            indices = np.setdiff1d(indices, hi_lo, assume_unique= True)\n",
      "            np.random.shuffle(indices)\n",
      "            indices = np.hstack((hi_lo, indices))\n",
      "            sublens = np.arange(step, min(len(y_train),budget), step) \n",
      "    \n",
      "            for sublen in sublens:\n",
      "                sub = indices[range(sublen)]\n",
      "                lasso.fit(X_train[sub], y_train[sub])\n",
      "                y_pred = lasso.predict(X_test)\n",
      "                mae = mean_absolute_error(y_test, y_pred)\n",
      "                if sublen in mae_dict:\n",
      "                    mae_dict[sublen].append(mae)\n",
      "                else:\n",
      "                    mae_dict[sublen] = [mae]\n",
      "    \n",
      "                lasso.fit(rationale_train[sub], y_train[sub])\n",
      "                y_pred = lasso.predict(X_test)\n",
      "                mae2 = mean_absolute_error(y_test, y_pred)\n",
      "                if sublen in rationale_mae_dict:\n",
      "                    rationale_mae_dict[sublen].append(mae2)\n",
      "                else:\n",
      "                    rationale_mae_dict[sublen] = [mae2]\n",
      "                \n",
      "                if not np.array_equal(X_train[sub],rationale_train[sub]):\n",
      "                    maene +=1\n",
      "    mae_curve = [[k,np.average(v)] for k,v in mae_dict.iteritems()]\n",
      "    mae_curve.sort(key=lambda x:x[0])\n",
      "    rationale_mae_curve = [[k,np.average(v)] for k,v in rationale_mae_dict.iteritems()]\n",
      "    rationale_mae_curve.sort(key=lambda x:x[0])\n",
      "    print \"Times when maes were not equal:\", maene\n",
      "    return np.array(mae_curve), np.array(rationale_mae_curve)"
     ],
     "language": "python",
     "prompt_number": 143
    },
    {
     "cell_type": "code",
     "execution_count": null,
     "metadata": {},
     "outputs": [
      {
       "output_type": "stream",
       "stream": "stdout",
       "text": [
        "Times where there was atleast 1 rationale: 1292\nTemp/train equal: False\nTimes when maes were not equal:"
       ]
      },
      {
       "output_type": "stream",
       "stream": "stdout",
       "text": [
        " 475\ntime: 37.9 s\n"
       ]
      }
     ],
     "input": [
      "curve, rationale_curve = get_lasso_cv_curves(np.array(data),np.array(target), alpha, folds, trials, step, budget)"
     ],
     "language": "python",
     "prompt_number": 172
    },
    {
     "cell_type": "code",
     "execution_count": null,
     "metadata": {},
     "outputs": [
      {
       "output_type": "display_data",
       "png": "[encoded data removed]",
       "text": [
        "<matplotlib.figure.Figure at 0x6b4d8630>"
       ],
       "metadata": {}
      },
      {
       "output_type": "stream",
       "stream": "stdout",
       "text": [
        "time: 143 ms\n"
       ]
      }
     ],
     "input": [
      "plt.clf()\n",
      "plt.plot(curve[:,0], curve[:,1], '.r-', rationale_curve[:,0], rationale_curve[:,1], '.b-')\n",
      "plt.show()"
     ],
     "language": "python",
     "prompt_number": 173
    },
    {
     "cell_type": "code",
     "execution_count": null,
     "metadata": {},
     "outputs": [],
     "input": [
      ""
     ],
     "language": "python"
    }
   ]
  }
 ],
 "cells": [],
 "metadata": {},
 "nbformat": 3,
 "nbformat_minor": 0
}