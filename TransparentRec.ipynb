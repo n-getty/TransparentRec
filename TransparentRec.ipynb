{
 "cells": [
  {
   "cell_type": "code",
   "execution_count": 22,
   "metadata": {},
   "outputs": [],
   "source": [
    "import numpy as np\n",
    "import UserResults as ur\n",
    "import UserMatrix as um\n",
    "import pickle\n",
    "from Classifiers import TransparentRidge"
   ]
  },
  {
   "cell_type": "code",
   "execution_count": 46,
   "metadata": {},
   "outputs": [],
   "source": [
    "# Loading user matrix\n",
    "user_id = 945\n",
    "user_matrix = um.get_user_matrix(user_id)"
   ]
  },
  {
   "cell_type": "code",
   "execution_count": 47,
   "metadata": {},
   "outputs": [],
   "source": [
    "# Loading user ratings and movie list\n",
    "ratings = np.genfromtxt('postprocessed-data/user_ratings', delimiter=',', dtype=int)\n",
    "movies = np.genfromtxt('postprocessed-data/movie_list', delimiter='|', dtype=str)\n",
    "user_ratings = ratings[user_id-1]"
   ]
  },
  {
   "cell_type": "code",
   "execution_count": 56,
   "metadata": {},
   "outputs": [],
   "source": [
    "# Creating model\n",
    "clf =TransparentRidge(alpha=.05)\n",
    "user_cols = user_matrix.shape[1]\n",
    "data = user_matrix[:, 1:(user_cols-1)]\n",
    "target = user_matrix[:, (user_cols-1)]\n",
    "clf.fit(data,target)\n",
    "weights = clf.coef_\n",
    "neg_evi, pos_evi = clf.predict_evidences(data)\n",
    "bias = clf.get_bias()\n",
    "y_pred = clf.predict(data)\n",
    "indices = np.argsort(y_pred)"
   ]
  },
  {
   "cell_type": "code",
   "execution_count": 57,
   "metadata": {},
   "outputs": [
    {
     "name": "stdout",
     "output_type": "stream",
     "text": [
      "[['S.F.W. (1994)' '4.84013029552']\n ['Inventing the Abbotts (1997)' '4.68355079009']\n ['Last Time I Saw Paris, The (1954)' '4.57702513538']\n ['Foreign Student (1994)' '4.55134903092']\n ['Mixed Nuts (1994)' '4.50663036638']\n ['Relic, The (1997)' '4.47136503121']\n ['Walkabout (1971)' '4.42527544534']\n ['Ayn Rand: A Sense of Life (1997)' '4.39748547487']\n ['Foreign Correspondent (1940)' '4.38984052091']\n ['Hackers (1995)' '4.38045515779']]\n"
     ]
    }
   ],
   "source": [
    "# Predict all Films\n",
    "infile = open(\"postprocessed-data/movie_matrix\", \"r\")\n",
    "movie_matrix = pickle.load(infile)\n",
    "all_pred = clf.predict(movie_matrix[:, 1:])\n",
    "all_pred = np.column_stack((movies, all_pred))\n",
    "all_pred = all_pred[np.argsort(all_pred[:,1])][::-1]\n",
    "print all_pred[range(0,10)]"
   ]
  },
  {
   "cell_type": "code",
   "execution_count": 17,
   "metadata": {},
   "outputs": [],
   "source": [
    "# The Highest Rating\n",
    "j = indices[-1]\n",
    "movie_id = user_matrix[j][0]\n",
    "res = um.get_avg_rating_for_movie(ratings, movie_id-1)\n",
    "avg_rating = res[0]\n",
    "num_rating = res[1]\n",
    "movie_features = ur.gen_movie_weights(movie_id,weights,user_matrix)\n",
    "print \"Movie Title: \", movies[movie_id-1]\n",
    "print \"User Rating: \", user_ratings[movie_id-1]\n",
    "print \"Average Rating: \", avg_rating\n",
    "print \"Number of Ratings: \", num_rating\n",
    "print \"Prediction: \",  clf.predict(data[j])[0]\n",
    "print \"Bias and evidences:\", bias, neg_evi[j], pos_evi[j]\n",
    "print \"Positive Features\"\n",
    "print movie_features[0].head(10)\n",
    "print \"Negative Features\"\n",
    "print movie_features[1].head(10)"
   ]
  },
  {
   "cell_type": "code",
   "execution_count": 18,
   "metadata": {},
   "outputs": [],
   "source": [
    "# The Lowest Rating\n",
    "j = indices[0]\n",
    "movie_id = user_matrix[j][0]\n",
    "res = um.get_avg_rating_for_movie(ratings, movie_id-1)\n",
    "avg_rating = res[0]\n",
    "num_rating = res[1]\n",
    "movie_features = ur.gen_movie_weights(movie_id,weights,user_matrix)\n",
    "print \"Movie Title: \", movies[movie_id-1]\n",
    "print \"User Rating: \", user_ratings[movie_id-1]\n",
    "print \"Average Rating: \", avg_rating\n",
    "print \"Number of Ratings: \", num_rating\n",
    "print \"Prediction: \",  clf.predict(data[j])[0]\n",
    "print \"Bias and evidences:\", bias, neg_evi[j], pos_evi[j]\n",
    "print \"Positive Features\"\n",
    "print movie_features[0].head(10)\n",
    "print \"Negative Features\"\n",
    "print movie_features[1].head(10)"
   ]
  },
  {
   "cell_type": "code",
   "execution_count": 19,
   "metadata": {},
   "outputs": [],
   "source": [
    "# The case that has the most negative evidence, regardless of positive evidence\n",
    "j = np.argsort(neg_evi)[0]\n",
    "movie_id = user_matrix[j][0]\n",
    "res = um.get_avg_rating_for_movie(ratings, movie_id-1)\n",
    "avg_rating = res[0]\n",
    "num_rating = res[1]\n",
    "movie_features = ur.gen_movie_weights(movie_id,weights,user_matrix)\n",
    "print \"Movie Title: \", movies[movie_id-1]\n",
    "print \"User Rating: \", user_ratings[movie_id-1]\n",
    "print \"Average Rating: \", avg_rating\n",
    "print \"Number of Ratings: \", num_rating\n",
    "print \"Prediction: \",  clf.predict(data[j])[0]\n",
    "print \"Bias and evidences:\", bias, neg_evi[j], pos_evi[j]\n",
    "print \"Positive Features\"\n",
    "print movie_features[0].head(10)\n",
    "print \"Negative Features\"\n",
    "print movie_features[1].head(10)"
   ]
  },
  {
   "cell_type": "code",
   "execution_count": 20,
   "metadata": {},
   "outputs": [],
   "source": [
    "# The case that has the most positive evidence, regardless of negative evidence\n",
    "j = np.argsort(pos_evi)[-1]\n",
    "movie_id = user_matrix[j][0]\n",
    "res = um.get_avg_rating_for_movie(ratings, movie_id-1)\n",
    "avg_rating = res[0]\n",
    "num_rating = res[1]\n",
    "movie_features = ur.gen_movie_weights(movie_id,weights,user_matrix)\n",
    "print \"Movie Title: \", movies[movie_id-1]\n",
    "print \"User Rating: \", user_ratings[movie_id-1]\n",
    "print \"Average Rating: \", avg_rating\n",
    "print \"Number of Ratings: \", num_rating\n",
    "print \"Prediction: \",  clf.predict(data[j])[0]\n",
    "print \"Bias and evidences:\", bias, neg_evi[j], pos_evi[j]\n",
    "print \"Positive Features\"\n",
    "print movie_features[0].head(10)\n",
    "print \"Negative Features\"\n",
    "print movie_features[1].head(10)"
   ]
  },
  {
   "cell_type": "code",
   "execution_count": 21,
   "metadata": {},
   "outputs": [],
   "source": [
    "# Most conflicted\n",
    "conflict = np.min([abs(neg_evi), pos_evi], axis=0)\n",
    "indices = np.argsort(conflict)\n",
    "j=indices[-1]\n",
    "movie_id = user_matrix[j][0]\n",
    "res = um.get_avg_rating_for_movie(ratings, movie_id-1)\n",
    "avg_rating = res[0]\n",
    "num_rating = res[1]\n",
    "movie_features = ur.gen_movie_weights(movie_id,weights,user_matrix)\n",
    "print \"Movie Title: \", movies[movie_id-1]\n",
    "print \"User Rating: \", user_ratings[movie_id-1]\n",
    "print \"Average Rating: \", avg_rating\n",
    "print \"Number of Ratings: \", num_rating\n",
    "print \"Prediction: \",  clf.predict(data[j])[0]\n",
    "print \"Bias and evidences:\", bias, neg_evi[j], pos_evi[j]\n",
    "print \"Positive Features\"\n",
    "print movie_features[0].head(10)\n",
    "print \"Negative Features\"\n",
    "print movie_features[1].head(10)"
   ]
  },
  {
   "cell_type": "code",
   "execution_count": 22,
   "metadata": {},
   "outputs": [
    {
     "name": "stdout",
     "output_type": "stream",
     "text": [
      "Movie Title:  Return of the Pink Panther, The (1974)\n",
      "User Rating:  3\n",
      "Average Rating:  3.54838709677\n",
      "Number of Ratings:  93\n",
      "Prediction:  3.17226003094\n",
      "Bias and evidences: 3.19221026975 -0.0831241817808 0.0631739429755\n",
      "Positive Features\n",
      "          Feature  Weights\n",
      "0          Comedy   0.0446\n",
      "1  Average Rating   0.0331\n",
      "Negative Features\n",
      "Empty DataFrame\n",
      "Columns: [Feature, Weights]\n",
      "Index: []\n"
     ]
    }
   ],
   "source": [
    "# Least amount of info\n",
    "information = np.max([abs(neg_evi), pos_evi], axis=0)\n",
    "indices = np.argsort(information)\n",
    "j=indices[0]\n",
    "movie_id = user_matrix[j][0]\n",
    "res = um.get_avg_rating_for_movie(ratings, movie_id-1)\n",
    "avg_rating = res[0]\n",
    "num_rating = res[1]\n",
    "movie_features = ur.gen_movie_weights(movie_id,weights,user_matrix)\n",
    "print \"Movie Title: \", movies[movie_id-1]\n",
    "print \"User Rating: \", user_ratings[movie_id-1]\n",
    "print \"Average Rating: \", avg_rating\n",
    "print \"Number of Ratings: \", num_rating\n",
    "print \"Prediction: \",  clf.predict(data[j])[0]\n",
    "print \"Bias and evidences:\", bias, neg_evi[j], pos_evi[j]\n",
    "print \"Positive Features\"\n",
    "print movie_features[0].head(10)\n",
    "print \"Negative Features\"\n",
    "print movie_features[1].head(10)"
   ]
  }
 ],
 "metadata": {
  "kernelspec": {
   "display_name": "Python 2",
   "language": "python",
   "name": "python2"
  },
  "language_info": {
   "codemirror_mode": {
    "name": "ipython",
    "version": 2.0
   },
   "file_extension": ".py",
   "mimetype": "text/x-python",
   "name": "python",
   "nbconvert_exporter": "python",
   "pygments_lexer": "ipython2",
   "version": "2.7.9"
  }
 },
 "nbformat": 4,
 "nbformat_minor": 0
}