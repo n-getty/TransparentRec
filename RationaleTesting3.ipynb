{
 "worksheets": [
  {
   "cells": [
    {
     "cell_type": "code",
     "execution_count": null,
     "metadata": {},
     "outputs": [],
     "input": [
      "import numpy as np\n",
      "from pandas import DataFrame as df\n",
      "from Classifiers import TransparentLinearRegression\n",
      "from scipy.sparse import diags\n",
      "import PredictiveModels as pm\n",
      "import pandas as pd\n",
      "from LatestPreprocessing import *\n",
      "from RationaleSelect import *\n",
      "from sklearn import cross_validation, linear_model\n",
      "from sklearn.metrics import mean_absolute_error\n",
      "from sklearn.cross_validation import train_test_split"
     ],
     "language": "python",
     "prompt_number": 1
    },
    {
     "cell_type": "code",
     "execution_count": null,
     "metadata": {},
     "outputs": [],
     "input": [
      "userid = 170099\n",
      "user_ratings = get_matched_user_ratings(userid)\n",
      "movies = user_ratings.keys()\n",
      "ratings = user_ratings.values()"
     ],
     "language": "python",
     "prompt_number": 2
    },
    {
     "cell_type": "code",
     "execution_count": null,
     "metadata": {},
     "outputs": [],
     "input": [
      "id_dict = get_id_row_dict()\n",
      "idxs = [id_dict[k] for k in movies]\n",
      "avg_and_num = sort_avg()"
     ],
     "language": "python",
     "prompt_number": 3
    },
    {
     "cell_type": "code",
     "execution_count": null,
     "metadata": {},
     "outputs": [],
     "input": [
      "genre_matrix = get_genre_matrix()[idxs]\n",
      "user_key_matrix  = get_key_matrix()[idxs]\n",
      "actor_matrix = get_actor_matrix()[idxs]"
     ],
     "language": "python",
     "prompt_number": 4
    },
    {
     "cell_type": "code",
     "execution_count": null,
     "metadata": {},
     "outputs": [
      {
       "output_type": "stream",
       "stream": "stdout",
       "text": [
        "(2102L, 4225L)\n"
       ]
      }
     ],
     "input": [
      "rationale_data = np.column_stack((genre_matrix, user_key_matrix, actor_matrix))\n",
      "print rationale_data.shape\n",
      "rationale_weights = get_rationale_weight(rationale_data, ratings)"
     ],
     "language": "python",
     "prompt_number": 5
    },
    {
     "cell_type": "code",
     "execution_count": null,
     "metadata": {},
     "outputs": [
      {
       "output_type": "stream",
       "stream": "stdout",
       "text": [
        "['bazooka' 'McGinley, John C.' 'Weaver, Sigourney' 'Mystery' 'Fantasy'\n 'exploitation']\n"
       ]
      }
     ],
     "input": [
      "keywords = pd.read_csv(\"ml-latest/matched_movies\", delimiter='\\t', usecols = [0,3], names = ['id', 'key'] )\n",
      "x = get_popular_key_dict(keywords.key)\n",
      "get_popular_key_dict(keywords.key)\n",
      "inv_map = {v: k for k, v in x.items()}\n",
      "key_names = [inv_map[k] for k in range(len(x))]\n",
      "genre_names = get_genre_dict().keys()\n",
      "actor_names = get_actor_names()\n",
      "names = np.hstack([genre_names, key_names, actor_names])\n",
      "top = rationale_weights[0].argsort()[::-1]\n",
      "top = np.hstack((top[:3], top[-3:]))\n",
      "print names[top]"
     ],
     "language": "python",
     "prompt_number": 6
    },
    {
     "cell_type": "code",
     "execution_count": null,
     "metadata": {},
     "outputs": [
      {
       "output_type": "stream",
       "stream": "stdout",
       "text": [
        "(2102L, 4227L)\n"
       ]
      }
     ],
     "input": [
      "pp.scale(avg_and_num[:,0], with_mean=True, with_std=True, copy=False)\n",
      "pp.scale(avg_and_num[:,1], with_mean=True, with_std=True, copy=False)\n",
      "data = np.column_stack((avg_and_num[idxs], genre_matrix, user_key_matrix, actor_matrix))\n",
      "target = ratings\n",
      "print data.shape"
     ],
     "language": "python",
     "prompt_number": 21
    },
    {
     "cell_type": "markdown",
     "metadata": {},
     "source": [
      "Ridge Regression with no ratioanles"
     ]
    },
    {
     "cell_type": "code",
     "execution_count": null,
     "metadata": {},
     "outputs": [
      {
       "output_type": "stream",
       "stream": "stdout",
       "text": [
        "Ten Lowest Errors\n  Movie ID User Rating Model Prediction       Model Error\n0  52952.0         4.5    4.50234728326  0.00234728325848\n1   3826.0         3.0    3.00337228344  0.00337228344465\n2   8491.0         5.0    5.00522184713  0.00522184713472\n3   1968.0         4.0    4.00562286757  0.00562286757197\n4   5263.0         2.5     2.5082407055  0.00824070549783\n5   1556.0         0.5   0.491307809839  0.00869219016071\n6   2560.0         3.0    2.99110636406  0.00889363594156\n7   1344.0         4.0    3.99057294762   0.0094270523847\n8  52458.0         4.0    4.00957367876  0.00957367876215\n9   3039.0         4.0    3.98977784574    0.010222154259\n\nTen Highest Errors\n      Movie ID    User Rating Model Prediction     Model Error\n2093   40826.0            0.5    3.76032364934   3.26032364934\n2094    2114.0            2.0     5.3069446361    3.3069446361\n2095     427.0            0.5    3.82399970779   3.32399970779\n2096    1088.0            0.5    3.88583333358   3.38583333358\n2097    7523.0            1.0    4.39918603559   3.39918603559\n2098    1951.0            1.5     4.9302898924    3.4302898924\n2099    1974.0            1.0    4.96989656928   3.96989656928\n2100   56003.0            1.0    5.02205119234   4.02205119234\n2101    7347.0            0.5    4.98273609256   4.48273609256\n2102  Average:  3.21431969553    3.20338729464  0.990082143859\n"
       ]
      }
     ],
     "input": [
      "results = pm.get_ridge_cv_results(np.column_stack((data,target)), 45, 10)\n",
      "\n",
      "y_pred = results[2]\n",
      "ratings = user_ratings.values()\n",
      "error_from_pred = np.abs(ratings-y_pred)\n",
      "\n",
      "col_names = [\"Movie ID\" ,\"User Rating\",\"Model Prediction\",\"Model Error\"]\n",
      "\n",
      "col_avg = [\"Average:\", np.average(ratings),np.average(y_pred),np.average(error_from_pred)]\n",
      "user_result = np.column_stack((user_ratings.keys(), ratings, y_pred, error_from_pred))\n",
      "user_result = user_result[np.argsort(user_result[:, 3])]\n",
      "user_result = np.vstack((user_result,col_avg))\n",
      "\n",
      "results_df = pd.DataFrame(user_result, columns = col_names)\n",
      "print \"Ten Lowest Errors\"\n",
      "print results_df.head(10)\n",
      "print \"\\nTen Highest Errors\"\n",
      "print results_df.tail(10)"
     ],
     "language": "python",
     "prompt_number": 22
    },
    {
     "cell_type": "markdown",
     "metadata": {},
     "source": [
      "Lasso Regression with no ratioanles"
     ]
    },
    {
     "cell_type": "code",
     "execution_count": null,
     "metadata": {},
     "outputs": [
      {
       "output_type": "stream",
       "stream": "stdout",
       "text": [
        "Ten Lowest Errors\n  Movie ID User Rating Model Prediction        Model Error\n0   2181.0         4.0     4.0003178765  0.000317876501533\n1   7254.0         3.5    3.49909732711  0.000902672886203\n2   1252.0         5.0    4.99861109491   0.00138890508762\n3  49280.0         4.0    3.99808600765   0.00191399235418\n4   3301.0         3.0    3.00193310623   0.00193310622673\n5   1920.0         3.0    3.00303602537     0.003036025366\n6   5400.0         2.5    2.49689070977   0.00310929023028\n7    364.0         4.0    4.00408227132    0.0040822713176\n8  56367.0         3.5    3.49551900646   0.00448099353617\n9   3788.0         4.5    4.49341901845   0.00658098154504\n\nTen Highest Errors\n      Movie ID    User Rating Model Prediction     Model Error\n2093    6325.0            0.5    3.71506436481   3.21506436481\n2094    1974.0            1.0    4.22944383551   3.22944383551\n2095   56003.0            1.0    4.26614704952   3.26614704952\n2096    7347.0            0.5    3.79002802857   3.29002802857\n2097    7204.0            0.5    3.80759834352   3.30759834352\n2098    1027.0            0.5    3.88540260128   3.38540260128\n2099    1088.0            0.5     4.0922591904    3.5922591904\n2100    5735.0            0.5    4.26403738919   3.76403738919\n2101   45447.0            0.5    4.34468960938   3.84468960938\n2102  Average:  3.21431969553    3.21033805893  0.993832956131\n"
       ]
      }
     ],
     "input": [
      "results = pm.get_lasso_cv_results(np.column_stack((data,target)), .01, 10)\n",
      "\n",
      "y_pred = results[2]\n",
      "ratings = user_ratings.values()\n",
      "error_from_pred = np.abs(ratings-y_pred)\n",
      "\n",
      "col_names = [\"Movie ID\" ,\"User Rating\",\"Model Prediction\",\"Model Error\"]\n",
      "\n",
      "col_avg = [\"Average:\", np.average(ratings),np.average(y_pred),np.average(error_from_pred)]\n",
      "user_result = np.column_stack((user_ratings.keys(), ratings, y_pred, error_from_pred))\n",
      "user_result = user_result[np.argsort(user_result[:, 3])]\n",
      "user_result = np.vstack((user_result,col_avg))\n",
      "\n",
      "results_df = pd.DataFrame(user_result, columns = col_names)\n",
      "print \"Ten Lowest Errors\"\n",
      "print results_df.head(10)\n",
      "print \"\\nTen Highest Errors\"\n",
      "print results_df.tail(10)"
     ],
     "language": "python",
     "prompt_number": 9
    },
    {
     "cell_type": "code",
     "execution_count": null,
     "metadata": {},
     "outputs": [],
     "input": [
      "def get_rationale_train(data):\n",
      "    for x in range(data.shape[0]):\n",
      "        movie = data[x]\n",
      "        movie = np.multiply(movie, .1)\n",
      "        rationales = np.hstack(get_rationales(rationale_weights, movie))\n",
      "        for rationale in np.add(rationales, 2):\n",
      "            movie[rationale] *= 10\n",
      "        movie[0] *= 10\n",
      "        movie[1] *= 10\n",
      "        data[x] = movie  \n",
      "    return data"
     ],
     "language": "python",
     "prompt_number": 10
    },
    {
     "cell_type": "code",
     "execution_count": null,
     "metadata": {},
     "outputs": [],
     "input": [
      "def get_ridge_cv_results_rationales(user_matrix, alpha, folds):\n",
      "    user_cols = user_matrix.shape[1]\n",
      "    data = user_matrix[:, :(user_cols-1)]\n",
      "    target = user_matrix[:, (user_cols-1)]\n",
      "\n",
      "    ridge = linear_model.Ridge()\n",
      "    ridge.alpha = alpha\n",
      "    \n",
      "    kf = cross_validation.KFold(user_matrix.shape[0], n_folds=folds, shuffle = True, random_state = 16834)\n",
      "    all_pred = np.zeros(shape=(0))\n",
      "    all_indices = np.zeros(shape=(0))\n",
      "    mae_list = list()\n",
      "    for train_index, test_index in kf:\n",
      "        X_train, X_test =data[train_index], data[test_index]\n",
      "        y_train, y_test = target[train_index], target[test_index]\n",
      "        \n",
      "        rationale_train = get_rationale_train(X_train)\n",
      "        \n",
      "        ridge.fit(rationale_train, y_train)\n",
      "        y_pred = ridge.predict(X_test)\n",
      "\n",
      "        mae = mean_absolute_error(y_test, y_pred)\n",
      "\n",
      "        all_pred = np.concatenate((all_pred,y_pred))\n",
      "        all_indices = np.concatenate((all_indices, test_index))\n",
      "\n",
      "        mae_list.append(mae)\n",
      "\n",
      "    y_pred = np.column_stack((all_indices,all_pred))\n",
      "    y_pred = y_pred[np.argsort(y_pred[:,0])][:,1]\n",
      "\n",
      "    mae = np.average(mae_list)\n",
      "    weights = ridge.coef_\n",
      "\n",
      "    return [mae, weights, y_pred]"
     ],
     "language": "python",
     "prompt_number": 11
    },
    {
     "cell_type": "markdown",
     "metadata": {},
     "source": [
      "Ridge Regression with Rationales"
     ]
    },
    {
     "cell_type": "code",
     "execution_count": null,
     "metadata": {},
     "outputs": [
      {
       "output_type": "stream",
       "stream": "stdout",
       "text": [
        "Ten Lowest Errors\n  Movie ID User Rating Model Prediction        Model Error\n0   4465.0         4.0     4.0000096418  9.64179564988e-06\n1   1920.0         3.0     3.0020236648   0.00202366479987\n2   1078.0         4.0    3.99733539416   0.00266460584003\n3   3022.0         4.5    4.50407698303   0.00407698303251\n4    145.0         2.5    2.50536918915   0.00536918914532\n5   2915.0         4.0    3.99415424732   0.00584575267662\n6    153.0         2.5    2.49414420646   0.00585579354272\n7  49932.0         5.0    5.00597881529   0.00597881529399\n8  59273.0         3.5    3.49388689012   0.00611310987787\n9   4641.0         4.0    4.00650483885   0.00650483885098\n\nTen Highest Errors\n      Movie ID    User Rating Model Prediction    Model Error\n2093    3852.0            1.0    4.68698132859  3.68698132859\n2094   56511.0            0.5    4.21968049835  3.71968049835\n2095    2596.0            1.0    4.74220588442  3.74220588442\n2096   42723.0            1.0    4.96953353286  3.96953353286\n2097    7353.0            0.5    4.73976847582  4.23976847582\n2098    7348.0            1.5    5.79244229288  4.29244229288\n2099   40826.0            0.5    4.83468135192  4.33468135192\n2100    1416.0            1.0    5.50065262826  4.50065262826\n2101    5900.0            0.5    5.29722274445  4.79722274445\n2102  Average:  3.21431969553    3.40569328288  1.16257970287\n"
       ]
      }
     ],
     "input": [
      "results = get_ridge_cv_results_rationales(np.column_stack((data,target)), 28, 10)\n",
      "\n",
      "y_pred = results[2]\n",
      "ratings = user_ratings.values()\n",
      "error_from_pred = np.abs(ratings-y_pred)\n",
      "\n",
      "col_names = [\"Movie ID\" ,\"User Rating\",\"Model Prediction\",\"Model Error\"]\n",
      "\n",
      "col_avg = [\"Average:\", np.average(ratings),np.average(y_pred),np.average(error_from_pred)]\n",
      "user_result = np.column_stack((user_ratings.keys(), ratings, y_pred, error_from_pred))\n",
      "user_result = user_result[np.argsort(user_result[:, 3])]\n",
      "user_result = np.vstack((user_result,col_avg))\n",
      "\n",
      "results_df = pd.DataFrame(user_result, columns = col_names)\n",
      "print \"Ten Lowest Errors\"\n",
      "print results_df.head(10)\n",
      "print \"\\nTen Highest Errors\"\n",
      "print results_df.tail(10)"
     ],
     "language": "python",
     "prompt_number": 12
    },
    {
     "cell_type": "code",
     "execution_count": null,
     "metadata": {},
     "outputs": [],
     "input": [
      "def build_train_with_rationales(train_data, y_train):\n",
      "    non_avg = train_data[:,2:]\n",
      "    rationale_weights = get_rationale_weights(non_avg, y_train)\n",
      "    maxs, mins = build_rationales(non_avg, rationale_weights, 0.05)\n",
      "    maxs = maxs.keys()\n",
      "    mins = mins.keys()\n",
      "    for x in range(train_data.shape[0]):\n",
      "        movie = non_avg[x]\n",
      "        maxs = np.intersect1d(maxs, np.nonzero(movie))\n",
      "        mins = np.intersect1d(mins, np.nonzero(movie))\n",
      "        if y_train[x] > 3.5 and len(maxs) > 0:\n",
      "            movie = np.multiply(movie, .01)\n",
      "            rationale = max(maxs)\n",
      "            #rationale = np.random.choice(maxs, 1)\n",
      "            movie[rationale] *= 100\n",
      "        elif y_train[x] < 2.5 and len(mins) > 0:\n",
      "            movie = np.multiply(movie, .01)\n",
      "            rationale = min(mins)\n",
      "            #rationale = np.random.choice(mins, 1)\n",
      "            movie[rationale] *= 100\n",
      "        train_data[x][2:] = movie\n",
      "    return train_data"
     ],
     "language": "python",
     "prompt_number": 23
    },
    {
     "cell_type": "code",
     "execution_count": null,
     "metadata": {},
     "outputs": [],
     "input": [
      "def get_ridge_cv_results_rationales(user_matrix, alpha, folds):\n",
      "    \n",
      "    user_cols = user_matrix.shape[1]\n",
      "    data = user_matrix[:, :(user_cols-1)]\n",
      "    target = user_matrix[:, (user_cols-1)]\n",
      "    \n",
      "    ridge = linear_model.Ridge()\n",
      "    ridge.alpha = alpha\n",
      "    \n",
      "    kf = cross_validation.KFold(user_matrix.shape[0], n_folds=folds, shuffle = True, random_state = 16834)\n",
      "    all_pred = np.zeros(shape=(0))\n",
      "    all_indices = np.zeros(shape=(0))\n",
      "    mae_list = list()\n",
      "    for train_index, test_index in kf:\n",
      "        X_train, X_test =data[train_index], data[test_index]\n",
      "        y_train, y_test = target[train_index], target[test_index]\n",
      "        \n",
      "        rationale_train = build_train_with_rationales(X_train, y_train)\n",
      "        \n",
      "        ridge.fit(rationale_train, y_train)\n",
      "        y_pred = ridge.predict(X_test)\n",
      "\n",
      "        mae = mean_absolute_error(y_test, y_pred)\n",
      "\n",
      "        all_pred = np.concatenate((all_pred,y_pred))\n",
      "        all_indices = np.concatenate((all_indices, test_index))\n",
      "\n",
      "        mae_list.append(mae)\n",
      "\n",
      "    y_pred = np.column_stack((all_indices,all_pred))\n",
      "    y_pred = y_pred[np.argsort(y_pred[:,0])][:,1]\n",
      "\n",
      "    mae = np.average(mae_list)\n",
      "    weights = ridge.coef_\n",
      "\n",
      "    return [mae, weights, y_pred]"
     ],
     "language": "python",
     "prompt_number": 14
    },
    {
     "cell_type": "markdown",
     "metadata": {},
     "source": [
      "Ridge CV with rationales (Top 5% of features)"
     ]
    },
    {
     "cell_type": "code",
     "execution_count": null,
     "metadata": {},
     "outputs": [
      {
       "output_type": "stream",
       "stream": "stdout",
       "text": [
        "Ten Lowest Errors\n  Movie ID User Rating Model Prediction        Model Error\n0  52952.0         4.5    4.49915272978  0.000847270215614\n1   2714.0         3.0    2.99582937234   0.00417062766346\n2   5159.0         2.5      2.504737245   0.00473724500001\n3  52458.0         4.0    4.00527003919   0.00527003919021\n4   1968.0         4.0     4.0064087025    0.0064087024983\n5   7618.0         4.0    4.00947018513   0.00947018512908\n6   5263.0         2.5    2.50969225157   0.00969225157171\n7  27808.0         2.5    2.50982277721   0.00982277720921\n8   6680.0         3.0    3.01013801404    0.0101380140403\n9   8959.0         3.0    2.98970233398    0.0102976660229\n\nTen Highest Errors\n      Movie ID    User Rating Model Prediction     Model Error\n2093    5735.0            0.5    3.77073409532   3.27073409532\n2094    2114.0            2.0      5.311798022     3.311798022\n2095     427.0            0.5    3.81814874774   3.31814874774\n2096    1088.0            0.5    3.89148429265   3.39148429265\n2097    7523.0            1.0    4.39162847891   3.39162847891\n2098    1951.0            1.5    4.92021243901   3.42021243901\n2099    1974.0            1.0    4.96836700633   3.96836700633\n2100   56003.0            1.0    5.04359387579   4.04359387579\n2101    7347.0            0.5    4.96920468735   4.46920468735\n2102  Average:  3.21431969553    3.20369830973  0.990017623832\n"
       ]
      }
     ],
     "input": [
      "results = get_ridge_cv_results_rationales(np.column_stack((data,target)), 45, 10)\n",
      "\n",
      "y_pred = results[2]\n",
      "ratings = user_ratings.values()\n",
      "error_from_pred = np.abs(ratings-y_pred)\n",
      "\n",
      "col_names = [\"Movie ID\" ,\"User Rating\",\"Model Prediction\",\"Model Error\"]\n",
      "\n",
      "col_avg = [\"Average:\", np.average(ratings),np.average(y_pred),np.average(error_from_pred)]\n",
      "user_result = np.column_stack((user_ratings.keys(), ratings, y_pred, error_from_pred))\n",
      "user_result = user_result[np.argsort(user_result[:, 3])]\n",
      "user_result = np.vstack((user_result,col_avg))\n",
      "\n",
      "results_df = pd.DataFrame(user_result, columns = col_names)\n",
      "print \"Ten Lowest Errors\"\n",
      "print results_df.head(10)\n",
      "print \"\\nTen Highest Errors\"\n",
      "print results_df.tail(10)"
     ],
     "language": "python",
     "prompt_number": 24
    },
    {
     "cell_type": "code",
     "execution_count": null,
     "metadata": {},
     "outputs": [],
     "input": [
      "def get_lasso_cv_results_rationales(user_matrix, alpha, folds):\n",
      "    user_cols = user_matrix.shape[1]\n",
      "    data = user_matrix[:, :(user_cols-1)]\n",
      "    target = user_matrix[:, (user_cols-1)]\n",
      "\n",
      "    lasso = linear_model.Lasso()\n",
      "    lasso.alpha = alpha\n",
      "    \n",
      "    kf = cross_validation.KFold(user_matrix.shape[0], n_folds=folds, shuffle = True, random_state = 16834)\n",
      "    all_pred = np.zeros(shape=(0))\n",
      "    all_indices = np.zeros(shape=(0))\n",
      "    mae_list = list()\n",
      "    for train_index, test_index in kf:\n",
      "        X_train, X_test =data[train_index], data[test_index]\n",
      "        y_train, y_test = target[train_index], target[test_index]\n",
      "        \n",
      "        rationale_train = build_train_with_rationales(X_train, y_train)\n",
      "        \n",
      "        lasso.fit(rationale_train, y_train)\n",
      "        y_pred = lasso.predict(X_test)\n",
      "\n",
      "        mae = mean_absolute_error(y_test, y_pred)\n",
      "\n",
      "        all_pred = np.concatenate((all_pred,y_pred))\n",
      "        all_indices = np.concatenate((all_indices, test_index))\n",
      "\n",
      "        mae_list.append(mae)\n",
      "\n",
      "    y_pred = np.column_stack((all_indices,all_pred))\n",
      "    y_pred = y_pred[np.argsort(y_pred[:,0])][:,1]\n",
      "\n",
      "    mae = np.average(mae_list)\n",
      "    weights = lasso.coef_\n",
      "\n",
      "    return [mae, weights, y_pred]"
     ],
     "language": "python",
     "prompt_number": 16
    },
    {
     "cell_type": "markdown",
     "metadata": {},
     "source": [
      "Lasso CV with rationales (Top 5% of features)"
     ]
    },
    {
     "cell_type": "code",
     "execution_count": null,
     "metadata": {},
     "outputs": [
      {
       "output_type": "stream",
       "stream": "stdout",
       "text": [
        "Ten Lowest Errors\n  Movie ID User Rating Model Prediction       Model Error\n0   3788.0         4.5    4.50119738311  0.00119738310556\n1   3066.0         3.0    3.00146277313   0.0014627731346\n2  26386.0         3.0    2.99759605666  0.00240394334254\n3  54513.0         3.5    3.50375559226  0.00375559225922\n4  32587.0         3.5    3.49622636867  0.00377363133266\n5   1920.0         3.0    2.99557591854  0.00442408146425\n6   2376.0         2.5    2.50470151348   0.0047015134792\n7   6953.0         4.0    4.00486339551  0.00486339550782\n8   5705.0         2.0    2.00487413487  0.00487413487306\n9   1615.0         3.0    2.99507465252  0.00492534748412\n\nTen Highest Errors\n      Movie ID    User Rating Model Prediction     Model Error\n2093    1974.0            1.0    4.19239316301   3.19239316301\n2094    6325.0            0.5    3.71698690985   3.21698690985\n2095   56003.0            1.0    4.27911286549   3.27911286549\n2096    7347.0            0.5    3.79149360942   3.29149360942\n2097    7204.0            0.5    3.80516515441   3.30516515441\n2098    1027.0            0.5    3.89985080041   3.39985080041\n2099    1088.0            0.5    4.10906244674   3.60906244674\n2100    5735.0            0.5    4.27607643344   3.77607643344\n2101   45447.0            0.5    4.35886277699   3.85886277699\n2102  Average:  3.21431969553    3.21060632747  0.993225157924\n"
       ]
      }
     ],
     "input": [
      "results = get_lasso_cv_results_rationales(np.column_stack((data,target)), .01, 10)\n",
      "\n",
      "y_pred = results[2]\n",
      "ratings = user_ratings.values()\n",
      "error_from_pred = np.abs(ratings-y_pred)\n",
      "\n",
      "col_names = [\"Movie ID\" ,\"User Rating\",\"Model Prediction\",\"Model Error\"]\n",
      "\n",
      "col_avg = [\"Average:\", np.average(ratings),np.average(y_pred),np.average(error_from_pred)]\n",
      "user_result = np.column_stack((user_ratings.keys(), ratings, y_pred, error_from_pred))\n",
      "user_result = user_result[np.argsort(user_result[:, 3])]\n",
      "user_result = np.vstack((user_result,col_avg))\n",
      "\n",
      "results_df = pd.DataFrame(user_result, columns = col_names)\n",
      "print \"Ten Lowest Errors\"\n",
      "print results_df.head(10)\n",
      "print \"\\nTen Highest Errors\"\n",
      "print results_df.tail(10)"
     ],
     "language": "python",
     "prompt_number": 25
    },
    {
     "cell_type": "markdown",
     "metadata": {},
     "source": [
      "Lasso CV test/split with rationales"
     ]
    },
    {
     "cell_type": "code",
     "execution_count": null,
     "metadata": {},
     "outputs": [
      {
       "output_type": "stream",
       "stream": "stdout",
       "text": [
        "1.00238379541\n"
       ]
      }
     ],
     "input": [
      "X_train, X_test, y_train, y_test = train_test_split(data, target, test_size=.33, random_state = 16834)\n",
      "rationale_train = build_train_with_rationales(X_train, y_train)\n",
      "\n",
      "lasso = linear_model.Lasso()\n",
      "lasso.alpha = .01\n",
      "lasso.fit(rationale_train, y_train)\n",
      "y_pred = lasso.predict(X_test)\n",
      "mae = mean_absolute_error(y_test, y_pred)\n",
      "print mae"
     ],
     "language": "python",
     "prompt_number": 26
    },
    {
     "cell_type": "markdown",
     "metadata": {},
     "source": [
      "Ridge CV test/split with rationales"
     ]
    },
    {
     "cell_type": "code",
     "execution_count": null,
     "metadata": {},
     "outputs": [
      {
       "output_type": "stream",
       "stream": "stdout",
       "text": [
        "1.01668266505\n"
       ]
      }
     ],
     "input": [
      "X_train, X_test, y_train, y_test = train_test_split(data, target, test_size=.33, random_state = 16834)\n",
      "rationale_train = build_train_with_rationales(X_train, y_train)\n",
      "\n",
      "ridge = linear_model.Ridge()\n",
      "ridge.alpha = 45\n",
      "ridge.fit(rationale_train, y_train)\n",
      "y_pred = ridge.predict(X_test)\n",
      "mae = mean_absolute_error(y_test, y_pred)\n",
      "print mae"
     ],
     "language": "python",
     "prompt_number": 27
    },
    {
     "cell_type": "code",
     "execution_count": null,
     "metadata": {},
     "outputs": [],
     "input": [
      ""
     ],
     "language": "python"
    }
   ]
  }
 ],
 "cells": [],
 "metadata": {},
 "nbformat": 3,
 "nbformat_minor": 0
}