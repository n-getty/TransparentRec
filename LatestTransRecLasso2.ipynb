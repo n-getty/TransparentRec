{
 "cells": [
  {
   "cell_type": "code",
   "execution_count": 1,
   "metadata": {},
   "outputs": [],
   "source": [
    "%matplotlib inline\n",
    "import numpy as np\n",
    "from pandas import DataFrame as df\n",
    "from Classifiers import TransparentRidge\n",
    "from Classifiers import TransparentLasso\n",
    "from scipy.sparse import diags\n",
    "import matplotlib.pyplot as plt\n",
    "import PredictiveModels as pm\n",
    "import pandas as pd\n",
    "from LatestPreprocessing import *"
   ]
  },
  {
   "cell_type": "markdown",
   "metadata": {},
   "source": [
    "# User Transparency"
   ]
  },
  {
   "cell_type": "code",
   "execution_count": 2,
   "metadata": {},
   "outputs": [
    {
     "name": "stdout",
     "output_type": "stream",
     "text": [
      "   User ID  Number of Ratings  Average Rating  Variance  Genre Ratio  Key Ratio  Fitness\n0   242763               1929           2.875     4.092            0      0.040    0.369\n1    28451               1274           2.813     3.909            0      0.086    0.305\n2    87971               1181           3.383     3.426            0      0.065    0.278\n3   155440               1028           2.631     3.292            0      0.085    0.245\n4    60484               1224           2.054     3.114            0      0.077    0.234\n5   120899               2031           2.662     2.356            0      0.022    0.214\n6    46262                747           2.509     3.603            0      0.159    0.202\n7   225941               1646           1.797     2.348            0      0.037    0.198\n8   170099               2067           3.215     2.179            0      0.021    0.197\n9   234450               1798           2.885     2.215            0      0.034    0.187\n"
     ]
    }
   ],
   "source": [
    "pd.set_option('display.width', 100)\n",
    "user_stats = pd.read_csv('ml-latest/user_stats.csv', sep = ',',nrows=20)\n",
    "print user_stats.head(10)"
   ]
  },
  {
   "cell_type": "markdown",
   "metadata": {},
   "source": [
    "## Loading user matrix"
   ]
  },
  {
   "cell_type": "code",
   "execution_count": 3,
   "metadata": {},
   "outputs": [
    {
     "name": "stdout",
     "output_type": "stream",
     "text": [
      "User average rating:  2.86393692777\nNumber of movies rated by this user:  1966\n"
     ]
    }
   ],
   "source": [
    "userid = 242763\n",
    "user_ratings = get_matched_user_ratings(userid)\n",
    "movies = user_ratings.keys()\n",
    "ratings = user_ratings.values()\n",
    "print \"User average rating: \", np.average(ratings)\n",
    "print \"Number of movies rated by this user: \", len(ratings)"
   ]
  },
  {
   "cell_type": "code",
   "execution_count": 4,
   "metadata": {},
   "outputs": [
    {
     "name": "stdout",
     "output_type": "stream",
     "text": [
      "Loading average and number of rating\n"
     ]
    }
   ],
   "source": [
    "print \"Loading average and number of rating\"\n",
    "id_dict = get_id_row_dict()\n",
    "idxs = [id_dict[k] for k in movies]\n",
    "avg_and_num = sort_avg()"
   ]
  },
  {
   "cell_type": "markdown",
   "metadata": {},
   "source": [
    "## Highest rated movies"
   ]
  },
  {
   "cell_type": "code",
   "execution_count": 6,
   "metadata": {},
   "outputs": [
    {
     "name": "stdout",
     "output_type": "stream",
     "text": [
      "                                                   Movie Average Rating Number of Ratings\n10075                    THE SHAWSHANK REDEMPTION (1994)       4.442559             77367\n6085                                THE GODFATHER (1972)       4.354139             49554\n3561                           THE USUAL SUSPECTS (1995)       4.319778             52957\n18479                            SCHINDLER'S LIST (1993)       4.292279             59539\n20916                      THE GODFATHER: PART II (1974)       4.269065             32048\n18913                        SHICHININ NO SAMURAI (1954)       4.263744             12696\n6943                                  REAR WINDOW (1954)       4.248423             19338\n10182             ONE FLEW OVER THE CUCKOO'S NEST (1975)       4.243332             35657\n15480                                  FIGHT CLUB (1999)       4.234274             48471\n8583                                   CASABLANCA (1942)       4.233015             27715\n12624  DR. STRANGELOVE OR: HOW I LEARNED TO STOP WORR...       4.226128             25658\n4557                                 12 ANGRY MEN (1957)       4.223266             14738\n17374                               THE THIRD MAN (1949)       4.222866              7159\n1963                                 SUNSET BLVD. (1950)       4.221635              7289\n15522                          NORTH BY NORTHWEST (1959)       4.217631             17787\n2003                             DOUBLE INDEMNITY (1944)        4.21173              5226\n717                                CIDADE DE DEUS (2002)       4.211117             16299\n19975                              PATHS OF GLORY (1957)       4.206326              3841\n17187                             THE DARK KNIGHT (2008)       4.202483             29037\n3130                        DAS LEBEN DER ANDEREN (2006)       4.202116              7372\n"
     ]
    }
   ],
   "source": [
    "movie_set = pd.read_csv(\"ml-latest/matched_set.csv\", sep = \",\")\n",
    "avg_df = df(np.column_stack((movie_set.title,avg_and_num)), columns = (\"Movie\", \"Average Rating\", \"Number of Ratings\"))\n",
    "print avg_df.loc[avg_df[\"Number of Ratings\"] > 100].sort([\"Average Rating\", \"Number of Ratings\"], ascending=[0,0]).head(20)"
   ]
  },
  {
   "cell_type": "heading",
   "metadata": {},
   "level": 2,
   "source": [
    "User Highest Rated"
   ]
  },
  {
   "cell_type": "code",
   "execution_count": 5,
   "metadata": {},
   "outputs": [
    {
     "name": "stdout",
     "output_type": "stream",
     "text": [
      "                                         Movie Rating\n0                             TOY STORY (1995)      5\n983                     THE FISHER KING (1991)      5\n1964                     EDUCATING RITA (1983)      5\n1963                               RUSH (1991)      5\n1962                      LA DOLCE VITA (1960)      5\n437                     THE DEER HUNTER (1978)      5\n869             THE BLAIR WITCH PROJECT (1999)      5\n7     AT PLAY IN THE FIELDS OF THE LORD (1991)      5\n1954                             HARPER (1966)      5\n1950        SUPPORT YOUR LOCAL SHERIFF! (1969)      5\n10                       THE WILD GEESE (1978)      5\n874                              LOLITA (1962)      5\n1949   PERFUME: THE STORY OF A MURDERER (2006)      5\n1948             HOW TO STEAL A MILLION (1966)      5\n876                         THE MISSION (1986)      5\n877                        FROM THE HIP (1987)      5\n878      THE NIGHT OF THE FOLLOWING DAY (1968)      5\n1944                   THE POWER OF ONE (1992)      5\n859                 RUN SILENT RUN DEEP (1958)      5\n19                              OTHELLO (1995)      5\n"
     ]
    }
   ],
   "source": [
    "all_names = get_movie_names()\n",
    "names = all_names[idxs]\n",
    "rating_df = df(np.column_stack((names,ratings)), columns = (\"Movie\", \"Rating\"))\n",
    "print rating_df.sort([\"Rating\"], ascending=0).head(20)"
   ]
  },
  {
   "cell_type": "markdown",
   "metadata": {},
   "source": [
    "## User rating distribution"
   ]
  },
  {
   "cell_type": "code",
   "execution_count": 8,
   "metadata": {},
   "outputs": [
    {
     "data": {
      "image/png": "[encoded data removed]"
     },
     "output_type": "display_data",
     "text": [
      "<matplotlib.figure.Figure at 0xbb120b8>"
     ],
     "metadata": {}
    }
   ],
   "source": [
    "x = ratings\n",
    "his = np.histogram(x, bins = np.arange(0.5,6,0.5))\n",
    "fig, ax = plt.subplots()\n",
    "offset = 0.25\n",
    "plt.bar(his[1][1:],his[0],width=.5)\n",
    "ax.set_xticks(his[1][1:] + offset)\n",
    "ax.set_xticklabels(np.arange(0.5,6,0.5))\n",
    "plt.title(\"Rating Frequency\")\n",
    "plt.xlabel(\"Rating\")\n",
    "plt.ylabel(\"Frequency\")\n",
    "plt.show()"
   ]
  },
  {
   "cell_type": "markdown",
   "metadata": {},
   "source": [
    "## Genre Distribution"
   ]
  },
  {
   "cell_type": "code",
   "execution_count": 6,
   "metadata": {},
   "outputs": [
    {
     "name": "stdout",
     "output_type": "stream",
     "text": [
      "Loading genre matrix\n"
     ]
    }
   ],
   "source": [
    "print \"Loading genre matrix\"\n",
    "genre_matrix = get_genre_matrix()[idxs]\n",
    "genre_dict = get_genre_dict()\n",
    "inv_map = {v: k for k, v in genre_dict.items()}\n",
    "names = [inv_map[k] for k in range(len(genre_dict))]"
   ]
  },
  {
   "cell_type": "code",
   "execution_count": 10,
   "metadata": {},
   "outputs": [
    {
     "data": {
      "image/png": "[encoded data removed]"
     },
     "output_type": "display_data",
     "text": [
      "<matplotlib.figure.Figure at 0x1845d5f8>"
     ],
     "metadata": {}
    }
   ],
   "source": [
    "x = np.sum(genre_matrix, axis=0)\n",
    "his = np.histogram(x, bins = range(0,21))\n",
    "fig, ax = plt.subplots()\n",
    "offset = 0\n",
    "plt.bar(his[1][1:],x,align='center')\n",
    "ax.set_xticks(his[1][1:] + offset)\n",
    "ax.set_xticklabels((list(names)))\n",
    "locs, labels = plt.xticks()\n",
    "plt.setp(labels, rotation=70)\n",
    "plt.title(\"Genre Frequency\")\n",
    "plt.xlabel(\"Genre\")\n",
    "plt.ylabel(\"Frequency\")\n",
    "plt.show()"
   ]
  },
  {
   "cell_type": "code",
   "execution_count": 7,
   "metadata": {},
   "outputs": [
    {
     "name": "stdout",
     "output_type": "stream",
     "text": [
      "Loading key matrix\nNumber of popular keys:"
     ]
    },
    {
     "name": "stdout",
     "output_type": "stream",
     "text": [
      " 2336\n"
     ]
    }
   ],
   "source": [
    "print \"Loading key matrix\"\n",
    "keywords = pd.read_csv(\"ml-latest/matched_movies\", delimiter='\\t', usecols = [0,3], names = ['id', 'key'] )\n",
    "x = get_popular_key_dict(keywords.key)\n",
    "inv_map = {v: k for k, v in x.items()}\n",
    "names = np.array([inv_map[k] for k in range(len(x))])\n",
    "user_key_matrix = get_keyword_matrix()[idxs]"
   ]
  },
  {
   "cell_type": "markdown",
   "metadata": {},
   "source": [
    "## User Keyword Frequency"
   ]
  },
  {
   "cell_type": "code",
   "execution_count": 12,
   "metadata": {},
   "outputs": [
    {
     "name": "stdout",
     "output_type": "stream",
     "text": [
      "                Keyword Frequency\n2070     person-on-fire        99\n2071            tragedy        99\n2073          urination        99\n2072     premarital-sex        99\n2065            general        98\n2066              1960s        98\n2067          obsession        98\n2068       double-cross        98\n2069              theft        98\n2064     unfaithfulness        98\n2061         first-part        97\n2063             hitman        97\n2062     child-in-peril        97\n2060        convertible        97\n2059         flashlight        97\n2058              judge        97\n2057  product-placement        97\n2056         california        97\n2055          scientist        97\n2053      strangulation        96\n"
     ]
    }
   ],
   "source": [
    "frequency = np.sum(user_key_matrix, axis=0, dtype = int)\n",
    "indices = np.argsort(frequency)\n",
    "keyword_df = df((np.column_stack((names[indices], frequency[indices]))), columns = (\"Keyword\", \"Frequency\"))\n",
    "print keyword_df.sort([\"Frequency\"], ascending = 0).head(20)"
   ]
  },
  {
   "cell_type": "markdown",
   "metadata": {},
   "source": [
    "## User Actor Frequency"
   ]
  },
  {
   "cell_type": "code",
   "execution_count": 8,
   "metadata": {},
   "outputs": [
    {
     "name": "stdout",
     "output_type": "stream",
     "text": [
      "Loading actor matrix\n                   Actor Frequency\n921   Henry, William (I)       9.0\n1867         Zane, Billy       9.0\n922         Hensen, Lars       9.0\n1864       Yulin, Harris       9.0\n1861     Young, Carleton       9.0\n1860     Young, Burt (I)       9.0\n924     Herman, Paul (I)       9.0\n931     Hicks, Chuck (I)       9.0\n953       Homans, Robert       9.0\n954      Hong, James (I)       9.0\n371         Bellamy, Ned       9.0\n1847      Wood, Fred (I)       9.0\n961     Hordern, Michael       9.0\n13    Bancroft, Anne (I)       9.0\n574      Corey, Jeff (I)       9.0\n365          Beatty, Ned       9.0\n996        Isaacs, Jason       9.0\n913          Hedaya, Dan       9.0\n351        Barber, Bobby       9.0\n1834   Wilson, Harry (I)       9.0"
     ]
    },
    {
     "name": "stdout",
     "output_type": "stream",
     "text": [
      "\n"
     ]
    }
   ],
   "source": [
    "print \"Loading actor matrix\"\n",
    "actor_matrix = get_actor_matrix()[idxs]\n",
    "frequency = np.sum(actor_matrix, axis=0)\n",
    "names = get_actor_names()\n",
    "actor_df = df((np.column_stack((names, frequency))), columns = (\"Actor\", \"Frequency\"))\n",
    "print actor_df.sort_index(by=[\"Frequency\"], ascending = 0).head(20)"
   ]
  },
  {
   "cell_type": "markdown",
   "metadata": {},
   "source": [
    "## Finding min alpha for user"
   ]
  },
  {
   "cell_type": "code",
   "execution_count": 9,
   "metadata": {},
   "outputs": [
    {
     "name": "stdout",
     "output_type": "stream",
     "text": [
      "   Alpha       MAE\n0  0.001  1.281532\n1  0.003  1.125355\n2  0.005  1.107146\n3  0.007  1.124926\n4  0.009  1.147761\n5  0.011  1.169367\n6  0.013  1.188266\n7  0.015  1.206061\n8  0.017  1.222741\n9  0.019  1.239793\nOptimal alpha is:  0.005\n"
     ]
    }
   ],
   "source": [
    "pp.scale(avg_and_num[:,0], with_mean=True, with_std=True, copy=False)\n",
    "pp.scale(avg_and_num[:,1], with_mean=True, with_std=True, copy=False)\n",
    "data = np.column_stack((avg_and_num[idxs], genre_matrix, user_key_matrix, actor_matrix))\n",
    "target = ratings\n",
    "alphas = np.arange(.001,.02,.002)\n",
    "min_lasso_mae = 2\n",
    "avg_mae_list =list()\n",
    "for alpha in alphas:\n",
    "    mae_list = list()\n",
    "    results = pm.get_lasso_cv_results(np.column_stack((data,target)), alpha, 10)\n",
    "    mae = results[0]\n",
    "    mae_list.append(results[0])\n",
    "    if mae < min_lasso_mae:\n",
    "        min_lasso_mae = mae\n",
    "        min_lasso_alpha = alpha\n",
    "        min_lasso_maes = mae_list\n",
    "    avg_mae_list.append(mae)\n",
    "print pd.DataFrame(np.column_stack((alphas,avg_mae_list)), columns = ['Alpha', 'MAE'])\n",
    "print \"Optimal alpha is: \", min_lasso_alpha"
   ]
  },
  {
   "cell_type": "markdown",
   "metadata": {},
   "source": [
    "## Creating Lasso Model with Cross Validation and 10 Folds"
   ]
  },
  {
   "cell_type": "code",
   "execution_count": 24,
   "metadata": {},
   "outputs": [],
   "source": [
    "results = pm.get_lasso_cv_results(np.column_stack((data,target)), min_lasso_alpha, 10)\n",
    "\n",
    "y_pred = results[2]\n",
    "ratings = user_ratings.values()\n",
    "error_from_pred = np.abs(ratings-y_pred)\n",
    "\n",
    "col_names = [\"Movie ID\" ,\"User Rating\",\"Model Prediction\",\"Model Error\"]\n",
    "\n",
    "col_avg = [\"Average:\", np.average(ratings),np.average(y_pred),np.average(error_from_pred)]\n",
    "user_result = np.column_stack((user_ratings.keys(), ratings, y_pred, error_from_pred))\n",
    "user_result = user_result[np.argsort(user_result[:, 3])]\n",
    "user_result = np.vstack((user_result,col_avg))\n",
    "\n",
    "results_df = pd.DataFrame(user_result, columns = col_names)\n",
    "print \"Ten Lowest Errors\"\n",
    "print results_df.head(10)\n",
    "print \"\\nTen Highest Errors\"\n",
    "print results_df.tail(10)"
   ]
  },
  {
   "cell_type": "markdown",
   "metadata": {},
   "source": [
    "## Creating Lasso Model with Full Training Set"
   ]
  },
  {
   "cell_type": "code",
   "execution_count": 11,
   "metadata": {},
   "outputs": [],
   "source": [
    "clf =TransparentLasso(min_lasso_alpha)\n",
    "user_cols = data.shape[1]+1\n",
    "clf.fit(data,target)\n",
    "weights = clf.coef_\n",
    "neg_evi, pos_evi = clf.predict_evidences(data)\n",
    "bias = clf.get_bias()\n",
    "y_pred = clf.predict(data)\n",
    "indices = np.argsort(y_pred)\n",
    "coef_diags = diags(clf.coef_, 0)\n",
    "dm = data * coef_diags"
   ]
  },
  {
   "cell_type": "markdown",
   "metadata": {},
   "source": [
    "## Weights and Features"
   ]
  },
  {
   "cell_type": "code",
   "execution_count": 12,
   "metadata": {},
   "outputs": [
    {
     "name": "stdout",
     "output_type": "stream",
     "text": [
      "               Features   Weights\n0        Average Rating  1.665012\n112       Connery, Sean  0.476878\n122     Wayne, John (I)  0.459588\n6              Children  0.410399\n117       Irons, Jeremy  0.291075\n111  Caine, Michael (I)  0.288810\n18                 king  0.258632\n33           television  0.236076\n5           Documentary  0.227847\n7                gadget  0.227641\n        Features   Weights\n95        dating -0.259358\n2         Sci-Fi -0.256543\n50      teenager -0.236953\n24     brutality -0.232770\n20   locker-room -0.225680\n4      Animation -0.224079\n71          bath -0.221185\n46          bong -0.216387\n80   eye-gouging -0.209634\n109       insult -0.186505\n"
     ]
    }
   ],
   "source": [
    "get_popular_key_dict(keywords.key)\n",
    "inv_map = {v: k for k, v in x.items()}\n",
    "key_names = [inv_map[k] for k in range(len(x))]\n",
    "genre_names = get_genre_dict().keys()\n",
    "actor_names = get_actor_names()\n",
    "features = np.hstack([['Average Rating', 'Number of Ratings'], genre_names, key_names, actor_names])\n",
    "\n",
    "positive_weight_indices = weights > 0\n",
    "negative_weight_indices = weights < 0\n",
    "\n",
    "positive_features = np.column_stack((features[positive_weight_indices], weights[positive_weight_indices].astype(float)))\n",
    "negative_features = np.column_stack((features[negative_weight_indices], weights[negative_weight_indices].astype(float)))\n",
    "\n",
    "positive_df = pd.DataFrame(positive_features, columns = [\"Features\", \"Weights\"])\n",
    "positive_df = positive_df.convert_objects(convert_numeric=True)\n",
    "positive_df = positive_df.sort(\"Weights\", ascending=0)\n",
    "\n",
    "negative_df = pd.DataFrame(negative_features, columns = [\"Features\", \"Weights\"])\n",
    "negative_df = negative_df.convert_objects(convert_numeric=True)\n",
    "\n",
    "negative_df = negative_df.sort(\"Weights\", ascending=1)\n",
    "\n",
    "print positive_df.head(10)\n",
    "print negative_df.head(10)"
   ]
  },
  {
   "cell_type": "markdown",
   "metadata": {},
   "source": [
    "## The Highest Predicted Rating"
   ]
  },
  {
   "cell_type": "code",
   "execution_count": 14,
   "metadata": {},
   "outputs": [
    {
     "name": "stdout",
     "output_type": "stream",
     "text": [
      "Movie Title:  THE MAN WHO WOULD BE KING (1975)\nActual User Rating:  5.0\nPredicted User Rating:  6.311913442\n"
     ]
    }
   ],
   "source": [
    "j = indices[-1]\n",
    "titles = pd.read_csv(\"ml-latest/matched_set.csv\", sep = \",\")\n",
    "movie_id = movies[j]\n",
    "movie_index = np.where(movies == movie_id)\n",
    "movie_dm = dm[movie_index][0]\n",
    "feature_names = features\n",
    "\n",
    "positive_weights = movie_dm[movie_dm > 0]\n",
    "negative_weights = movie_dm[movie_dm < 0]\n",
    "\n",
    "positive_names = feature_names[movie_dm > 0]\n",
    "negative_names = feature_names[movie_dm < 0]\n",
    "\n",
    "positive_weights = np.column_stack((positive_names,positive_weights))\n",
    "positive_weights = positive_weights[np.argsort(positive_weights[:,1])][::-1]\n",
    "\n",
    "negative_weights = np.column_stack((negative_names,negative_weights))\n",
    "negative_weights = negative_weights[np.argsort(negative_weights[:,1])][::-1]\n",
    "\n",
    "positive_df = pd.DataFrame(positive_weights, columns = [\"Feature\", \"Weights\"])\n",
    "positive_df = positive_df.convert_objects(convert_numeric=True)\n",
    "\n",
    "negative_df = pd.DataFrame(negative_weights, columns = [\"Feature\", \"Weights\"])\n",
    "negative_df = negative_df.convert_objects(convert_numeric=True)\n",
    "\n",
    "pd.options.display.float_format = '{:,.4f}'.format\n",
    "\n",
    "print \"Movie Title: \", all_names[id_dict[movie_id]]\n",
    "print \"Actual User Rating: \", user_ratings[movie_id]\n",
    "print \"Predicted User Rating: \", y_pred[j]"
   ]
  },
  {
   "cell_type": "markdown",
   "metadata": {},
   "source": [
    "### Movie Rating Distribution"
   ]
  },
  {
   "cell_type": "code",
   "execution_count": 15,
   "metadata": {},
   "outputs": [
    {
     "name": "stdout",
     "output_type": "stream",
     "text": [
      "Number of Ratings: 3754\n"
     ]
    },
    {
     "data": {
      "image/png": "[encoded data removed]"
     },
     "output_type": "display_data",
     "text": [
      "<matplotlib.figure.Figure at 0x21e7cf28>"
     ],
     "metadata": {}
    }
   ],
   "source": [
    "ratings = pd.read_csv(\"ml-latest/ratings.csv\", delimiter=',', quotechar='\"', names = ['userId', 'movieId', 'rating'])\n",
    "movie_ratings = ratings.loc[ratings['movieId'] == movie_id]\n",
    "x = movie_ratings\n",
    "his = np.histogram(x, bins = np.arange(0.5,6,0.5))\n",
    "fig, ax = plt.subplots()\n",
    "offset = 0.25\n",
    "plt.bar(his[1][1:],his[0],width=.5)\n",
    "ax.set_xticks(his[1][1:] + offset)\n",
    "ax.set_xticklabels(np.arange(0.5,6,0.5))\n",
    "print \"Number of Ratings:\", movie_ratings.shape[0]\n",
    "plt.title(\"Rating Frequency\")\n",
    "plt.xlabel(\"Rating\")\n",
    "plt.ylabel(\"Frequency\")\n",
    "plt.show()"
   ]
  },
  {
   "cell_type": "markdown",
   "metadata": {},
   "source": [
    "### Evidence"
   ]
  },
  {
   "cell_type": "code",
   "execution_count": 35,
   "metadata": {},
   "outputs": [
    {
     "name": "stdout",
     "output_type": "stream",
     "text": [
      "Prediction:  4.70787060328\nBias and evidences: 2.63774259253 -0.0404916174235 2.11061962818\nPositive Features\n             Feature  Weights\n0  Number of Ratings   0.8671\n1             Horror   0.4401\n2             Sci-Fi   0.4070\n3     box-office-hit   0.2148\n4            Fantasy   0.1816"
     ]
    },
    {
     "name": "stdout",
     "output_type": "stream",
     "text": [
      "\nNegative Features\n    Feature  Weights\n0  violence  -0.0405\n"
     ]
    }
   ],
   "source": [
    "print \"Prediction: \",  y_pred[j]\n",
    "print \"Bias and evidences:\", bias, neg_evi[j], pos_evi[j]\n",
    "print \"Positive Features\"\n",
    "print positive_df.head(10)\n",
    "print \"Negative Features\"\n",
    "print negative_df.head(10)"
   ]
  },
  {
   "cell_type": "markdown",
   "metadata": {},
   "source": [
    "## The Lowest Rating"
   ]
  },
  {
   "cell_type": "code",
   "execution_count": 37,
   "metadata": {},
   "outputs": [
    {
     "name": "stdout",
     "output_type": "stream",
     "text": [
      "Movie Title:  TURISTAS (2006)\nActual User Rating:  0.5\nPredicted User Rating:  0.708781496659\n"
     ]
    }
   ],
   "source": [
    "j = indices[0]\n",
    "titles = pd.read_csv(\"ml-latest/matched_set.csv\", sep = \",\")\n",
    "movie_id = movies[j]\n",
    "movie_index = np.where(movies == movie_id)\n",
    "movie_dm = dm[movie_index][0]\n",
    "feature_names = features\n",
    "\n",
    "positive_weights = movie_dm[movie_dm > 0]\n",
    "negative_weights = movie_dm[movie_dm < 0]\n",
    "\n",
    "positive_names = feature_names[movie_dm > 0]\n",
    "negative_names = feature_names[movie_dm < 0]\n",
    "\n",
    "positive_weights = np.column_stack((positive_names,positive_weights))\n",
    "positive_weights = positive_weights[np.argsort(positive_weights[:,1])][::-1]\n",
    "\n",
    "negative_weights = np.column_stack((negative_names,negative_weights))\n",
    "negative_weights = negative_weights[np.argsort(negative_weights[:,1])][::-1]\n",
    "\n",
    "positive_df = pd.DataFrame(positive_weights, columns = [\"Feature\", \"Weights\"])\n",
    "positive_df = positive_df.convert_objects(convert_numeric=True)\n",
    "\n",
    "negative_df = pd.DataFrame(negative_weights, columns = [\"Feature\", \"Weights\"])\n",
    "negative_df = negative_df.convert_objects(convert_numeric=True)\n",
    "\n",
    "pd.options.display.float_format = '{:,.4f}'.format\n",
    "\n",
    "print \"Movie Title: \", all_names[id_dict[movie_id]]\n",
    "print \"Actual User Rating: \", user_ratings[movie_id]\n",
    "print \"Predicted User Rating: \", y_pred[j]"
   ]
  },
  {
   "cell_type": "markdown",
   "metadata": {},
   "source": [
    "### Movie Rating Distribution"
   ]
  },
  {
   "cell_type": "code",
   "execution_count": 38,
   "metadata": {},
   "outputs": [],
   "source": [
    "movie_ratings = ratings.loc[ratings['movieId'] == movie_id]\n",
    "x = movie_ratings\n",
    "his = np.histogram(x, bins = np.arange(0.5,6,0.5))\n",
    "fig, ax = plt.subplots()\n",
    "offset = 0.25\n",
    "plt.bar(his[1][1:],his[0],width=.5)\n",
    "ax.set_xticks(his[1][1:] + offset)\n",
    "ax.set_xticklabels(np.arange(0.5,6,0.5))\n",
    "print \"Number of Ratings:\", movie_ratings.shape[0]\n",
    "plt.title(\"Rating Frequency\")\n",
    "plt.xlabel(\"Rating\")\n",
    "plt.ylabel(\"Frequency\")\n",
    "plt.show()"
   ]
  },
  {
   "cell_type": "markdown",
   "metadata": {},
   "source": [
    "### Evidence"
   ]
  },
  {
   "cell_type": "code",
   "execution_count": 39,
   "metadata": {},
   "outputs": [
    {
     "name": "stdout",
     "output_type": "stream",
     "text": [
      "Prediction:  0.708781496659\nBias and evidences: 2.63774259253 -1.92896109587 0.0\nPositive Features\nEmpty DataFrame\nColumns: [Feature, Weights]\nIndex: []\nNegative Features\n             Feature  Weights\n0             Comedy  -0.8659\n1              Drama  -0.3902\n2      female-nudity  -0.2995\n3          Animation  -0.2441\n4             murder  -0.1188\n5  Number of Ratings  -0.0104"
     ]
    },
    {
     "name": "stdout",
     "output_type": "stream",
     "text": [
      "\n"
     ]
    }
   ],
   "source": [
    "print \"Prediction: \",  y_pred[j]\n",
    "print \"Bias and evidences:\", bias, neg_evi[j], pos_evi[j]\n",
    "print \"Positive Features\"\n",
    "print positive_df.head(10)\n",
    "print \"Negative Features\"\n",
    "print negative_df.head(10)"
   ]
  },
  {
   "cell_type": "markdown",
   "metadata": {},
   "source": [
    "## The case that has the most negative evidence, regardless of positive evidence"
   ]
  },
  {
   "cell_type": "code",
   "execution_count": null,
   "metadata": {},
   "outputs": [],
   "source": [
    "j = np.argsort(neg_evi)[0]\n",
    "titles = pd.read_csv(\"ml-latest/matched_set.csv\", sep = \",\")\n",
    "movie_id = movies[j]\n",
    "movie_index = np.where(movies == movie_id)\n",
    "movie_dm = dm[movie_index][0]\n",
    "feature_names = features\n",
    "\n",
    "positive_weights = movie_dm[movie_dm > 0]\n",
    "negative_weights = movie_dm[movie_dm < 0]\n",
    "\n",
    "positive_names = feature_names[movie_dm > 0]\n",
    "negative_names = feature_names[movie_dm < 0]\n",
    "\n",
    "positive_weights = np.column_stack((positive_names,positive_weights))\n",
    "positive_weights = positive_weights[np.argsort(positive_weights[:,1])][::-1]\n",
    "\n",
    "negative_weights = np.column_stack((negative_names,negative_weights))\n",
    "negative_weights = negative_weights[np.argsort(negative_weights[:,1])][::-1]\n",
    "\n",
    "positive_df = pd.DataFrame(positive_weights, columns = [\"Feature\", \"Weights\"])\n",
    "positive_df = positive_df.convert_objects(convert_numeric=True)\n",
    "\n",
    "negative_df = pd.DataFrame(negative_weights, columns = [\"Feature\", \"Weights\"])\n",
    "negative_df = negative_df.convert_objects(convert_numeric=True)\n",
    "\n",
    "pd.options.display.float_format = '{:,.4f}'.format\n",
    "\n",
    "print \"Movie Title: \", all_names[id_dict[movie_id]]\n",
    "print \"Actual User Rating: \", user_ratings[movie_id]\n",
    "print \"Predicted User Rating: \", y_pred[j]"
   ]
  },
  {
   "cell_type": "markdown",
   "metadata": {},
   "source": [
    "### Movie Rating Distribution"
   ]
  },
  {
   "cell_type": "code",
   "execution_count": null,
   "metadata": {},
   "outputs": [],
   "source": [
    "movie_ratings = ratings.loc[ratings['movieId'] == movie_id]\n",
    "x = movie_ratings\n",
    "his = np.histogram(x, bins = np.arange(0.5,6,0.5))\n",
    "fig, ax = plt.subplots()\n",
    "offset = 0.25\n",
    "plt.bar(his[1][1:],his[0],width=.5)\n",
    "ax.set_xticks(his[1][1:] + offset)\n",
    "ax.set_xticklabels(np.arange(0.5,6,0.5))\n",
    "print \"Number of Ratings:\", movie_ratings.shape[0]\n",
    "plt.title(\"Rating Frequency\")\n",
    "plt.xlabel(\"Rating\")\n",
    "plt.ylabel(\"Frequency\")\n",
    "plt.show()"
   ]
  },
  {
   "cell_type": "markdown",
   "metadata": {},
   "source": [
    "### Evidence"
   ]
  },
  {
   "cell_type": "code",
   "execution_count": null,
   "metadata": {},
   "outputs": [],
   "source": [
    "print \"Prediction: \",  y_pred[j]\n",
    "print \"Bias and evidences:\", bias, neg_evi[j], pos_evi[j]\n",
    "print \"Positive Features\"\n",
    "print positive_df.head(10)\n",
    "print \"Negative Features\"\n",
    "print negative_df.head(10)"
   ]
  },
  {
   "cell_type": "markdown",
   "metadata": {},
   "source": [
    "## The case that has the most positive evidence, regardless of negative evidence"
   ]
  },
  {
   "cell_type": "code",
   "execution_count": null,
   "metadata": {},
   "outputs": [],
   "source": [
    "j = np.argsort(pos_evi)[-1]\n",
    "titles = pd.read_csv(\"ml-latest/matched_set.csv\", sep = \",\")\n",
    "movie_id = movies[j]\n",
    "movie_index = np.where(movies == movie_id)\n",
    "movie_dm = dm[movie_index][0]\n",
    "feature_names = features\n",
    "\n",
    "positive_weights = movie_dm[movie_dm > 0]\n",
    "negative_weights = movie_dm[movie_dm < 0]\n",
    "\n",
    "positive_names = feature_names[movie_dm > 0]\n",
    "negative_names = feature_names[movie_dm < 0]\n",
    "\n",
    "positive_weights = np.column_stack((positive_names,positive_weights))\n",
    "positive_weights = positive_weights[np.argsort(positive_weights[:,1])][::-1]\n",
    "\n",
    "negative_weights = np.column_stack((negative_names,negative_weights))\n",
    "negative_weights = negative_weights[np.argsort(negative_weights[:,1])][::-1]\n",
    "\n",
    "positive_df = pd.DataFrame(positive_weights, columns = [\"Feature\", \"Weights\"])\n",
    "positive_df = positive_df.convert_objects(convert_numeric=True)\n",
    "\n",
    "negative_df = pd.DataFrame(negative_weights, columns = [\"Feature\", \"Weights\"])\n",
    "negative_df = negative_df.convert_objects(convert_numeric=True)\n",
    "\n",
    "pd.options.display.float_format = '{:,.4f}'.format\n",
    "\n",
    "print \"Movie Title: \", all_names[id_dict[movie_id]]\n",
    "print \"Actual User Rating: \", user_ratings[movie_id]\n",
    "print \"Predicted User Rating: \", y_pred[j]"
   ]
  },
  {
   "cell_type": "markdown",
   "metadata": {},
   "source": [
    "### Movie Rating Distribution"
   ]
  },
  {
   "cell_type": "code",
   "execution_count": null,
   "metadata": {},
   "outputs": [],
   "source": [
    "movie_ratings = ratings.loc[ratings['movieId'] == movie_id]\n",
    "x = movie_ratings\n",
    "his = np.histogram(x, bins = np.arange(0.5,6,0.5))\n",
    "fig, ax = plt.subplots()\n",
    "offset = 0.25\n",
    "plt.bar(his[1][1:],his[0],width=.5)\n",
    "ax.set_xticks(his[1][1:] + offset)\n",
    "ax.set_xticklabels(np.arange(0.5,6,0.5))\n",
    "print \"Number of Ratings:\", movie_ratings.shape[0]\n",
    "plt.title(\"Rating Frequency\")\n",
    "plt.xlabel(\"Rating\")\n",
    "plt.ylabel(\"Frequency\")\n",
    "plt.show()"
   ]
  },
  {
   "cell_type": "markdown",
   "metadata": {},
   "source": [
    "### Evidence"
   ]
  },
  {
   "cell_type": "code",
   "execution_count": null,
   "metadata": {},
   "outputs": [],
   "source": [
    "print \"Prediction: \",  y_pred[j]\n",
    "print \"Bias and evidences:\", bias, neg_evi[j], pos_evi[j]\n",
    "print \"Positive Features\"\n",
    "print positive_df.head(10)\n",
    "print \"Negative Features\"\n",
    "print negative_df.head(10)"
   ]
  },
  {
   "cell_type": "markdown",
   "metadata": {},
   "source": [
    "# Most conflicted"
   ]
  },
  {
   "cell_type": "code",
   "execution_count": 16,
   "metadata": {},
   "outputs": [
    {
     "name": "stdout",
     "output_type": "stream",
     "text": [
      "Movie Title:  KILL BILL: VOL. 1 (2003)\nActual User Rating:  4.0\nPredicted User Rating:  3.56970975872\n"
     ]
    }
   ],
   "source": [
    "conflict = np.min([abs(neg_evi), pos_evi], axis=0)\n",
    "indices = np.argsort(conflict)\n",
    "j=indices[-1]\n",
    "titles = pd.read_csv(\"ml-latest/matched_set.csv\", sep = \",\")\n",
    "movie_id = movies[j]\n",
    "movie_index = np.where(movies == movie_id)\n",
    "movie_dm = dm[movie_index][0]\n",
    "feature_names = features\n",
    "\n",
    "positive_weights = movie_dm[movie_dm > 0]\n",
    "negative_weights = movie_dm[movie_dm < 0]\n",
    "\n",
    "positive_names = feature_names[movie_dm > 0]\n",
    "negative_names = feature_names[movie_dm < 0]\n",
    "\n",
    "positive_weights = np.column_stack((positive_names,positive_weights))\n",
    "positive_weights = positive_weights[np.argsort(positive_weights[:,1])][::-1]\n",
    "\n",
    "negative_weights = np.column_stack((negative_names,negative_weights))\n",
    "negative_weights = negative_weights[np.argsort(negative_weights[:,1])][::-1]\n",
    "\n",
    "positive_df = pd.DataFrame(positive_weights, columns = [\"Feature\", \"Weights\"])\n",
    "positive_df = positive_df.convert_objects(convert_numeric=True)\n",
    "\n",
    "negative_df = pd.DataFrame(negative_weights, columns = [\"Feature\", \"Weights\"])\n",
    "negative_df = negative_df.convert_objects(convert_numeric=True)\n",
    "\n",
    "pd.options.display.float_format = '{:,.4f}'.format\n",
    "\n",
    "print \"Movie Title: \", all_names[id_dict[movie_id]]\n",
    "print \"Actual User Rating: \", user_ratings[movie_id]\n",
    "print \"Predicted User Rating: \", y_pred[j]"
   ]
  },
  {
   "cell_type": "markdown",
   "metadata": {},
   "source": [
    "### Movie Rating Distribution"
   ]
  },
  {
   "cell_type": "code",
   "execution_count": 17,
   "metadata": {},
   "outputs": [
    {
     "name": "stdout",
     "output_type": "stream",
     "text": [
      "Number of Ratings: 26001\n"
     ]
    },
    {
     "data": {
      "image/png": "[encoded data removed]"
     },
     "output_type": "display_data",
     "text": [
      "<matplotlib.figure.Figure at 0x23015828>"
     ],
     "metadata": {}
    }
   ],
   "source": [
    "movie_ratings = ratings.loc[ratings['movieId'] == movie_id]\n",
    "x = movie_ratings\n",
    "his = np.histogram(x, bins = np.arange(0.5,6,0.5))\n",
    "fig, ax = plt.subplots()\n",
    "offset = 0.25\n",
    "plt.bar(his[1][1:],his[0],width=.5)\n",
    "ax.set_xticks(his[1][1:] + offset)\n",
    "ax.set_xticklabels(np.arange(0.5,6,0.5))\n",
    "print \"Number of Ratings:\", movie_ratings.shape[0]\n",
    "plt.title(\"Rating Frequency\")\n",
    "plt.xlabel(\"Rating\")\n",
    "plt.ylabel(\"Frequency\")\n",
    "plt.show()"
   ]
  },
  {
   "cell_type": "markdown",
   "metadata": {},
   "source": [
    "### Evidence"
   ]
  },
  {
   "cell_type": "code",
   "execution_count": 18,
   "metadata": {},
   "outputs": [
    {
     "name": "stdout",
     "output_type": "stream",
     "text": [
      "Prediction:  3.56970975872\nBias and evidences: 2.79599965266 -2.5639079087 3.33761801477\nPositive Features\n          Feature  Weights\n0  Average Rating   1.8746\n1             sex   0.1950\n2        neo-noir   0.1759\n3       Film-Noir   0.1469\n4         villain   0.1355\n5            baby   0.1320\n6            love   0.1309\n7  dream-sequence   0.1270\n8       nightclub   0.0997\n9     sword-fight   0.0589\nNegative Features\n                                       Feature  Weights\n0                            Number of Ratings  -0.3957\n1                                     teenager  -0.2370\n2                                    brutality  -0.2328\n3                                  eye-gouging  -0.2096\n4                                 decapitation  -0.1747\n5                           female-protagonist  -0.1412\n6  character-repeating-someone-else's-dialogue  -0.1393\n7                         opening-action-scene  -0.1388\n8                               child-in-peril  -0.1382\n9                          hand-to-hand-combat  -0.1282\n"
     ]
    }
   ],
   "source": [
    "print \"Prediction: \",  y_pred[j]\n",
    "print \"Bias and evidences:\", bias, neg_evi[j], pos_evi[j]\n",
    "print \"Positive Features\"\n",
    "print positive_df.head(10)\n",
    "print \"Negative Features\"\n",
    "print negative_df.head(10)"
   ]
  },
  {
   "cell_type": "markdown",
   "metadata": {},
   "source": [
    "# Least amount of info"
   ]
  },
  {
   "cell_type": "code",
   "execution_count": 19,
   "metadata": {},
   "outputs": [
    {
     "name": "stdout",
     "output_type": "stream",
     "text": [
      "Movie Title:  TOKYO JOE (1949)\nActual User Rating:  5.0\nPredicted User Rating:  2.98665898504\n"
     ]
    }
   ],
   "source": [
    "information = np.max([abs(neg_evi), pos_evi], axis=0)\n",
    "indices = np.argsort(information)\n",
    "j=indices[0]\n",
    "titles = pd.read_csv(\"ml-latest/matched_set.csv\", sep = \",\")\n",
    "movie_id = movies[j]\n",
    "movie_index = np.where(movies == movie_id)\n",
    "movie_dm = dm[movie_index][0]\n",
    "feature_names = features\n",
    "\n",
    "positive_weights = movie_dm[movie_dm > 0]\n",
    "negative_weights = movie_dm[movie_dm < 0]\n",
    "\n",
    "positive_names = feature_names[movie_dm > 0]\n",
    "negative_names = feature_names[movie_dm < 0]\n",
    "\n",
    "positive_weights = np.column_stack((positive_names,positive_weights))\n",
    "positive_weights = positive_weights[np.argsort(positive_weights[:,1])][::-1]\n",
    "\n",
    "negative_weights = np.column_stack((negative_names,negative_weights))\n",
    "negative_weights = negative_weights[np.argsort(negative_weights[:,1])][::-1]\n",
    "\n",
    "positive_df = pd.DataFrame(positive_weights, columns = [\"Feature\", \"Weights\"])\n",
    "positive_df = positive_df.convert_objects(convert_numeric=True)\n",
    "\n",
    "negative_df = pd.DataFrame(negative_weights, columns = [\"Feature\", \"Weights\"])\n",
    "negative_df = negative_df.convert_objects(convert_numeric=True)\n",
    "\n",
    "pd.options.display.float_format = '{:,.4f}'.format\n",
    "\n",
    "print \"Movie Title: \", all_names[id_dict[movie_id]]\n",
    "print \"Actual User Rating: \", user_ratings[movie_id]\n",
    "print \"Predicted User Rating: \", y_pred[j]"
   ]
  },
  {
   "cell_type": "markdown",
   "metadata": {},
   "source": [
    "### Movie Rating Distribution"
   ]
  },
  {
   "cell_type": "code",
   "execution_count": 20,
   "metadata": {},
   "outputs": [
    {
     "name": "stdout",
     "output_type": "stream",
     "text": [
      "Number of Ratings: 20\n"
     ]
    },
    {
     "data": {
      "image/png": "[encoded data removed]"
     },
     "output_type": "display_data",
     "text": [
      "<matplotlib.figure.Figure at 0x1c8054a8>"
     ],
     "metadata": {}
    }
   ],
   "source": [
    "movie_ratings = ratings.loc[ratings['movieId'] == movie_id]\n",
    "x = movie_ratings\n",
    "his = np.histogram(x, bins = np.arange(0.5,6,0.5))\n",
    "fig, ax = plt.subplots()\n",
    "offset = 0.25\n",
    "plt.bar(his[1][1:],his[0],width=.5)\n",
    "ax.set_xticks(his[1][1:] + offset)\n",
    "ax.set_xticklabels(np.arange(0.5,6,0.5))\n",
    "print \"Number of Ratings:\", movie_ratings.shape[0]\n",
    "plt.title(\"Rating Frequency\")\n",
    "plt.xlabel(\"Rating\")\n",
    "plt.ylabel(\"Frequency\")\n",
    "plt.show()"
   ]
  },
  {
   "cell_type": "markdown",
   "metadata": {},
   "source": [
    "### Evidence"
   ]
  },
  {
   "cell_type": "code",
   "execution_count": 21,
   "metadata": {},
   "outputs": [
    {
     "name": "stdout",
     "output_type": "stream",
     "text": [
      "Prediction:  2.98665898504\nBias and evidences: 2.79599965266 0.0 0.190659332389\nPositive Features\n             Feature  Weights\n0              Drama   0.1325\n1     Average Rating   0.0240\n2  Number of Ratings   0.0147\n3    american-abroad   0.0125\n4         kidnapping   0.0070\nNegative Features\nEmpty DataFrame\nColumns: [Feature, Weights]\nIndex: []\n"
     ]
    }
   ],
   "source": [
    "print \"Prediction: \",  y_pred[j]\n",
    "print \"Bias and evidences:\", bias, neg_evi[j], pos_evi[j]\n",
    "print \"Positive Features\"\n",
    "print positive_df.head(10)\n",
    "print \"Negative Features\"\n",
    "print negative_df.head(10)"
   ]
  },
  {
   "cell_type": "markdown",
   "metadata": {},
   "source": [
    "## Defining movie matrix for unrated films"
   ]
  },
  {
   "cell_type": "code",
   "execution_count": null,
   "metadata": {},
   "outputs": [],
   "source": [
    "user_cols = user_matrix.shape[1]\n",
    "data = user_matrix[:, 1:(user_cols-1)]\n",
    "target = user_matrix[:, (user_cols-1)]\n",
    "user_rated = user_matrix[:, 0]-1\n",
    "movie_file = open(\"postprocessed-data/movie_matrix\", \"r\")\n",
    "movie_matrix = pickle.load(movie_file)[:, 1:]\n",
    "movie_file.close()"
   ]
  },
  {
   "cell_type": "markdown",
   "metadata": {},
   "source": [
    "## Predicting unrated films using Lasso and 5 fold cross validation"
   ]
  },
  {
   "cell_type": "code",
   "execution_count": null,
   "metadata": {},
   "outputs": [],
   "source": [
    "clf =TransparentLasso(min_lasso_alpha)\n",
    "clf.fit(data,target)\n",
    "all_pred = clf.predict(movie_matrix)\n",
    "unrated_pred = np.delete(all_pred, user_rated, 0)\n",
    "indices = np.argsort(unrated_pred)[::-1]\n",
    "unrated_movies = np.delete(movies, user_rated, 0)\n",
    "sorted_movies = unrated_movies[indices]\n",
    "movie_df = pd.DataFrame(np.column_stack((sorted_movies,unrated_pred[indices])), columns = ['Movie', 'Prediction'])\n",
    "print \"Top predicted movies\"\n",
    "print movie_df.head(10)\n",
    "print \"Lowest predicted movies\"\n",
    "print movie_df.tail(10)"
   ]
  }
 ],
 "metadata": {
  "kernelspec": {
   "display_name": "Python 2",
   "language": "python",
   "name": "python2"
  },
  "language_info": {
   "codemirror_mode": {
    "name": "ipython",
    "version": 2.0
   },
   "file_extension": ".py",
   "mimetype": "text/x-python",
   "name": "python",
   "nbconvert_exporter": "python",
   "pygments_lexer": "ipython2",
   "version": "2.7.9"
  }
 },
 "nbformat": 4,
 "nbformat_minor": 0
}