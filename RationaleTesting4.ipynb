{
 "worksheets": [
  {
   "cells": [
    {
     "cell_type": "code",
     "execution_count": null,
     "metadata": {},
     "outputs": [],
     "input": [
      "import numpy as np\n",
      "from pandas import DataFrame as df\n",
      "from Classifiers import TransparentLinearRegression\n",
      "from scipy.sparse import diags\n",
      "import PredictiveModels as pm\n",
      "import pandas as pd\n",
      "from LatestPreprocessing import *\n",
      "from RationaleSelect import *\n",
      "from sklearn import cross_validation, linear_model\n",
      "from sklearn.metrics import mean_absolute_error\n",
      "from sklearn.cross_validation import train_test_split"
     ],
     "language": "python",
     "prompt_number": 1
    },
    {
     "cell_type": "code",
     "execution_count": null,
     "metadata": {},
     "outputs": [],
     "input": [
      "userid = 170099\n",
      "user_ratings = get_matched_user_ratings(userid)\n",
      "movies = user_ratings.keys()\n",
      "ratings = user_ratings.values()"
     ],
     "language": "python",
     "prompt_number": 2
    },
    {
     "cell_type": "code",
     "execution_count": null,
     "metadata": {},
     "outputs": [],
     "input": [
      "id_dict = get_id_row_dict()\n",
      "idxs = [id_dict[k] for k in movies]\n",
      "avg_and_num = sort_avg()"
     ],
     "language": "python",
     "prompt_number": 3
    },
    {
     "cell_type": "code",
     "execution_count": null,
     "metadata": {},
     "outputs": [],
     "input": [
      "genre_matrix = get_genre_matrix()[idxs]\n",
      "user_key_matrix  = get_key_matrix()[idxs]\n",
      "actor_matrix = get_actor_matrix()[idxs]"
     ],
     "language": "python",
     "prompt_number": 4
    },
    {
     "cell_type": "code",
     "execution_count": null,
     "metadata": {},
     "outputs": [
      {
       "output_type": "stream",
       "stream": "stdout",
       "text": [
        "(2102L, 4225L)\n"
       ]
      }
     ],
     "input": [
      "rationale_data = np.column_stack((genre_matrix, user_key_matrix, actor_matrix))\n",
      "print rationale_data.shape\n",
      "rationale_weights = get_rationale_weight(rationale_data, ratings)"
     ],
     "language": "python",
     "prompt_number": 5
    },
    {
     "cell_type": "code",
     "execution_count": null,
     "metadata": {},
     "outputs": [
      {
       "output_type": "stream",
       "stream": "stdout",
       "text": [
        "['bazooka' 'McGinley, John C.' 'Weaver, Sigourney' 'Mystery' 'Fantasy'\n 'exploitation']\n"
       ]
      }
     ],
     "input": [
      "keywords = pd.read_csv(\"ml-latest/matched_movies\", delimiter='\\t', usecols = [0,3], names = ['id', 'key'] )\n",
      "x = get_popular_key_dict(keywords.key)\n",
      "get_popular_key_dict(keywords.key)\n",
      "inv_map = {v: k for k, v in x.items()}\n",
      "key_names = [inv_map[k] for k in range(len(x))]\n",
      "genre_names = get_genre_dict().keys()\n",
      "actor_names = get_actor_names()\n",
      "names = np.hstack([genre_names, key_names, actor_names])\n",
      "top = rationale_weights[0].argsort()[::-1]\n",
      "top = np.hstack((top[:3], top[-3:]))\n",
      "print names[top]"
     ],
     "language": "python",
     "prompt_number": 6
    },
    {
     "cell_type": "code",
     "execution_count": null,
     "metadata": {},
     "outputs": [
      {
       "output_type": "stream",
       "stream": "stdout",
       "text": [
        "(2102L, 4227L)\n"
       ]
      },
      {
       "output_type": "stream",
       "stream": "stderr",
       "text": [
        "C:\\Python27\\lib\\site-packages\\sklearn\\preprocessing\\data.py:153: UserWarning: Numerical issues were encountered when centering the data and might not be solved. Dataset may contain too large values. You may need to prescale your features.\n  warnings.warn(\"Numerical issues were encountered \"\n"
       ]
      }
     ],
     "input": [
      "pp.scale(avg_and_num[:,0], with_mean=True, with_std=True, copy=False)\n",
      "pp.scale(avg_and_num[:,1], with_mean=True, with_std=True, copy=False)\n",
      "data = np.column_stack((avg_and_num[idxs], genre_matrix, user_key_matrix, actor_matrix))\n",
      "target = ratings\n",
      "print data.shape"
     ],
     "language": "python",
     "prompt_number": 7
    },
    {
     "cell_type": "code",
     "execution_count": null,
     "metadata": {},
     "outputs": [],
     "input": [
      "def calc_precision(y_test, test_pred):\n",
      "    error = np.absolute(y_test-test_pred)\n",
      "    return float(len(np.where(error < 1)[0]))/len(y_test)"
     ],
     "language": "python",
     "prompt_number": 8
    },
    {
     "cell_type": "markdown",
     "metadata": {},
     "source": [
      "Ridge Regression with no ratioanles"
     ]
    },
    {
     "cell_type": "code",
     "execution_count": null,
     "metadata": {},
     "outputs": [
      {
       "output_type": "stream",
       "stream": "stdout",
       "text": [
        "Ten Lowest Errors\n  Movie ID User Rating Model Prediction       Model Error\n0  52952.0         4.5    4.50234728326  0.00234728325848\n1   3826.0         3.0    3.00337228344  0.00337228344465\n2   8491.0         5.0    5.00522184713  0.00522184713472\n3   1968.0         4.0    4.00562286757  0.00562286757197\n4   5263.0         2.5     2.5082407055  0.00824070549783\n5   1556.0         0.5   0.491307809839  0.00869219016071\n6   2560.0         3.0    2.99110636406  0.00889363594156\n7   1344.0         4.0    3.99057294762   0.0094270523847\n8  52458.0         4.0    4.00957367876  0.00957367876215\n9   3039.0         4.0    3.98977784574    0.010222154259\n\nTen Highest Errors\n      Movie ID    User Rating Model Prediction     Model Error\n2093   40826.0            0.5    3.76032364934   3.26032364934\n2094    2114.0            2.0     5.3069446361    3.3069446361\n2095     427.0            0.5    3.82399970779   3.32399970779\n2096    1088.0            0.5    3.88583333358   3.38583333358\n2097    7523.0            1.0    4.39918603559   3.39918603559\n2098    1951.0            1.5     4.9302898924    3.4302898924\n2099    1974.0            1.0    4.96989656928   3.96989656928\n2100   56003.0            1.0    5.02205119234   4.02205119234\n2101    7347.0            0.5    4.98273609256   4.48273609256\n2102  Average:  3.21431969553    3.20338729464  0.990082143859\nPrecision: 0.578972407231\n0.990058868079\n"
       ]
      }
     ],
     "input": [
      "results = pm.get_ridge_cv_results(np.column_stack((data,target)), 45, 10)\n",
      "\n",
      "y_pred = results[2]\n",
      "ratings = user_ratings.values()\n",
      "error_from_pred = np.abs(ratings-y_pred)\n",
      "\n",
      "col_names = [\"Movie ID\" ,\"User Rating\",\"Model Prediction\",\"Model Error\"]\n",
      "\n",
      "col_avg = [\"Average:\", np.average(ratings),np.average(y_pred),np.average(error_from_pred)]\n",
      "user_result = np.column_stack((user_ratings.keys(), ratings, y_pred, error_from_pred))\n",
      "user_result = user_result[np.argsort(user_result[:, 3])]\n",
      "user_result = np.vstack((user_result,col_avg))\n",
      "\n",
      "results_df = pd.DataFrame(user_result, columns = col_names)\n",
      "print \"Ten Lowest Errors\"\n",
      "print results_df.head(10)\n",
      "print \"\\nTen Highest Errors\"\n",
      "print results_df.tail(10)\n",
      "print \"Precision:\", calc_precision(ratings, y_pred)\n",
      "print results[0]"
     ],
     "language": "python",
     "prompt_number": 9
    },
    {
     "cell_type": "markdown",
     "metadata": {},
     "source": [
      "Lasso Regression with no rationales"
     ]
    },
    {
     "cell_type": "code",
     "execution_count": null,
     "metadata": {},
     "outputs": [
      {
       "output_type": "stream",
       "stream": "stdout",
       "text": [
        "Ten Lowest Errors\n  Movie ID User Rating Model Prediction        Model Error\n0   2181.0         4.0     4.0003178765  0.000317876501533\n1   7254.0         3.5    3.49909732711  0.000902672886203\n2   1252.0         5.0    4.99861109491   0.00138890508762\n3  49280.0         4.0    3.99808600765   0.00191399235418\n4   3301.0         3.0    3.00193310623   0.00193310622673\n5   1920.0         3.0    3.00303602537     0.003036025366\n6   5400.0         2.5    2.49689070977   0.00310929023028\n7    364.0         4.0    4.00408227132    0.0040822713176\n8  56367.0         3.5    3.49551900646   0.00448099353617\n9   3788.0         4.5    4.49341901845   0.00658098154504\n\nTen Highest Errors\n      Movie ID    User Rating Model Prediction     Model Error\n2093    6325.0            0.5    3.71506436481   3.21506436481\n2094    1974.0            1.0    4.22944383551   3.22944383551\n2095   56003.0            1.0    4.26614704952   3.26614704952\n2096    7347.0            0.5    3.79002802857   3.29002802857\n2097    7204.0            0.5    3.80759834352   3.30759834352\n2098    1027.0            0.5    3.88540260128   3.38540260128\n2099    1088.0            0.5     4.0922591904    3.5922591904\n2100    5735.0            0.5    4.26403738919   3.76403738919\n2101   45447.0            0.5    4.34468960938   3.84468960938\n2102  Average:  3.21431969553    3.21033805893  0.993832956131\nPrecision: 0.558515699334\n"
       ]
      }
     ],
     "input": [
      "results = pm.get_lasso_cv_results(np.column_stack((data,target)), .01, 10)\n",
      "\n",
      "y_pred = results[2]\n",
      "ratings = user_ratings.values()\n",
      "error_from_pred = np.abs(ratings-y_pred)\n",
      "\n",
      "col_names = [\"Movie ID\" ,\"User Rating\",\"Model Prediction\",\"Model Error\"]\n",
      "\n",
      "col_avg = [\"Average:\", np.average(ratings),np.average(y_pred),np.average(error_from_pred)]\n",
      "user_result = np.column_stack((user_ratings.keys(), ratings, y_pred, error_from_pred))\n",
      "user_result = user_result[np.argsort(user_result[:, 3])]\n",
      "user_result = np.vstack((user_result,col_avg))\n",
      "\n",
      "results_df = pd.DataFrame(user_result, columns = col_names)\n",
      "print \"Ten Lowest Errors\"\n",
      "print results_df.head(10)\n",
      "print \"\\nTen Highest Errors\"\n",
      "print results_df.tail(10)\n",
      "print \"Precision:\", calc_precision(ratings, y_pred)"
     ],
     "language": "python",
     "prompt_number": 10
    },
    {
     "cell_type": "code",
     "execution_count": null,
     "metadata": {},
     "outputs": [],
     "input": [
      "def get_rationale_train(data):\n",
      "    for x in range(data.shape[0]):\n",
      "        movie = data[x]\n",
      "        movie = np.multiply(movie, .1)\n",
      "        rationales = np.hstack(get_rationales(rationale_weights, movie))\n",
      "        for rationale in np.add(rationales, 2):\n",
      "            movie[rationale] *= 10\n",
      "        movie[0] *= 10\n",
      "        movie[1] *= 10\n",
      "        data[x] = movie  \n",
      "    return data"
     ],
     "language": "python",
     "prompt_number": 11
    },
    {
     "cell_type": "code",
     "execution_count": null,
     "metadata": {},
     "outputs": [],
     "input": [
      "def get_ridge_cv_results_rationales(user_matrix, alpha, folds):\n",
      "    user_cols = user_matrix.shape[1]\n",
      "    data = user_matrix[:, :(user_cols-1)]\n",
      "    target = user_matrix[:, (user_cols-1)]\n",
      "\n",
      "    ridge = linear_model.Ridge()\n",
      "    ridge.alpha = alpha\n",
      "    \n",
      "    kf = cross_validation.KFold(user_matrix.shape[0], n_folds=folds, shuffle = True, random_state = 16834)\n",
      "    all_pred = np.zeros(shape=(0))\n",
      "    all_indices = np.zeros(shape=(0))\n",
      "    mae_list = list()\n",
      "    for train_index, test_index in kf:\n",
      "        X_train, X_test =data[train_index], data[test_index]\n",
      "        y_train, y_test = target[train_index], target[test_index]\n",
      "        \n",
      "        rationale_train = get_rationale_train(X_train)\n",
      "        \n",
      "        ridge.fit(rationale_train, y_train)\n",
      "        y_pred = ridge.predict(X_test)\n",
      "\n",
      "        mae = mean_absolute_error(y_test, y_pred)\n",
      "\n",
      "        all_pred = np.concatenate((all_pred,y_pred))\n",
      "        all_indices = np.concatenate((all_indices, test_index))\n",
      "\n",
      "        mae_list.append(mae)\n",
      "\n",
      "    y_pred = np.column_stack((all_indices,all_pred))\n",
      "    y_pred = y_pred[np.argsort(y_pred[:,0])][:,1]\n",
      "\n",
      "    mae = np.average(mae_list)\n",
      "    weights = ridge.coef_\n",
      "\n",
      "    return [mae, weights, y_pred]"
     ],
     "language": "python",
     "prompt_number": 12
    },
    {
     "cell_type": "markdown",
     "metadata": {},
     "source": [
      "Ridge Regression with Rationales"
     ]
    },
    {
     "cell_type": "code",
     "execution_count": null,
     "metadata": {},
     "outputs": [
      {
       "output_type": "stream",
       "stream": "stdout",
       "text": [
        "Ten Lowest Errors\n  Movie ID User Rating Model Prediction        Model Error\n0    953.0         5.0    4.99968932828   0.00031067171547\n1  60943.0         4.0    3.99935284405  0.000647155946603\n2    899.0         4.5    4.49897177552   0.00102822447549\n3  59273.0         3.5    3.49849997515   0.00150002484995\n4   6323.0         4.0     3.9982256943   0.00177430570378\n5     86.0         3.0    2.99753595035   0.00246404964617\n6  40819.0         4.5    4.49711610103   0.00288389897412\n7  34326.0         4.0    4.00412801664   0.00412801663756\n8   2012.0         3.5    3.49556608074   0.00443391925836\n9   1920.0         3.0    2.99518735218   0.00481264781527\n\nTen Highest Errors\n      Movie ID    User Rating Model Prediction    Model Error\n2093    2596.0            1.0    4.49769598638  3.49769598638\n2094    3852.0            1.0    4.51308653964  3.51308653964\n2095   56511.0            0.5    4.02944337029  3.52944337029\n2096   42723.0            1.0    4.73870062738  3.73870062738\n2097    7353.0            0.5    4.51689051918  4.01689051918\n2098    7348.0            1.5    5.59447548972  4.09447548972\n2099   40826.0            0.5    4.60194918214  4.10194918214\n2100    1416.0            1.0    5.29629275416  4.29629275416\n2101    5900.0            0.5    5.02353128882  4.52353128882\n2102  Average:  3.21431969553    3.39618200067  1.14805723349\nPrecision: 0.494291151284\n1.14807237673\n"
       ]
      }
     ],
     "input": [
      "results = get_ridge_cv_results_rationales(np.column_stack((data,target)), 45, 10)\n",
      "\n",
      "y_pred = results[2]\n",
      "ratings = user_ratings.values()\n",
      "error_from_pred = np.abs(ratings-y_pred)\n",
      "\n",
      "col_names = [\"Movie ID\" ,\"User Rating\",\"Model Prediction\",\"Model Error\"]\n",
      "\n",
      "col_avg = [\"Average:\", np.average(ratings),np.average(y_pred),np.average(error_from_pred)]\n",
      "user_result = np.column_stack((user_ratings.keys(), ratings, y_pred, error_from_pred))\n",
      "user_result = user_result[np.argsort(user_result[:, 3])]\n",
      "user_result = np.vstack((user_result,col_avg))\n",
      "\n",
      "results_df = pd.DataFrame(user_result, columns = col_names)\n",
      "print \"Ten Lowest Errors\"\n",
      "print results_df.head(10)\n",
      "print \"\\nTen Highest Errors\"\n",
      "print results_df.tail(10)\n",
      "print \"Precision:\", calc_precision(ratings, y_pred)\n",
      "print results[0]"
     ],
     "language": "python",
     "prompt_number": 13
    },
    {
     "cell_type": "code",
     "execution_count": null,
     "metadata": {},
     "outputs": [],
     "input": [
      "def build_train_with_rationales(train_data, y_train):\n",
      "    non_avg = train_data[:,2:]\n",
      "    rationale_weights = get_rationale_weights(non_avg, y_train)\n",
      "    maxs, mins = build_rationales(non_avg, rationale_weights, 0.1)\n",
      "    maxs = maxs.keys()\n",
      "    mins = mins.keys()\n",
      "    for x in range(train_data.shape[0]):\n",
      "        movie = non_avg[x]\n",
      "        maxs = np.intersect1d(maxs, np.nonzero(movie))\n",
      "        mins = np.intersect1d(mins, np.nonzero(movie))\n",
      "        if y_train[x] > 3.0 and len(maxs) > 0:\n",
      "            movie = np.multiply(movie, .01)\n",
      "            #rationale = max(maxs)\n",
      "            #rationale = np.random.choice(maxs, 1)\n",
      "            rationale = np.random.choice(maxs, len(maxs))\n",
      "            movie[rationale] *= 100\n",
      "        elif y_train[x] < 3.0 and len(mins) > 0:\n",
      "            movie = np.multiply(movie, .01)\n",
      "            #rationale = min(mins)\n",
      "            #rationale = np.random.choice(mins, 1)\n",
      "            rationale = np.random.choice(mins, len(mins))\n",
      "            movie[rationale] *= 100\n",
      "        train_data[x][2:] = movie\n",
      "        \n",
      "    return train_data"
     ],
     "language": "python",
     "prompt_number": 52
    },
    {
     "cell_type": "code",
     "execution_count": null,
     "metadata": {},
     "outputs": [],
     "input": [
      "def get_ridge_cv_results_rationales(user_matrix, alpha, folds):\n",
      "    \n",
      "    user_cols = user_matrix.shape[1]\n",
      "    data = user_matrix[:, :(user_cols-1)]\n",
      "    target = user_matrix[:, (user_cols-1)]\n",
      "    \n",
      "    ridge = linear_model.Ridge()\n",
      "    ridge.alpha = alpha\n",
      "    \n",
      "    kf = cross_validation.KFold(user_matrix.shape[0], n_folds=folds, shuffle = True, random_state = 16834)\n",
      "    all_pred = np.zeros(shape=(0))\n",
      "    all_indices = np.zeros(shape=(0))\n",
      "    mae_list = list()\n",
      "    for train_index, test_index in kf:\n",
      "        X_train, X_test =data[train_index], data[test_index]\n",
      "        y_train, y_test = target[train_index], target[test_index]\n",
      "        \n",
      "        rationale_train = build_train_with_rationales(X_train.astype(float), y_train)\n",
      "        \n",
      "        ridge.fit(rationale_train, y_train)\n",
      "        y_pred = ridge.predict(X_test)\n",
      "\n",
      "        mae = mean_absolute_error(y_test, y_pred)\n",
      "\n",
      "        all_pred = np.concatenate((all_pred,y_pred))\n",
      "        all_indices = np.concatenate((all_indices, test_index))\n",
      "\n",
      "        mae_list.append(mae)\n",
      "\n",
      "    y_pred = np.column_stack((all_indices,all_pred))\n",
      "    y_pred = y_pred[np.argsort(y_pred[:,0])][:,1]\n",
      "\n",
      "    mae = np.average(mae_list)\n",
      "    weights = ridge.coef_\n",
      "\n",
      "    return [mae, weights, y_pred]"
     ],
     "language": "python",
     "prompt_number": 53
    },
    {
     "cell_type": "markdown",
     "metadata": {},
     "source": [
      "Ridge CV with rationales (Top 5% of features)"
     ]
    },
    {
     "cell_type": "code",
     "execution_count": null,
     "metadata": {},
     "outputs": [],
     "input": [
      "results = get_ridge_cv_results_rationales(np.column_stack((data,target)), 45, 10)\n",
      "\n",
      "y_pred = results[2]\n",
      "ratings = user_ratings.values()\n",
      "error_from_pred = np.abs(ratings-y_pred)\n",
      "\n",
      "col_names = [\"Movie ID\" ,\"User Rating\",\"Model Prediction\",\"Model Error\"]\n",
      "\n",
      "col_avg = [\"Average:\", np.average(ratings),np.average(y_pred),np.average(error_from_pred)]\n",
      "user_result = np.column_stack((user_ratings.keys(), ratings, y_pred, error_from_pred))\n",
      "user_result = user_result[np.argsort(user_result[:, 3])]\n",
      "user_result = np.vstack((user_result,col_avg))\n",
      "\n",
      "results_df = pd.DataFrame(user_result, columns = col_names)\n",
      "print \"Ten Lowest Errors\"\n",
      "print results_df.head(10)\n",
      "print \"\\nTen Highest Errors\"\n",
      "print results_df.tail(10)\n",
      "print \"Precision:\", calc_precision(ratings, y_pred)"
     ],
     "language": "python",
     "prompt_number": 51
    },
    {
     "cell_type": "code",
     "execution_count": null,
     "metadata": {},
     "outputs": [],
     "input": [
      "def get_lasso_cv_results_rationales(user_matrix, alpha, folds):\n",
      "    user_cols = user_matrix.shape[1]\n",
      "    data = user_matrix[:, :(user_cols-1)]\n",
      "    target = user_matrix[:, (user_cols-1)]\n",
      "\n",
      "    lasso = linear_model.Lasso()\n",
      "    lasso.alpha = alpha\n",
      "    \n",
      "    kf = cross_validation.KFold(user_matrix.shape[0], n_folds=folds, shuffle = True, random_state = 16834)\n",
      "    all_pred = np.zeros(shape=(0))\n",
      "    all_indices = np.zeros(shape=(0))\n",
      "    mae_list = list()\n",
      "    for train_index, test_index in kf:\n",
      "        X_train, X_test =data[train_index], data[test_index]\n",
      "        y_train, y_test = target[train_index], target[test_index]\n",
      "        \n",
      "        rationale_train = build_train_with_rationales(X_train, y_train)\n",
      "        \n",
      "        lasso.fit(rationale_train, y_train)\n",
      "        y_pred = lasso.predict(X_test)\n",
      "\n",
      "        mae = mean_absolute_error(y_test, y_pred)\n",
      "\n",
      "        all_pred = np.concatenate((all_pred,y_pred))\n",
      "        all_indices = np.concatenate((all_indices, test_index))\n",
      "\n",
      "        mae_list.append(mae)\n",
      "\n",
      "    y_pred = np.column_stack((all_indices,all_pred))\n",
      "    y_pred = y_pred[np.argsort(y_pred[:,0])][:,1]\n",
      "\n",
      "    mae = np.average(mae_list)\n",
      "    weights = lasso.coef_\n",
      "\n",
      "    return [mae, weights, y_pred]"
     ],
     "language": "python",
     "prompt_number": 17
    },
    {
     "cell_type": "markdown",
     "metadata": {},
     "source": [
      "Lasso CV with rationales (Top 5% of features)"
     ]
    },
    {
     "cell_type": "code",
     "execution_count": null,
     "metadata": {},
     "outputs": [
      {
       "output_type": "stream",
       "stream": "stdout",
       "text": [
        "Ten Lowest Errors\n  Movie ID User Rating Model Prediction       Model Error\n0   3788.0         4.5    4.50137359437  0.00137359437093\n1   3066.0         3.0    3.00140106486  0.00140106485681\n2  26386.0         3.0    2.99726178665  0.00273821335163\n3  32587.0         3.5    3.49614764279  0.00385235721087\n4  54513.0         3.5    3.50396691934  0.00396691933709\n5   1920.0         3.0    2.99558531055  0.00441468944811\n6   2376.0         2.5    2.50465699454  0.00465699453923\n7   6953.0         4.0    4.00486706415   0.0048670641477\n8   5705.0         2.0    2.00490069429  0.00490069428867\n9   1615.0         3.0    2.99508197733  0.00491802267452\n\nTen Highest Errors\n      Movie ID    User Rating Model Prediction    Model Error\n2093    1974.0            1.0    4.19188832927  3.19188832927\n2094    6325.0            0.5    3.71701752146  3.21701752146\n2095   56003.0            1.0    4.27916769765  3.27916769765\n2096    7347.0            0.5    3.79147975911  3.29147975911\n2097    7204.0            0.5    3.80514672354  3.30514672354\n2098    1027.0            0.5      3.899937065    3.399937065\n2099    1088.0            0.5    4.10916441834  3.60916441834\n2100    5735.0            0.5    4.27616983307  3.77616983307\n2101   45447.0            0.5    4.35892863445  3.85892863445\n2102  Average:  3.21431969553    3.21061010171  0.99321944189\nPrecision: 0.556137012369\n"
       ]
      }
     ],
     "input": [
      "results = get_lasso_cv_results_rationales(np.column_stack((data,target)), .01, 10)\n",
      "\n",
      "y_pred = results[2]\n",
      "ratings = user_ratings.values()\n",
      "error_from_pred = np.abs(ratings-y_pred)\n",
      "\n",
      "col_names = [\"Movie ID\" ,\"User Rating\",\"Model Prediction\",\"Model Error\"]\n",
      "\n",
      "col_avg = [\"Average:\", np.average(ratings),np.average(y_pred),np.average(error_from_pred)]\n",
      "user_result = np.column_stack((user_ratings.keys(), ratings, y_pred, error_from_pred))\n",
      "user_result = user_result[np.argsort(user_result[:, 3])]\n",
      "user_result = np.vstack((user_result,col_avg))\n",
      "\n",
      "results_df = pd.DataFrame(user_result, columns = col_names)\n",
      "print \"Ten Lowest Errors\"\n",
      "print results_df.head(10)\n",
      "print \"\\nTen Highest Errors\"\n",
      "print results_df.tail(10)\n",
      "print \"Precision:\", calc_precision(ratings, y_pred)"
     ],
     "language": "python",
     "prompt_number": 18
    },
    {
     "cell_type": "markdown",
     "metadata": {},
     "source": [
      "Lasso CV test/split with rationales"
     ]
    },
    {
     "cell_type": "code",
     "execution_count": null,
     "metadata": {},
     "outputs": [
      {
       "output_type": "stream",
       "stream": "stdout",
       "text": [
        "1.00238379541\n"
       ]
      }
     ],
     "input": [
      "X_train, X_test, y_train, y_test = train_test_split(data, target, test_size=.33, random_state = 16834)\n",
      "rationale_train = build_train_with_rationales(X_train, y_train)\n",
      "\n",
      "lasso = linear_model.Lasso()\n",
      "lasso.alpha = .01\n",
      "lasso.fit(rationale_train, y_train)\n",
      "y_pred = lasso.predict(X_test)\n",
      "mae = mean_absolute_error(y_test, y_pred)\n",
      "print mae"
     ],
     "language": "python",
     "prompt_number": 19
    },
    {
     "cell_type": "markdown",
     "metadata": {},
     "source": [
      "Ridge CV test/split with rationales"
     ]
    },
    {
     "cell_type": "code",
     "execution_count": null,
     "metadata": {},
     "outputs": [
      {
       "output_type": "stream",
       "stream": "stdout",
       "text": [
        "1.01668266505\n"
       ]
      }
     ],
     "input": [
      "X_train, X_test, y_train, y_test = train_test_split(data, target, test_size=.33, random_state = 16834)\n",
      "rationale_train = build_train_with_rationales(X_train, y_train)\n",
      "\n",
      "ridge = linear_model.Ridge()\n",
      "ridge.alpha = 45\n",
      "ridge.fit(rationale_train, y_train)\n",
      "y_pred = ridge.predict(X_test)\n",
      "mae = mean_absolute_error(y_test, y_pred)\n",
      "print mae"
     ],
     "language": "python",
     "prompt_number": 20
    },
    {
     "cell_type": "code",
     "execution_count": null,
     "metadata": {},
     "outputs": [],
     "input": [
      ""
     ],
     "language": "python"
    }
   ]
  }
 ],
 "cells": [],
 "metadata": {},
 "nbformat": 3,
 "nbformat_minor": 0
}