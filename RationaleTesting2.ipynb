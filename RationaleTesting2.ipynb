{
 "worksheets": [
  {
   "cells": [
    {
     "cell_type": "code",
     "execution_count": null,
     "metadata": {},
     "outputs": [],
     "input": [
      "import numpy as np\n",
      "from pandas import DataFrame as df\n",
      "from Classifiers import TransparentLinearRegression\n",
      "from scipy.sparse import diags\n",
      "import PredictiveModels as pm\n",
      "import pandas as pd\n",
      "from LatestPreprocessing import *\n",
      "from RationaleSelect import *\n",
      "from sklearn import cross_validation, linear_model\n",
      "from sklearn.metrics import mean_absolute_error\n",
      "from sklearn.cross_validation import train_test_split"
     ],
     "language": "python",
     "prompt_number": 28
    },
    {
     "cell_type": "code",
     "execution_count": null,
     "metadata": {},
     "outputs": [],
     "input": [
      "userid = 242763\n",
      "user_ratings = get_matched_user_ratings(userid)\n",
      "movies = user_ratings.keys()\n",
      "ratings = user_ratings.values()"
     ],
     "language": "python",
     "prompt_number": 2
    },
    {
     "cell_type": "code",
     "execution_count": null,
     "metadata": {},
     "outputs": [],
     "input": [
      "id_dict = get_id_row_dict()\n",
      "idxs = [id_dict[k] for k in movies]\n",
      "avg_and_num = sort_avg()"
     ],
     "language": "python",
     "prompt_number": 3
    },
    {
     "cell_type": "code",
     "execution_count": null,
     "metadata": {},
     "outputs": [],
     "input": [
      "genre_matrix = get_genre_matrix()[idxs]\n",
      "user_key_matrix  = get_key_matrix()[idxs]\n",
      "actor_matrix = get_actor_matrix()[idxs]"
     ],
     "language": "python",
     "prompt_number": 4
    },
    {
     "cell_type": "code",
     "execution_count": null,
     "metadata": {},
     "outputs": [
      {
       "output_type": "stream",
       "stream": "stdout",
       "text": [
        "(1966L, 4225L)\n"
       ]
      }
     ],
     "input": [
      "rationale_data = np.column_stack((genre_matrix, user_key_matrix, actor_matrix))\n",
      "print rationale_data.shape\n",
      "rationale_weights = get_rationale_weight(rationale_data, ratings)"
     ],
     "language": "python",
     "prompt_number": 5
    },
    {
     "cell_type": "code",
     "execution_count": null,
     "metadata": {},
     "outputs": [
      {
       "output_type": "stream",
       "stream": "stdout",
       "text": [
        "['Garner, James (I)' 'Garcia, Andy (I)' 'Olivier, Laurence'\n 'Stone, Sharon (I)' 'Sorvino, Mira' 'angel']\n"
       ]
      }
     ],
     "input": [
      "keywords = pd.read_csv(\"ml-latest/matched_movies\", delimiter='\\t', usecols = [0,3], names = ['id', 'key'] )\n",
      "x = get_popular_key_dict(keywords.key)\n",
      "get_popular_key_dict(keywords.key)\n",
      "inv_map = {v: k for k, v in x.items()}\n",
      "key_names = [inv_map[k] for k in range(len(x))]\n",
      "genre_names = get_genre_dict().keys()\n",
      "actor_names = get_actor_names()\n",
      "names = np.hstack([genre_names, key_names, actor_names])\n",
      "top = rationale_weights[0].argsort()[::-1]\n",
      "top = np.hstack((top[:3], top[-3:]))\n",
      "print names[top]"
     ],
     "language": "python",
     "prompt_number": 6
    },
    {
     "cell_type": "code",
     "execution_count": null,
     "metadata": {},
     "outputs": [
      {
       "output_type": "stream",
       "stream": "stdout",
       "text": [
        "(1966L, 4227L)\n"
       ]
      },
      {
       "output_type": "stream",
       "stream": "stderr",
       "text": [
        "C:\\Python27\\lib\\site-packages\\sklearn\\preprocessing\\data.py:153: UserWarning: Numerical issues were encountered when centering the data and might not be solved. Dataset may contain too large values. You may need to prescale your features.\n  warnings.warn(\"Numerical issues were encountered \"\n"
       ]
      }
     ],
     "input": [
      "pp.scale(avg_and_num[:,0], with_mean=True, with_std=True, copy=False)\n",
      "pp.scale(avg_and_num[:,1], with_mean=True, with_std=True, copy=False)\n",
      "data = np.column_stack((avg_and_num[idxs], genre_matrix, user_key_matrix, actor_matrix))\n",
      "target = ratings\n",
      "print data.shape"
     ],
     "language": "python",
     "prompt_number": 7
    },
    {
     "cell_type": "markdown",
     "metadata": {},
     "source": [
      "Ridge Regression with no ratioanles"
     ]
    },
    {
     "cell_type": "code",
     "execution_count": null,
     "metadata": {},
     "outputs": [
      {
       "ename": "NameError",
       "evalue": "name 'pm' is not defined",
       "output_type": "pyerr",
       "traceback": [
        "\u001b[1;31m---------------------------------------------------------------------------\u001b[0m",
        "\u001b[1;31mNameError\u001b[0m                                 Traceback (most recent call last)",
        "\u001b[1;32m<ipython-input-1-d8ea301aa96c>\u001b[0m in \u001b[0;36m<module>\u001b[1;34m()\u001b[0m\n\u001b[1;32m----> 1\u001b[1;33m \u001b[0mresults\u001b[0m \u001b[1;33m=\u001b[0m \u001b[0mpm\u001b[0m\u001b[1;33m.\u001b[0m\u001b[0mget_ridge_cv_results\u001b[0m\u001b[1;33m(\u001b[0m\u001b[0mnp\u001b[0m\u001b[1;33m.\u001b[0m\u001b[0mcolumn_stack\u001b[0m\u001b[1;33m(\u001b[0m\u001b[1;33m(\u001b[0m\u001b[0mdata\u001b[0m\u001b[1;33m,\u001b[0m\u001b[0mtarget\u001b[0m\u001b[1;33m)\u001b[0m\u001b[1;33m)\u001b[0m\u001b[1;33m,\u001b[0m \u001b[1;36m45\u001b[0m\u001b[1;33m,\u001b[0m \u001b[1;36m10\u001b[0m\u001b[1;33m)\u001b[0m\u001b[1;33m\u001b[0m\u001b[0m\n\u001b[0m\u001b[0;32m      2\u001b[0m \u001b[1;33m\u001b[0m\u001b[0m\n\u001b[0;32m      3\u001b[0m \u001b[0my_pred\u001b[0m \u001b[1;33m=\u001b[0m \u001b[0mresults\u001b[0m\u001b[1;33m[\u001b[0m\u001b[1;36m2\u001b[0m\u001b[1;33m]\u001b[0m\u001b[1;33m\u001b[0m\u001b[0m\n\u001b[0;32m      4\u001b[0m \u001b[0mratings\u001b[0m \u001b[1;33m=\u001b[0m \u001b[0muser_ratings\u001b[0m\u001b[1;33m.\u001b[0m\u001b[0mvalues\u001b[0m\u001b[1;33m(\u001b[0m\u001b[1;33m)\u001b[0m\u001b[1;33m\u001b[0m\u001b[0m\n\u001b[0;32m      5\u001b[0m \u001b[0merror_from_pred\u001b[0m \u001b[1;33m=\u001b[0m \u001b[0mnp\u001b[0m\u001b[1;33m.\u001b[0m\u001b[0mabs\u001b[0m\u001b[1;33m(\u001b[0m\u001b[0mratings\u001b[0m\u001b[1;33m-\u001b[0m\u001b[0my_pred\u001b[0m\u001b[1;33m)\u001b[0m\u001b[1;33m\u001b[0m\u001b[0m\n",
        "\u001b[1;31mNameError\u001b[0m: name 'pm' is not defined"
       ]
      }
     ],
     "input": [
      "results = pm.get_ridge_cv_results(np.column_stack((data,target)), 45, 10)\n",
      "\n",
      "y_pred = results[2]\n",
      "ratings = user_ratings.values()\n",
      "error_from_pred = np.abs(ratings-y_pred)\n",
      "\n",
      "col_names = [\"Movie ID\" ,\"User Rating\",\"Model Prediction\",\"Model Error\"]\n",
      "\n",
      "col_avg = [\"Average:\", np.average(ratings),np.average(y_pred),np.average(error_from_pred)]\n",
      "user_result = np.column_stack((user_ratings.keys(), ratings, y_pred, error_from_pred))\n",
      "user_result = user_result[np.argsort(user_result[:, 3])]\n",
      "user_result = np.vstack((user_result,col_avg))\n",
      "\n",
      "results_df = pd.DataFrame(user_result, columns = col_names)\n",
      "print \"Ten Lowest Errors\"\n",
      "print results_df.head(10)\n",
      "print \"\\nTen Highest Errors\"\n",
      "print results_df.tail(10)"
     ],
     "language": "python",
     "prompt_number": 1
    },
    {
     "cell_type": "markdown",
     "metadata": {},
     "source": [
      "Lasso Regression with no ratioanles"
     ]
    },
    {
     "cell_type": "code",
     "execution_count": null,
     "metadata": {},
     "outputs": [
      {
       "output_type": "stream",
       "stream": "stdout",
       "text": [
        "Ten Lowest Errors\n  Movie ID User Rating Model Prediction       Model Error\n0   5715.0         0.5   0.498396809907  0.00160319009327\n1    546.0         0.5   0.497071675206  0.00292832479417\n2   1292.0         4.0    3.99644964655  0.00355035345237\n3   1222.0         4.5    4.50384934312  0.00384934311962\n4    534.0         5.0    4.99484679431  0.00515320569314\n5   2206.0         5.0    5.00635902055  0.00635902054743\n6  26111.0         4.0     3.9933387022  0.00666129779734\n7   2210.0         4.5    4.49304280503  0.00695719497075\n8   3723.0         5.0    4.99292491874  0.00707508125809\n9   2858.0         5.0    5.01172961902   0.0117296190179\n\nTen Highest Errors\n      Movie ID    User Rating Model Prediction    Model Error\n1957    2294.0            5.0    1.21977917412  3.78022082588\n1958    5315.0            0.5     4.4478213896   3.9478213896\n1959    2977.0            0.5    4.55459959434  4.05459959434\n1960   50253.0            0.5    4.73579087186  4.23579087186\n1961    1690.0            4.5   0.261249298579  4.23875070142\n1962    2688.0            0.5     4.7797742301   4.2797742301\n1963    5953.0            0.5    5.17878822393  4.67878822393\n1964   45447.0            0.5     5.2262179838   4.7262179838\n1965    1721.0            0.5    6.08329438362  5.58329438362\n1966  Average:  2.86393692777    2.85442806948  1.17196599157\n"
       ]
      }
     ],
     "input": [
      "results = pm.get_lasso_cv_results(np.column_stack((data,target)), .01, 10)\n",
      "\n",
      "y_pred = results[2]\n",
      "ratings = user_ratings.values()\n",
      "error_from_pred = np.abs(ratings-y_pred)\n",
      "\n",
      "col_names = [\"Movie ID\" ,\"User Rating\",\"Model Prediction\",\"Model Error\"]\n",
      "\n",
      "col_avg = [\"Average:\", np.average(ratings),np.average(y_pred),np.average(error_from_pred)]\n",
      "user_result = np.column_stack((user_ratings.keys(), ratings, y_pred, error_from_pred))\n",
      "user_result = user_result[np.argsort(user_result[:, 3])]\n",
      "user_result = np.vstack((user_result,col_avg))\n",
      "\n",
      "results_df = pd.DataFrame(user_result, columns = col_names)\n",
      "print \"Ten Lowest Errors\"\n",
      "print results_df.head(10)\n",
      "print \"\\nTen Highest Errors\"\n",
      "print results_df.tail(10)"
     ],
     "language": "python",
     "prompt_number": 9
    },
    {
     "cell_type": "code",
     "execution_count": null,
     "metadata": {},
     "outputs": [],
     "input": [
      "def get_rationale_train(data):\n",
      "    for x in range(data.shape[0]):\n",
      "        movie = data[x]\n",
      "        movie = np.multiply(movie, .1)\n",
      "        rationales = np.hstack(get_rationales(rationale_weights, movie))\n",
      "        for rationale in np.add(rationales, 2):\n",
      "            movie[rationale] *= 10\n",
      "        movie[0] *= 10\n",
      "        movie[1] *= 10\n",
      "        data[x] = movie  \n",
      "    return data"
     ],
     "language": "python",
     "prompt_number": 10
    },
    {
     "cell_type": "code",
     "execution_count": null,
     "metadata": {},
     "outputs": [],
     "input": [
      "def get_ridge_cv_results_rationales(user_matrix, alpha, folds):\n",
      "    user_cols = user_matrix.shape[1]\n",
      "    data = user_matrix[:, :(user_cols-1)]\n",
      "    target = user_matrix[:, (user_cols-1)]\n",
      "\n",
      "    ridge = linear_model.Ridge()\n",
      "    ridge.alpha = alpha\n",
      "    \n",
      "    kf = cross_validation.KFold(user_matrix.shape[0], n_folds=folds, shuffle = True, random_state = 16834)\n",
      "    all_pred = np.zeros(shape=(0))\n",
      "    all_indices = np.zeros(shape=(0))\n",
      "    mae_list = list()\n",
      "    for train_index, test_index in kf:\n",
      "        X_train, X_test =data[train_index], data[test_index]\n",
      "        y_train, y_test = target[train_index], target[test_index]\n",
      "        \n",
      "        rationale_train = get_rationale_train(X_train)\n",
      "        \n",
      "        ridge.fit(rationale_train, y_train)\n",
      "        y_pred = ridge.predict(X_test)\n",
      "\n",
      "        mae = mean_absolute_error(y_test, y_pred)\n",
      "\n",
      "        all_pred = np.concatenate((all_pred,y_pred))\n",
      "        all_indices = np.concatenate((all_indices, test_index))\n",
      "\n",
      "        mae_list.append(mae)\n",
      "\n",
      "    y_pred = np.column_stack((all_indices,all_pred))\n",
      "    y_pred = y_pred[np.argsort(y_pred[:,0])][:,1]\n",
      "\n",
      "    mae = np.average(mae_list)\n",
      "    weights = ridge.coef_\n",
      "\n",
      "    return [mae, weights, y_pred]"
     ],
     "language": "python",
     "prompt_number": 11
    },
    {
     "cell_type": "markdown",
     "metadata": {},
     "source": [
      "Ridge Regression with Rationales"
     ]
    },
    {
     "cell_type": "code",
     "execution_count": null,
     "metadata": {},
     "outputs": [
      {
       "output_type": "stream",
       "stream": "stdout",
       "text": [
        "Ten Lowest Errors\n  Movie ID User Rating Model Prediction        Model Error\n0  25850.0         4.5    4.49980693446  0.000193065539158\n1    500.0         4.5    4.49956051026  0.000439489738167\n2    364.0         4.5    4.50218732438   0.00218732438239\n3   2828.0         1.0   0.997169159759   0.00283084024108\n4    105.0         4.5    4.50654600414   0.00654600414143\n5   1884.0         4.5    4.48972641008    0.0102735899201\n6    466.0         0.5   0.510537205805    0.0105372058053\n7   5618.0         4.5    4.48829367097    0.0117063290278\n8   8446.0         5.0    4.98685948465    0.0131405153482\n9   2321.0         4.5    4.51590188236    0.0159018823587\n\nTen Highest Errors\n      Movie ID    User Rating Model Prediction    Model Error\n1957    2977.0            0.5    10.0576841698  9.55768416983\n1958    1645.0            4.5    14.1278665998  9.62786659984\n1959     920.0            5.0    14.6431538937  9.64315389374\n1960   48780.0            5.0    14.9703945652  9.97039456525\n1961    5953.0            0.5    10.5296858594  10.0296858594\n1962   48516.0            5.0    15.0659597266  10.0659597266\n1963   41997.0            5.0    15.3380148753  10.3380148753\n1964    1721.0            0.5    10.8561919872  10.3561919872\n1965    1183.0            5.0    15.8362940283  10.8362940283\n1966  Average:  2.86393692777    4.35000000838  2.02126482626\n"
       ]
      }
     ],
     "input": [
      "results = get_ridge_cv_results_rationales(np.column_stack((data,target)), 28, 10)\n",
      "\n",
      "y_pred = results[2]\n",
      "ratings = user_ratings.values()\n",
      "error_from_pred = np.abs(ratings-y_pred)\n",
      "\n",
      "col_names = [\"Movie ID\" ,\"User Rating\",\"Model Prediction\",\"Model Error\"]\n",
      "\n",
      "col_avg = [\"Average:\", np.average(ratings),np.average(y_pred),np.average(error_from_pred)]\n",
      "user_result = np.column_stack((user_ratings.keys(), ratings, y_pred, error_from_pred))\n",
      "user_result = user_result[np.argsort(user_result[:, 3])]\n",
      "user_result = np.vstack((user_result,col_avg))\n",
      "\n",
      "results_df = pd.DataFrame(user_result, columns = col_names)\n",
      "print \"Ten Lowest Errors\"\n",
      "print results_df.head(10)\n",
      "print \"\\nTen Highest Errors\"\n",
      "print results_df.tail(10)"
     ],
     "language": "python",
     "prompt_number": 13
    },
    {
     "cell_type": "code",
     "execution_count": null,
     "metadata": {},
     "outputs": [],
     "input": [
      "def build_train_with_rationales(train_data, y_train):\n",
      "    non_avg = train_data[:,2:]\n",
      "    rationale_weights = get_rationale_weights(non_avg, y_train)\n",
      "    maxs, mins = build_rationales(non_avg, rationale_weights, 0.01)\n",
      "    maxs = maxs.keys()\n",
      "    mins = mins.keys()\n",
      "    for x in range(train_data.shape[0]):\n",
      "        movie = non_avg[x]\n",
      "        maxs = np.intersect1d(maxs, np.nonzero(movie))\n",
      "        mins = np.intersect1d(mins, np.nonzero(movie))\n",
      "        if y_train[x] > 3.5 and len(maxs) > 0:\n",
      "            movie = np.multiply(movie, .01)\n",
      "            rationale = max(maxs)\n",
      "            #rationale = np.random.choice(maxs, 1)\n",
      "            movie[rationale] *= 100\n",
      "        elif y_train[x] < 2.5 and len(mins) > 0:\n",
      "            movie = np.multiply(movie, .01)\n",
      "            rationale = min(mins)\n",
      "            #rationale = np.random.choice(mins, 1)\n",
      "            movie[rationale] *= 100\n",
      "        train_data[x][2:] = movie\n",
      "    return train_data"
     ],
     "language": "python",
     "prompt_number": 53
    },
    {
     "cell_type": "code",
     "execution_count": null,
     "metadata": {},
     "outputs": [],
     "input": [
      "def get_ridge_cv_results_rationales(user_matrix, alpha, folds):\n",
      "    \n",
      "    user_cols = user_matrix.shape[1]\n",
      "    data = user_matrix[:, :(user_cols-1)]\n",
      "    target = user_matrix[:, (user_cols-1)]\n",
      "    \n",
      "    ridge = linear_model.Ridge()\n",
      "    ridge.alpha = alpha\n",
      "    \n",
      "    kf = cross_validation.KFold(user_matrix.shape[0], n_folds=folds, shuffle = True, random_state = 16834)\n",
      "    all_pred = np.zeros(shape=(0))\n",
      "    all_indices = np.zeros(shape=(0))\n",
      "    mae_list = list()\n",
      "    for train_index, test_index in kf:\n",
      "        X_train, X_test =data[train_index], data[test_index]\n",
      "        y_train, y_test = target[train_index], target[test_index]\n",
      "        \n",
      "        rationale_train = build_train_with_rationales(X_train, y_train)\n",
      "        \n",
      "        ridge.fit(rationale_train, y_train)\n",
      "        y_pred = ridge.predict(X_test)\n",
      "\n",
      "        mae = mean_absolute_error(y_test, y_pred)\n",
      "\n",
      "        all_pred = np.concatenate((all_pred,y_pred))\n",
      "        all_indices = np.concatenate((all_indices, test_index))\n",
      "\n",
      "        mae_list.append(mae)\n",
      "\n",
      "    y_pred = np.column_stack((all_indices,all_pred))\n",
      "    y_pred = y_pred[np.argsort(y_pred[:,0])][:,1]\n",
      "\n",
      "    mae = np.average(mae_list)\n",
      "    weights = ridge.coef_\n",
      "\n",
      "    return [mae, weights, y_pred]"
     ],
     "language": "python",
     "prompt_number": 50
    },
    {
     "cell_type": "markdown",
     "metadata": {},
     "source": [
      "Ridge CV with rationales (Top 5% of features)"
     ]
    },
    {
     "cell_type": "code",
     "execution_count": null,
     "metadata": {},
     "outputs": [
      {
       "output_type": "stream",
       "stream": "stdout",
       "text": [
        "Ten Lowest Errors\n  Movie ID User Rating Model Prediction       Model Error\n0   2887.0         0.5   0.498039111242  0.00196088875846\n1   4226.0         4.5    4.50257712979  0.00257712978791\n2  26111.0         4.0    4.00269990171  0.00269990171227\n3    870.0         0.5   0.495802183527   0.0041978164725\n4  33685.0         1.0    0.99409695282  0.00590304718028\n5   2004.0         0.5   0.509911190073  0.00991119007337\n6   1704.0         4.5     4.5103674769   0.0103674769006\n7  33794.0         4.5    4.48759785031   0.0124021496907\n8   3695.0         0.5   0.513144828457   0.0131448284574\n9   1126.0         0.5   0.515558291166   0.0155582911656\n\nTen Highest Errors\n      Movie ID    User Rating Model Prediction    Model Error\n1957    1230.0            1.0    5.02637676982  4.02637676982\n1958    5953.0            0.5    4.56059699585  4.06059699585\n1959    2294.0            5.0   0.848831079015  4.15116892098\n1960    2977.0            0.5    4.98369236637  4.48369236637\n1961    6954.0            2.0    6.65318314385  4.65318314385\n1962   50253.0            0.5    5.22816578175  4.72816578175\n1963    3834.0            0.5    5.27037092946  4.77037092946\n1964   45447.0            0.5    5.48377007381  4.98377007381\n1965    1721.0            0.5    6.99913781462  6.49913781462\n1966  Average:  2.86393692777    2.85018484174   1.1507080327\n"
       ]
      }
     ],
     "input": [
      "results = get_ridge_cv_results_rationales(np.column_stack((data,target)), 45, 10)\n",
      "\n",
      "y_pred = results[2]\n",
      "ratings = user_ratings.values()\n",
      "error_from_pred = np.abs(ratings-y_pred)\n",
      "\n",
      "col_names = [\"Movie ID\" ,\"User Rating\",\"Model Prediction\",\"Model Error\"]\n",
      "\n",
      "col_avg = [\"Average:\", np.average(ratings),np.average(y_pred),np.average(error_from_pred)]\n",
      "user_result = np.column_stack((user_ratings.keys(), ratings, y_pred, error_from_pred))\n",
      "user_result = user_result[np.argsort(user_result[:, 3])]\n",
      "user_result = np.vstack((user_result,col_avg))\n",
      "\n",
      "results_df = pd.DataFrame(user_result, columns = col_names)\n",
      "print \"Ten Lowest Errors\"\n",
      "print results_df.head(10)\n",
      "print \"\\nTen Highest Errors\"\n",
      "print results_df.tail(10)"
     ],
     "language": "python",
     "prompt_number": 54
    },
    {
     "cell_type": "code",
     "execution_count": null,
     "metadata": {},
     "outputs": [],
     "input": [
      "def get_lasso_cv_results_rationales(user_matrix, alpha, folds):\n",
      "    user_cols = user_matrix.shape[1]\n",
      "    data = user_matrix[:, :(user_cols-1)]\n",
      "    target = user_matrix[:, (user_cols-1)]\n",
      "\n",
      "    lasso = linear_model.Lasso()\n",
      "    lasso.alpha = alpha\n",
      "    \n",
      "    kf = cross_validation.KFold(user_matrix.shape[0], n_folds=folds, shuffle = True, random_state = 16834)\n",
      "    all_pred = np.zeros(shape=(0))\n",
      "    all_indices = np.zeros(shape=(0))\n",
      "    mae_list = list()\n",
      "    for train_index, test_index in kf:\n",
      "        X_train, X_test =data[train_index], data[test_index]\n",
      "        y_train, y_test = target[train_index], target[test_index]\n",
      "        \n",
      "        rationale_train = build_train_with_rationales(X_train, y_train)\n",
      "        \n",
      "        lasso.fit(rationale_train, y_train)\n",
      "        y_pred = lasso.predict(X_test)\n",
      "\n",
      "        mae = mean_absolute_error(y_test, y_pred)\n",
      "\n",
      "        all_pred = np.concatenate((all_pred,y_pred))\n",
      "        all_indices = np.concatenate((all_indices, test_index))\n",
      "\n",
      "        mae_list.append(mae)\n",
      "\n",
      "    y_pred = np.column_stack((all_indices,all_pred))\n",
      "    y_pred = y_pred[np.argsort(y_pred[:,0])][:,1]\n",
      "\n",
      "    mae = np.average(mae_list)\n",
      "    weights = lasso.coef_\n",
      "\n",
      "    return [mae, weights, y_pred]"
     ],
     "language": "python",
     "prompt_number": 17
    },
    {
     "cell_type": "markdown",
     "metadata": {},
     "source": [
      "Lasso CV with rationales (Top 5% of features)"
     ]
    },
    {
     "cell_type": "code",
     "execution_count": null,
     "metadata": {},
     "outputs": [
      {
       "output_type": "stream",
       "stream": "stdout",
       "text": [
        "Ten Lowest Errors\n  Movie ID User Rating Model Prediction       Model Error\n0   5715.0         0.5   0.498396809907  0.00160319009327\n1    546.0         0.5   0.497071675206  0.00292832479417\n2   1292.0         4.0    3.99644964655  0.00355035345237\n3   1222.0         4.5    4.50384934312  0.00384934311962\n4  26111.0         4.0    4.00393825496  0.00393825495534\n5    534.0         5.0    4.99484679431  0.00515320569314\n6   2206.0         5.0    5.00635902055  0.00635902054743\n7   2210.0         4.5    4.49304280503  0.00695719497075\n8   3723.0         5.0    4.99292491874  0.00707508125809\n9   7438.0         3.5    3.49281850146  0.00718149854296\n\nTen Highest Errors\n      Movie ID    User Rating Model Prediction    Model Error\n1957    2294.0            5.0    1.21977917412  3.78022082588\n1958    5315.0            0.5     4.4478213896   3.9478213896\n1959    2977.0            0.5    4.55459959434  4.05459959434\n1960   50253.0            0.5     4.7341164408   4.2341164408\n1961    1690.0            4.5   0.261249298579  4.23875070142\n1962    2688.0            0.5     4.7797742301   4.2797742301\n1963    5953.0            0.5    5.17878822393  4.67878822393\n1964   45447.0            0.5     5.2262179838   4.7262179838\n1965    1721.0            0.5    6.08329438362  5.58329438362\n1966  Average:  2.86393692777    2.85446781628  1.17215985849\n"
       ]
      }
     ],
     "input": [
      "results = get_lasso_cv_results_rationales(np.column_stack((data,target)), .01, 10)\n",
      "\n",
      "y_pred = results[2]\n",
      "ratings = user_ratings.values()\n",
      "error_from_pred = np.abs(ratings-y_pred)\n",
      "\n",
      "col_names = [\"Movie ID\" ,\"User Rating\",\"Model Prediction\",\"Model Error\"]\n",
      "\n",
      "col_avg = [\"Average:\", np.average(ratings),np.average(y_pred),np.average(error_from_pred)]\n",
      "user_result = np.column_stack((user_ratings.keys(), ratings, y_pred, error_from_pred))\n",
      "user_result = user_result[np.argsort(user_result[:, 3])]\n",
      "user_result = np.vstack((user_result,col_avg))\n",
      "\n",
      "results_df = pd.DataFrame(user_result, columns = col_names)\n",
      "print \"Ten Lowest Errors\"\n",
      "print results_df.head(10)\n",
      "print \"\\nTen Highest Errors\"\n",
      "print results_df.tail(10)"
     ],
     "language": "python",
     "prompt_number": 34
    },
    {
     "cell_type": "markdown",
     "metadata": {},
     "source": [
      "Lasso CV test/split with rationales"
     ]
    },
    {
     "cell_type": "code",
     "execution_count": null,
     "metadata": {},
     "outputs": [
      {
       "output_type": "stream",
       "stream": "stdout",
       "text": [
        "1.15937006272\n"
       ]
      }
     ],
     "input": [
      "X_train, X_test, y_train, y_test = train_test_split(data, target, test_size=.33, random_state = 16834)\n",
      "rationale_train = build_train_with_rationales(X_train, y_train)\n",
      "\n",
      "lasso = linear_model.Lasso()\n",
      "lasso.alpha = .01\n",
      "lasso.fit(rationale_train, y_train)\n",
      "y_pred = lasso.predict(X_test)\n",
      "mae = mean_absolute_error(y_test, y_pred)\n",
      "print mae"
     ],
     "language": "python",
     "prompt_number": 41
    },
    {
     "cell_type": "markdown",
     "metadata": {},
     "source": [
      "Ridge CV test/split with rationales"
     ]
    },
    {
     "cell_type": "code",
     "execution_count": null,
     "metadata": {},
     "outputs": [
      {
       "output_type": "stream",
       "stream": "stdout",
       "text": [
        "1.16173179037\n"
       ]
      }
     ],
     "input": [
      "X_train, X_test, y_train, y_test = train_test_split(data, target, test_size=.33, random_state = 16834)\n",
      "rationale_train = build_train_with_rationales(X_train, y_train)\n",
      "\n",
      "ridge = linear_model.Ridge()\n",
      "ridge.alpha = 45\n",
      "ridge.fit(rationale_train, y_train)\n",
      "y_pred = ridge.predict(X_test)\n",
      "mae = mean_absolute_error(y_test, y_pred)\n",
      "print mae"
     ],
     "language": "python",
     "prompt_number": 42
    },
    {
     "cell_type": "code",
     "execution_count": null,
     "metadata": {},
     "outputs": [],
     "input": [
      ""
     ],
     "language": "python"
    }
   ]
  }
 ],
 "cells": [],
 "metadata": {},
 "nbformat": 3,
 "nbformat_minor": 0
}