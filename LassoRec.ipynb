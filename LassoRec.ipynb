{
 "worksheets": [
  {
   "cells": [
    {
     "cell_type": "markdown",
     "metadata": {},
     "source": [
      "## Random sampling of 50 users"
     ]
    },
    {
     "cell_type": "code",
     "execution_count": null,
     "metadata": {},
     "outputs": [],
     "input": [
      "import random\n",
      "sample = random.sample(range(1, 946), 100)\n",
      "sample_matrices = list()\n",
      "for user_id in sample:\n",
      "        sample_matrices.append(um.get_user_matrix(user_id, ratings))"
     ],
     "language": "python"
    },
    {
     "cell_type": "markdown",
     "metadata": {},
     "source": [
      "## Finding Optimal Alpha Using Lasso Cross Validation With 5 Folds Over Samples"
     ]
    },
    {
     "cell_type": "code",
     "execution_count": null,
     "metadata": {},
     "outputs": [],
     "input": [
      "alphas = np.arange(.05,.8,.05)\n",
      "min_lasso_mae = 1\n",
      "avg_mae_list =list()\n",
      "for alpha in alphas:\n",
      "    mae_list = list()\n",
      "    for user_matrix in sample_matrices:\n",
      "        results = pm.get_lasso_cv_results(user_matrix, alpha)\n",
      "        mae_list.append(results[0])\n",
      "    avg_mae = sum(mae_list) / float(len(mae_list))\n",
      "    if avg_mae < min_lasso_mae:\n",
      "        min_lasso_mae = avg_mae\n",
      "        min_lasso_alpha = alpha\n",
      "        min_lasso_maes = mae_list\n",
      "    avg_mae_list.append(avg_mae)\n",
      "print pd.DataFrame(np.column_stack((alphas,avg_mae_list)), columns = ['Alpha', 'MAE'])"
     ],
     "language": "python"
    },
    {
     "cell_type": "markdown",
     "metadata": {},
     "source": [
      "## Min/max MAEs for Optimal Alpha with Lasso"
     ]
    },
    {
     "cell_type": "code",
     "execution_count": null,
     "metadata": {},
     "outputs": [],
     "input": [
      "print \"Optimal alpha is: \", min_lasso_alpha\n",
      "lasso_df = pd.DataFrame(np.column_stack((sample,min_lasso_maes)), columns = ['User ID', 'MAE'])\n",
      "print \"Minimum MAEs\"\n",
      "print lasso_df.sort('MAE', ascending = True).head(10)\n",
      "print \"Maximum MAEs\"\n",
      "print lasso_df.sort('MAE', ascending = True).tail(10)"
     ],
     "language": "python"
    }
   ]
  }
 ],
 "cells": [],
 "metadata": {},
 "nbformat": 3,
 "nbformat_minor": 0
}