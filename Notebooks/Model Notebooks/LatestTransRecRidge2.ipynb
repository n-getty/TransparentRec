{
 "cells": [
  {
   "cell_type": "code",
   "execution_count": 1,
   "metadata": {},
   "outputs": [],
   "source": [
    "%matplotlib inline\n",
    "import numpy as np\n",
    "from pandas import DataFrame as df\n",
    "from Classifiers import TransparentRidge\n",
    "from Classifiers import TransparentLasso\n",
    "from scipy.sparse import diags\n",
    "import matplotlib.pyplot as plt\n",
    "import PredictiveModels as pm\n",
    "import pandas as pd\n",
    "from LatestPreprocessing import *"
   ]
  },
  {
   "cell_type": "markdown",
   "metadata": {},
   "source": [
    "# User Transparency"
   ]
  },
  {
   "cell_type": "code",
   "execution_count": 2,
   "metadata": {},
   "outputs": [
    {
     "name": "stdout",
     "output_type": "stream",
     "text": [
      "   User ID  Number of Ratings  Average Rating  Variance  Genre Ratio  Key Ratio  Fitness\n0   242763               1929           2.875     4.092            0      0.040    0.369\n1    28451               1274           2.813     3.909            0      0.086    0.305\n2    87971               1181           3.383     3.426            0      0.065    0.278\n3   155440               1028           2.631     3.292            0      0.085    0.245\n4    60484               1224           2.054     3.114            0      0.077    0.234\n5   120899               2031           2.662     2.356            0      0.022    0.214\n6    46262                747           2.509     3.603            0      0.159    0.202\n7   225941               1646           1.797     2.348            0      0.037    0.198\n8   170099               2067           3.215     2.179            0      0.021    0.197\n9   234450               1798           2.885     2.215            0      0.034    0.187\n"
     ]
    }
   ],
   "source": [
    "pd.set_option('display.width', 100)\n",
    "user_stats = pd.read_csv('ml-latest/user_stats.csv', sep = ',',nrows=20)\n",
    "print user_stats.head(10)"
   ]
  },
  {
   "cell_type": "markdown",
   "metadata": {},
   "source": [
    "## Loading user matrix"
   ]
  },
  {
   "cell_type": "code",
   "execution_count": 3,
   "metadata": {},
   "outputs": [
    {
     "name": "stdout",
     "output_type": "stream",
     "text": [
      "User average rating:  2.86393692777\nNumber of movies rated by this user:  1966\n"
     ]
    }
   ],
   "source": [
    "userid = 242763\n",
    "user_ratings = get_matched_user_ratings(userid)\n",
    "movies = user_ratings.keys()\n",
    "ratings = user_ratings.values()\n",
    "print \"User average rating: \", np.average(ratings)\n",
    "print \"Number of movies rated by this user: \", len(ratings)"
   ]
  },
  {
   "cell_type": "code",
   "execution_count": 4,
   "metadata": {},
   "outputs": [
    {
     "name": "stdout",
     "output_type": "stream",
     "text": [
      "Loading average and number of rating\n"
     ]
    }
   ],
   "source": [
    "print \"Loading average and number of rating\"\n",
    "id_dict = get_id_row_dict()\n",
    "idxs = [id_dict[k] for k in movies]\n",
    "avg_and_num = sort_avg()"
   ]
  },
  {
   "cell_type": "markdown",
   "metadata": {},
   "source": [
    "## Highest rated movies"
   ]
  },
  {
   "cell_type": "code",
   "execution_count": 5,
   "metadata": {},
   "outputs": [
    {
     "name": "stdout",
     "output_type": "stream",
     "text": [
      "                                                   Movie Average Rating Number of Ratings\n10075                    THE SHAWSHANK REDEMPTION (1994)       4.442559             77367\n6085                                THE GODFATHER (1972)       4.354139             49554\n3561                           THE USUAL SUSPECTS (1995)       4.319778             52957\n18479                            SCHINDLER'S LIST (1993)       4.292279             59539\n20916                      THE GODFATHER: PART II (1974)       4.269065             32048\n18913                        SHICHININ NO SAMURAI (1954)       4.263744             12696\n6943                                  REAR WINDOW (1954)       4.248423             19338\n10182             ONE FLEW OVER THE CUCKOO'S NEST (1975)       4.243332             35657\n15480                                  FIGHT CLUB (1999)       4.234274             48471\n8583                                   CASABLANCA (1942)       4.233015             27715\n12624  DR. STRANGELOVE OR: HOW I LEARNED TO STOP WORR...       4.226128             25658\n4557                                 12 ANGRY MEN (1957)       4.223266             14738\n17374                               THE THIRD MAN (1949)       4.222866              7159\n1963                                 SUNSET BLVD. (1950)       4.221635              7289\n15522                          NORTH BY NORTHWEST (1959)       4.217631             17787\n2003                             DOUBLE INDEMNITY (1944)        4.21173              5226\n717                                CIDADE DE DEUS (2002)       4.211117             16299\n19975                              PATHS OF GLORY (1957)       4.206326              3841\n17187                             THE DARK KNIGHT (2008)       4.202483             29037\n3130                        DAS LEBEN DER ANDEREN (2006)       4.202116              7372\n"
     ]
    }
   ],
   "source": [
    "movie_set = pd.read_csv(\"ml-latest/matched_set.csv\", sep = \",\")\n",
    "avg_df = df(np.column_stack((movie_set.title,avg_and_num)), columns = (\"Movie\", \"Average Rating\", \"Number of Ratings\"))\n",
    "print avg_df.loc[avg_df[\"Number of Ratings\"] > 100].sort([\"Average Rating\", \"Number of Ratings\"], ascending=[0,0]).head(20)"
   ]
  },
  {
   "cell_type": "heading",
   "metadata": {},
   "level": 2,
   "source": [
    "User Highest Rated"
   ]
  },
  {
   "cell_type": "code",
   "execution_count": 6,
   "metadata": {},
   "outputs": [
    {
     "name": "stdout",
     "output_type": "stream",
     "text": [
      "                                         Movie Rating\n0                             TOY STORY (1995)      5\n983                     THE FISHER KING (1991)      5\n1964                     EDUCATING RITA (1983)      5\n1963                               RUSH (1991)      5\n1962                      LA DOLCE VITA (1960)      5\n437                     THE DEER HUNTER (1978)      5\n869             THE BLAIR WITCH PROJECT (1999)      5\n7     AT PLAY IN THE FIELDS OF THE LORD (1991)      5\n1954                             HARPER (1966)      5\n1950        SUPPORT YOUR LOCAL SHERIFF! (1969)      5\n10                       THE WILD GEESE (1978)      5\n874                              LOLITA (1962)      5\n1949   PERFUME: THE STORY OF A MURDERER (2006)      5\n1948             HOW TO STEAL A MILLION (1966)      5\n876                         THE MISSION (1986)      5\n877                        FROM THE HIP (1987)      5\n878      THE NIGHT OF THE FOLLOWING DAY (1968)      5\n1944                   THE POWER OF ONE (1992)      5\n859                 RUN SILENT RUN DEEP (1958)      5\n19                              OTHELLO (1995)      5\n"
     ]
    }
   ],
   "source": [
    "all_names = get_movie_names()\n",
    "names = all_names[idxs]\n",
    "rating_df = df(np.column_stack((names,ratings)), columns = (\"Movie\", \"Rating\"))\n",
    "print rating_df.sort([\"Rating\"], ascending=0).head(20)"
   ]
  },
  {
   "cell_type": "markdown",
   "metadata": {},
   "source": [
    "## User rating distribution"
   ]
  },
  {
   "cell_type": "code",
   "execution_count": 7,
   "metadata": {},
   "outputs": [
    {
     "data": {
      "image/png": "[encoded data removed]"
     },
     "output_type": "display_data",
     "text": [
      "<matplotlib.figure.Figure at 0x180f8588>"
     ],
     "metadata": {}
    }
   ],
   "source": [
    "x = ratings\n",
    "his = np.histogram(x, bins = np.arange(0.5,6,0.5))\n",
    "fig, ax = plt.subplots()\n",
    "offset = 0.25\n",
    "plt.bar(his[1][1:],his[0],width=.5)\n",
    "ax.set_xticks(his[1][1:] + offset)\n",
    "ax.set_xticklabels(np.arange(0.5,6,0.5))\n",
    "plt.title(\"Rating Frequency\")\n",
    "plt.xlabel(\"Rating\")\n",
    "plt.ylabel(\"Frequency\")\n",
    "plt.show()"
   ]
  },
  {
   "cell_type": "markdown",
   "metadata": {},
   "source": [
    "## Genre Distribution"
   ]
  },
  {
   "cell_type": "code",
   "execution_count": 8,
   "metadata": {},
   "outputs": [
    {
     "name": "stdout",
     "output_type": "stream",
     "text": [
      "Loading genre matrix\n"
     ]
    }
   ],
   "source": [
    "print \"Loading genre matrix\"\n",
    "genre_matrix = get_genre_matrix()[idxs]\n",
    "genre_dict = get_genre_dict()\n",
    "inv_map = {v: k for k, v in genre_dict.items()}\n",
    "names = [inv_map[k] for k in range(len(genre_dict))]"
   ]
  },
  {
   "cell_type": "code",
   "execution_count": 9,
   "metadata": {},
   "outputs": [
    {
     "data": {
      "image/png": "[encoded data removed]"
     },
     "output_type": "display_data",
     "text": [
      "<matplotlib.figure.Figure at 0x17e6a4a8>"
     ],
     "metadata": {}
    }
   ],
   "source": [
    "x = np.sum(genre_matrix, axis=0)\n",
    "his = np.histogram(x, bins = range(0,21))\n",
    "fig, ax = plt.subplots()\n",
    "offset = 0\n",
    "plt.bar(his[1][1:],x,align='center')\n",
    "ax.set_xticks(his[1][1:] + offset)\n",
    "ax.set_xticklabels((list(names)))\n",
    "locs, labels = plt.xticks()\n",
    "plt.setp(labels, rotation=70)\n",
    "plt.title(\"Genre Frequency\")\n",
    "plt.xlabel(\"Genre\")\n",
    "plt.ylabel(\"Frequency\")\n",
    "plt.show()"
   ]
  },
  {
   "cell_type": "code",
   "execution_count": 10,
   "metadata": {},
   "outputs": [
    {
     "name": "stdout",
     "output_type": "stream",
     "text": [
      "Loading key matrix\nNumber of popular keys:"
     ]
    },
    {
     "name": "stdout",
     "output_type": "stream",
     "text": [
      " 2336\n"
     ]
    }
   ],
   "source": [
    "print \"Loading key matrix\"\n",
    "keywords = pd.read_csv(\"ml-latest/matched_movies\", delimiter='\\t', usecols = [0,3], names = ['id', 'key'] )\n",
    "x = get_popular_key_dict(keywords.key)\n",
    "inv_map = {v: k for k, v in x.items()}\n",
    "names = np.array([inv_map[k] for k in range(len(x))])\n",
    "user_key_matrix = get_keyword_matrix()[idxs]"
   ]
  },
  {
   "cell_type": "markdown",
   "metadata": {},
   "source": [
    "## User Keyword Frequency"
   ]
  },
  {
   "cell_type": "code",
   "execution_count": 11,
   "metadata": {},
   "outputs": [
    {
     "name": "stdout",
     "output_type": "stream",
     "text": [
      "                Keyword Frequency\n2070     person-on-fire        99\n2071            tragedy        99\n2073          urination        99\n2072     premarital-sex        99\n2065            general        98\n2066              1960s        98\n2067          obsession        98\n2068       double-cross        98\n2069              theft        98\n2064     unfaithfulness        98\n2061         first-part        97\n2063             hitman        97\n2062     child-in-peril        97\n2060        convertible        97\n2059         flashlight        97\n2058              judge        97\n2057  product-placement        97\n2056         california        97\n2055          scientist        97\n2053      strangulation        96\n"
     ]
    }
   ],
   "source": [
    "frequency = np.sum(user_key_matrix, axis=0, dtype = int)\n",
    "indices = np.argsort(frequency)\n",
    "keyword_df = df((np.column_stack((names[indices], frequency[indices]))), columns = (\"Keyword\", \"Frequency\"))\n",
    "print keyword_df.sort([\"Frequency\"], ascending = 0).head(20)"
   ]
  },
  {
   "cell_type": "markdown",
   "metadata": {},
   "source": [
    "## User Actor Frequency"
   ]
  },
  {
   "cell_type": "code",
   "execution_count": 12,
   "metadata": {},
   "outputs": [
    {
     "name": "stdout",
     "output_type": "stream",
     "text": [
      "Loading actor matrix\n                   Actor Frequency\n921   Henry, William (I)       9.0\n1867         Zane, Billy       9.0\n922         Hensen, Lars       9.0\n1864       Yulin, Harris       9.0\n1861     Young, Carleton       9.0\n1860     Young, Burt (I)       9.0\n924     Herman, Paul (I)       9.0\n931     Hicks, Chuck (I)       9.0\n953       Homans, Robert       9.0\n954      Hong, James (I)       9.0\n371         Bellamy, Ned       9.0\n1847      Wood, Fred (I)       9.0\n961     Hordern, Michael       9.0\n13    Bancroft, Anne (I)       9.0\n574      Corey, Jeff (I)       9.0\n365          Beatty, Ned       9.0\n996        Isaacs, Jason       9.0\n913          Hedaya, Dan       9.0\n351        Barber, Bobby       9.0\n1834   Wilson, Harry (I)       9.0"
     ]
    },
    {
     "name": "stdout",
     "output_type": "stream",
     "text": [
      "\n"
     ]
    }
   ],
   "source": [
    "print \"Loading actor matrix\"\n",
    "actor_matrix = get_actor_matrix()[idxs]\n",
    "frequency = np.sum(actor_matrix, axis=0)\n",
    "names = get_actor_names()\n",
    "actor_df = df((np.column_stack((names, frequency))), columns = (\"Actor\", \"Frequency\"))\n",
    "print actor_df.sort_index(by=[\"Frequency\"], ascending = 0).head(20)"
   ]
  },
  {
   "cell_type": "markdown",
   "metadata": {},
   "source": [
    "## Finding min alpha for user"
   ]
  },
  {
   "cell_type": "code",
   "execution_count": 14,
   "metadata": {},
   "outputs": [
    {
     "name": "stdout",
     "output_type": "stream",
     "text": [
      "   Alpha       MAE\n0     10  1.203470\n1     12  1.188425\n2     14  1.177293\n3     16  1.169194\n4     18  1.163020\n5     20  1.158005\n6     22  1.153976\n7     24  1.150968\n8     26  1.148604\n9     28  1.146688\nOptimal alpha is:  28\n"
     ]
    }
   ],
   "source": [
    "pp.scale(avg_and_num[:,0], with_mean=True, with_std=True, copy=False)\n",
    "pp.scale(avg_and_num[:,1], with_mean=True, with_std=True, copy=False)\n",
    "data = np.column_stack((avg_and_num[idxs], genre_matrix, user_key_matrix, actor_matrix))\n",
    "target = ratings\n",
    "alphas = np.arange(10,30,2)\n",
    "min_ridge_mae = 2\n",
    "avg_mae_list =list()\n",
    "for alpha in alphas:\n",
    "    mae_list = list()\n",
    "    results = pm.get_ridge_cv_results(np.column_stack((data,target)), alpha, 10)\n",
    "    mae = results[0]\n",
    "    mae_list.append(results[0])\n",
    "    if mae < min_ridge_mae:\n",
    "        min_ridge_mae = mae\n",
    "        min_ridge_alpha = alpha\n",
    "        min_ridge_maes = mae_list\n",
    "    avg_mae_list.append(mae)\n",
    "print pd.DataFrame(np.column_stack((alphas,avg_mae_list)), columns = ['Alpha', 'MAE'])\n",
    "print \"Optimal alpha is: \", min_ridge_alpha"
   ]
  },
  {
   "cell_type": "markdown",
   "metadata": {},
   "source": [
    "## Creating Ridge Model with Cross Validation and 10 Folds"
   ]
  },
  {
   "cell_type": "code",
   "execution_count": 15,
   "metadata": {},
   "outputs": [
    {
     "name": "stdout",
     "output_type": "stream",
     "text": [
      "Ten Lowest Errors\n  Movie ID User Rating Model Prediction       Model Error\n0   5388.0         5.0    4.99983193058  0.00016806942459\n1   7723.0         0.5   0.497206518128  0.00279348187163\n2   4306.0         5.0     5.0032072433   0.0032072432951\n3   2050.0         0.5   0.504205972256  0.00420597225642\n4   2571.0         4.5    4.49474857326  0.00525142674144\n5   3695.0         0.5   0.507078080256  0.00707808025589\n6   3580.0         5.0    4.99254768443  0.00745231557186\n7   2835.0         0.5   0.514254601017   0.0142546010173\n8   3922.0         0.5   0.485260221376   0.0147397786244\n9   5962.0         4.0    3.98448125045   0.0155187495471\n\nTen Highest Errors\n      Movie ID    User Rating Model Prediction    Model Error\n1957     590.0            3.0    7.25934916075  4.25934916075\n1958    1230.0            1.0    5.35425462252  4.35425462252\n1959    2977.0            0.5    4.98080191328  4.48080191328\n1960   50253.0            0.5    5.01010708727  4.51010708727\n1961    2294.0            5.0   0.426704103354  4.57329589665\n1962    3834.0            0.5    5.20816608459  4.70816608459\n1963   45447.0            0.5    5.20870395541  4.70870395541\n1964    6954.0            2.0    6.99389392378  4.99389392378\n1965    1721.0            0.5    7.07389648212  6.57389648212\n1966  Average:  2.86393692777    2.84999348369  1.14667117977\n"
     ]
    }
   ],
   "source": [
    "results = pm.get_ridge_cv_results(np.column_stack((data,target)), min_ridge_alpha, 10)\n",
    "\n",
    "y_pred = results[2]\n",
    "ratings = user_ratings.values()\n",
    "error_from_pred = np.abs(ratings-y_pred)\n",
    "\n",
    "col_names = [\"Movie ID\" ,\"User Rating\",\"Model Prediction\",\"Model Error\"]\n",
    "\n",
    "col_avg = [\"Average:\", np.average(ratings),np.average(y_pred),np.average(error_from_pred)]\n",
    "user_result = np.column_stack((user_ratings.keys(), ratings, y_pred, error_from_pred))\n",
    "user_result = user_result[np.argsort(user_result[:, 3])]\n",
    "user_result = np.vstack((user_result,col_avg))\n",
    "\n",
    "results_df = pd.DataFrame(user_result, columns = col_names)\n",
    "print \"Ten Lowest Errors\"\n",
    "print results_df.head(10)\n",
    "print \"\\nTen Highest Errors\"\n",
    "print results_df.tail(10)"
   ]
  },
  {
   "cell_type": "markdown",
   "metadata": {},
   "source": [
    "## Creating Ridge Model with Full Training Set"
   ]
  },
  {
   "cell_type": "code",
   "execution_count": 16,
   "metadata": {},
   "outputs": [],
   "source": [
    "clf =TransparentRidge(0.1)\n",
    "user_cols = data.shape[1]+1\n",
    "clf.fit(data,target)\n",
    "weights = clf.coef_\n",
    "neg_evi, pos_evi = clf.predict_evidences(data)\n",
    "bias = clf.get_bias()\n",
    "y_pred = clf.predict(data)\n",
    "indices = np.argsort(y_pred)\n",
    "coef_diags = diags(clf.coef_, 0)\n",
    "dm = data * coef_diags"
   ]
  },
  {
   "cell_type": "markdown",
   "metadata": {},
   "source": [
    "## Weights and Features"
   ]
  },
  {
   "cell_type": "code",
   "execution_count": 17,
   "metadata": {},
   "outputs": [
    {
     "name": "stdout",
     "output_type": "stream",
     "text": [
      "               Features   Weights\n1570  Garner, James (I)  1.628968\n0        Average Rating  1.442980\n1448      Connery, Sean  1.236309\n1568   Garcia, Andy (I)  1.183025\n1192      Basinger, Kim  1.025452\n609              vision  0.976274\n877      midlife-crisis  0.875480\n1717     Keitel, Harvey  0.861136\n1116           japanese  0.838780\n256        exploitation  0.797129\n                 Features   Weights\n898                dating -0.865185\n401           immigration -0.861430\n1478         Daheim, John -0.855460\n1233       Griffis, Rhoda -0.828670\n843           severed-leg -0.809408\n1288        Sorvino, Mira -0.773357\n1252     Kelly, Helen (I) -0.754300\n1167  interracial-romance -0.741710\n1744         Mayne, Ferdy -0.738989\n689           love-affair -0.738925\n"
     ]
    }
   ],
   "source": [
    "get_popular_key_dict(keywords.key)\n",
    "inv_map = {v: k for k, v in x.items()}\n",
    "key_names = [inv_map[k] for k in range(len(x))]\n",
    "genre_names = get_genre_dict().keys()\n",
    "actor_names = get_actor_names()\n",
    "features = np.hstack([['Average Rating', 'Number of Ratings'], genre_names, key_names, actor_names])\n",
    "\n",
    "positive_weight_indices = weights > 0\n",
    "negative_weight_indices = weights < 0\n",
    "\n",
    "positive_features = np.column_stack((features[positive_weight_indices], weights[positive_weight_indices].astype(float)))\n",
    "negative_features = np.column_stack((features[negative_weight_indices], weights[negative_weight_indices].astype(float)))\n",
    "\n",
    "positive_df = pd.DataFrame(positive_features, columns = [\"Features\", \"Weights\"])\n",
    "positive_df = positive_df.convert_objects(convert_numeric=True)\n",
    "positive_df = positive_df.sort(\"Weights\", ascending=0)\n",
    "\n",
    "negative_df = pd.DataFrame(negative_features, columns = [\"Features\", \"Weights\"])\n",
    "negative_df = negative_df.convert_objects(convert_numeric=True)\n",
    "\n",
    "negative_df = negative_df.sort(\"Weights\", ascending=1)\n",
    "\n",
    "print positive_df.head(10)\n",
    "print negative_df.head(10)"
   ]
  },
  {
   "cell_type": "markdown",
   "metadata": {},
   "source": [
    "## The Highest Predicted Rating"
   ]
  },
  {
   "cell_type": "code",
   "execution_count": 18,
   "metadata": {},
   "outputs": [
    {
     "name": "stdout",
     "output_type": "stream",
     "text": [
      "Movie Title:  THE ENTERTAINER (1960)\nActual User Rating:  5.0\nPredicted User Rating:  5.03370867769\n"
     ]
    }
   ],
   "source": [
    "j = indices[-1]\n",
    "titles = pd.read_csv(\"ml-latest/matched_set.csv\", sep = \",\")\n",
    "movie_id = movies[j]\n",
    "movie_index = np.where(movies == movie_id)\n",
    "movie_dm = dm[movie_index][0]\n",
    "feature_names = features\n",
    "\n",
    "positive_weights = movie_dm[movie_dm > 0]\n",
    "negative_weights = movie_dm[movie_dm < 0]\n",
    "\n",
    "positive_names = feature_names[movie_dm > 0]\n",
    "negative_names = feature_names[movie_dm < 0]\n",
    "\n",
    "positive_weights = np.column_stack((positive_names,positive_weights))\n",
    "positive_weights = positive_weights[np.argsort(positive_weights[:,1])][::-1]\n",
    "\n",
    "negative_weights = np.column_stack((negative_names,negative_weights))\n",
    "negative_weights = negative_weights[np.argsort(negative_weights[:,1])][::-1]\n",
    "\n",
    "positive_df = pd.DataFrame(positive_weights, columns = [\"Feature\", \"Weights\"])\n",
    "positive_df = positive_df.convert_objects(convert_numeric=True)\n",
    "\n",
    "negative_df = pd.DataFrame(negative_weights, columns = [\"Feature\", \"Weights\"])\n",
    "negative_df = negative_df.convert_objects(convert_numeric=True)\n",
    "\n",
    "pd.options.display.float_format = '{:,.4f}'.format\n",
    "\n",
    "print \"Movie Title: \", all_names[id_dict[movie_id]]\n",
    "print \"Actual User Rating: \", user_ratings[movie_id]\n",
    "print \"Predicted User Rating: \", y_pred[j]"
   ]
  },
  {
   "cell_type": "markdown",
   "metadata": {},
   "source": [
    "### Movie Rating Distribution"
   ]
  },
  {
   "cell_type": "code",
   "execution_count": 19,
   "metadata": {},
   "outputs": [
    {
     "name": "stdout",
     "output_type": "stream",
     "text": [
      "Number of Ratings: 141\n"
     ]
    },
    {
     "data": {
      "image/png": "[encoded data removed]"
     },
     "output_type": "display_data",
     "text": [
      "<matplotlib.figure.Figure at 0x1efa9d68>"
     ],
     "metadata": {}
    }
   ],
   "source": [
    "ratings = pd.read_csv(\"ml-latest/ratings.csv\", delimiter=',', quotechar='\"', names = ['userId', 'movieId', 'rating'])\n",
    "movie_ratings = ratings.loc[ratings['movieId'] == movie_id]\n",
    "x = movie_ratings\n",
    "his = np.histogram(x, bins = np.arange(0.5,6,0.5))\n",
    "fig, ax = plt.subplots()\n",
    "offset = 0.25\n",
    "plt.bar(his[1][1:],his[0],width=.5)\n",
    "ax.set_xticks(his[1][1:] + offset)\n",
    "ax.set_xticklabels(np.arange(0.5,6,0.5))\n",
    "print \"Number of Ratings:\", movie_ratings.shape[0]\n",
    "plt.title(\"Rating Frequency\")\n",
    "plt.xlabel(\"Rating\")\n",
    "plt.ylabel(\"Frequency\")\n",
    "plt.show()"
   ]
  },
  {
   "cell_type": "markdown",
   "metadata": {},
   "source": [
    "### Evidence"
   ]
  },
  {
   "cell_type": "code",
   "execution_count": 20,
   "metadata": {},
   "outputs": [
    {
     "name": "stdout",
     "output_type": "stream",
     "text": [
      "Prediction:  5.03370867769\nBias and evidences: 2.59323127438 -1.22451047021 3.66498787352\nPositive Features\n                        Feature  Weights\n0                Average Rating   1.2979\n1             Olivier, Laurence   0.6379\n2                 based-on-play   0.3810\n3                    alcoholism   0.3795\n4             behind-the-scenes   0.3795\n5              independent-film   0.1737\n6       father-son-relationship   0.1642\n7  father-daughter-relationship   0.1323\n8                         Drama   0.1008\n9                         anger   0.0177\nNegative Features\n                Feature  Weights\n0           grandfather  -0.2811\n1              adultery  -0.2586\n2        Finney, Albert  -0.2411\n3  family-relationships  -0.1677\n4  dysfunctional-family  -0.1371\n5          death-of-son  -0.0503\n6   extramarital-affair  -0.0465\n7             alcoholic  -0.0420\n"
     ]
    }
   ],
   "source": [
    "print \"Prediction: \",  y_pred[j]\n",
    "print \"Bias and evidences:\", bias, neg_evi[j], pos_evi[j]\n",
    "print \"Positive Features\"\n",
    "print positive_df.head(10)\n",
    "print \"Negative Features\"\n",
    "print negative_df.head(10)"
   ]
  },
  {
   "cell_type": "markdown",
   "metadata": {},
   "source": [
    "## The Lowest Rating"
   ]
  },
  {
   "cell_type": "code",
   "execution_count": 21,
   "metadata": {},
   "outputs": [
    {
     "name": "stdout",
     "output_type": "stream",
     "text": [
      "Movie Title:  ALIEN FROM L.A. (1988)\nActual User Rating:  0.5\nPredicted User Rating:  0.193455411624\n"
     ]
    }
   ],
   "source": [
    "j = indices[0]\n",
    "titles = pd.read_csv(\"ml-latest/matched_set.csv\", sep = \",\")\n",
    "movie_id = movies[j]\n",
    "movie_index = np.where(movies == movie_id)\n",
    "movie_dm = dm[movie_index][0]\n",
    "feature_names = features\n",
    "\n",
    "positive_weights = movie_dm[movie_dm > 0]\n",
    "negative_weights = movie_dm[movie_dm < 0]\n",
    "\n",
    "positive_names = feature_names[movie_dm > 0]\n",
    "negative_names = feature_names[movie_dm < 0]\n",
    "\n",
    "positive_weights = np.column_stack((positive_names,positive_weights))\n",
    "positive_weights = positive_weights[np.argsort(positive_weights[:,1])][::-1]\n",
    "\n",
    "negative_weights = np.column_stack((negative_names,negative_weights))\n",
    "negative_weights = negative_weights[np.argsort(negative_weights[:,1])][::-1]\n",
    "\n",
    "positive_df = pd.DataFrame(positive_weights, columns = [\"Feature\", \"Weights\"])\n",
    "positive_df = positive_df.convert_objects(convert_numeric=True)\n",
    "\n",
    "negative_df = pd.DataFrame(negative_weights, columns = [\"Feature\", \"Weights\"])\n",
    "negative_df = negative_df.convert_objects(convert_numeric=True)\n",
    "\n",
    "pd.options.display.float_format = '{:,.4f}'.format\n",
    "\n",
    "print \"Movie Title: \", all_names[id_dict[movie_id]]\n",
    "print \"Actual User Rating: \", user_ratings[movie_id]\n",
    "print \"Predicted User Rating: \", y_pred[j]"
   ]
  },
  {
   "cell_type": "markdown",
   "metadata": {},
   "source": [
    "### Movie Rating Distribution"
   ]
  },
  {
   "cell_type": "code",
   "execution_count": 22,
   "metadata": {},
   "outputs": [
    {
     "name": "stdout",
     "output_type": "stream",
     "text": [
      "Number of Ratings: 72\n"
     ]
    },
    {
     "data": {
      "image/png": "[encoded data removed]"
     },
     "output_type": "display_data",
     "text": [
      "<matplotlib.figure.Figure at 0x1efa9cf8>"
     ],
     "metadata": {}
    }
   ],
   "source": [
    "movie_ratings = ratings.loc[ratings['movieId'] == movie_id]\n",
    "x = movie_ratings\n",
    "his = np.histogram(x, bins = np.arange(0.5,6,0.5))\n",
    "fig, ax = plt.subplots()\n",
    "offset = 0.25\n",
    "plt.bar(his[1][1:],his[0],width=.5)\n",
    "ax.set_xticks(his[1][1:] + offset)\n",
    "ax.set_xticklabels(np.arange(0.5,6,0.5))\n",
    "print \"Number of Ratings:\", movie_ratings.shape[0]\n",
    "plt.title(\"Rating Frequency\")\n",
    "plt.xlabel(\"Rating\")\n",
    "plt.ylabel(\"Frequency\")\n",
    "plt.show()"
   ]
  },
  {
   "cell_type": "markdown",
   "metadata": {},
   "source": [
    "### Evidence"
   ]
  },
  {
   "cell_type": "code",
   "execution_count": 23,
   "metadata": {},
   "outputs": [
    {
     "name": "stdout",
     "output_type": "stream",
     "text": [
      "Prediction:  0.193455411624\nBias and evidences: 2.59323127438 -2.70623786088 0.306461998117\nPositive Features\n                        Feature  Weights\n0              independent-film   0.1737\n1  father-daughter-relationship   0.1323\n2             Number of Ratings   0.0005\nNegative Features\n              Feature  Weights\n0      Average Rating  -2.5901\n1  (no genres listed)  -0.1161\n"
     ]
    }
   ],
   "source": [
    "print \"Prediction: \",  y_pred[j]\n",
    "print \"Bias and evidences:\", bias, neg_evi[j], pos_evi[j]\n",
    "print \"Positive Features\"\n",
    "print positive_df.head(10)\n",
    "print \"Negative Features\"\n",
    "print negative_df.head(10)"
   ]
  },
  {
   "cell_type": "markdown",
   "metadata": {},
   "source": [
    "## The case that has the most negative evidence, regardless of positive evidence"
   ]
  },
  {
   "cell_type": "code",
   "execution_count": 24,
   "metadata": {},
   "outputs": [
    {
     "name": "stdout",
     "output_type": "stream",
     "text": [
      "Movie Title:  THE DEPARTED (2006)\nActual User Rating:  5.0\nPredicted User Rating:  4.99937806679\n"
     ]
    }
   ],
   "source": [
    "j = np.argsort(neg_evi)[0]\n",
    "titles = pd.read_csv(\"ml-latest/matched_set.csv\", sep = \",\")\n",
    "movie_id = movies[j]\n",
    "movie_index = np.where(movies == movie_id)\n",
    "movie_dm = dm[movie_index][0]\n",
    "feature_names = features\n",
    "\n",
    "positive_weights = movie_dm[movie_dm > 0]\n",
    "negative_weights = movie_dm[movie_dm < 0]\n",
    "\n",
    "positive_names = feature_names[movie_dm > 0]\n",
    "negative_names = feature_names[movie_dm < 0]\n",
    "\n",
    "positive_weights = np.column_stack((positive_names,positive_weights))\n",
    "positive_weights = positive_weights[np.argsort(positive_weights[:,1])][::-1]\n",
    "\n",
    "negative_weights = np.column_stack((negative_names,negative_weights))\n",
    "negative_weights = negative_weights[np.argsort(negative_weights[:,1])][::-1]\n",
    "\n",
    "positive_df = pd.DataFrame(positive_weights, columns = [\"Feature\", \"Weights\"])\n",
    "positive_df = positive_df.convert_objects(convert_numeric=True)\n",
    "\n",
    "negative_df = pd.DataFrame(negative_weights, columns = [\"Feature\", \"Weights\"])\n",
    "negative_df = negative_df.convert_objects(convert_numeric=True)\n",
    "\n",
    "pd.options.display.float_format = '{:,.4f}'.format\n",
    "\n",
    "print \"Movie Title: \", all_names[id_dict[movie_id]]\n",
    "print \"Actual User Rating: \", user_ratings[movie_id]\n",
    "print \"Predicted User Rating: \", y_pred[j]"
   ]
  },
  {
   "cell_type": "markdown",
   "metadata": {},
   "source": [
    "### Movie Rating Distribution"
   ]
  },
  {
   "cell_type": "code",
   "execution_count": 25,
   "metadata": {},
   "outputs": [
    {
     "name": "stdout",
     "output_type": "stream",
     "text": [
      "Number of Ratings: 18133\n"
     ]
    },
    {
     "data": {
      "image/png": "[encoded data removed]"
     },
     "output_type": "display_data",
     "text": [
      "<matplotlib.figure.Figure at 0x246de208>"
     ],
     "metadata": {}
    }
   ],
   "source": [
    "movie_ratings = ratings.loc[ratings['movieId'] == movie_id]\n",
    "x = movie_ratings\n",
    "his = np.histogram(x, bins = np.arange(0.5,6,0.5))\n",
    "fig, ax = plt.subplots()\n",
    "offset = 0.25\n",
    "plt.bar(his[1][1:],his[0],width=.5)\n",
    "ax.set_xticks(his[1][1:] + offset)\n",
    "ax.set_xticklabels(np.arange(0.5,6,0.5))\n",
    "print \"Number of Ratings:\", movie_ratings.shape[0]\n",
    "plt.title(\"Rating Frequency\")\n",
    "plt.xlabel(\"Rating\")\n",
    "plt.ylabel(\"Frequency\")\n",
    "plt.show()"
   ]
  },
  {
   "cell_type": "markdown",
   "metadata": {},
   "source": [
    "### Evidence"
   ]
  },
  {
   "cell_type": "code",
   "execution_count": 26,
   "metadata": {},
   "outputs": [
    {
     "name": "stdout",
     "output_type": "stream",
     "text": [
      "Prediction:  4.99937806679\nBias and evidences: 2.59323127438 -23.5257741292 25.9319209216\nPositive Features\n               Feature  Weights\n0       Average Rating   2.0564\n1                 golf   0.5745\n2  main-character-shot   0.4948\n3  Nicholson, Jack (I)   0.4751\n4                chase   0.4338\n5               racism   0.4303\n6            earphones   0.4228\n7      shot-in-the-leg   0.3981\n8          photography   0.3945\n9            detective   0.3698\nNegative Features\n            Feature  Weights\n0         mind-game  -0.5618\n1             drugs  -0.4861\n2        microphone  -0.4534\n3          gay-slur  -0.4415\n4  african-american  -0.4324\n5             wound  -0.4306\n6            eating  -0.4186\n7       destruction  -0.4133\n8       crime-scene  -0.3955\n9         golf-club  -0.3689\n"
     ]
    }
   ],
   "source": [
    "print \"Prediction: \",  y_pred[j]\n",
    "print \"Bias and evidences:\", bias, neg_evi[j], pos_evi[j]\n",
    "print \"Positive Features\"\n",
    "print positive_df.head(10)\n",
    "print \"Negative Features\"\n",
    "print negative_df.head(10)"
   ]
  },
  {
   "cell_type": "markdown",
   "metadata": {},
   "source": [
    "## The case that has the most positive evidence, regardless of negative evidence"
   ]
  },
  {
   "cell_type": "code",
   "execution_count": 28,
   "metadata": {},
   "outputs": [
    {
     "name": "stdout",
     "output_type": "stream",
     "text": [
      "Movie Title:  THE DEPARTED (2006)\nActual User Rating:  5.0\nPredicted User Rating:  4.99937806679\n"
     ]
    }
   ],
   "source": [
    "j = np.argsort(pos_evi)[-1]\n",
    "titles = pd.read_csv(\"ml-latest/matched_set.csv\", sep = \",\")\n",
    "movie_id = movies[j]\n",
    "movie_index = np.where(movies == movie_id)\n",
    "movie_dm = dm[movie_index][0]\n",
    "feature_names = features\n",
    "\n",
    "positive_weights = movie_dm[movie_dm > 0]\n",
    "negative_weights = movie_dm[movie_dm < 0]\n",
    "\n",
    "positive_names = feature_names[movie_dm > 0]\n",
    "negative_names = feature_names[movie_dm < 0]\n",
    "\n",
    "positive_weights = np.column_stack((positive_names,positive_weights))\n",
    "positive_weights = positive_weights[np.argsort(positive_weights[:,1])][::-1]\n",
    "\n",
    "negative_weights = np.column_stack((negative_names,negative_weights))\n",
    "negative_weights = negative_weights[np.argsort(negative_weights[:,1])][::-1]\n",
    "\n",
    "positive_df = pd.DataFrame(positive_weights, columns = [\"Feature\", \"Weights\"])\n",
    "positive_df = positive_df.convert_objects(convert_numeric=True)\n",
    "\n",
    "negative_df = pd.DataFrame(negative_weights, columns = [\"Feature\", \"Weights\"])\n",
    "negative_df = negative_df.convert_objects(convert_numeric=True)\n",
    "\n",
    "pd.options.display.float_format = '{:,.4f}'.format\n",
    "\n",
    "print \"Movie Title: \", all_names[id_dict[movie_id]]\n",
    "print \"Actual User Rating: \", user_ratings[movie_id]\n",
    "print \"Predicted User Rating: \", y_pred[j]"
   ]
  },
  {
   "cell_type": "markdown",
   "metadata": {},
   "source": [
    "### Movie Rating Distribution"
   ]
  },
  {
   "cell_type": "code",
   "execution_count": 29,
   "metadata": {},
   "outputs": [
    {
     "name": "stdout",
     "output_type": "stream",
     "text": [
      "Number of Ratings: 18133\n"
     ]
    },
    {
     "data": {
      "image/png": "[encoded data removed]"
     },
     "output_type": "display_data",
     "text": [
      "<matplotlib.figure.Figure at 0x17e02e48>"
     ],
     "metadata": {}
    }
   ],
   "source": [
    "movie_ratings = ratings.loc[ratings['movieId'] == movie_id]\n",
    "x = movie_ratings\n",
    "his = np.histogram(x, bins = np.arange(0.5,6,0.5))\n",
    "fig, ax = plt.subplots()\n",
    "offset = 0.25\n",
    "plt.bar(his[1][1:],his[0],width=.5)\n",
    "ax.set_xticks(his[1][1:] + offset)\n",
    "ax.set_xticklabels(np.arange(0.5,6,0.5))\n",
    "print \"Number of Ratings:\", movie_ratings.shape[0]\n",
    "plt.title(\"Rating Frequency\")\n",
    "plt.xlabel(\"Rating\")\n",
    "plt.ylabel(\"Frequency\")\n",
    "plt.show()"
   ]
  },
  {
   "cell_type": "markdown",
   "metadata": {},
   "source": [
    "### Evidence"
   ]
  },
  {
   "cell_type": "code",
   "execution_count": 30,
   "metadata": {},
   "outputs": [
    {
     "name": "stdout",
     "output_type": "stream",
     "text": [
      "Prediction:  4.99937806679\nBias and evidences: 2.59323127438 -23.5257741292 25.9319209216\nPositive Features\n               Feature  Weights\n0       Average Rating   2.0564\n1                 golf   0.5745\n2  main-character-shot   0.4948\n3  Nicholson, Jack (I)   0.4751\n4                chase   0.4338\n5               racism   0.4303\n6            earphones   0.4228\n7      shot-in-the-leg   0.3981\n8          photography   0.3945\n9            detective   0.3698\nNegative Features\n            Feature  Weights\n0         mind-game  -0.5618\n1             drugs  -0.4861\n2        microphone  -0.4534\n3          gay-slur  -0.4415\n4  african-american  -0.4324\n5             wound  -0.4306\n6            eating  -0.4186\n7       destruction  -0.4133\n8       crime-scene  -0.3955\n9         golf-club  -0.3689\n"
     ]
    }
   ],
   "source": [
    "print \"Prediction: \",  y_pred[j]\n",
    "print \"Bias and evidences:\", bias, neg_evi[j], pos_evi[j]\n",
    "print \"Positive Features\"\n",
    "print positive_df.head(10)\n",
    "print \"Negative Features\"\n",
    "print negative_df.head(10)"
   ]
  },
  {
   "cell_type": "markdown",
   "metadata": {},
   "source": [
    "# Most conflicted"
   ]
  },
  {
   "cell_type": "code",
   "execution_count": 38,
   "metadata": {},
   "outputs": [
    {
     "name": "stdout",
     "output_type": "stream",
     "text": [
      "Movie Title:  THE DEPARTED (2006)\nActual User Rating:  5.0\nPredicted User Rating:  4.99937806679\n"
     ]
    }
   ],
   "source": [
    "conflict = np.min([abs(neg_evi), pos_evi], axis=0)\n",
    "indices = np.argsort(conflict)\n",
    "j=indices[-1]\n",
    "titles = pd.read_csv(\"ml-latest/matched_set.csv\", sep = \",\")\n",
    "movie_id = movies[j]\n",
    "movie_index = np.where(movies == movie_id)\n",
    "movie_dm = dm[movie_index][0]\n",
    "feature_names = features\n",
    "\n",
    "positive_weights = movie_dm[movie_dm > 0]\n",
    "negative_weights = movie_dm[movie_dm < 0]\n",
    "\n",
    "positive_names = feature_names[movie_dm > 0]\n",
    "negative_names = feature_names[movie_dm < 0]\n",
    "\n",
    "positive_weights = np.column_stack((positive_names,positive_weights))\n",
    "positive_weights = positive_weights[np.argsort(positive_weights[:,1])][::-1]\n",
    "\n",
    "negative_weights = np.column_stack((negative_names,negative_weights))\n",
    "negative_weights = negative_weights[np.argsort(negative_weights[:,1])][::-1]\n",
    "\n",
    "positive_df = pd.DataFrame(positive_weights, columns = [\"Feature\", \"Weights\"])\n",
    "positive_df = positive_df.convert_objects(convert_numeric=True)\n",
    "\n",
    "negative_df = pd.DataFrame(negative_weights, columns = [\"Feature\", \"Weights\"])\n",
    "negative_df = negative_df.convert_objects(convert_numeric=True)\n",
    "\n",
    "pd.options.display.float_format = '{:,.4f}'.format\n",
    "\n",
    "print \"Movie Title: \", all_names[id_dict[movie_id]]\n",
    "print \"Actual User Rating: \", user_ratings[movie_id]\n",
    "print \"Predicted User Rating: \", y_pred[j]"
   ]
  },
  {
   "cell_type": "markdown",
   "metadata": {},
   "source": [
    "### Movie Rating Distribution"
   ]
  },
  {
   "cell_type": "code",
   "execution_count": 39,
   "metadata": {},
   "outputs": [
    {
     "name": "stdout",
     "output_type": "stream",
     "text": [
      "Number of Ratings: 18133\n"
     ]
    },
    {
     "data": {
      "image/png": "[encoded data removed]"
     },
     "output_type": "display_data",
     "text": [
      "<matplotlib.figure.Figure at 0x3de08f60>"
     ],
     "metadata": {}
    }
   ],
   "source": [
    "movie_ratings = ratings.loc[ratings['movieId'] == movie_id]\n",
    "x = movie_ratings\n",
    "his = np.histogram(x, bins = np.arange(0.5,6,0.5))\n",
    "fig, ax = plt.subplots()\n",
    "offset = 0.25\n",
    "plt.bar(his[1][1:],his[0],width=.5)\n",
    "ax.set_xticks(his[1][1:] + offset)\n",
    "ax.set_xticklabels(np.arange(0.5,6,0.5))\n",
    "print \"Number of Ratings:\", movie_ratings.shape[0]\n",
    "plt.title(\"Rating Frequency\")\n",
    "plt.xlabel(\"Rating\")\n",
    "plt.ylabel(\"Frequency\")\n",
    "plt.show()"
   ]
  },
  {
   "cell_type": "markdown",
   "metadata": {},
   "source": [
    "### Evidence"
   ]
  },
  {
   "cell_type": "code",
   "execution_count": 34,
   "metadata": {},
   "outputs": [
    {
     "name": "stdout",
     "output_type": "stream",
     "text": [
      "Prediction:  4.99937806679\nBias and evidences: 2.59323127438 -23.5257741292 25.9319209216\nPositive Features\n               Feature  Weights\n0       Average Rating   2.0564\n1                 golf   0.5745\n2  main-character-shot   0.4948\n3  Nicholson, Jack (I)   0.4751\n4                chase   0.4338\n5               racism   0.4303\n6            earphones   0.4228\n7      shot-in-the-leg   0.3981\n8          photography   0.3945\n9            detective   0.3698\nNegative Features\n            Feature  Weights\n0         mind-game  -0.5618\n1             drugs  -0.4861\n2        microphone  -0.4534\n3          gay-slur  -0.4415\n4  african-american  -0.4324\n5             wound  -0.4306\n6            eating  -0.4186\n7       destruction  -0.4133\n8       crime-scene  -0.3955\n9         golf-club  -0.3689\n"
     ]
    }
   ],
   "source": [
    "print \"Prediction: \",  y_pred[j]\n",
    "print \"Bias and evidences:\", bias, neg_evi[j], pos_evi[j]\n",
    "print \"Positive Features\"\n",
    "print positive_df.head(10)\n",
    "print \"Negative Features\"\n",
    "print negative_df.head(10)"
   ]
  },
  {
   "cell_type": "markdown",
   "metadata": {},
   "source": [
    "# Least amount of info"
   ]
  },
  {
   "cell_type": "code",
   "execution_count": 40,
   "metadata": {},
   "outputs": [
    {
     "name": "stdout",
     "output_type": "stream",
     "text": [
      "Movie Title:  FIVE DAYS ONE SUMMER (1982)\nActual User Rating:  3.5\nPredicted User Rating:  3.44271599902\n"
     ]
    }
   ],
   "source": [
    "information = np.max([abs(neg_evi), pos_evi], axis=0)\n",
    "indices = np.argsort(information)\n",
    "j=indices[0]\n",
    "titles = pd.read_csv(\"ml-latest/matched_set.csv\", sep = \",\")\n",
    "movie_id = movies[j]\n",
    "movie_index = np.where(movies == movie_id)\n",
    "movie_dm = dm[movie_index][0]\n",
    "feature_names = features\n",
    "\n",
    "positive_weights = movie_dm[movie_dm > 0]\n",
    "negative_weights = movie_dm[movie_dm < 0]\n",
    "\n",
    "positive_names = feature_names[movie_dm > 0]\n",
    "negative_names = feature_names[movie_dm < 0]\n",
    "\n",
    "positive_weights = np.column_stack((positive_names,positive_weights))\n",
    "positive_weights = positive_weights[np.argsort(positive_weights[:,1])][::-1]\n",
    "\n",
    "negative_weights = np.column_stack((negative_names,negative_weights))\n",
    "negative_weights = negative_weights[np.argsort(negative_weights[:,1])][::-1]\n",
    "\n",
    "positive_df = pd.DataFrame(positive_weights, columns = [\"Feature\", \"Weights\"])\n",
    "positive_df = positive_df.convert_objects(convert_numeric=True)\n",
    "\n",
    "negative_df = pd.DataFrame(negative_weights, columns = [\"Feature\", \"Weights\"])\n",
    "negative_df = negative_df.convert_objects(convert_numeric=True)\n",
    "\n",
    "pd.options.display.float_format = '{:,.4f}'.format\n",
    "\n",
    "print \"Movie Title: \", all_names[id_dict[movie_id]]\n",
    "print \"Actual User Rating: \", user_ratings[movie_id]\n",
    "print \"Predicted User Rating: \", y_pred[j]"
   ]
  },
  {
   "cell_type": "markdown",
   "metadata": {},
   "source": [
    "### Movie Rating Distribution"
   ]
  },
  {
   "cell_type": "code",
   "execution_count": 41,
   "metadata": {},
   "outputs": [
    {
     "name": "stdout",
     "output_type": "stream",
     "text": [
      "Number of Ratings: 6\n"
     ]
    },
    {
     "data": {
      "image/png": "[encoded data removed]"
     },
     "output_type": "display_data",
     "text": [
      "<matplotlib.figure.Figure at 0x3de08cc0>"
     ],
     "metadata": {}
    }
   ],
   "source": [
    "movie_ratings = ratings.loc[ratings['movieId'] == movie_id]\n",
    "x = movie_ratings\n",
    "his = np.histogram(x, bins = np.arange(0.5,6,0.5))\n",
    "fig, ax = plt.subplots()\n",
    "offset = 0.25\n",
    "plt.bar(his[1][1:],his[0],width=.5)\n",
    "ax.set_xticks(his[1][1:] + offset)\n",
    "ax.set_xticklabels(np.arange(0.5,6,0.5))\n",
    "print \"Number of Ratings:\", movie_ratings.shape[0]\n",
    "plt.title(\"Rating Frequency\")\n",
    "plt.xlabel(\"Rating\")\n",
    "plt.ylabel(\"Frequency\")\n",
    "plt.show()"
   ]
  },
  {
   "cell_type": "markdown",
   "metadata": {},
   "source": [
    "### Evidence"
   ]
  },
  {
   "cell_type": "code",
   "execution_count": 42,
   "metadata": {},
   "outputs": [
    {
     "name": "stdout",
     "output_type": "stream",
     "text": [
      "Prediction:  3.44271599902\nBias and evidences: 2.59323127438 -0.71004580892 1.55953053356\nPositive Features\n             Feature  Weights\n0      Connery, Sean   1.2363\n1   independent-film   0.1737\n2              Drama   0.1008\n3              1930s   0.0482\n4  Number of Ratings   0.0005\nNegative Features\n          Feature  Weights\n0  Average Rating  -0.7100\n"
     ]
    }
   ],
   "source": [
    "print \"Prediction: \",  y_pred[j]\n",
    "print \"Bias and evidences:\", bias, neg_evi[j], pos_evi[j]\n",
    "print \"Positive Features\"\n",
    "print positive_df.head(10)\n",
    "print \"Negative Features\"\n",
    "print negative_df.head(10)"
   ]
  },
  {
   "cell_type": "markdown",
   "metadata": {},
   "source": [
    "## Defining movie matrix for unrated films"
   ]
  },
  {
   "cell_type": "code",
   "execution_count": null,
   "metadata": {},
   "outputs": [],
   "source": [
    "user_cols = user_matrix.shape[1]\n",
    "data = user_matrix[:, 1:(user_cols-1)]\n",
    "target = user_matrix[:, (user_cols-1)]\n",
    "user_rated = user_matrix[:, 0]-1\n",
    "movie_file = open(\"postprocessed-data/movie_matrix\", \"r\")\n",
    "movie_matrix = pickle.load(movie_file)[:, 1:]\n",
    "movie_file.close()"
   ]
  },
  {
   "cell_type": "markdown",
   "metadata": {},
   "source": [
    "## Predicting unrated films using Lasso and 5 fold cross validation"
   ]
  },
  {
   "cell_type": "code",
   "execution_count": null,
   "metadata": {},
   "outputs": [],
   "source": [
    "clf =TransparentLasso(min_lasso_alpha)\n",
    "clf.fit(data,target)\n",
    "all_pred = clf.predict(movie_matrix)\n",
    "unrated_pred = np.delete(all_pred, user_rated, 0)\n",
    "indices = np.argsort(unrated_pred)[::-1]\n",
    "unrated_movies = np.delete(movies, user_rated, 0)\n",
    "sorted_movies = unrated_movies[indices]\n",
    "movie_df = pd.DataFrame(np.column_stack((sorted_movies,unrated_pred[indices])), columns = ['Movie', 'Prediction'])\n",
    "print \"Top predicted movies\"\n",
    "print movie_df.head(10)\n",
    "print \"Lowest predicted movies\"\n",
    "print movie_df.tail(10)"
   ]
  }
 ],
 "metadata": {
  "kernelspec": {
   "display_name": "Python 2",
   "language": "python",
   "name": "python2"
  },
  "language_info": {
   "codemirror_mode": {
    "name": "ipython",
    "version": 2.0
   },
   "file_extension": ".py",
   "mimetype": "text/x-python",
   "name": "python",
   "nbconvert_exporter": "python",
   "pygments_lexer": "ipython2",
   "version": "2.7.9"
  }
 },
 "nbformat": 4,
 "nbformat_minor": 0
}