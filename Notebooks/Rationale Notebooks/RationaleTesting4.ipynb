{
 "worksheets": [
  {
   "cells": [
    {
     "cell_type": "code",
     "execution_count": null,
     "metadata": {},
     "outputs": [
      {
       "output_type": "stream",
       "stream": "stdout",
       "text": [
        "[[ 1  2  3  4  5]\n [ 6  7  8  9 10]]\n[ 0.06  0.07  0.08  0.09  0.1 ]\n[ 0.06  7.    0.08  0.09  0.1 ]\n[[1 2 3 4 5]\n [0 7 0 0 0]]\n"
       ]
      }
     ],
     "input": [
      "import numpy as np\n",
      "from pandas import DataFrame as df\n",
      "from Classifiers import TransparentLinearRegression\n",
      "from scipy.sparse import diags\n",
      "import PredictiveModels as pm\n",
      "import pandas as pd\n",
      "from LatestPreprocessing import *\n",
      "from RationaleSelect import *\n",
      "from sklearn import cross_validation, linear_model\n",
      "from sklearn.metrics import mean_absolute_error\n",
      "from sklearn.cross_validation import train_test_split"
     ],
     "language": "python",
     "prompt_number": 1
    },
    {
     "cell_type": "code",
     "execution_count": null,
     "metadata": {},
     "outputs": [],
     "input": [
      "userid = 170099\n",
      "user_ratings = get_matched_user_ratings(userid)\n",
      "movies = user_ratings.keys()\n",
      "ratings = user_ratings.values()"
     ],
     "language": "python",
     "prompt_number": 2
    },
    {
     "cell_type": "code",
     "execution_count": null,
     "metadata": {},
     "outputs": [],
     "input": [
      "id_dict = get_id_row_dict()\n",
      "idxs = [id_dict[k] for k in movies]\n",
      "avg_and_num = sort_avg()"
     ],
     "language": "python",
     "prompt_number": 3
    },
    {
     "cell_type": "code",
     "execution_count": null,
     "metadata": {},
     "outputs": [],
     "input": [
      "genre_matrix = get_genre_matrix()[idxs]\n",
      "user_key_matrix  = get_key_matrix()[idxs]\n",
      "actor_matrix = get_actor_matrix()[idxs]"
     ],
     "language": "python",
     "prompt_number": 4
    },
    {
     "cell_type": "code",
     "execution_count": null,
     "metadata": {},
     "outputs": [
      {
       "output_type": "stream",
       "stream": "stdout",
       "text": [
        "(2102L, 4225L)\n"
       ]
      }
     ],
     "input": [
      "rationale_data = np.column_stack((genre_matrix, user_key_matrix, actor_matrix))\n",
      "print rationale_data.shape\n",
      "rationale_weights = get_rationale_weight(rationale_data, ratings)"
     ],
     "language": "python",
     "prompt_number": 5
    },
    {
     "cell_type": "code",
     "execution_count": null,
     "metadata": {},
     "outputs": [
      {
       "output_type": "stream",
       "stream": "stdout",
       "text": [
        "['bazooka' 'McGinley, John C.' 'Weaver, Sigourney' 'Mystery' 'Fantasy'\n 'exploitation']\n"
       ]
      }
     ],
     "input": [
      "keywords = pd.read_csv(\"ml-latest/matched_movies\", delimiter='\\t', usecols = [0,3], names = ['id', 'key'] )\n",
      "x = get_popular_key_dict(keywords.key)\n",
      "get_popular_key_dict(keywords.key)\n",
      "inv_map = {v: k for k, v in x.items()}\n",
      "key_names = [inv_map[k] for k in range(len(x))]\n",
      "genre_names = get_genre_dict().keys()\n",
      "actor_names = get_actor_names()\n",
      "names = np.hstack([genre_names, key_names, actor_names])\n",
      "top = rationale_weights[0].argsort()[::-1]\n",
      "top = np.hstack((top[:3], top[-3:]))\n",
      "print names[top]"
     ],
     "language": "python",
     "prompt_number": 6
    },
    {
     "cell_type": "code",
     "execution_count": null,
     "metadata": {},
     "outputs": [
      {
       "output_type": "stream",
       "stream": "stdout",
       "text": [
        "(2102L, 4227L)\n"
       ]
      }
     ],
     "input": [
      "pp.scale(avg_and_num[:,0], with_mean=True, with_std=True, copy=False)\n",
      "pp.scale(avg_and_num[:,1], with_mean=True, with_std=True, copy=False)\n",
      "data = np.column_stack((avg_and_num[idxs], genre_matrix, user_key_matrix, actor_matrix))\n",
      "target = ratings\n",
      "print data.shape"
     ],
     "language": "python",
     "prompt_number": 7
    },
    {
     "cell_type": "code",
     "execution_count": null,
     "metadata": {},
     "outputs": [],
     "input": [
      "def calc_precision(y_test, test_pred):\n",
      "    error = np.absolute(y_test-test_pred)\n",
      "    return float(len(np.where(error < 1)[0]))/len(y_test)"
     ],
     "language": "python",
     "prompt_number": 8
    },
    {
     "cell_type": "markdown",
     "metadata": {},
     "source": [
      "Ridge Regression with no ratioanles"
     ]
    },
    {
     "cell_type": "code",
     "execution_count": null,
     "metadata": {},
     "outputs": [
      {
       "output_type": "stream",
       "stream": "stdout",
       "text": [
        "Ten Lowest Errors\n  Movie ID User Rating Model Prediction       Model Error\n0   1595.0         0.5   0.498405018683  0.00159498131677\n1   2318.0         4.5    4.50177619345  0.00177619345332\n2   4007.0         4.5    4.50365481087  0.00365481086933\n3  53972.0         3.0    2.99503468761  0.00496531238545\n4   3727.0         3.5    3.49462865118  0.00537134881727\n5   6957.0         4.0    3.99413781792  0.00586218207802\n6   5809.0         2.5    2.49373662163  0.00626337836863\n7   1784.0         4.0    3.99243853141  0.00756146858818\n8   5059.0         4.5    4.50808691302  0.00808691301864\n9   5378.0         1.5    1.49136800343  0.00863199657352\n\nTen Highest Errors\n      Movie ID    User Rating Model Prediction     Model Error\n2093    2596.0            1.0    3.81933141734   2.81933141734\n2094   65130.0            1.0    3.82788224163   2.82788224163\n2095    2114.0            2.0    4.84572995004   2.84572995004\n2096    1951.0            1.5    4.38997257439   2.88997257439\n2097    2941.0            0.5    3.39434357258   2.89434357258\n2098    5472.0            0.5    3.39668810191   2.89668810191\n2099    1974.0            1.0    4.46353579369   3.46353579369\n2100    7347.0            0.5     3.9922988227    3.4922988227\n2101    6785.0            0.5    4.22335439053   3.72335439053\n2102  Average:  3.21431969553    3.21052547962  0.796591388407\nPrecision: 0.697906755471\n0.796604648507\n"
       ]
      }
     ],
     "input": [
      "results = pm.get_ridge_cv_results(np.column_stack((data,target)), 45, 10)\n",
      "\n",
      "y_pred = results[2]\n",
      "ratings = user_ratings.values()\n",
      "error_from_pred = np.abs(ratings-y_pred)\n",
      "\n",
      "col_names = [\"Movie ID\" ,\"User Rating\",\"Model Prediction\",\"Model Error\"]\n",
      "\n",
      "col_avg = [\"Average:\", np.average(ratings),np.average(y_pred),np.average(error_from_pred)]\n",
      "user_result = np.column_stack((user_ratings.keys(), ratings, y_pred, error_from_pred))\n",
      "user_result = user_result[np.argsort(user_result[:, 3])]\n",
      "user_result = np.vstack((user_result,col_avg))\n",
      "\n",
      "results_df = pd.DataFrame(user_result, columns = col_names)\n",
      "print \"Ten Lowest Errors\"\n",
      "print results_df.head(10)\n",
      "print \"\\nTen Highest Errors\"\n",
      "print results_df.tail(10)\n",
      "print \"Precision:\", calc_precision(ratings, y_pred)\n",
      "print results[0]"
     ],
     "language": "python",
     "prompt_number": 26
    },
    {
     "cell_type": "markdown",
     "metadata": {},
     "source": [
      "Lasso Regression with no rationales"
     ]
    },
    {
     "cell_type": "code",
     "execution_count": null,
     "metadata": {},
     "outputs": [
      {
       "output_type": "stream",
       "stream": "stdout",
       "text": [
        "Ten Lowest Errors\n  Movie ID User Rating Model Prediction        Model Error\n0   5679.0         3.5    3.50021761463  0.000217614633891\n1   1855.0         1.0    0.99932724891  0.000672751090202\n2  46572.0         3.0    3.00075299031  0.000752990314912\n3    574.0         3.0    2.99846269699   0.00153730301004\n4  26344.0         3.0    2.99841785563   0.00158214437198\n5   1041.0         4.5    4.50190005862   0.00190005861552\n6   2997.0         4.5    4.50280515614   0.00280515613759\n7   2797.0         3.5    3.50446735361   0.00446735361141\n8   6287.0         2.5    2.49550444581   0.00449555419479\n9   1078.0         4.0      3.995098684   0.00490131599609\n\nTen Highest Errors\n      Movie ID    User Rating Model Prediction     Model Error\n2093   70366.0            3.5   0.567585905032   2.93241409497\n2094    2596.0            1.0    3.93312700284   2.93312700284\n2095    5472.0            0.5    3.45449751098   2.95449751098\n2096   40826.0            0.5    3.46975077341   2.96975077341\n2097    2941.0            0.5    3.49578564549   2.99578564549\n2098    3844.0            0.5    3.61113492023   3.11113492023\n2099    2336.0            0.5     3.7304170213    3.2304170213\n2100    2953.0            5.0    1.55443508903   3.44556491097\n2101    6187.0            0.5    4.23476676848   3.73476676848\n2102  Average:  3.21431969553    3.21236956306  0.754956174725\nPrecision: 0.723120837298\n"
       ]
      }
     ],
     "input": [
      "results = pm.get_lasso_cv_results(np.column_stack((data,target)), .01, 10)\n",
      "\n",
      "y_pred = results[2]\n",
      "ratings = user_ratings.values()\n",
      "error_from_pred = np.abs(ratings-y_pred)\n",
      "\n",
      "col_names = [\"Movie ID\" ,\"User Rating\",\"Model Prediction\",\"Model Error\"]\n",
      "\n",
      "col_avg = [\"Average:\", np.average(ratings),np.average(y_pred),np.average(error_from_pred)]\n",
      "user_result = np.column_stack((user_ratings.keys(), ratings, y_pred, error_from_pred))\n",
      "user_result = user_result[np.argsort(user_result[:, 3])]\n",
      "user_result = np.vstack((user_result,col_avg))\n",
      "\n",
      "results_df = pd.DataFrame(user_result, columns = col_names)\n",
      "print \"Ten Lowest Errors\"\n",
      "print results_df.head(10)\n",
      "print \"\\nTen Highest Errors\"\n",
      "print results_df.tail(10)\n",
      "print \"Precision:\", calc_precision(ratings, y_pred)"
     ],
     "language": "python",
     "prompt_number": 10
    },
    {
     "cell_type": "code",
     "execution_count": null,
     "metadata": {},
     "outputs": [],
     "input": [
      "def get_rationale_train(data):\n",
      "    for x in range(data.shape[0]):\n",
      "        movie = data[x]\n",
      "        movie = np.multiply(movie, .1)\n",
      "        rationales = np.hstack(get_rationales(rationale_weights, movie))\n",
      "        for rationale in np.add(rationales, 2):\n",
      "            movie[rationale] *= 10\n",
      "        movie[0] *= 10\n",
      "        movie[1] *= 10\n",
      "        data[x] = movie  \n",
      "    return data"
     ],
     "language": "python",
     "prompt_number": 11
    },
    {
     "cell_type": "code",
     "execution_count": null,
     "metadata": {},
     "outputs": [],
     "input": [
      "def get_ridge_cv_results_rationales(user_matrix, alpha, folds):\n",
      "    user_cols = user_matrix.shape[1]\n",
      "    data = user_matrix[:, :(user_cols-1)]\n",
      "    target = user_matrix[:, (user_cols-1)]\n",
      "\n",
      "    ridge = linear_model.Ridge()\n",
      "    ridge.alpha = alpha\n",
      "    \n",
      "    kf = cross_validation.KFold(user_matrix.shape[0], n_folds=folds, shuffle = True, random_state = 16834)\n",
      "    all_pred = np.zeros(shape=(0))\n",
      "    all_indices = np.zeros(shape=(0))\n",
      "    mae_list = list()\n",
      "    for train_index, test_index in kf:\n",
      "        X_train, X_test =data[train_index], data[test_index]\n",
      "        y_train, y_test = target[train_index], target[test_index]\n",
      "        \n",
      "        rationale_train = get_rationale_train(X_train)\n",
      "        \n",
      "        ridge.fit(rationale_train, y_train)\n",
      "        y_pred = ridge.predict(X_test)\n",
      "\n",
      "        mae = mean_absolute_error(y_test, y_pred)\n",
      "\n",
      "        all_pred = np.concatenate((all_pred,y_pred))\n",
      "        all_indices = np.concatenate((all_indices, test_index))\n",
      "\n",
      "        mae_list.append(mae)\n",
      "\n",
      "    y_pred = np.column_stack((all_indices,all_pred))\n",
      "    y_pred = y_pred[np.argsort(y_pred[:,0])][:,1]\n",
      "\n",
      "    mae = np.average(mae_list)\n",
      "    weights = ridge.coef_\n",
      "\n",
      "    return [mae, weights, y_pred]"
     ],
     "language": "python",
     "prompt_number": 12
    },
    {
     "cell_type": "markdown",
     "metadata": {},
     "source": [
      "Ridge Regression with Rationales"
     ]
    },
    {
     "cell_type": "code",
     "execution_count": null,
     "metadata": {},
     "outputs": [
      {
       "output_type": "stream",
       "stream": "stdout",
       "text": [
        "Ten Lowest Errors\n  Movie ID User Rating Model Prediction        Model Error\n0   6591.0         4.0    3.99991127927  8.87207330269e-05\n1  34153.0         3.5    3.49857365373   0.00142634627215\n2   1250.0         5.0    4.99819614654   0.00180385345943\n3  51077.0         1.5     1.5020103127   0.00201031269584\n4   1552.0         2.5    2.49787388855   0.00212611144734\n5   3301.0         3.0    2.99776700993     0.002232990069\n6    457.0         5.0    5.00252396122   0.00252396122008\n7   1258.0         5.0    4.99571964667   0.00428035332797\n8   5379.0         4.0    3.99523871389   0.00476128611347\n9  44788.0         4.0    4.00508982045   0.00508982045109\n\nTen Highest Errors\n      Movie ID    User Rating Model Prediction    Model Error\n2093    3969.0            0.5    3.42013957131  2.92013957131\n2094    2941.0            0.5    3.48227670248  2.98227670248\n2095    3844.0            0.5    3.54310638398  3.04310638398\n2096    1974.0            1.0    4.24450545101  3.24450545101\n2097    3852.0            1.0     4.3092029795   3.3092029795\n2098    2596.0            1.0    4.39190117606  3.39190117606\n2099    6187.0            0.5     3.8945501901   3.3945501901\n2100   40826.0            0.5    3.95914854196  3.45914854196\n2101    2336.0            0.5    4.62913085398  4.12913085398\n2102  Average:  3.21431969553    3.25855172105  0.82711266769\nPrecision: 0.671741198858\n0.827139403984\n"
       ]
      }
     ],
     "input": [
      "results = get_ridge_cv_results_rationales(np.column_stack((data,target)), 45, 10)\n",
      "\n",
      "y_pred = results[2]\n",
      "ratings = user_ratings.values()\n",
      "error_from_pred = np.abs(ratings-y_pred)\n",
      "\n",
      "col_names = [\"Movie ID\" ,\"User Rating\",\"Model Prediction\",\"Model Error\"]\n",
      "\n",
      "col_avg = [\"Average:\", np.average(ratings),np.average(y_pred),np.average(error_from_pred)]\n",
      "user_result = np.column_stack((user_ratings.keys(), ratings, y_pred, error_from_pred))\n",
      "user_result = user_result[np.argsort(user_result[:, 3])]\n",
      "user_result = np.vstack((user_result,col_avg))\n",
      "\n",
      "results_df = pd.DataFrame(user_result, columns = col_names)\n",
      "print \"Ten Lowest Errors\"\n",
      "print results_df.head(10)\n",
      "print \"\\nTen Highest Errors\"\n",
      "print results_df.tail(10)\n",
      "print \"Precision:\", calc_precision(ratings, y_pred)\n",
      "print results[0]"
     ],
     "language": "python",
     "prompt_number": 13
    },
    {
     "cell_type": "code",
     "execution_count": null,
     "metadata": {},
     "outputs": [],
     "input": [
      "def build_train_with_rationales(train_data, y_train):\n",
      "    non_avg = train_data[:,2:]\n",
      "    rationale_weights = get_rationale_weights(non_avg, y_train)\n",
      "    maxs, mins = build_rationales(non_avg, rationale_weights, 0.05)\n",
      "    maxs_keys = maxs.keys()\n",
      "    mins_keys = mins.keys()\n",
      "    for x in range(train_data.shape[0]):\n",
      "        movie = non_avg[x]\n",
      "        maxs_keys = np.intersect1d(maxs_keys, np.nonzero(movie))\n",
      "        mins_keys = np.intersect1d(mins_keys, np.nonzero(movie))          \n",
      "        if y_train[x] > 3.0 and len(maxs_keys) > 0:\n",
      "            key, _ = max(maxs.iteritems(), key=lambda k:k[1])\n",
      "            movie = np.multiply(movie, .01)\n",
      "            rationale = key\n",
      "            #rationale = np.random.choice(maxs, 1)\n",
      "            #rationale = np.random.choice(maxs_keys, len(maxs_keys))\n",
      "            movie[rationale] *= 100\n",
      "        elif y_train[x] < 3.0 and len(mins_keys) > 0:\n",
      "            key, _ = min(mins.iteritems(), key=lambda k:k[1])\n",
      "            movie = np.multiply(movie, .01)\n",
      "            rationale = key\n",
      "            #rationale = np.random.choice(mins, 1)\n",
      "            #rationale = np.random.choice(mins_keys, len(mins_keys))\n",
      "            movie[rationale] *= 100\n",
      "        train_data[x][2:] = movie\n",
      "        \n",
      "    return train_data"
     ],
     "language": "python",
     "prompt_number": 37
    },
    {
     "cell_type": "code",
     "execution_count": null,
     "metadata": {},
     "outputs": [],
     "input": [
      "def get_ridge_cv_results_rationales(user_matrix, alpha, folds):\n",
      "    \n",
      "    user_cols = user_matrix.shape[1]\n",
      "    data = user_matrix[:, :(user_cols-1)]\n",
      "    target = user_matrix[:, (user_cols-1)]\n",
      "    \n",
      "    ridge = linear_model.Ridge()\n",
      "    ridge.alpha = alpha\n",
      "    \n",
      "    kf = cross_validation.KFold(user_matrix.shape[0], n_folds=folds, shuffle = True, random_state = 16834)\n",
      "    all_pred = np.zeros(shape=(0))\n",
      "    all_indices = np.zeros(shape=(0))\n",
      "    mae_list = list()\n",
      "    for train_index, test_index in kf:\n",
      "        X_train, X_test =data[train_index], data[test_index]\n",
      "        y_train, y_test = target[train_index], target[test_index]\n",
      "        \n",
      "        rationale_train = build_train_with_rationales(X_train.astype(float), y_train)\n",
      "        \n",
      "        ridge.fit(rationale_train, y_train)\n",
      "        y_pred = ridge.predict(X_test)\n",
      "\n",
      "        mae = mean_absolute_error(y_test, y_pred)\n",
      "\n",
      "        all_pred = np.concatenate((all_pred,y_pred))\n",
      "        all_indices = np.concatenate((all_indices, test_index))\n",
      "\n",
      "        mae_list.append(mae)\n",
      "\n",
      "    y_pred = np.column_stack((all_indices,all_pred))\n",
      "    y_pred = y_pred[np.argsort(y_pred[:,0])][:,1]\n",
      "\n",
      "    mae = np.average(mae_list)\n",
      "    weights = ridge.coef_\n",
      "\n",
      "    return [mae, weights, y_pred]"
     ],
     "language": "python",
     "prompt_number": 38
    },
    {
     "cell_type": "markdown",
     "metadata": {},
     "source": [
      "Ridge CV with rationales (Top 5% of features)"
     ]
    },
    {
     "cell_type": "code",
     "execution_count": null,
     "metadata": {},
     "outputs": [
      {
       "output_type": "stream",
       "stream": "stdout",
       "text": [
        "Ten Lowest Errors\n  Movie ID User Rating Model Prediction        Model Error\n0   1340.0         4.5    4.50069302006  0.000693020057119\n1   2420.0         4.0    4.00108130062   0.00108130061854\n2   1595.0         0.5    0.49799346479   0.00200653520955\n3  26425.0         3.5     3.4974533105   0.00254668949878\n4   6816.0         3.5    3.49741559118   0.00258440882344\n5   3147.0         4.5    4.49671170667    0.0032882933291\n6   6957.0         4.0     4.0033188007    0.0033188007014\n7   1784.0         4.0    3.99621833176   0.00378166824386\n8   5059.0         4.5    4.50505576632   0.00505576632266\n9   5809.0         2.5    2.50549822237   0.00549822237496\n\nTen Highest Errors\n      Movie ID    User Rating Model Prediction     Model Error\n2093    2596.0            1.0    3.81584560047   2.81584560047\n2094   65130.0            1.0    3.83471329435   2.83471329435\n2095    2114.0            2.0    4.85170433986   2.85170433986\n2096    1951.0            1.5    4.37993132543   2.87993132543\n2097    5472.0            0.5    3.38634729055   2.88634729055\n2098    2941.0            0.5    3.39420369083   2.89420369083\n2099    1974.0            1.0    4.45938486463   3.45938486463\n2100    7347.0            0.5    3.97505323193   3.47505323193\n2101    6785.0            0.5     4.2145428547    3.7145428547\n2102  Average:  3.21431969553    3.21058320526  0.796478320794\nPrecision: 0.697906755471\n"
       ]
      }
     ],
     "input": [
      "results = get_ridge_cv_results_rationales(np.column_stack((data,target)), 45, 10)\n",
      "\n",
      "y_pred = results[2]\n",
      "ratings = user_ratings.values()\n",
      "error_from_pred = np.abs(ratings-y_pred)\n",
      "\n",
      "col_names = [\"Movie ID\" ,\"User Rating\",\"Model Prediction\",\"Model Error\"]\n",
      "\n",
      "col_avg = [\"Average:\", np.average(ratings),np.average(y_pred),np.average(error_from_pred)]\n",
      "user_result = np.column_stack((user_ratings.keys(), ratings, y_pred, error_from_pred))\n",
      "user_result = user_result[np.argsort(user_result[:, 3])]\n",
      "user_result = np.vstack((user_result,col_avg))\n",
      "\n",
      "results_df = pd.DataFrame(user_result, columns = col_names)\n",
      "print \"Ten Lowest Errors\"\n",
      "print results_df.head(10)\n",
      "print \"\\nTen Highest Errors\"\n",
      "print results_df.tail(10)\n",
      "print \"Precision:\", calc_precision(ratings, y_pred)"
     ],
     "language": "python",
     "prompt_number": 40
    },
    {
     "cell_type": "code",
     "execution_count": null,
     "metadata": {},
     "outputs": [],
     "input": [
      "def get_lasso_cv_results_rationales(user_matrix, alpha, folds):\n",
      "    user_cols = user_matrix.shape[1]\n",
      "    data = user_matrix[:, :(user_cols-1)]\n",
      "    target = user_matrix[:, (user_cols-1)]\n",
      "\n",
      "    lasso = linear_model.Lasso()\n",
      "    lasso.alpha = alpha\n",
      "    \n",
      "    kf = cross_validation.KFold(user_matrix.shape[0], n_folds=folds, shuffle = True, random_state = 16834)\n",
      "    all_pred = np.zeros(shape=(0))\n",
      "    all_indices = np.zeros(shape=(0))\n",
      "    mae_list = list()\n",
      "    for train_index, test_index in kf:\n",
      "        X_train, X_test =data[train_index], data[test_index]\n",
      "        y_train, y_test = target[train_index], target[test_index]\n",
      "        \n",
      "        rationale_train = build_train_with_rationales(X_train, y_train)\n",
      "        \n",
      "        lasso.fit(rationale_train, y_train)\n",
      "        y_pred = lasso.predict(X_test)\n",
      "\n",
      "        mae = mean_absolute_error(y_test, y_pred)\n",
      "\n",
      "        all_pred = np.concatenate((all_pred,y_pred))\n",
      "        all_indices = np.concatenate((all_indices, test_index))\n",
      "\n",
      "        mae_list.append(mae)\n",
      "\n",
      "    y_pred = np.column_stack((all_indices,all_pred))\n",
      "    y_pred = y_pred[np.argsort(y_pred[:,0])][:,1]\n",
      "\n",
      "    mae = np.average(mae_list)\n",
      "    weights = lasso.coef_\n",
      "\n",
      "    return [mae, weights, y_pred]"
     ],
     "language": "python",
     "prompt_number": 17
    },
    {
     "cell_type": "markdown",
     "metadata": {},
     "source": [
      "Lasso CV with rationales (Top 5% of features)"
     ]
    },
    {
     "cell_type": "code",
     "execution_count": null,
     "metadata": {},
     "outputs": [
      {
       "output_type": "stream",
       "stream": "stdout",
       "text": [
        "Ten Lowest Errors\n  Movie ID User Rating Model Prediction       Model Error\n0   3788.0         4.5    4.50137359437  0.00137359437093\n1   3066.0         3.0    3.00140106486  0.00140106485681\n2  26386.0         3.0    2.99726178665  0.00273821335163\n3  32587.0         3.5    3.49614764279  0.00385235721087\n4  54513.0         3.5    3.50396691934  0.00396691933709\n5   1920.0         3.0    2.99558531055  0.00441468944811\n6   2376.0         2.5    2.50465699454  0.00465699453923\n7   6953.0         4.0    4.00486706415   0.0048670641477\n8   5705.0         2.0    2.00490069429  0.00490069428867\n9   1615.0         3.0    2.99508197733  0.00491802267452\n\nTen Highest Errors\n      Movie ID    User Rating Model Prediction    Model Error\n2093    1974.0            1.0    4.19188832927  3.19188832927\n2094    6325.0            0.5    3.71701752146  3.21701752146\n2095   56003.0            1.0    4.27916769765  3.27916769765\n2096    7347.0            0.5    3.79147975911  3.29147975911\n2097    7204.0            0.5    3.80514672354  3.30514672354\n2098    1027.0            0.5      3.899937065    3.399937065\n2099    1088.0            0.5    4.10916441834  3.60916441834\n2100    5735.0            0.5    4.27616983307  3.77616983307\n2101   45447.0            0.5    4.35892863445  3.85892863445\n2102  Average:  3.21431969553    3.21061010171  0.99321944189\nPrecision: 0.556137012369\n"
       ]
      }
     ],
     "input": [
      "results = get_lasso_cv_results_rationales(np.column_stack((data,target)), .01, 10)\n",
      "\n",
      "y_pred = results[2]\n",
      "ratings = user_ratings.values()\n",
      "error_from_pred = np.abs(ratings-y_pred)\n",
      "\n",
      "col_names = [\"Movie ID\" ,\"User Rating\",\"Model Prediction\",\"Model Error\"]\n",
      "\n",
      "col_avg = [\"Average:\", np.average(ratings),np.average(y_pred),np.average(error_from_pred)]\n",
      "user_result = np.column_stack((user_ratings.keys(), ratings, y_pred, error_from_pred))\n",
      "user_result = user_result[np.argsort(user_result[:, 3])]\n",
      "user_result = np.vstack((user_result,col_avg))\n",
      "\n",
      "results_df = pd.DataFrame(user_result, columns = col_names)\n",
      "print \"Ten Lowest Errors\"\n",
      "print results_df.head(10)\n",
      "print \"\\nTen Highest Errors\"\n",
      "print results_df.tail(10)\n",
      "print \"Precision:\", calc_precision(ratings, y_pred)"
     ],
     "language": "python",
     "prompt_number": 18
    },
    {
     "cell_type": "markdown",
     "metadata": {},
     "source": [
      "Lasso CV test/split with rationales"
     ]
    },
    {
     "cell_type": "code",
     "execution_count": null,
     "metadata": {},
     "outputs": [
      {
       "output_type": "stream",
       "stream": "stdout",
       "text": [
        "1.00238379541\n"
       ]
      }
     ],
     "input": [
      "X_train, X_test, y_train, y_test = train_test_split(data, target, test_size=.33, random_state = 16834)\n",
      "rationale_train = build_train_with_rationales(X_train, y_train)\n",
      "\n",
      "lasso = linear_model.Lasso()\n",
      "lasso.alpha = .01\n",
      "lasso.fit(rationale_train, y_train)\n",
      "y_pred = lasso.predict(X_test)\n",
      "mae = mean_absolute_error(y_test, y_pred)\n",
      "print mae"
     ],
     "language": "python",
     "prompt_number": 19
    },
    {
     "cell_type": "markdown",
     "metadata": {},
     "source": [
      "Ridge CV test/split with rationales"
     ]
    },
    {
     "cell_type": "code",
     "execution_count": null,
     "metadata": {},
     "outputs": [
      {
       "output_type": "stream",
       "stream": "stdout",
       "text": [
        "1.01668266505\n"
       ]
      }
     ],
     "input": [
      "X_train, X_test, y_train, y_test = train_test_split(data, target, test_size=.33, random_state = 16834)\n",
      "rationale_train = build_train_with_rationales(X_train, y_train)\n",
      "\n",
      "ridge = linear_model.Ridge()\n",
      "ridge.alpha = 45\n",
      "ridge.fit(rationale_train, y_train)\n",
      "y_pred = ridge.predict(X_test)\n",
      "mae = mean_absolute_error(y_test, y_pred)\n",
      "print mae"
     ],
     "language": "python",
     "prompt_number": 20
    },
    {
     "cell_type": "code",
     "execution_count": null,
     "metadata": {},
     "outputs": [],
     "input": [
      ""
     ],
     "language": "python"
    }
   ]
  }
 ],
 "cells": [],
 "metadata": {},
 "nbformat": 3,
 "nbformat_minor": 0
}