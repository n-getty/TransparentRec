{
 "worksheets": [
  {
   "cells": [
    {
     "cell_type": "code",
     "execution_count": null,
     "metadata": {},
     "outputs": [],
     "input": [
      "import numpy as np\n",
      "from pandas import DataFrame as df\n",
      "from Classifiers import TransparentLinearRegression\n",
      "from scipy.sparse import diags\n",
      "import PredictiveModels as pm\n",
      "import pandas as pd\n",
      "from LatestPreprocessing import *\n",
      "from RationaleSelect import *\n",
      "from sklearn import cross_validation, linear_model\n",
      "from sklearn.metrics import mean_absolute_error\n",
      "from sklearn.cross_validation import train_test_split"
     ],
     "language": "python",
     "prompt_number": 1
    },
    {
     "cell_type": "code",
     "execution_count": null,
     "metadata": {},
     "outputs": [],
     "input": [
      "userid = 28451\n",
      "user_ratings = get_matched_user_ratings(userid)\n",
      "movies = user_ratings.keys()\n",
      "ratings = user_ratings.values()"
     ],
     "language": "python",
     "prompt_number": 2
    },
    {
     "cell_type": "code",
     "execution_count": null,
     "metadata": {},
     "outputs": [],
     "input": [
      "id_dict = get_id_row_dict()\n",
      "idxs = [id_dict[k] for k in movies]\n",
      "avg_and_num = sort_avg()"
     ],
     "language": "python",
     "prompt_number": 3
    },
    {
     "cell_type": "code",
     "execution_count": null,
     "metadata": {},
     "outputs": [],
     "input": [
      "genre_matrix = get_genre_matrix()[idxs]\n",
      "user_key_matrix  = get_key_matrix()[idxs]\n",
      "actor_matrix = get_actor_matrix()[idxs]"
     ],
     "language": "python",
     "prompt_number": 4
    },
    {
     "cell_type": "code",
     "execution_count": null,
     "metadata": {},
     "outputs": [
      {
       "output_type": "stream",
       "stream": "stdout",
       "text": [
        "(1286L, 4225L)\n"
       ]
      }
     ],
     "input": [
      "rationale_data = np.column_stack((genre_matrix, user_key_matrix, actor_matrix))\n",
      "print rationale_data.shape\n",
      "rationale_weights = get_rationale_weight(rationale_data, ratings)"
     ],
     "language": "python",
     "prompt_number": 5
    },
    {
     "cell_type": "code",
     "execution_count": null,
     "metadata": {},
     "outputs": [
      {
       "output_type": "stream",
       "stream": "stdout",
       "text": [
        "['Horror' 'IMAX' 'Sci-Fi' 'supermarket' 'tough-girl' 'diamond']\n"
       ]
      }
     ],
     "input": [
      "keywords = pd.read_csv(\"ml-latest/matched_movies\", delimiter='\\t', usecols = [0,3], names = ['id', 'key'] )\n",
      "x = get_popular_key_dict(keywords.key)\n",
      "get_popular_key_dict(keywords.key)\n",
      "inv_map = {v: k for k, v in x.items()}\n",
      "key_names = [inv_map[k] for k in range(len(x))]\n",
      "genre_names = get_genre_dict().keys()\n",
      "actor_names = get_actor_names()\n",
      "names = np.hstack([genre_names, key_names, actor_names])\n",
      "top = rationale_weights[0].argsort()[::-1]\n",
      "top = np.hstack((top[:3], top[-3:]))\n",
      "print names[top]"
     ],
     "language": "python",
     "prompt_number": 6
    },
    {
     "cell_type": "code",
     "execution_count": null,
     "metadata": {},
     "outputs": [
      {
       "output_type": "stream",
       "stream": "stdout",
       "text": [
        "(1286L, 4227L)\n"
       ]
      }
     ],
     "input": [
      "pp.scale(avg_and_num[:,0], with_mean=True, with_std=True, copy=False)\n",
      "pp.scale(avg_and_num[:,1], with_mean=True, with_std=True, copy=False)\n",
      "data = np.column_stack((avg_and_num[idxs], genre_matrix, user_key_matrix, actor_matrix))\n",
      "target = ratings\n",
      "print data.shape"
     ],
     "language": "python",
     "prompt_number": 7
    },
    {
     "cell_type": "code",
     "execution_count": null,
     "metadata": {},
     "outputs": [],
     "input": [
      "def calc_precision(y_test, test_pred):\n",
      "    error = np.absolute(y_test-test_pred)\n",
      "    return float(len(np.where(error < 1)[0]))/len(y_test)"
     ],
     "language": "python",
     "prompt_number": 27
    },
    {
     "cell_type": "markdown",
     "metadata": {},
     "source": [
      "Ridge Regression with no ratioanles"
     ]
    },
    {
     "cell_type": "code",
     "execution_count": null,
     "metadata": {},
     "outputs": [
      {
       "output_type": "stream",
       "stream": "stdout",
       "text": [
        "Ten Lowest Errors\n  Movie ID User Rating Model Prediction       Model Error\n0   5640.0         1.0     1.0016468731  0.00164687309561\n1   2002.0         4.5    4.49308490135   0.0069150986501\n2   3173.0         0.5   0.506978940359  0.00697894035898\n3   1984.0         0.5   0.507771688511  0.00777168851136\n4   2001.0         4.5    4.51063084788   0.0106308478821\n5   2407.0         4.5    4.51289842994   0.0128984299368\n6   1083.0         4.5    4.51566486285   0.0156648628519\n7   6377.0         5.0    5.02032218163    0.020322181628\n8   7360.0         0.5   0.521985946734   0.0219859467343\n9   2384.0         1.0    0.97778405641   0.0222159435901\n\nTen Highest Errors\n      Movie ID    User Rating Model Prediction    Model Error\n1277    2571.0            1.0    5.25567352393  4.25567352393\n1278    4426.0            0.5    4.75624222679  4.25624222679\n1279     923.0            5.0   0.524797597278  4.47520240272\n1280     296.0            1.0    5.50406840188  4.50406840188\n1281     943.0            5.0   0.475528998275  4.52447100172\n1282    6874.0            5.0   0.321149608683  4.67885039132\n1283    4014.0            5.0  -0.144797848513  5.14479784851\n1284    2712.0            4.5  -0.959695502903   5.4596955029\n1285    3265.0            5.0  -0.531655116069  5.53165511607\n1286  Average:  2.81842923795    2.82123854537  1.51510359446\nPrecision: 0.311041990669\n1.51499750844\n"
       ]
      }
     ],
     "input": [
      "results = pm.get_ridge_cv_results(np.column_stack((data,target)), 45, 10)\n",
      "\n",
      "y_pred = results[2]\n",
      "ratings = user_ratings.values()\n",
      "error_from_pred = np.abs(ratings-y_pred)\n",
      "\n",
      "col_names = [\"Movie ID\" ,\"User Rating\",\"Model Prediction\",\"Model Error\"]\n",
      "\n",
      "col_avg = [\"Average:\", np.average(ratings),np.average(y_pred),np.average(error_from_pred)]\n",
      "user_result = np.column_stack((user_ratings.keys(), ratings, y_pred, error_from_pred))\n",
      "user_result = user_result[np.argsort(user_result[:, 3])]\n",
      "user_result = np.vstack((user_result,col_avg))\n",
      "\n",
      "results_df = pd.DataFrame(user_result, columns = col_names)\n",
      "print \"Ten Lowest Errors\"\n",
      "print results_df.head(10)\n",
      "print \"\\nTen Highest Errors\"\n",
      "print results_df.tail(10)\n",
      "print \"Precision:\", calc_precision(ratings, y_pred)\n",
      "print results[0]"
     ],
     "language": "python",
     "prompt_number": 28
    },
    {
     "cell_type": "markdown",
     "metadata": {},
     "source": [
      "Lasso Regression with no rationales"
     ]
    },
    {
     "cell_type": "code",
     "execution_count": null,
     "metadata": {},
     "outputs": [
      {
       "output_type": "stream",
       "stream": "stdout",
       "text": [
        "Ten Lowest Errors\n  Movie ID User Rating Model Prediction       Model Error\n0   4701.0         5.0     4.9975645011  0.00243549889935\n1   1083.0         4.5    4.49506815854  0.00493184146434\n2   2599.0         1.5    1.51143815792   0.0114381579209\n3   2784.0         0.5   0.488537674336   0.0114623256639\n4   3965.0         2.5    2.48438417175   0.0156158282475\n5   7387.0         0.5   0.480376864255   0.0196231357452\n6   1376.0         4.5    4.52094500809   0.0209450080873\n7   3101.0         2.0    2.02198468079    0.021984680787\n8   1932.0         1.0   0.976788208913    0.023211791087\n9   7832.0         5.0    5.02369839094   0.0236983909442\n\nTen Highest Errors\n      Movie ID    User Rating  Model Prediction    Model Error\n1277    3633.0            1.0     5.33855209752  4.33855209752\n1278    4014.0            5.0    0.601830589028  4.39816941097\n1279    1835.0            5.0    0.521345443902   4.4786545561\n1280    2712.0            4.5  -0.0537566360345  4.55375663603\n1281     923.0            5.0    0.387655468557  4.61234453144\n1282    4306.0            1.0      5.8866572211   4.8866572211\n1283    4874.0            5.0   0.0959857129115  4.90401428709\n1284    5218.0            1.0     6.09262278305  5.09262278305\n1285    2571.0            1.0     6.39211461772  5.39211461772\n1286  Average:  2.81842923795     2.81558203925  1.50432532998\nPrecision: 0.319595645412\n"
       ]
      }
     ],
     "input": [
      "results = pm.get_lasso_cv_results(np.column_stack((data,target)), .01, 10)\n",
      "\n",
      "y_pred = results[2]\n",
      "ratings = user_ratings.values()\n",
      "error_from_pred = np.abs(ratings-y_pred)\n",
      "\n",
      "col_names = [\"Movie ID\" ,\"User Rating\",\"Model Prediction\",\"Model Error\"]\n",
      "\n",
      "col_avg = [\"Average:\", np.average(ratings),np.average(y_pred),np.average(error_from_pred)]\n",
      "user_result = np.column_stack((user_ratings.keys(), ratings, y_pred, error_from_pred))\n",
      "user_result = user_result[np.argsort(user_result[:, 3])]\n",
      "user_result = np.vstack((user_result,col_avg))\n",
      "\n",
      "results_df = pd.DataFrame(user_result, columns = col_names)\n",
      "print \"Ten Lowest Errors\"\n",
      "print results_df.head(10)\n",
      "print \"\\nTen Highest Errors\"\n",
      "print results_df.tail(10)\n",
      "print \"Precision:\", calc_precision(ratings, y_pred)"
     ],
     "language": "python",
     "prompt_number": 29
    },
    {
     "cell_type": "code",
     "execution_count": null,
     "metadata": {},
     "outputs": [],
     "input": [
      "def get_rationale_train(data):\n",
      "    for x in range(data.shape[0]):\n",
      "        movie = data[x]\n",
      "        movie = np.multiply(movie, .1)\n",
      "        rationales = np.hstack(get_rationales(rationale_weights, movie))\n",
      "        for rationale in np.add(rationales, 2):\n",
      "            movie[rationale] *= 10\n",
      "        movie[0] *= 10\n",
      "        movie[1] *= 10\n",
      "        data[x] = movie  \n",
      "    return data"
     ],
     "language": "python",
     "prompt_number": 30
    },
    {
     "cell_type": "code",
     "execution_count": null,
     "metadata": {},
     "outputs": [],
     "input": [
      "def get_ridge_cv_results_rationales(user_matrix, alpha, folds):\n",
      "    user_cols = user_matrix.shape[1]\n",
      "    data = user_matrix[:, :(user_cols-1)]\n",
      "    target = user_matrix[:, (user_cols-1)]\n",
      "\n",
      "    ridge = linear_model.Ridge()\n",
      "    ridge.alpha = alpha\n",
      "    \n",
      "    kf = cross_validation.KFold(user_matrix.shape[0], n_folds=folds, shuffle = True, random_state = 16834)\n",
      "    all_pred = np.zeros(shape=(0))\n",
      "    all_indices = np.zeros(shape=(0))\n",
      "    mae_list = list()\n",
      "    for train_index, test_index in kf:\n",
      "        X_train, X_test =data[train_index], data[test_index]\n",
      "        y_train, y_test = target[train_index], target[test_index]\n",
      "        \n",
      "        rationale_train = get_rationale_train(X_train)\n",
      "        \n",
      "        ridge.fit(rationale_train, y_train)\n",
      "        y_pred = ridge.predict(X_test)\n",
      "\n",
      "        mae = mean_absolute_error(y_test, y_pred)\n",
      "\n",
      "        all_pred = np.concatenate((all_pred,y_pred))\n",
      "        all_indices = np.concatenate((all_indices, test_index))\n",
      "\n",
      "        mae_list.append(mae)\n",
      "\n",
      "    y_pred = np.column_stack((all_indices,all_pred))\n",
      "    y_pred = y_pred[np.argsort(y_pred[:,0])][:,1]\n",
      "\n",
      "    mae = np.average(mae_list)\n",
      "    weights = ridge.coef_\n",
      "\n",
      "    return [mae, weights, y_pred]"
     ],
     "language": "python",
     "prompt_number": 31
    },
    {
     "cell_type": "markdown",
     "metadata": {},
     "source": [
      "Ridge Regression with Rationales"
     ]
    },
    {
     "cell_type": "code",
     "execution_count": null,
     "metadata": {},
     "outputs": [
      {
       "output_type": "stream",
       "stream": "stdout",
       "text": [
        "Ten Lowest Errors\n  Movie ID User Rating Model Prediction       Model Error\n0   5640.0         1.0    1.00293101935  0.00293101934749\n1   3173.0         0.5   0.510471638626   0.0104716386259\n2   2002.0         4.5    4.48938056693   0.0106194330716\n3   2001.0         4.5    4.51063084788   0.0106308478821\n4   2407.0         4.5    4.48875454174   0.0112454582598\n5   1984.0         0.5   0.514455712405   0.0144557124053\n6   1083.0         4.5    4.51566486285   0.0156648628519\n7   5952.0         5.0    5.02483325868   0.0248332586806\n8   4993.0         5.0    4.96795061574   0.0320493842626\n9   1284.0         5.0    4.96323155986   0.0367684401446\n\nTen Highest Errors\n      Movie ID    User Rating Model Prediction    Model Error\n1277    4426.0            0.5    4.75624222679  4.25624222679\n1278    2571.0            1.0    5.26000465359  4.26000465359\n1279     923.0            5.0   0.549537362989  4.45046263701\n1280     943.0            5.0   0.516130480174  4.48386951983\n1281     296.0            1.0     5.5363958533   4.5363958533\n1282    6874.0            5.0   0.316997057948  4.68300294205\n1283    4014.0            5.0   -0.14364744631  5.14364744631\n1284    2712.0            4.5  -0.967773914964  5.46777391496\n1285    3265.0            5.0  -0.497622131312  5.49762213131\n1286  Average:  2.81842923795    2.82354094007  1.51436801058\nPrecision: 0.313374805599\n1.51426176252\n"
       ]
      }
     ],
     "input": [
      "results = get_ridge_cv_results_rationales(np.column_stack((data,target)), 45, 10)\n",
      "\n",
      "y_pred = results[2]\n",
      "ratings = user_ratings.values()\n",
      "error_from_pred = np.abs(ratings-y_pred)\n",
      "\n",
      "col_names = [\"Movie ID\" ,\"User Rating\",\"Model Prediction\",\"Model Error\"]\n",
      "\n",
      "col_avg = [\"Average:\", np.average(ratings),np.average(y_pred),np.average(error_from_pred)]\n",
      "user_result = np.column_stack((user_ratings.keys(), ratings, y_pred, error_from_pred))\n",
      "user_result = user_result[np.argsort(user_result[:, 3])]\n",
      "user_result = np.vstack((user_result,col_avg))\n",
      "\n",
      "results_df = pd.DataFrame(user_result, columns = col_names)\n",
      "print \"Ten Lowest Errors\"\n",
      "print results_df.head(10)\n",
      "print \"\\nTen Highest Errors\"\n",
      "print results_df.tail(10)\n",
      "print \"Precision:\", calc_precision(ratings, y_pred)\n",
      "print results[0]"
     ],
     "language": "python",
     "prompt_number": 44
    },
    {
     "cell_type": "code",
     "execution_count": null,
     "metadata": {},
     "outputs": [],
     "input": [
      "def build_train_with_rationales(train_data, y_train):\n",
      "    non_avg = train_data[:,2:]\n",
      "    rationale_weights = get_rationale_weights(non_avg, y_train)\n",
      "    maxs, mins = build_rationales(non_avg, rationale_weights, 0.05)\n",
      "    maxs = maxs.keys()\n",
      "    mins = mins.keys()\n",
      "    for x in range(train_data.shape[0]):\n",
      "        movie = non_avg[x]\n",
      "        maxs = np.intersect1d(maxs, np.nonzero(movie))\n",
      "        mins = np.intersect1d(mins, np.nonzero(movie))\n",
      "        if y_train[x] > 3 and len(maxs) > 0:\n",
      "            movie = np.multiply(movie, 0)\n",
      "            rationale = np.random.choice(maxs, len(maxs))\n",
      "            movie[rationale] += 1\n",
      "        elif y_train[x] < 3 and len(mins) > 0:\n",
      "            movie = np.multiply(movie, 0)\n",
      "            rationale = np.random.choice(mins, len(mins))\n",
      "            movie[rationale] += 1\n",
      "        train_data[x][2:] = movie\n",
      "    return train_data"
     ],
     "language": "python",
     "prompt_number": 50
    },
    {
     "cell_type": "code",
     "execution_count": null,
     "metadata": {},
     "outputs": [],
     "input": [
      "def get_ridge_cv_results_rationales(user_matrix, alpha, folds):\n",
      "    \n",
      "    user_cols = user_matrix.shape[1]\n",
      "    data = user_matrix[:, :(user_cols-1)]\n",
      "    target = user_matrix[:, (user_cols-1)]\n",
      "    \n",
      "    ridge = linear_model.Ridge()\n",
      "    ridge.alpha = alpha\n",
      "    \n",
      "    kf = cross_validation.KFold(user_matrix.shape[0], n_folds=folds, shuffle = True, random_state = 16834)\n",
      "    all_pred = np.zeros(shape=(0))\n",
      "    all_indices = np.zeros(shape=(0))\n",
      "    mae_list = list()\n",
      "    for train_index, test_index in kf:\n",
      "        X_train, X_test =data[train_index], data[test_index]\n",
      "        y_train, y_test = target[train_index], target[test_index]\n",
      "        \n",
      "        rationale_train = build_train_with_rationales(X_train, y_train)\n",
      "        \n",
      "        ridge.fit(rationale_train, y_train)\n",
      "        y_pred = ridge.predict(X_test)\n",
      "\n",
      "        mae = mean_absolute_error(y_test, y_pred)\n",
      "\n",
      "        all_pred = np.concatenate((all_pred,y_pred))\n",
      "        all_indices = np.concatenate((all_indices, test_index))\n",
      "\n",
      "        mae_list.append(mae)\n",
      "\n",
      "    y_pred = np.column_stack((all_indices,all_pred))\n",
      "    y_pred = y_pred[np.argsort(y_pred[:,0])][:,1]\n",
      "\n",
      "    mae = np.average(mae_list)\n",
      "    weights = ridge.coef_\n",
      "\n",
      "    return [mae, weights, y_pred]"
     ],
     "language": "python",
     "prompt_number": 53
    },
    {
     "cell_type": "markdown",
     "metadata": {},
     "source": [
      "Ridge CV with rationales (Top 5% of features)"
     ]
    },
    {
     "cell_type": "code",
     "execution_count": null,
     "metadata": {},
     "outputs": [
      {
       "output_type": "stream",
       "stream": "stdout",
       "text": [
        "Ten Lowest Errors\n  Movie ID User Rating Model Prediction       Model Error\n0   5640.0         1.0    1.00324636452  0.00324636451703\n1   3173.0         0.5   0.510401943216   0.0104019432161\n2   2001.0         4.5    4.51063084788   0.0106308478821\n3   2002.0         4.5    4.48931716679   0.0106828332059\n4   2407.0         4.5    4.48865991457   0.0113400854332\n5   1984.0         0.5   0.514469951611    0.014469951611\n6   1083.0         4.5    4.51566486285   0.0156648628519\n7   5952.0         5.0    5.02468650431   0.0246865043124\n8   4993.0         5.0    4.96922639439   0.0307736056131\n9    733.0         5.0    4.96388112047    0.036118879529\n\nTen Highest Errors\n      Movie ID    User Rating Model Prediction    Model Error\n1277    4426.0            0.5    4.75624222679  4.25624222679\n1278    2571.0            1.0    5.26018164268  4.26018164268\n1279     923.0            5.0   0.549555438701   4.4504445613\n1280     943.0            5.0   0.516632745728  4.48336725427\n1281     296.0            1.0    5.53766923442  4.53766923442\n1282    6874.0            5.0   0.316978685205   4.6830213148\n1283    4014.0            5.0  -0.143683337782  5.14368333778\n1284    2712.0            4.5  -0.967824758083  5.46782475808\n1285    3265.0            5.0  -0.498176130063  5.49817613006\n1286  Average:  2.81842923795    2.82353082096  1.51436138586\nPrecision: 0.313374805599\n"
       ]
      }
     ],
     "input": [
      "results = get_ridge_cv_results_rationales(np.column_stack((data,target)), 45, 10)\n",
      "\n",
      "y_pred = results[2]\n",
      "ratings = user_ratings.values()\n",
      "error_from_pred = np.abs(ratings-y_pred)\n",
      "\n",
      "col_names = [\"Movie ID\" ,\"User Rating\",\"Model Prediction\",\"Model Error\"]\n",
      "\n",
      "col_avg = [\"Average:\", np.average(ratings),np.average(y_pred),np.average(error_from_pred)]\n",
      "user_result = np.column_stack((user_ratings.keys(), ratings, y_pred, error_from_pred))\n",
      "user_result = user_result[np.argsort(user_result[:, 3])]\n",
      "user_result = np.vstack((user_result,col_avg))\n",
      "\n",
      "results_df = pd.DataFrame(user_result, columns = col_names)\n",
      "print \"Ten Lowest Errors\"\n",
      "print results_df.head(10)\n",
      "print \"\\nTen Highest Errors\"\n",
      "print results_df.tail(10)\n",
      "print \"Precision:\", calc_precision(ratings, y_pred)"
     ],
     "language": "python",
     "prompt_number": 54
    },
    {
     "cell_type": "code",
     "execution_count": null,
     "metadata": {},
     "outputs": [],
     "input": [
      "def get_lasso_cv_results_rationales(user_matrix, alpha, folds):\n",
      "    user_cols = user_matrix.shape[1]\n",
      "    data = user_matrix[:, :(user_cols-1)]\n",
      "    target = user_matrix[:, (user_cols-1)]\n",
      "\n",
      "    lasso = linear_model.Lasso()\n",
      "    lasso.alpha = alpha\n",
      "    \n",
      "    kf = cross_validation.KFold(user_matrix.shape[0], n_folds=folds, shuffle = True, random_state = 16834)\n",
      "    all_pred = np.zeros(shape=(0))\n",
      "    all_indices = np.zeros(shape=(0))\n",
      "    mae_list = list()\n",
      "    for train_index, test_index in kf:\n",
      "        X_train, X_test =data[train_index], data[test_index]\n",
      "        y_train, y_test = target[train_index], target[test_index]\n",
      "        \n",
      "        rationale_train = build_train_with_rationales(X_train, y_train)\n",
      "        \n",
      "        lasso.fit(rationale_train, y_train)\n",
      "        y_pred = lasso.predict(X_test)\n",
      "\n",
      "        mae = mean_absolute_error(y_test, y_pred)\n",
      "\n",
      "        all_pred = np.concatenate((all_pred,y_pred))\n",
      "        all_indices = np.concatenate((all_indices, test_index))\n",
      "\n",
      "        mae_list.append(mae)\n",
      "\n",
      "    y_pred = np.column_stack((all_indices,all_pred))\n",
      "    y_pred = y_pred[np.argsort(y_pred[:,0])][:,1]\n",
      "\n",
      "    mae = np.average(mae_list)\n",
      "    weights = lasso.coef_\n",
      "\n",
      "    return [mae, weights, y_pred]"
     ],
     "language": "python",
     "prompt_number": 37
    },
    {
     "cell_type": "markdown",
     "metadata": {},
     "source": [
      "Lasso CV with rationales (Top 5% of features)"
     ]
    },
    {
     "cell_type": "code",
     "execution_count": null,
     "metadata": {},
     "outputs": [
      {
       "output_type": "stream",
       "stream": "stdout",
       "text": [
        "Ten Lowest Errors\n  Movie ID User Rating Model Prediction       Model Error\n0   1291.0         5.0    5.00361440501  0.00361440500821\n1   1083.0         4.5    4.49506815854  0.00493184146434\n2   4643.0         0.5   0.493531001693  0.00646899830695\n3   2784.0         0.5   0.488537674336   0.0114623256639\n4   1932.0         1.0   0.985231303285   0.0147686967151\n5   1191.0         0.5   0.485174137318   0.0148258626825\n6   7387.0         0.5   0.480376864255   0.0196231357452\n7   3965.0         2.5    2.47898079121   0.0210192087875\n8   4701.0         5.0    4.97881101643   0.0211889835713\n9   3114.0         5.0    5.02221662379   0.0222166237887\n\nTen Highest Errors\n      Movie ID    User Rating  Model Prediction    Model Error\n1277    3633.0            1.0     5.33855209752  4.33855209752\n1278    4014.0            5.0    0.614218599905  4.38578140009\n1279    1835.0            5.0    0.529685268343  4.47031473166\n1280    2712.0            4.5  -0.0686009688904  4.56860096889\n1281     923.0            5.0    0.392545781842  4.60745421816\n1282    4874.0            5.0   0.0959857129115  4.90401428709\n1283    4306.0            1.0     5.93657676577  4.93657676577\n1284    5218.0            1.0     6.20964550367  5.20964550367\n1285    2571.0            1.0     6.39433315298  5.39433315298\n1286  Average:  2.81842923795     2.81830089349   1.5036909886\nPrecision: 0.319595645412\n"
       ]
      }
     ],
     "input": [
      "results = get_lasso_cv_results_rationales(np.column_stack((data,target)), .01, 10)\n",
      "\n",
      "y_pred = results[2]\n",
      "ratings = user_ratings.values()\n",
      "error_from_pred = np.abs(ratings-y_pred)\n",
      "\n",
      "col_names = [\"Movie ID\" ,\"User Rating\",\"Model Prediction\",\"Model Error\"]\n",
      "\n",
      "col_avg = [\"Average:\", np.average(ratings),np.average(y_pred),np.average(error_from_pred)]\n",
      "user_result = np.column_stack((user_ratings.keys(), ratings, y_pred, error_from_pred))\n",
      "user_result = user_result[np.argsort(user_result[:, 3])]\n",
      "user_result = np.vstack((user_result,col_avg))\n",
      "\n",
      "results_df = pd.DataFrame(user_result, columns = col_names)\n",
      "print \"Ten Lowest Errors\"\n",
      "print results_df.head(10)\n",
      "print \"\\nTen Highest Errors\"\n",
      "print results_df.tail(10)\n",
      "print \"Precision:\", calc_precision(ratings, y_pred)"
     ],
     "language": "python",
     "prompt_number": 38
    },
    {
     "cell_type": "markdown",
     "metadata": {},
     "source": [
      "Lasso CV test/split with rationales"
     ]
    },
    {
     "cell_type": "code",
     "execution_count": null,
     "metadata": {},
     "outputs": [
      {
       "output_type": "stream",
       "stream": "stdout",
       "text": [
        "1.62574524158\n"
       ]
      }
     ],
     "input": [
      "X_train, X_test, y_train, y_test = train_test_split(data, target, test_size=.33, random_state = 16834)\n",
      "rationale_train = build_train_with_rationales(X_train, y_train)\n",
      "\n",
      "lasso = linear_model.Lasso()\n",
      "lasso.alpha = .01\n",
      "lasso.fit(rationale_train, y_train)\n",
      "y_pred = lasso.predict(X_test)\n",
      "mae = mean_absolute_error(y_test, y_pred)\n",
      "print mae"
     ],
     "language": "python",
     "prompt_number": 19
    },
    {
     "cell_type": "markdown",
     "metadata": {},
     "source": [
      "Ridge CV test/split with rationales"
     ]
    },
    {
     "cell_type": "code",
     "execution_count": null,
     "metadata": {},
     "outputs": [
      {
       "output_type": "stream",
       "stream": "stdout",
       "text": [
        "1.60930614953\n"
       ]
      }
     ],
     "input": [
      "X_train, X_test, y_train, y_test = train_test_split(data, target, test_size=.33, random_state = 16834)\n",
      "rationale_train = build_train_with_rationales(X_train, y_train)\n",
      "\n",
      "ridge = linear_model.Ridge()\n",
      "ridge.alpha = 45\n",
      "ridge.fit(rationale_train, y_train)\n",
      "y_pred = ridge.predict(X_test)\n",
      "mae = mean_absolute_error(y_test, y_pred)\n",
      "print mae"
     ],
     "language": "python",
     "prompt_number": 20
    },
    {
     "cell_type": "code",
     "execution_count": null,
     "metadata": {},
     "outputs": [],
     "input": [
      ""
     ],
     "language": "python"
    }
   ]
  }
 ],
 "cells": [],
 "metadata": {},
 "nbformat": 3,
 "nbformat_minor": 0
}