{
 "worksheets": [
  {
   "cells": [
    {
     "cell_type": "code",
     "execution_count": null,
     "metadata": {},
     "outputs": [
      {
       "output_type": "stream",
       "stream": "stdout",
       "text": [
        "Installed autotime.py. To use it, type:\n  %load_ext autotime\n"
       ]
      }
     ],
     "input": [
      "%load_ext autoreload\n",
      "%matplotlib inline\n",
      "%install_ext https://raw.github.com/cpcloud/ipython-autotime/master/autotime.py\n",
      "%load_ext autotime\n",
      "import matplotlib.pyplot as plt\n",
      "import RationaleSelect\n",
      "from RationaleSelect import *\n",
      "from Classifiers import TransparentLinearRegression\n",
      "from sklearn import cross_validation, linear_model\n",
      "from sklearn.metrics import mean_absolute_error\n",
      "from sklearn.cross_validation import train_test_split\n",
      "import pandas as pd"
     ],
     "language": "python",
     "prompt_number": 1
    },
    {
     "cell_type": "code",
     "execution_count": null,
     "metadata": {},
     "outputs": [
      {
       "output_type": "pyout",
       "prompt_number": 49,
       "text": [
        "<module 'RationaleSelect' from 'RationaleSelect.pyc'>"
       ],
       "metadata": {}
      },
      {
       "output_type": "stream",
       "stream": "stdout",
       "text": [
        "time: 3 ms\n"
       ]
      }
     ],
     "input": [
      "reload(RationaleSelect)"
     ],
     "language": "python",
     "prompt_number": 49
    },
    {
     "cell_type": "code",
     "execution_count": null,
     "metadata": {},
     "outputs": [
      {
       "output_type": "stream",
       "stream": "stdout",
       "text": [
        "time: 8.67 s\n"
       ]
      }
     ],
     "input": [
      "userid = 170099\n",
      "user_ratings = get_matched_user_ratings(userid)\n",
      "movies = user_ratings.keys()\n",
      "ratings = user_ratings.values()"
     ],
     "language": "python",
     "prompt_number": 2
    },
    {
     "cell_type": "code",
     "execution_count": null,
     "metadata": {},
     "outputs": [
      {
       "output_type": "stream",
       "stream": "stdout",
       "text": [
        "time: 2.12 s\n"
       ]
      }
     ],
     "input": [
      "id_dict = get_id_row_dict()\n",
      "idxs = [id_dict[k] for k in movies]\n",
      "avg_and_num = sort_avg()"
     ],
     "language": "python",
     "prompt_number": 3
    },
    {
     "cell_type": "code",
     "execution_count": null,
     "metadata": {},
     "outputs": [
      {
       "output_type": "stream",
       "stream": "stdout",
       "text": [
        "time: 31.9 s\n"
       ]
      }
     ],
     "input": [
      "genre_matrix = get_genre_matrix()[idxs]\n",
      "user_key_matrix  = get_key_matrix()[idxs]\n",
      "actor_matrix = get_actor_matrix()[idxs]"
     ],
     "language": "python",
     "prompt_number": 4
    },
    {
     "cell_type": "code",
     "execution_count": null,
     "metadata": {},
     "outputs": [
      {
       "output_type": "stream",
       "stream": "stdout",
       "text": [
        "time: 40 ms\n"
       ]
      },
      {
       "output_type": "stream",
       "stream": "stderr",
       "text": [
        "C:\\Python27\\lib\\site-packages\\sklearn\\preprocessing\\data.py:153: UserWarning: Numerical issues were encountered when centering the data and might not be solved. Dataset may contain too large values. You may need to prescale your features.\n  warnings.warn(\"Numerical issues were encountered \"\n"
       ]
      }
     ],
     "input": [
      "pp.scale(avg_and_num[:,0], with_mean=True, with_std=True, copy=False)\n",
      "pp.scale(avg_and_num[:,1], with_mean=True, with_std=True, copy=False)\n",
      "data = np.column_stack((avg_and_num[idxs], genre_matrix, user_key_matrix, actor_matrix))\n",
      "target = ratings"
     ],
     "language": "python",
     "prompt_number": 5
    },
    {
     "cell_type": "code",
     "execution_count": null,
     "metadata": {},
     "outputs": [
      {
       "output_type": "stream",
       "stream": "stdout",
       "text": [
        "time: 5 ms\n"
       ]
      }
     ],
     "input": [
      "def get_frequent_rationales(train_data, y_train, frequency):\n",
      "    non_avg = train_data[:,2:]\n",
      "    rationale_weights = get_rationale_weights(non_avg, y_train)\n",
      "    maxs, mins = build_rationales(non_avg, y_train, rationale_weights, frequency)\n",
      "    print_rationales(mins,maxs)\n",
      "    maxs = maxs.keys()\n",
      "    mins = mins.keys()\n",
      "    return maxs, mins"
     ],
     "language": "python",
     "prompt_number": 6
    },
    {
     "cell_type": "code",
     "execution_count": null,
     "metadata": {},
     "outputs": [
      {
       "output_type": "stream",
       "stream": "stdout",
       "text": [
        "time: 13 ms\n"
       ]
      }
     ],
     "input": [
      "def build_train_with_rationales(train_data, y_train, maxs, mins):\n",
      "    temp = np.array(train_data)\n",
      "    non_avg = train_data[:,2:]\n",
      "    count = 0\n",
      "    for x in range(train_data.shape[0]):\n",
      "        movie = non_avg[x]\n",
      "        nz = np.nonzero(movie)\n",
      "        valid_maxs = np.intersect1d(maxs, nz)\n",
      "        valid_mins = np.intersect1d(mins, nz)\n",
      "        if y_train[x] > 3.0 and len(valid_maxs) > 0:\n",
      "            count +=1\n",
      "            movie = np.multiply(movie, 0.0001)\n",
      "            rationale = np.random.choice(maxs, min(len(valid_maxs),1))\n",
      "            movie[rationale] *= 1000\n",
      "        elif y_train[x] < 3.0 and len(valid_mins) > 0:\n",
      "            count +=1            \n",
      "            movie = np.multiply(movie, 0.0001)\n",
      "            rationale = np.random.choice(mins, min(len(valid_mins),1))\n",
      "            movie[rationale] *= 1000\n",
      "        train_data[x][2:] = movie\n",
      "    print \"Times where there was atleast 1 rationale:\", count\n",
      "    print \"Temp/train equal:\",np.array_equal(temp,train_data)\n",
      "    return train_data"
     ],
     "language": "python",
     "prompt_number": 18
    },
    {
     "cell_type": "code",
     "execution_count": null,
     "metadata": {},
     "outputs": [
      {
       "output_type": "stream",
       "stream": "stdout",
       "text": [
        "time: 9 ms\n"
       ]
      }
     ],
     "input": [
      "def gen_indices(y_train, indices):\n",
      "    hi = np.where(y_train > 3.5)[0]\n",
      "    np.random.shuffle(hi)\n",
      "    lo = np.where(y_train < 2.5)[0]\n",
      "    np.random.shuffle(lo)\n",
      "    hi_lo = np.hstack((hi[:10],lo[:10]))\n",
      "    indices = np.setdiff1d(indices, hi_lo, assume_unique= True)\n",
      "    np.random.shuffle(indices)\n",
      "    indices = np.hstack((hi_lo, indices))\n",
      "    return indices"
     ],
     "language": "python",
     "prompt_number": 8
    },
    {
     "cell_type": "code",
     "execution_count": null,
     "metadata": {},
     "outputs": [
      {
       "output_type": "stream",
       "stream": "stdout",
       "text": [
        "time: 56 ms\n"
       ]
      }
     ],
     "input": [
      "def get_cv_curves(data, target, alpha, folds, trials, step, budget, model, reg_rate):\n",
      "    model.alpha = alpha\n",
      "    \n",
      "    kf = cross_validation.KFold(data.shape[0], n_folds=folds, shuffle = True, random_state = 42)\n",
      "    \n",
      "    mae_dict = {}\n",
      "    rationale_mae_dict = {}\n",
      "    rationale_data = build_train_with_rationales(np.array(data), np.array(target), maxs, mins)\n",
      "    maene = 0\n",
      "    for train_index, test_index in kf:\n",
      "        X_train, X_test = data[train_index], data[test_index]\n",
      "        y_train, y_test = target[train_index], target[test_index]\n",
      "        rationale_train = rationale_data[train_index]\n",
      "        indices = np.arange(len(y_train))\n",
      "        sublens = np.arange(step, min(len(y_train),budget), step)\n",
      "        \n",
      "        for _ in xrange(trials):\n",
      "            indices = gen_indices(y_train, indices)\n",
      "            model.alpha = alpha \n",
      "            for sublen in sublens:\n",
      "                model.alpha += reg_rate\n",
      "                sub = indices[range(sublen)]\n",
      "                model.fit(X_train[sub], y_train[sub])\n",
      "                y_pred = model.predict(X_test)\n",
      "                mae = mean_absolute_error(y_test, y_pred)\n",
      "                if sublen in mae_dict:\n",
      "                    mae_dict[sublen].append(mae)\n",
      "                else:\n",
      "                    mae_dict[sublen] = [mae]\n",
      "    \n",
      "                model.fit(rationale_train[sub], y_train[sub])\n",
      "                y_pred = model.predict(X_test)\n",
      "                mae2 = mean_absolute_error(y_test, y_pred)\n",
      "                if sublen in rationale_mae_dict:\n",
      "                    rationale_mae_dict[sublen].append(mae2)\n",
      "                else:\n",
      "                    rationale_mae_dict[sublen] = [mae2]\n",
      "                \n",
      "                if not np.array_equal(X_train[sub],rationale_train[sub]):\n",
      "                    maene +=1\n",
      "    mae_curve = [[k,np.average(v)] for k,v in mae_dict.iteritems()]\n",
      "    mae_curve.sort(key=lambda x:x[0])\n",
      "    rationale_mae_curve = [[k,np.average(v)] for k,v in rationale_mae_dict.iteritems()]\n",
      "    rationale_mae_curve.sort(key=lambda x:x[0])\n",
      "    print \"Times when maes were not equal:\", maene\n",
      "    return np.array(mae_curve), np.array(rationale_mae_curve)"
     ],
     "language": "python",
     "prompt_number": 9
    },
    {
     "cell_type": "code",
     "execution_count": null,
     "metadata": {},
     "outputs": [
      {
       "output_type": "stream",
       "stream": "stdout",
       "text": [
        "time: 2.25 s\n"
       ]
      }
     ],
     "input": [
      "key_names = get_key_names()\n",
      "genre_names = np.array(get_genre_dict().keys())\n",
      "actor_names = np.array(get_actor_names())"
     ],
     "language": "python",
     "prompt_number": 10
    },
    {
     "cell_type": "code",
     "execution_count": null,
     "metadata": {},
     "outputs": [
      {
       "output_type": "stream",
       "stream": "stdout",
       "text": [
        "time: 7 ms\n"
       ]
      }
     ],
     "input": [
      "def print_rationales(mins,maxs):\n",
      "    names = np.hstack([genre_names, key_names, actor_names])\n",
      "    col_names = [\"Featue Name\", \"Top Weight Occurence\", \"Total Frequency\"]\n",
      "    print 'Getting tot freq'\n",
      "    tot_freq = np.sum(data[:,2:], axis = 0)\n",
      "    print \"Done tot freq\"\n",
      "    max_vals = np.column_stack((names[maxs.keys()], maxs.values(), tot_freq[maxs.keys()]))\n",
      "    min_vals = np.column_stack((names[mins.keys()], mins.values(), tot_freq[mins.keys()]))\n",
      "    \n",
      "    maxs_df = pd.DataFrame(max_vals, columns = col_names)\n",
      "    mins_df = pd.DataFrame(min_vals, columns = col_names)\n",
      "    print maxs_df\n",
      "    print mins_df"
     ],
     "language": "python",
     "prompt_number": 11
    },
    {
     "cell_type": "code",
     "execution_count": null,
     "metadata": {},
     "outputs": [
      {
       "output_type": "stream",
       "stream": "stdout",
       "text": [
        "Reloaded\nNonzero weights:"
       ]
      },
      {
       "output_type": "stream",
       "stream": "stdout",
       "text": [
        " 4082\nNonzero: "
       ]
      },
      {
       "output_type": "stream",
       "stream": "stdout",
       "text": [
        "174543\nPrim: 1869\nPost: 1869\nGetting tot freq\nDone tot freq\n                            Featue Name Top Weight Occurence Total Frequency\n0                                  IMAX                   53            99.0\n1                                 Crime                   71            86.0\n2                           millionaire                   13            58.0\n3                      reckless-driving                   14            56.0\n4   written-and-directed-by-cast-member                   43            61.0\n5                             obsession                   12           147.0\n6                                   sex                  197           381.0\n7                           blockbuster                   43           370.0\n8                            starvation                   18            37.0\n9                  punctuation-in-title                   23            79.0\n10                     boy-with-glasses                   12            41.0\n11                                 gift                   13            63.0\n12                    fire-extinguisher                   12            32.0\n13                         gay-interest                   15            39.0\n14         characters-killed-one-by-one                   13            33.0\n15                              partner                   12            57.0\n16                             underdog                   22            53.0\n17                           surrealism                   30           193.0\n18                            cyberpunk                   11            29.0\n19                              uniform                   19            64.0\n20                 critically-acclaimed                   26           104.0\n21                             medicine                   12            30.0\n22                               tunnel                   24            68.0\n23                              jukebox                   16            38.0\n       Featue Name Top Weight Occurence Total Frequency\n0          Mystery                  160           417.0\n1          Fantasy                   74           175.0\n2        Animation                   38           271.0\n3     exploitation                   12            30.0\n4    embarrassment                   11            41.0\n5  box-office-flop                   18           145.0\n6             ring                   12            69.0\n7           sequel                   69           223.0\nNumber of frequent positive features: 24\nNumber of frequent negative features: 8\ntime: 8.13 s"
       ]
      },
      {
       "output_type": "stream",
       "stream": "stdout",
       "text": [
        "\n"
       ]
      }
     ],
     "input": [
      "frequency = .005\n",
      "maxs, mins = get_frequent_rationales(np.array(data), np.array(target), frequency)\n",
      "print \"Number of frequent positive features:\", len(maxs)\n",
      "print \"Number of frequent negative features:\", len(mins)"
     ],
     "language": "python",
     "prompt_number": 12
    },
    {
     "cell_type": "code",
     "execution_count": null,
     "metadata": {},
     "outputs": [
      {
       "output_type": "stream",
       "stream": "stdout",
       "text": [
        "Number of movies rated by user: 2102\ntime: 7 ms\n"
       ]
      }
     ],
     "input": [
      "alpha = 1\n",
      "folds = 5\n",
      "trials = 5\n",
      "step = 20\n",
      "budget = 400\n",
      "print \"Number of movies rated by user:\", len(ratings)"
     ],
     "language": "python",
     "prompt_number": 13
    },
    {
     "cell_type": "code",
     "execution_count": null,
     "metadata": {},
     "outputs": [
      {
       "output_type": "stream",
       "stream": "stdout",
       "text": [
        "Times where there was atleast 1 rationale: 1314\nTemp/train equal: False\nTimes when maes were not equal:"
       ]
      },
      {
       "output_type": "stream",
       "stream": "stdout",
       "text": [
        " 475\ntime: 26.7 s\n"
       ]
      }
     ],
     "input": [
      "model = linear_model.Ridge()\n",
      "reg_rate = 0\n",
      "curve, rationale_curve = get_cv_curves(np.array(data), np.array(target), alpha, folds, trials, step, budget, model, reg_rate)"
     ],
     "language": "python",
     "prompt_number": 19
    },
    {
     "cell_type": "code",
     "execution_count": null,
     "metadata": {},
     "outputs": [
      {
       "output_type": "stream",
       "stream": "stdout",
       "text": [
        "Average MAE No Rationales 1.23216258046\nAverage MAE WithRationales 1.3210119574\n"
       ]
      },
      {
       "output_type": "display_data",
       "png": "[encoded data removed]",
       "text": [
        "<matplotlib.figure.Figure at 0x9636f2b0>"
       ],
       "metadata": {}
      },
      {
       "output_type": "stream",
       "stream": "stdout",
       "text": [
        "time: 1.09 s\n"
       ]
      }
     ],
     "input": [
      "print \"Average MAE No Rationales\", np.average(curve[:,1][:5])\n",
      "print \"Average MAE WithRationales\", np.average(rationale_curve[:,1][:5])\n",
      "plt.xlabel('Train Examples')\n",
      "plt.ylabel('MAE')\n",
      "plt.title('Ridge Regression with 5 Fold Cross Validation')\n",
      "plt.plot(curve[:,0], curve[:,1], '.r-', rationale_curve[:,0], rationale_curve[:,1], '.b-')\n",
      "plt.legend(['No Rationales', 'With Rationales'])\n",
      "plt.show()"
     ],
     "language": "python",
     "prompt_number": 20
    },
    {
     "cell_type": "code",
     "execution_count": null,
     "metadata": {},
     "outputs": [],
     "input": [
      "model = linear_model.Ridge()\n",
      "reg_rate = 0\n",
      "curve, rationale_curve = get_cv_curves(np.array(data), np.array(target), alpha, folds, trials, step, budget, model, reg_rate)"
     ],
     "language": "python",
     "prompt_number": 16
    },
    {
     "cell_type": "code",
     "execution_count": null,
     "metadata": {},
     "outputs": [],
     "input": [
      "print \"Average MAE No Rationales\", np.average(curve[:,1])\n",
      "print \"Average MAE WithRationales\", np.average(rationale_curve[:,1])\n",
      "plt.clf()\n",
      "plt.xlabel('Train Examples')\n",
      "plt.ylabel('MAE')\n",
      "plt.title('Lasso Regression with 5 Fold Cross Validation')\n",
      "plt.plot(curve[:,0], curve[:,1], '.r-', rationale_curve[:,0], rationale_curve[:,1], '.b-')\n",
      "plt.legend(['No Rationales', 'With Rationales'])\n",
      "plt.show()"
     ],
     "language": "python",
     "prompt_number": 17
    },
    {
     "cell_type": "code",
     "execution_count": null,
     "metadata": {},
     "outputs": [],
     "input": [
      ""
     ],
     "language": "python"
    }
   ]
  }
 ],
 "cells": [],
 "metadata": {},
 "nbformat": 3,
 "nbformat_minor": 0
}