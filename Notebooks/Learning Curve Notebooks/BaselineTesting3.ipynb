{
 "worksheets": [
  {
   "cells": [
    {
     "cell_type": "code",
     "execution_count": null,
     "metadata": {},
     "outputs": [
      {
       "output_type": "stream",
       "stream": "stdout",
       "text": [
        "Installed autotime.py. To use it, type:\n  %load_ext autotime\n"
       ]
      }
     ],
     "input": [
      "%load_ext autoreload\n",
      "%matplotlib inline\n",
      "%install_ext https://raw.github.com/cpcloud/ipython-autotime/master/autotime.py\n",
      "%load_ext autotime\n",
      "import matplotlib.pyplot as plt\n",
      "import RationaleSelect\n",
      "from RationaleSelect import *\n",
      "from Classifiers import TransparentLinearRegression\n",
      "from sklearn import cross_validation, linear_model\n",
      "from sklearn.metrics import mean_absolute_error, precision_score\n",
      "from sklearn.cross_validation import train_test_split\n",
      "import pandas as pd"
     ],
     "language": "python",
     "prompt_number": 1
    },
    {
     "cell_type": "code",
     "execution_count": null,
     "metadata": {},
     "outputs": [
      {
       "ename": "NameError",
       "evalue": "name 'RationaleSelect' is not defined",
       "output_type": "pyerr",
       "traceback": [
        "\u001b[1;31m---------------------------------------------------------------------------\u001b[0m",
        "\u001b[1;31mNameError\u001b[0m                                 Traceback (most recent call last)",
        "\u001b[1;32m<ipython-input-1-dd348bd17899>\u001b[0m in \u001b[0;36m<module>\u001b[1;34m()\u001b[0m\n\u001b[1;32m----> 1\u001b[1;33m \u001b[0mreload\u001b[0m\u001b[1;33m(\u001b[0m\u001b[0mRationaleSelect\u001b[0m\u001b[1;33m)\u001b[0m\u001b[1;33m\u001b[0m\u001b[0m\n\u001b[0m",
        "\u001b[1;31mNameError\u001b[0m: name 'RationaleSelect' is not defined"
       ]
      }
     ],
     "input": [
      "reload(RationaleSelect)"
     ],
     "language": "python",
     "prompt_number": 1
    },
    {
     "cell_type": "code",
     "execution_count": null,
     "metadata": {},
     "outputs": [
      {
       "output_type": "stream",
       "stream": "stdout",
       "text": [
        "Number of rated movies, 1061\ntime: 10.4 s\n"
       ]
      }
     ],
     "input": [
      "userid = 155440\n",
      "user_ratings = get_matched_user_ratings(userid)\n",
      "movies = user_ratings.keys()\n",
      "ratings = user_ratings.values()\n",
      "\n",
      "id_dict = get_id_row_dict()\n",
      "idxs = [id_dict[k] for k in movies]\n",
      "avg_and_num = sort_avg()\n",
      "print \"Number of rated movies,\", len(ratings)"
     ],
     "language": "python",
     "prompt_number": 2
    },
    {
     "cell_type": "code",
     "execution_count": null,
     "metadata": {},
     "outputs": [
      {
       "output_type": "stream",
       "stream": "stdout",
       "text": [
        "time: 35.6 s\n"
       ]
      }
     ],
     "input": [
      "genre_matrix = get_genre_matrix()[idxs]\n",
      "user_key_matrix  = get_key_matrix()[idxs]\n",
      "actor_matrix = get_actor_matrix()[idxs]"
     ],
     "language": "python",
     "prompt_number": 3
    },
    {
     "cell_type": "code",
     "execution_count": null,
     "metadata": {},
     "outputs": [
      {
       "output_type": "stream",
       "stream": "stdout",
       "text": [
        "time: 2.43 s\n"
       ]
      }
     ],
     "input": [
      "key_names = get_key_names()\n",
      "genre_names = np.array(get_genre_dict().keys())\n",
      "actor_names = np.array(get_actor_names())"
     ],
     "language": "python",
     "prompt_number": 4
    },
    {
     "cell_type": "code",
     "execution_count": null,
     "metadata": {},
     "outputs": [
      {
       "output_type": "stream",
       "stream": "stdout",
       "text": [
        "time: 24 ms\n"
       ]
      }
     ],
     "input": [
      "pp.scale(avg_and_num[:,0], with_mean=True, with_std=True, copy=False)\n",
      "pp.scale(avg_and_num[:,1], with_mean=True, with_std=True, copy=False)\n",
      "data = np.column_stack((avg_and_num[idxs], genre_matrix, user_key_matrix, actor_matrix))\n",
      "target = ratings"
     ],
     "language": "python",
     "prompt_number": 5
    },
    {
     "cell_type": "code",
     "execution_count": null,
     "metadata": {},
     "outputs": [
      {
       "output_type": "stream",
       "stream": "stdout",
       "text": [
        "time: 52 ms\n"
       ]
      }
     ],
     "input": [
      "def get_frequent_rationales(train_data, y_train, frequency):\n",
      "    non_avg = train_data[:,2:]\n",
      "    rationale_weights = get_rationale_weights(non_avg, y_train)\n",
      "    maxs, mins = build_rationales(non_avg, y_train, rationale_weights, frequency)\n",
      "    print_rationales(mins,maxs)\n",
      "    maxs = maxs.keys()\n",
      "    mins = mins.keys()\n",
      "    return maxs, mins\n",
      "\n",
      "\n",
      "def build_train_with_rationales(train_data, y_train, maxs, mins):\n",
      "    non_avg = train_data[:,2:]\n",
      "    count = 0\n",
      "    for x in range(train_data.shape[0]):\n",
      "        movie = non_avg[x]\n",
      "        nz = np.nonzero(movie)\n",
      "        valid_maxs = np.intersect1d(maxs, nz)\n",
      "        valid_mins = np.intersect1d(mins, nz)\n",
      "        \n",
      "        if y_train[x] > 3.5 and len(valid_maxs) > 0:\n",
      "            count +=1\n",
      "            movie = np.multiply(movie, 0.1)\n",
      "            rationale = np.random.choice(maxs, min(len(valid_maxs),1))\n",
      "            movie[rationale] *= 10\n",
      "        elif y_train[x] < 2.5 and len(valid_mins) > 0:\n",
      "            count +=1            \n",
      "            movie = np.multiply(movie, 0.1)\n",
      "            rationale = np.random.choice(mins, min(len(valid_mins),1))\n",
      "            movie[rationale] *= 10\n",
      "        train_data[x][2:] = movie\n",
      "    return train_data\n",
      "\n",
      "\n",
      "def hi_lo_precision(y_test, y_pred):\n",
      "    true = np.array(y_test)\n",
      "    pred = np.array(y_pred)\n",
      "    hi_idxs = np.where(true>3.5)\n",
      "    lo_idxs = np.where(true<2.0)\n",
      "    hi_lo = np.append(hi_idxs, lo_idxs)\n",
      "    \n",
      "    pred = pred[hi_lo]   \n",
      "    hi_pred = np.where(pred>3.5)\n",
      "    lo_pred = np.where(pred<2.0)\n",
      "    \n",
      "    true[hi_idxs] = 1\n",
      "    true[lo_idxs] = 0\n",
      "    true = true[hi_lo]\n",
      "    \n",
      "    pred.fill(2)\n",
      "    pred[hi_pred] = 1\n",
      "    pred[lo_pred] = 0\n",
      "    return precision_score(true, pred, average='micro')"
     ],
     "language": "python",
     "prompt_number": 6
    },
    {
     "cell_type": "code",
     "execution_count": null,
     "metadata": {},
     "outputs": [
      {
       "output_type": "stream",
       "stream": "stdout",
       "text": [
        "time: 17 ms\n"
       ]
      }
     ],
     "input": [
      "def gen_indices(y_train, indices):\n",
      "    hi = np.where(y_train > 3.5)[0]\n",
      "    np.random.shuffle(hi)\n",
      "    lo = np.where(y_train < 2.5)[0]\n",
      "    np.random.shuffle(lo)\n",
      "    hi_lo = np.hstack((hi[:10],lo[:10]))\n",
      "    indices = np.setdiff1d(indices, hi_lo, assume_unique= True)\n",
      "    np.random.shuffle(indices)\n",
      "    indices = np.hstack((hi_lo, indices))\n",
      "    return indices\n",
      "\n",
      "\n",
      "def gen_curves(mae_dict, rationale_mae_dict, s_dict):\n",
      "    mae_curve = [[k,np.average(v)] for k,v in mae_dict.iteritems()]\n",
      "    mae_curve.sort(key=lambda x:x[0])\n",
      "    rationale_mae_curve = [[k,np.average(v)] for k,v in rationale_mae_dict.iteritems()]\n",
      "    rationale_mae_curve.sort(key=lambda x:x[0])\n",
      "    s_curve = [[k,np.average(v)] for k,v in s_dict.iteritems()]\n",
      "    s_curve.sort(key=lambda x:x[0])\n",
      "    return np.array(mae_curve), np.array(rationale_mae_curve), np.array(s_curve)"
     ],
     "language": "python",
     "prompt_number": 7
    },
    {
     "cell_type": "code",
     "execution_count": null,
     "metadata": {},
     "outputs": [
      {
       "output_type": "stream",
       "stream": "stdout",
       "text": [
        "time: 38 ms\n"
       ]
      }
     ],
     "input": [
      "def get_cv_curves_scaled(data, target, alpha, folds, trials, step, budget, model):\n",
      "    model.alpha = alpha\n",
      "\n",
      "    kf = cross_validation.KFold(data.shape[0], n_folds=folds, shuffle = True, random_state = 42)\n",
      "    \n",
      "    mae_dict = {}\n",
      "    rationale_mae_dict = {}\n",
      "    s_dict = {}\n",
      "    iters = 10\n",
      "    for train_index, test_index in kf:\n",
      "        X_train, X_test = data[train_index], data[test_index]\n",
      "        y_train, y_test = target[train_index], target[test_index]\n",
      "        s_train = np.array(X_train)\n",
      "        s_train[:,2:] = np.multiply(s_train[:,2:], 0.1)\n",
      "        rationale_train = build_train_with_rationales(np.array(X_train), np.array(y_train), maxs, mins)\n",
      "        \n",
      "        indices = np.arange(len(y_train))\n",
      "        sublens = np.arange(step, min(len(y_train),budget), step)\n",
      "        \n",
      "        for _ in xrange(trials):\n",
      "            indices = gen_indices(y_train, indices)\n",
      "            for sublen in sublens:\n",
      "                sub = indices[range(sublen)]\n",
      "                \n",
      "                mae = optimal_alpha_predict(model, X_test, X_train[sub], y_train[sub], y_test, iters)\n",
      "                if sublen in mae_dict:\n",
      "                    mae_dict[sublen].append(mae)\n",
      "                else:\n",
      "                    mae_dict[sublen] = [mae]\n",
      "                    \n",
      "                scaled_mae = optimal_alpha_predict(model, X_test, s_train[sub], y_train[sub], y_test, iters)\n",
      "                if sublen in s_dict:\n",
      "                    s_dict[sublen].append(scaled_mae)\n",
      "                else:\n",
      "                    s_dict[sublen] = [scaled_mae]\n",
      "    \n",
      "                rationale_mae = optimal_alpha_predict(model, X_test, rationale_train[sub], y_train[sub], y_test, iters)\n",
      "                if sublen in rationale_mae_dict:\n",
      "                    rationale_mae_dict[sublen].append(rationale_mae)\n",
      "                else:\n",
      "                    rationale_mae_dict[sublen] = [rationale_mae]\n",
      "    return gen_curves(mae_dict, rationale_mae_dict, s_dict)"
     ],
     "language": "python",
     "prompt_number": 8
    },
    {
     "cell_type": "code",
     "execution_count": null,
     "metadata": {},
     "outputs": [
      {
       "output_type": "stream",
       "stream": "stdout",
       "text": [
        "time: 7 ms\n"
       ]
      }
     ],
     "input": [
      "def optimal_alpha_predict(model, X_test, X_train, y_train, y_test, iters=10):\n",
      "    alpha = 1\n",
      "    min_mae = 100\n",
      "    for i in range(iters):\n",
      "        model.alpha = alpha\n",
      "        model.fit(X_train, y_train)\n",
      "        y_pred = model.predict(X_test)\n",
      "        mae = mean_absolute_error(y_test, y_pred)\n",
      "        if mae < min_mae:\n",
      "            min_mae = mae\n",
      "        alpha+=1+i/2\n",
      "    return min_mae"
     ],
     "language": "python",
     "prompt_number": 9
    },
    {
     "cell_type": "code",
     "execution_count": null,
     "metadata": {},
     "outputs": [
      {
       "output_type": "stream",
       "stream": "stdout",
       "text": [
        "                     Featue Name Top Weight Occurence Total Frequency\n0                         Action                  122           242.0\n1                passionate-kiss                   12            28.0\n2                  based-on-book                   20            42.0\n3                        teacher                   44            85.0\n4                          death                   25           347.0\n5      reference-to-jesus-christ                   12            39.0\n6              slow-motion-scene                   30           175.0\n7                         condom                   12            18.0\n8                    blockbuster                   18           231.0\n9             female-protagonist                   53            98.0\n10                   immortality                   12            23.0\n11                          food                   43           107.0\n12                     christmas                   25            77.0\n13  mother-daughter-relationship                   15           200.0\n14                        castle                   20            44.0\n15                         bible                   11            30.0\n16               box-office-flop                   15            49.0\n17                box-office-hit                  171           297.0\n18                         robot                   17            47.0\n19               loss-of-brother                   12            26.0\n20                        letter                   13            76.0\n21             fish-out-of-water                   18            42.0\n22             killing-an-animal                   26            57.0\n23                     anti-hero                   22            93.0\n24                       colonel                   11            26.0\n25                         water                   20            36.0\n26                   slow-motion                   18            41.0\n27                Pacino, Al (I)                   11            11.0\n                     Featue Name Top Weight Occurence Total Frequency\n0                      Animation                   11            62.0\n1                            War                   13            34.0\n2                      Adventure                   27            73.0\n3                       shootout                   57           182.0\n4                         satire                   30            67.0\n5             based-on-tv-series                   11            33.0\n6                   storytelling                   21            39.0\n7                         winter                   12            26.0\n8                 claim-in-title                   15            26.0\n9                       henchman                   13            38.0\n10                 fictional-war                   24            51.0\n11            female-rear-nudity                   32            62.0\n12                           map                   20            66.0\n13                  masturbation                   27            45.0\n14                 based-on-play                   21            31.0\n15                based-on-comic                   22            37.0\n16                        eating                   36            86.0\n17                one-word-title                   70           192.0\n18                       village                   15            51.0\n19  lifting-someone-into-the-air                   29            91.0\n20               secret-identity                   22            36.0\n21                transformation                   15            46.0\n22                    photograph                   30           208.0\n23                         2000s                   27            89.0\n24  actor-playing-multiple-roles                   16            26.0\n25                   outer-space                   24            47.0\n26  scene-during-opening-credits                   15            31.0\n27                   supermarket                   14            24.0\n28                   drunkenness                   26           166.0\n29                   action-hero                   44           110.0\n30                   little-girl                   30            56.0\nNumber of frequent positive features: 28\nNumber of frequent negative features: 31\ntime: 1.64 s\n"
       ]
      }
     ],
     "input": [
      "def print_rationales(mins,maxs):\n",
      "    names = np.hstack([genre_names, key_names, actor_names])\n",
      "    col_names = [\"Featue Name\", \"Top Weight Occurence\", \"Total Frequency\"]\n",
      "    tot_freq = np.sum(data[:,2:], axis = 0)\n",
      "    max_vals = np.column_stack((names[maxs.keys()], maxs.values(), tot_freq[maxs.keys()]))\n",
      "    min_vals = np.column_stack((names[mins.keys()], mins.values(), tot_freq[mins.keys()]))\n",
      "    \n",
      "    maxs_df = pd.DataFrame(max_vals, columns = col_names)\n",
      "    mins_df = pd.DataFrame(min_vals, columns = col_names)\n",
      "    print maxs_df\n",
      "    print mins_df\n",
      "\n",
      "frequency = .01\n",
      "maxs, mins = get_frequent_rationales(np.array(data), np.array(target), frequency)\n",
      "print \"Number of frequent positive features:\", len(maxs)\n",
      "print \"Number of frequent negative features:\", len(mins)"
     ],
     "language": "python",
     "prompt_number": 10
    },
    {
     "cell_type": "markdown",
     "metadata": {},
     "source": [
      "# Excluding average/number of ratings from rationales/scaling."
     ]
    },
    {
     "cell_type": "code",
     "execution_count": null,
     "metadata": {},
     "outputs": [
      {
       "output_type": "stream",
       "stream": "stdout",
       "text": [
        "time: 5min 1s\n"
       ]
      }
     ],
     "input": [
      "model = linear_model.Ridge()\n",
      "alpha = 1\n",
      "folds = 5\n",
      "trials = 5\n",
      "step = 20\n",
      "budget = 400\n",
      "curve, rationale_curve, s_curve = get_cv_curves_scaled(np.array(data), np.array(target), alpha, folds, trials, step, budget, model)"
     ],
     "language": "python",
     "prompt_number": 11
    },
    {
     "cell_type": "code",
     "execution_count": null,
     "metadata": {},
     "outputs": [
      {
       "output_type": "stream",
       "stream": "stdout",
       "text": [
        "Average MAE No Rationales 1.47501107559\nAverage MAE With Rationales 1.51388795281\nAverage MAE scaled 1.524341822\n"
       ]
      },
      {
       "output_type": "display_data",
       "png": "[encoded data removed]",
       "text": [
        "<matplotlib.figure.Figure at 0x34c84a8>"
       ],
       "metadata": {}
      },
      {
       "output_type": "stream",
       "stream": "stdout",
       "text": [
        "time: 238 ms\n"
       ]
      }
     ],
     "input": [
      "print \"Average MAE No Rationales\", np.average(curve[:,1][:5])\n",
      "print \"Average MAE With Rationales\", np.average(rationale_curve[:,1][:5])\n",
      "print \"Average MAE scaled\", np.average(s_curve[:,1][:5])\n",
      "plt.xlabel('Train Examples')\n",
      "plt.ylabel('MAE')\n",
      "plt.title('Ridge Regression with 5 Fold Cross Validation')\n",
      "plt.plot(curve[:,0], curve[:,1], '.r-', s_curve[:,0], s_curve[:,1], '.g-', rationale_curve[:,0], rationale_curve[:,1], '.b-')\n",
      "plt.legend(['No Rationales', 'No Rationales Scaled', 'With Rationales'])\n",
      "plt.show()"
     ],
     "language": "python",
     "prompt_number": 12
    },
    {
     "cell_type": "code",
     "execution_count": null,
     "metadata": {},
     "outputs": [
      {
       "output_type": "stream",
       "stream": "stdout",
       "text": [
        "time: 60 ms\n"
       ]
      }
     ],
     "input": [
      "def get_cv_curves_scaled_no_avg(data, target, alpha, folds, trials, step, budget, model):\n",
      "    model.alpha = alpha\n",
      "\n",
      "    kf = cross_validation.KFold(data.shape[0], n_folds=folds, shuffle = True, random_state = 42)\n",
      "    \n",
      "    mae_dict = {}\n",
      "    rationale_mae_dict = {}\n",
      "    s_dict = {}\n",
      "    iters = 10\n",
      "    for train_index, test_index in kf:\n",
      "        X_train, X_test = data[train_index], data[test_index]\n",
      "        y_train, y_test = target[train_index], target[test_index]\n",
      "        s_train = np.array(X_train)\n",
      "        s_train[:,2:] = np.multiply(s_train[:,2:], 0.1)\n",
      "        rationale_train = build_train_with_rationales(np.array(s_train), np.array(y_train), maxs, mins)\n",
      "        \n",
      "        s_train = s_train[:,2:]\n",
      "        rationale_train = rationale_train[:,2:]\n",
      "        X_test = X_test[:,2:]\n",
      "        X_train = X_train[:,2:]\n",
      "        \n",
      "        indices = np.arange(len(y_train))\n",
      "        sublens = np.arange(step, min(len(y_train),budget), step)\n",
      "        \n",
      "        for _ in xrange(trials):\n",
      "            indices = gen_indices(y_train, indices)\n",
      "            for sublen in sublens:\n",
      "                sub = indices[range(sublen)]\n",
      "                \n",
      "                mae = optimal_alpha_predict(model, X_test, X_train[sub], y_train[sub], y_test, iters)\n",
      "                if sublen in mae_dict:\n",
      "                    mae_dict[sublen].append(mae)\n",
      "                else:\n",
      "                    mae_dict[sublen] = [mae]\n",
      "                    \n",
      "                scaled_mae = optimal_alpha_predict(model, X_test, s_train[sub], y_train[sub], y_test, iters)\n",
      "                if sublen in s_dict:\n",
      "                    s_dict[sublen].append(scaled_mae)\n",
      "                else:\n",
      "                    s_dict[sublen] = [scaled_mae]\n",
      "    \n",
      "                rationale_mae = optimal_alpha_predict(model, X_test, rationale_train[sub], y_train[sub], y_test, iters)\n",
      "                if sublen in rationale_mae_dict:\n",
      "                    rationale_mae_dict[sublen].append(rationale_mae)\n",
      "                else:\n",
      "                    rationale_mae_dict[sublen] = [rationale_mae]\n",
      "    return gen_curves(mae_dict, rationale_mae_dict, s_dict)"
     ],
     "language": "python",
     "prompt_number": 13
    },
    {
     "cell_type": "markdown",
     "metadata": {},
     "source": [
      "# Excluding average/number of ratings from all train/test data."
     ]
    },
    {
     "cell_type": "code",
     "execution_count": null,
     "metadata": {},
     "outputs": [
      {
       "output_type": "stream",
       "stream": "stdout",
       "text": [
        "time: 6min\n"
       ]
      }
     ],
     "input": [
      "model = linear_model.Ridge()\n",
      "alpha = 1\n",
      "folds = 5\n",
      "trials = 5\n",
      "step = 20\n",
      "budget = 400\n",
      "curve, rationale_curve, s_curve = get_cv_curves_scaled_no_avg(np.array(data), np.array(target), alpha, folds, trials, step, budget, model)"
     ],
     "language": "python",
     "prompt_number": 14
    },
    {
     "cell_type": "code",
     "execution_count": null,
     "metadata": {},
     "outputs": [
      {
       "output_type": "stream",
       "stream": "stdout",
       "text": [
        "Average MAE No Rationales 1.54434819287\nAverage MAE With Rationales 1.62462691603\nAverage MAE scaled 1.61139194692\n"
       ]
      },
      {
       "output_type": "display_data",
       "png": "[encoded data removed]",
       "text": [
        "<matplotlib.figure.Figure at 0x1676f4e0>"
       ],
       "metadata": {}
      },
      {
       "output_type": "stream",
       "stream": "stdout",
       "text": [
        "time: 230 ms\n"
       ]
      }
     ],
     "input": [
      "print \"Average MAE No Rationales\", np.average(curve[:,1][:5])\n",
      "print \"Average MAE With Rationales\", np.average(rationale_curve[:,1][:5])\n",
      "print \"Average MAE scaled\", np.average(s_curve[:,1][:5])\n",
      "plt.xlabel('Train Examples')\n",
      "plt.ylabel('MAE')\n",
      "plt.title('Ridge Regression with 5 Fold Cross Validation')\n",
      "plt.plot(curve[:,0], curve[:,1], '.r-', s_curve[:,0], s_curve[:,1], '.g-', rationale_curve[:,0], rationale_curve[:,1], '.b-')\n",
      "plt.legend(['No Rationales', 'No Rationales Scaled', 'With Rationales'])\n",
      "plt.show()"
     ],
     "language": "python",
     "prompt_number": 15
    },
    {
     "cell_type": "markdown",
     "metadata": {},
     "source": [
      "# Including average/number of ratings as rationales."
     ]
    },
    {
     "cell_type": "code",
     "execution_count": null,
     "metadata": {},
     "outputs": [
      {
       "output_type": "stream",
       "stream": "stdout",
       "text": [
        "time: 47 ms\n"
       ]
      }
     ],
     "input": [
      "def get_cv_curves_scaled_with_avg(data, target, alpha, folds, trials, step, budget, model, iters):\n",
      "    model.alpha = alpha\n",
      "    kf = cross_validation.KFold(data.shape[0], n_folds=folds, shuffle = True, random_state = 42)    \n",
      "    mae_dict = {}\n",
      "    rationale_mae_dict = {}\n",
      "    s_dict = {}\n",
      "    for train_index, test_index in kf:\n",
      "        X_train, X_test = data[train_index], data[test_index]\n",
      "        y_train, y_test = target[train_index], target[test_index]\n",
      "        s_train = np.array(X_train)\n",
      "        s_train = np.multiply(s_train, 0.1)\n",
      "        rationale_train = build_train_with_rationales_avg(np.array(X_train), np.array(y_train), maxs_avg, mins_avg)        \n",
      "        indices = np.arange(len(y_train))\n",
      "        sublens = np.arange(step, min(len(y_train),budget), step)      \n",
      "        \n",
      "        for _ in xrange(trials):\n",
      "            indices = gen_indices(y_train, indices)\n",
      "            for sublen in sublens:\n",
      "                sub = indices[range(sublen)]\n",
      "                \n",
      "                mae = optimal_alpha_predict(model, X_test, X_train[sub], y_train[sub], y_test, iters)\n",
      "                if sublen in mae_dict:\n",
      "                    mae_dict[sublen].append(mae)\n",
      "                else:\n",
      "                    mae_dict[sublen] = [mae]\n",
      "                    \n",
      "                scaled_mae = optimal_alpha_predict(model, X_test, s_train[sub], y_train[sub], y_test, iters)\n",
      "                if sublen in s_dict:\n",
      "                    s_dict[sublen].append(scaled_mae)\n",
      "                else:\n",
      "                    s_dict[sublen] = [scaled_mae]\n",
      "    \n",
      "                rationale_mae = optimal_alpha_predict(model, X_test, rationale_train[sub], y_train[sub], y_test, iters)\n",
      "                if sublen in rationale_mae_dict:\n",
      "                    rationale_mae_dict[sublen].append(rationale_mae)\n",
      "                else:\n",
      "                    rationale_mae_dict[sublen] = [rationale_mae]\n",
      "    return gen_curves(mae_dict, rationale_mae_dict, s_dict)"
     ],
     "language": "python",
     "prompt_number": 16
    },
    {
     "cell_type": "code",
     "execution_count": null,
     "metadata": {},
     "outputs": [
      {
       "output_type": "stream",
       "stream": "stdout",
       "text": [
        "time: 25 ms\n"
       ]
      }
     ],
     "input": [
      "def get_frequent_rationales_avg(train_data, y_train, frequency):\n",
      "    non_avg = train_data\n",
      "    rationale_weights = get_rationale_weights(non_avg, y_train)\n",
      "    maxs, mins = build_rationales(non_avg, y_train, rationale_weights, frequency)\n",
      "    print_rationales(mins,maxs)\n",
      "    maxs = maxs.keys()\n",
      "    mins = mins.keys()\n",
      "    return maxs, mins\n",
      "\n",
      "\n",
      "def build_train_with_rationales_avg(train_data, y_train, maxs, mins):\n",
      "    count = 0\n",
      "    for x in range(train_data.shape[0]):\n",
      "        movie = train_data[x]\n",
      "        nz = np.nonzero(movie)\n",
      "        valid_maxs = np.intersect1d(maxs, nz)\n",
      "        valid_mins = np.intersect1d(mins, nz)\n",
      "        \n",
      "        if y_train[x] > 3.5 and len(valid_maxs) > 0:\n",
      "            count +=1\n",
      "            movie = np.multiply(movie, 0.001)\n",
      "            rationale = np.random.choice(maxs, min(len(valid_maxs),1))\n",
      "            movie[rationale] *= 1000\n",
      "        elif y_train[x] < 2.5 and len(valid_mins) > 0:\n",
      "            count +=1            \n",
      "            movie = np.multiply(movie, 0.001)\n",
      "            rationale = np.random.choice(mins, min(len(valid_mins),1))\n",
      "            movie[rationale] *= 1000\n",
      "        train_data[x] = movie\n",
      "    return train_data"
     ],
     "language": "python",
     "prompt_number": 17
    },
    {
     "cell_type": "code",
     "execution_count": null,
     "metadata": {},
     "outputs": [
      {
       "output_type": "stream",
       "stream": "stdout",
       "text": [
        "              Featue Name Top Weight Occurence Total Frequency\n0                 Mystery                   90           273.0\n1                 Romance                  105           220.0\n2                  Comedy                  121           261.0\n3                   angel                   11            11.0\n4                    sand                   10            12.0\n5         repeating-rifle                   14             5.0\n6                     fbi                   42            44.0\n7                war-hero                   14            16.0\n8                    pool                   30             8.0\n9             child-abuse                   15            35.0\n10          walkie-talkie                   19            31.0\n11                    sea                   11            18.0\n12                  diner                   52            84.0\n13            black-humor                   14            27.0\n14                  hotel                   43           117.0\n15              cafeteria                   23            14.0\n16               gas-mask                    9            22.0\n17             small-town                   13            82.0\n18  new-orleans-louisiana                    9            15.0\n19                   park                    9            19.0\n20            crime-scene                   14            14.0\n21               cemetery                  144            96.0\n22       thirty-something                    9            14.0\n23      behind-the-scenes                   23             7.0\n24              pregnancy                   15           114.0\n25              swordsman                   24            12.0\n26                    gym                   12            17.0\n27                   lion                   10            14.0\n28     video-surveillance                   20            25.0\n29        tracking-device                   19            20.0\n30       Plowright, Hilda                   10             0.0\n31          Palance, Jack                   10             1.0\n                              Featue Name Top Weight Occurence Total Frequency\n0                                 Mystery                   36           273.0\n1                                 Musical                    9             8.0\n2                      (no genres listed)                   10           128.0\n3                                   chain                   29             3.0\n4                                nickname                   37            24.0\n5                          sense-of-smell                    9            13.0\n6                               flat-tire                    9            14.0\n7                              first-kiss                   21            25.0\n8                                    date                   14            28.0\n9                       torso-cut-in-half                   16            25.0\n10                              videotape                   10            10.0\n11                hit-with-a-baseball-bat                   24            12.0\n12                             drug-abuse                   10            15.0\n13                                sadness                    9            38.0\n14                                   hell                   16             5.0\n15                        street-shootout                   31            27.0\n16                                camping                   23             9.0\n17                              astronaut                   10            11.0\n18                               barefoot                   28            28.0\n19                              telescope                   21            23.0\n20                         based-on-comic                   19            37.0\n21                               survival                   14            52.0\n22                         martial-artist                   13             9.0\n23                                   cave                   34            44.0\n24                             comic-book                   77            12.0\n25                      sawed-off-shotgun                   15            15.0\n26                         director-cameo                   12            22.0\n27                      told-in-flashback                   35            29.0\n28                                apology                   22            64.0\n29                                  faith                   16            24.0\n30  character's-point-of-view-camera-shot                   35            70.0\n31           scene-before-opening-credits                   11             9.0\n32                        boarding-school                    9             9.0\n33                             voice-over                   25            17.0\n34                               insanity                   16            42.0\n35                              anthology                   13             3.0\n36                    nude-woman-murdered                    9             9.0\n37                               mountain                   46            32.0\n38                        period-in-title                   44            12.0\n39                              explosion                   30           235.0\nNumber of frequent positive features: 32\nNumber of frequent negative features: 40\ntime: 2.68 s\n"
       ]
      }
     ],
     "input": [
      "frequency = .008\n",
      "maxs_avg, mins_avg = get_frequent_rationales_avg(np.array(data), np.array(target), frequency)\n",
      "print \"Number of frequent positive features:\", len(maxs_avg)\n",
      "print \"Number of frequent negative features:\", len(mins_avg)"
     ],
     "language": "python",
     "prompt_number": 18
    },
    {
     "cell_type": "code",
     "execution_count": null,
     "metadata": {},
     "outputs": [
      {
       "output_type": "stream",
       "stream": "stdout",
       "text": [
        "time: 4min 11s\n"
       ]
      }
     ],
     "input": [
      "model = linear_model.Ridge()\n",
      "alpha = 1\n",
      "folds = 5\n",
      "trials = 5\n",
      "step = 20\n",
      "budget = 400\n",
      "reg_rate = 0\n",
      "iters = 10\n",
      "curve, rationale_curve, s_curve = get_cv_curves_scaled_with_avg(np.array(data), np.array(target), alpha, folds, trials, step, budget, model,iters)"
     ],
     "language": "python",
     "prompt_number": 21
    },
    {
     "cell_type": "code",
     "execution_count": null,
     "metadata": {},
     "outputs": [
      {
       "output_type": "stream",
       "stream": "stdout",
       "text": [
        "Average MAE No Rationales 1.47126952541\nAverage MAE With Rationales 1.57331844327\nAverage MAE scaled 1.7213468144\n"
       ]
      },
      {
       "output_type": "display_data",
       "png": "[encoded data removed]",
       "text": [
        "<matplotlib.figure.Figure at 0x180ba240>"
       ],
       "metadata": {}
      },
      {
       "output_type": "stream",
       "stream": "stdout",
       "text": [
        "time: 189 ms\n"
       ]
      }
     ],
     "input": [
      "print \"Average MAE No Rationales\", np.average(curve[:,1][:5])\n",
      "print \"Average MAE With Rationales\", np.average(rationale_curve[:,1][:5])\n",
      "print \"Average MAE scaled\", np.average(s_curve[:,1][:5])\n",
      "plt.xlabel('Train Examples')\n",
      "plt.ylabel('MAE')\n",
      "plt.title('Ridge Regression with 5 Fold Cross Validation')\n",
      "plt.plot(curve[:,0], curve[:,1], '.r-', s_curve[:,0], s_curve[:,1], '.g-', rationale_curve[:,0], rationale_curve[:,1], '.b-')\n",
      "plt.legend(['No Rationales', 'No Rationales Scaled', 'With Rationales'])\n",
      "plt.show()"
     ],
     "language": "python",
     "prompt_number": 22
    },
    {
     "cell_type": "code",
     "execution_count": null,
     "metadata": {},
     "outputs": [],
     "input": [
      ""
     ],
     "language": "python"
    }
   ]
  }
 ],
 "cells": [],
 "metadata": {},
 "nbformat": 3,
 "nbformat_minor": 0
}