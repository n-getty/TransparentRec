{
 "worksheets": [
  {
   "cells": [
    {
     "cell_type": "code",
     "execution_count": null,
     "metadata": {},
     "outputs": [
      {
       "output_type": "stream",
       "stream": "stdout",
       "text": [
        "The autoreload extension is already loaded. To reload it, use:\n  %reload_ext autoreload\nInstalled autotime.py. To use it, type:"
       ]
      },
      {
       "output_type": "stream",
       "stream": "stdout",
       "text": [
        "\n  %load_ext autotime\nThe autotime extension is already loaded. To reload it, use:\n  %reload_ext autotime\ntime: 813 ms\n"
       ]
      }
     ],
     "input": [
      "%load_ext autoreload\n",
      "%matplotlib inline\n",
      "%install_ext https://raw.github.com/cpcloud/ipython-autotime/master/autotime.py\n",
      "%load_ext autotime\n",
      "import matplotlib.pyplot as plt\n",
      "import RationaleSelect\n",
      "from RationaleSelect import *\n",
      "from Classifiers import TransparentLinearRegression\n",
      "from sklearn import cross_validation, linear_model\n",
      "from sklearn.metrics import mean_absolute_error, explained_variance_score\n",
      "from sklearn.cross_validation import train_test_split\n",
      "import pandas as pd"
     ],
     "language": "python",
     "prompt_number": 52
    },
    {
     "cell_type": "code",
     "execution_count": null,
     "metadata": {},
     "outputs": [
      {
       "output_type": "pyout",
       "prompt_number": 25,
       "text": [
        "<module 'RationaleSelect' from 'RationaleSelect.py'>"
       ],
       "metadata": {}
      },
      {
       "output_type": "stream",
       "stream": "stdout",
       "text": [
        "time: 8 ms\n"
       ]
      }
     ],
     "input": [
      "reload(RationaleSelect)"
     ],
     "language": "python",
     "prompt_number": 25
    },
    {
     "cell_type": "code",
     "execution_count": null,
     "metadata": {},
     "outputs": [
      {
       "output_type": "stream",
       "stream": "stdout",
       "text": [
        "time: 7.93 s\n"
       ]
      }
     ],
     "input": [
      "userid = 170099\n",
      "user_ratings = get_matched_user_ratings(userid)\n",
      "movies = user_ratings.keys()\n",
      "ratings = user_ratings.values()"
     ],
     "language": "python",
     "prompt_number": 2
    },
    {
     "cell_type": "code",
     "execution_count": null,
     "metadata": {},
     "outputs": [
      {
       "output_type": "stream",
       "stream": "stdout",
       "text": [
        "time: 2.02 s\n"
       ]
      }
     ],
     "input": [
      "id_dict = get_id_row_dict()\n",
      "idxs = [id_dict[k] for k in movies]\n",
      "avg_and_num = sort_avg()"
     ],
     "language": "python",
     "prompt_number": 3
    },
    {
     "cell_type": "code",
     "execution_count": null,
     "metadata": {},
     "outputs": [
      {
       "output_type": "stream",
       "stream": "stdout",
       "text": [
        "time: 33 s\n"
       ]
      }
     ],
     "input": [
      "genre_matrix = get_genre_matrix()[idxs]\n",
      "user_key_matrix  = get_key_matrix()[idxs]\n",
      "actor_matrix = get_actor_matrix()[idxs]"
     ],
     "language": "python",
     "prompt_number": 4
    },
    {
     "cell_type": "code",
     "execution_count": null,
     "metadata": {},
     "outputs": [
      {
       "output_type": "stream",
       "stream": "stdout",
       "text": [
        "time: 35 ms\n"
       ]
      }
     ],
     "input": [
      "pp.scale(avg_and_num[:,0], with_mean=True, with_std=True, copy=False)\n",
      "pp.scale(avg_and_num[:,1], with_mean=True, with_std=True, copy=False)\n",
      "data = np.column_stack((avg_and_num[idxs], genre_matrix, user_key_matrix, actor_matrix))\n",
      "target = ratings"
     ],
     "language": "python",
     "prompt_number": 5
    },
    {
     "cell_type": "code",
     "execution_count": null,
     "metadata": {},
     "outputs": [
      {
       "output_type": "stream",
       "stream": "stdout",
       "text": [
        "time: 4 ms\n"
       ]
      }
     ],
     "input": [
      "def get_frequent_rationales(train_data, y_train, frequency):\n",
      "    non_avg = train_data[:,2:]\n",
      "    rationale_weights = get_rationale_weights(non_avg, y_train)\n",
      "    maxs, mins = build_rationales(non_avg, y_train, rationale_weights, frequency)\n",
      "    print_rationales(mins,maxs)\n",
      "    maxs = maxs.keys()\n",
      "    mins = mins.keys()\n",
      "    return maxs, mins"
     ],
     "language": "python",
     "prompt_number": 6
    },
    {
     "cell_type": "code",
     "execution_count": null,
     "metadata": {},
     "outputs": [
      {
       "output_type": "stream",
       "stream": "stdout",
       "text": [
        "time: 17 ms\n"
       ]
      }
     ],
     "input": [
      "def build_train_with_rationales(train_data, y_train, maxs, mins):\n",
      "    temp = np.array(train_data)\n",
      "    non_avg = train_data[:,2:]\n",
      "    count = 0\n",
      "    for x in range(train_data.shape[0]):\n",
      "        movie = non_avg[x]\n",
      "        nz = np.nonzero(movie)\n",
      "        valid_maxs = np.intersect1d(maxs, nz)\n",
      "        valid_mins = np.intersect1d(mins, nz)\n",
      "        \n",
      "        if y_train[x] > 3.5 and len(valid_maxs) > 0:\n",
      "            count +=1\n",
      "            #movie = np.multiply(movie, 0.001)\n",
      "            rationale = np.random.choice(maxs, min(len(valid_maxs),1))\n",
      "            movie[rationale] *= 100\n",
      "        elif y_train[x] < 2.5 and len(valid_mins) > 0:\n",
      "            count +=1            \n",
      "            #movie = np.multiply(movie, 0.001)\n",
      "            rationale = np.random.choice(mins, min(len(valid_mins),1))\n",
      "            movie[rationale] *= 100\n",
      "        train_data[x][2:] = movie\n",
      "    print \"Times where there was atleast 1 rationale:\", count\n",
      "    print \"Temp/train equal:\",np.array_equal(temp,train_data)\n",
      "    return train_data"
     ],
     "language": "python",
     "prompt_number": 7
    },
    {
     "cell_type": "code",
     "execution_count": null,
     "metadata": {},
     "outputs": [
      {
       "output_type": "stream",
       "stream": "stdout",
       "text": [
        "time: 21 ms\n"
       ]
      }
     ],
     "input": [
      "def build_train_with_rationales2(train_data, y_train, maxs, mins):\n",
      "    temp = np.array(train_data)\n",
      "    count = 0\n",
      "    for x in range(train_data.shape[0]):\n",
      "        #movie = non_avg[x]\n",
      "        movie = train_data[x]\n",
      "        nz = np.nonzero(movie[2:])\n",
      "        valid_maxs = np.intersect1d(maxs, nz)\n",
      "        valid_mins = np.intersect1d(mins, nz)\n",
      "        if y_train[x] > 3.0 and len(valid_maxs) > 0:\n",
      "            count +=1\n",
      "            movie = np.multiply(movie, 0.01)\n",
      "            rationale = np.random.choice(maxs, min(len(valid_maxs),1))\n",
      "            movie[rationale+2] *= 100\n",
      "        elif y_train[x] < 3.0 and len(valid_mins) > 0:\n",
      "            count +=1            \n",
      "            movie = np.multiply(movie, 0.01)\n",
      "            rationale = np.random.choice(mins, min(len(valid_mins),1))\n",
      "            movie[rationale+2] *= 100\n",
      "        train_data[x] = movie\n",
      "    print \"Times where there was atleast 1 rationale:\", count\n",
      "    print \"Temp/train equal:\",np.array_equal(temp,train_data)\n",
      "    return train_data"
     ],
     "language": "python",
     "prompt_number": 8
    },
    {
     "cell_type": "code",
     "execution_count": null,
     "metadata": {},
     "outputs": [
      {
       "output_type": "stream",
       "stream": "stdout",
       "text": [
        "time: 6 ms\n"
       ]
      }
     ],
     "input": [
      "def gen_indices(y_train, indices):\n",
      "    hi = np.where(y_train > 3.5)[0]\n",
      "    np.random.shuffle(hi)\n",
      "    lo = np.where(y_train < 2.5)[0]\n",
      "    np.random.shuffle(lo)\n",
      "    hi_lo = np.hstack((hi[:10],lo[:10]))\n",
      "    indices = np.setdiff1d(indices, hi_lo, assume_unique= True)\n",
      "    np.random.shuffle(indices)\n",
      "    indices = np.hstack((hi_lo, indices))\n",
      "    return indices"
     ],
     "language": "python",
     "prompt_number": 9
    },
    {
     "cell_type": "code",
     "execution_count": null,
     "metadata": {},
     "outputs": [],
     "input": [
      ""
     ],
     "language": "python"
    },
    {
     "cell_type": "code",
     "execution_count": null,
     "metadata": {},
     "outputs": [
      {
       "output_type": "stream",
       "stream": "stdout",
       "text": [
        "time: 6 ms\n"
       ]
      }
     ],
     "input": [
      "def get_acc_metric(y_test, y_pred):\n",
      "    y_test = np.array(y_test)\n",
      "    y_pred = np.array(y_pred)\n",
      "    high_idxs = np.where(y_pred == 5)\n",
      "    high_test = np.where(y_test[high_idxs] > 4.5)\n",
      "    all_high = np.where(y_test > 4.5)\n",
      "    print high_idxs\n",
      "    print y_test[high_idxs]\n",
      "    #print all_high\n",
      "    sub = len(high_test) - len(all_high)\n",
      "    #diff = np.abs(y_test-y_pred)\n",
      "    acc = float(len(high_test)-sub)/len(high_idxs)\n",
      "    #print acc\n",
      "    return acc"
     ],
     "language": "python",
     "prompt_number": 50
    },
    {
     "cell_type": "code",
     "execution_count": null,
     "metadata": {},
     "outputs": [
      {
       "output_type": "stream",
       "stream": "stdout",
       "text": [
        "time: 41 ms\n"
       ]
      }
     ],
     "input": [
      "def get_cv_curves(data, target, alpha, folds, trials, step, budget, model, reg_rate):\n",
      "    model.alpha = alpha\n",
      "    \n",
      "    kf = cross_validation.KFold(data.shape[0], n_folds=folds, shuffle = True, random_state = 42)\n",
      "    \n",
      "    mae_dict = {}\n",
      "    rationale_mae_dict = {}\n",
      "    #rationale_data = build_train_with_rationales(np.array(data), np.array(target), maxs, mins)\n",
      "    maene = 0\n",
      "    for train_index, test_index in kf:\n",
      "        X_train, X_test = data[train_index], data[test_index]\n",
      "        y_train, y_test = target[train_index], target[test_index]\n",
      "        #rationale_train = rationale_data[train_index]\n",
      "        indices = np.arange(len(y_train))\n",
      "        sublens = np.arange(step, min(len(y_train),budget), step)\n",
      "        rationale_train = build_train_with_rationales(np.array(X_train), np.array(y_train), maxs, mins)\n",
      "        for _ in xrange(trials):\n",
      "            indices = gen_indices(y_train, indices)\n",
      "            \n",
      "            for sublen in sublens:\n",
      "                model.alpha += reg_rate\n",
      "                sub = indices[range(sublen)]\n",
      "                model.fit(X_train[sub], y_train[sub])\n",
      "                y_pred = model.predict(X_test)\n",
      "                mae = mean_absolute_error(y_test, y_pred)\n",
      "                if sublen in mae_dict:\n",
      "                    mae_dict[sublen].append(mae)\n",
      "                else:\n",
      "                    mae_dict[sublen] = [mae]\n",
      "    \n",
      "                model.fit(rationale_train[sub], y_train[sub])\n",
      "                y_pred = model.predict(X_test)\n",
      "                mae2 = mean_absolute_error(y_test, y_pred)\n",
      "                if sublen in rationale_mae_dict:\n",
      "                    rationale_mae_dict[sublen].append(mae2)\n",
      "                else:\n",
      "                    rationale_mae_dict[sublen] = [mae2]\n",
      "                \n",
      "                if not np.array_equal(X_train[sub],rationale_train[sub]):\n",
      "                    maene +=1\n",
      "    mae_curve = [[k,np.average(v)] for k,v in mae_dict.iteritems()]\n",
      "    mae_curve.sort(key=lambda x:x[0])\n",
      "    rationale_mae_curve = [[k,np.average(v)] for k,v in rationale_mae_dict.iteritems()]\n",
      "    rationale_mae_curve.sort(key=lambda x:x[0])\n",
      "    print \"Times when maes were not equal:\", maene\n",
      "    return np.array(mae_curve), np.array(rationale_mae_curve)"
     ],
     "language": "python",
     "prompt_number": 10
    },
    {
     "cell_type": "code",
     "execution_count": null,
     "metadata": {},
     "outputs": [
      {
       "output_type": "stream",
       "stream": "stdout",
       "text": [
        "time: 63 ms\n"
       ]
      }
     ],
     "input": [
      "def get_cv_curves_scaled(data, target, alpha, folds, trials, step, budget, model, reg_rate):\n",
      "    model.alpha = alpha\n",
      "    \n",
      "    #data = np.array(data[:,2:])\n",
      "\n",
      "    kf = cross_validation.KFold(data.shape[0], n_folds=folds, shuffle = True, random_state = 42)\n",
      "    \n",
      "    mae_dict = {}\n",
      "    rationale_mae_dict = {}\n",
      "    s_dict = {}\n",
      "    #rationale_data = build_train_with_rationales(np.array(data), np.array(target), maxs, mins)\n",
      "    maene = 0\n",
      "    \n",
      "    for train_index, test_index in kf:\n",
      "        X_train, X_test = data[train_index], data[test_index]\n",
      "        y_train, y_test = target[train_index], target[test_index]\n",
      "        s_train = np.array(X_train)\n",
      "        #s_test = np.array(X_test)\n",
      "        s_train[:,2:] = np.multiply(s_train[:,2:], 0.001)\n",
      "        #s_test[:,2:] = np.multiply(s_test[:,2:], 0.0001)\n",
      "        #s_train = np.multiply(X_train, 0.0001)\n",
      "        #s_test = np.multiply(X_test, 0.0001)\n",
      "        rationale_train = build_train_with_rationales(np.array(s_train), np.array(y_train), maxs, mins)\n",
      "        \n",
      "        #rationale_train = rationale_data[train_index]\n",
      "        indices = np.arange(len(y_train))\n",
      "        sublens = np.arange(step, min(len(y_train),budget), step)\n",
      "        \n",
      "        for _ in xrange(trials):\n",
      "            model.alpha = alpha\n",
      "            indices = gen_indices(y_train, indices)\n",
      "            \n",
      "            for sublen in sublens:\n",
      "                model.alpha += reg_rate\n",
      "                sub = indices[range(sublen)]\n",
      "                model.fit(X_train[sub], y_train[sub])\n",
      "                y_pred = model.predict(X_test)\n",
      "                #mae = mean_absolute_error(y_test, y_pred)\n",
      "                mae = explained_variance_score(y_test, y_pred)\n",
      "                if sublen in mae_dict:\n",
      "                    mae_dict[sublen].append(mae)\n",
      "                else:\n",
      "                    mae_dict[sublen] = [mae]\n",
      "\n",
      "                model.fit(s_train[sub], y_train[sub])\n",
      "                y_pred = model.predict(X_test)\n",
      "                #s_mae = mean_absolute_error(y_test, y_pred)\n",
      "                s_mae = explained_variance_score(y_test, y_pred)\n",
      "                if sublen in s_dict:\n",
      "                    s_dict[sublen].append(s_mae)\n",
      "                else:\n",
      "                    s_dict[sublen] = [s_mae]\n",
      "    \n",
      "                model.fit(rationale_train[sub], y_train[sub])\n",
      "                y_pred = model.predict(X_test)\n",
      "                #mae2 = mean_absolute_error(y_test, y_pred)\n",
      "                mae2 = explained_variance_score(y_test, y_pred)\n",
      "                if sublen in rationale_mae_dict:\n",
      "                    rationale_mae_dict[sublen].append(mae2)\n",
      "                else:\n",
      "                    rationale_mae_dict[sublen] = [mae2]\n",
      "                \n",
      "                if not np.array_equal(X_train[sub],rationale_train[sub]):\n",
      "                    maene +=1\n",
      "    mae_curve = [[k,np.average(v)] for k,v in mae_dict.iteritems()]\n",
      "    mae_curve.sort(key=lambda x:x[0])\n",
      "    rationale_mae_curve = [[k,np.average(v)] for k,v in rationale_mae_dict.iteritems()]\n",
      "    rationale_mae_curve.sort(key=lambda x:x[0])\n",
      "    s_curve = [[k,np.average(v)] for k,v in s_dict.iteritems()]\n",
      "    s_curve.sort(key=lambda x:x[0])\n",
      "    print \"Times when maes were not equal:\", maene\n",
      "    return np.array(mae_curve), np.array(rationale_mae_curve), np.array(s_curve)"
     ],
     "language": "python",
     "prompt_number": 57
    },
    {
     "cell_type": "code",
     "execution_count": null,
     "metadata": {},
     "outputs": [
      {
       "output_type": "stream",
       "stream": "stdout",
       "text": [
        "time: 71 ms\n"
       ]
      }
     ],
     "input": [
      "def get_cv_curves_scaled2(data, target, alpha, folds, trials, step, budget, model, reg_rate):\n",
      "    model.alpha = alpha\n",
      "    \n",
      "    kf = cross_validation.KFold(data.shape[0], n_folds=folds, shuffle = True, random_state = 42)\n",
      "    \n",
      "    mae_dict = {}\n",
      "    rationale_mae_dict = {}\n",
      "    s_dict = {}\n",
      "    #rationale_data = build_train_with_rationales(np.array(data), np.array(target), maxs, mins)\n",
      "    maene = 0\n",
      "    \n",
      "    for train_index, test_index in kf:\n",
      "        X_train, X_test = data[train_index], data[test_index]\n",
      "        y_train, y_test = target[train_index], target[test_index]\n",
      "        s_train = np.array(X_train)\n",
      "        s_test = np.array(X_test)\n",
      "        s_train[:,2:] = np.multiply(s_train[:,2:], 0.0001)\n",
      "        s_test[:,2:] = np.multiply(s_test[:,2:], 0.0001)\n",
      "        #s_train = np.multiply(X_train, 0.0001)\n",
      "        #s_test = np.multiply(X_test, 0.0001)\n",
      "        rationale_train = build_train_with_rationales(np.array(X_train), np.array(y_train), maxs, mins)\n",
      "        \n",
      "        #rationale_train = rationale_data[train_index]\n",
      "        indices = np.arange(len(y_train))\n",
      "        sublens = np.arange(step, min(len(y_train),budget), step)\n",
      "        \n",
      "        for _ in xrange(trials):\n",
      "            model.alpha = alpha\n",
      "            indices = gen_indices(y_train, indices)\n",
      "            \n",
      "            for sublen in sublens:\n",
      "                model.alpha += reg_rate\n",
      "                sub = indices[range(sublen)]\n",
      "                model.fit(X_train[sub], y_train[sub])\n",
      "                y_pred = model.predict(X_test)\n",
      "                mae = mean_absolute_error(y_test, y_pred)\n",
      "                if sublen in mae_dict:\n",
      "                    mae_dict[sublen].append(mae)\n",
      "                else:\n",
      "                    mae_dict[sublen] = [mae]\n",
      "\n",
      "                model.fit(s_train[sub], y_train[sub])\n",
      "                y_pred = model.predict(s_test)\n",
      "                s_mae = mean_absolute_error(y_test, y_pred)\n",
      "                if sublen in s_dict:\n",
      "                    s_dict[sublen].append(s_mae)\n",
      "                else:\n",
      "                    s_dict[sublen] = [s_mae]\n",
      "    \n",
      "                model.fit(rationale_train[sub], y_train[sub])\n",
      "                y_pred = model.predict(X_test)\n",
      "                mae2 = mean_absolute_error(y_test, y_pred)\n",
      "                if sublen in rationale_mae_dict:\n",
      "                    rationale_mae_dict[sublen].append(mae2)\n",
      "                else:\n",
      "                    rationale_mae_dict[sublen] = [mae2]\n",
      "                \n",
      "                if not np.array_equal(X_train[sub],rationale_train[sub]):\n",
      "                    maene +=1\n",
      "    mae_curve = [[k,np.average(v)] for k,v in mae_dict.iteritems()]\n",
      "    mae_curve.sort(key=lambda x:x[0])\n",
      "    rationale_mae_curve = [[k,np.average(v)] for k,v in rationale_mae_dict.iteritems()]\n",
      "    rationale_mae_curve.sort(key=lambda x:x[0])\n",
      "    s_curve = [[k,np.average(v)] for k,v in s_dict.iteritems()]\n",
      "    s_curve.sort(key=lambda x:x[0])\n",
      "    print \"Times when maes were not equal:\", maene\n",
      "    return np.array(mae_curve), np.array(rationale_mae_curve), np.array(s_curve)"
     ],
     "language": "python",
     "prompt_number": 12
    },
    {
     "cell_type": "code",
     "execution_count": null,
     "metadata": {},
     "outputs": [
      {
       "output_type": "stream",
       "stream": "stdout",
       "text": [
        "time: 74 ms\n"
       ]
      }
     ],
     "input": [
      "def get_cv_curves_scaled3(data, target, alpha, folds, trials, step, budget, model, reg_rate):\n",
      "    model.alpha = alpha\n",
      "    \n",
      "    kf = cross_validation.KFold(data.shape[0], n_folds=folds, shuffle = True, random_state = 42)\n",
      "    \n",
      "    mae_dict = {}\n",
      "    rationale_mae_dict = {}\n",
      "    s_dict = {}\n",
      "    rationale_data = build_train_with_rationales(np.array(data), np.array(target), maxs, mins)\n",
      "    maene = 0\n",
      "    \n",
      "    for train_index, test_index in kf:\n",
      "        X_train, X_test = data[train_index], data[test_index]\n",
      "        y_train, y_test = target[train_index], target[test_index]\n",
      "        #s_train = np.array(X_train)\n",
      "        s_test = np.array(X_test)\n",
      "        #s_train[:,2:] = np.multiply(s_train[:,2:], 0.0001)\n",
      "        #s_test[:,2:] = np.multiply(s_test[:,2:], 0.0001)\n",
      "        s_train = np.multiply(X_train, 0.0001)\n",
      "        s_test = np.multiply(X_test, 0.0001)\n",
      "        \n",
      "        rationale_train = rationale_data[train_index]\n",
      "        indices = np.arange(len(y_train))\n",
      "        sublens = np.arange(step, min(len(y_train),budget), step)\n",
      "        \n",
      "        for _ in xrange(trials):\n",
      "            model.alpha = alpha\n",
      "            indices = gen_indices(y_train, indices)\n",
      "            \n",
      "            for sublen in sublens:\n",
      "                model.alpha += reg_rate\n",
      "                sub = indices[range(sublen)]\n",
      "                model.fit(X_train[sub], y_train[sub])\n",
      "                y_pred = model.predict(X_test)\n",
      "                mae = mean_absolute_error(y_test, y_pred)\n",
      "                if sublen in mae_dict:\n",
      "                    mae_dict[sublen].append(mae)\n",
      "                else:\n",
      "                    mae_dict[sublen] = [mae]\n",
      "\n",
      "                model.fit(s_train[sub], y_train[sub])\n",
      "                y_pred = model.predict(s_test)\n",
      "                s_mae = mean_absolute_error(y_test, y_pred)\n",
      "                if sublen in s_dict:\n",
      "                    s_dict[sublen].append(s_mae)\n",
      "                else:\n",
      "                    s_dict[sublen] = [s_mae]\n",
      "    \n",
      "                model.fit(rationale_train[sub], y_train[sub])\n",
      "                y_pred = model.predict(X_test)\n",
      "                mae2 = mean_absolute_error(y_test, y_pred)\n",
      "                if sublen in rationale_mae_dict:\n",
      "                    rationale_mae_dict[sublen].append(mae2)\n",
      "                else:\n",
      "                    rationale_mae_dict[sublen] = [mae2]\n",
      "                \n",
      "                if not np.array_equal(X_train[sub],rationale_train[sub]):\n",
      "                    maene +=1\n",
      "    mae_curve = [[k,np.average(v)] for k,v in mae_dict.iteritems()]\n",
      "    mae_curve.sort(key=lambda x:x[0])\n",
      "    rationale_mae_curve = [[k,np.average(v)] for k,v in rationale_mae_dict.iteritems()]\n",
      "    rationale_mae_curve.sort(key=lambda x:x[0])\n",
      "    s_curve = [[k,np.average(v)] for k,v in s_dict.iteritems()]\n",
      "    s_curve.sort(key=lambda x:x[0])\n",
      "    print \"Times when maes were not equal:\", maene\n",
      "    return np.array(mae_curve), np.array(rationale_mae_curve), np.array(s_curve)"
     ],
     "language": "python",
     "prompt_number": 13
    },
    {
     "cell_type": "code",
     "execution_count": null,
     "metadata": {},
     "outputs": [
      {
       "output_type": "stream",
       "stream": "stdout",
       "text": [
        "time: 2.27 s\n"
       ]
      }
     ],
     "input": [
      "key_names = get_key_names()\n",
      "genre_names = np.array(get_genre_dict().keys())\n",
      "actor_names = np.array(get_actor_names())"
     ],
     "language": "python",
     "prompt_number": 14
    },
    {
     "cell_type": "code",
     "execution_count": null,
     "metadata": {},
     "outputs": [
      {
       "output_type": "stream",
       "stream": "stdout",
       "text": [
        "time: 8 ms\n"
       ]
      }
     ],
     "input": [
      "def print_rationales(mins,maxs):\n",
      "    names = np.hstack([genre_names, key_names, actor_names])\n",
      "    col_names = [\"Featue Name\", \"Top Weight Occurence\", \"Total Frequency\"]\n",
      "    print 'Getting tot freq'\n",
      "    tot_freq = np.sum(data[:,2:], axis = 0)\n",
      "    print \"Done tot freq\"\n",
      "    max_vals = np.column_stack((names[maxs.keys()], maxs.values(), tot_freq[maxs.keys()]))\n",
      "    min_vals = np.column_stack((names[mins.keys()], mins.values(), tot_freq[mins.keys()]))\n",
      "    \n",
      "    maxs_df = pd.DataFrame(max_vals, columns = col_names)\n",
      "    mins_df = pd.DataFrame(min_vals, columns = col_names)\n",
      "    print maxs_df\n",
      "    print mins_df"
     ],
     "language": "python",
     "prompt_number": 15
    },
    {
     "cell_type": "code",
     "execution_count": null,
     "metadata": {},
     "outputs": [
      {
       "output_type": "stream",
       "stream": "stdout",
       "text": [
        "Reloaded\nNonzero weights:"
       ]
      },
      {
       "output_type": "stream",
       "stream": "stdout",
       "text": [
        " 4082\nNonzero: "
       ]
      },
      {
       "output_type": "stream",
       "stream": "stdout",
       "text": [
        "174543\nPrim:"
       ]
      },
      {
       "output_type": "stream",
       "stream": "stdout",
       "text": [
        " 0\nPost: 0\nGetting tot freq\nDone tot freq\n                           Featue Name Top Weight Occurence Total Frequency\n0                                 IMAX                   56            99.0\n1                                Crime                   75            86.0\n2  written-and-directed-by-cast-member                   45            61.0\n3                            obsession                   76           147.0\n4                                  sex                  221           381.0\n5                          blockbuster                  178           370.0\n6                           surrealism                  109           193.0\n7                 critically-acclaimed                   86           104.0\n8                               tunnel                   47            68.0\n       Featue Name Top Weight Occurence Total Frequency\n0          Mystery                  189           417.0\n1          Fantasy                   75           175.0\n2        Animation                  107           271.0\n3  box-office-flop                   76           145.0\n4           sequel                  142           223.0\nNumber of frequent positive features: 9\nNumber of frequent negative features: 5\ntime: 10.2 s\n"
       ]
      }
     ],
     "input": [
      "frequency = .02\n",
      "maxs, mins = get_frequent_rationales(np.array(data), np.array(target), frequency)\n",
      "print \"Number of frequent positive features:\", len(maxs)\n",
      "print \"Number of frequent negative features:\", len(mins)"
     ],
     "language": "python",
     "prompt_number": 17
    },
    {
     "cell_type": "code",
     "execution_count": null,
     "metadata": {},
     "outputs": [
      {
       "output_type": "stream",
       "stream": "stdout",
       "text": [
        "Number of movies rated by user: 2102\ntime: 3 ms\n"
       ]
      }
     ],
     "input": [
      "alpha = 1\n",
      "folds = 5\n",
      "trials = 5\n",
      "step = 20\n",
      "budget = 400\n",
      "print \"Number of movies rated by user:\", len(ratings)"
     ],
     "language": "python",
     "prompt_number": 18
    },
    {
     "cell_type": "code",
     "execution_count": null,
     "metadata": {},
     "outputs": [
      {
       "output_type": "stream",
       "stream": "stdout",
       "text": [
        "Times where there was atleast 1 rationale: 736\nTemp/train equal: False\nTimes where there was atleast 1 rationale:"
       ]
      },
      {
       "output_type": "stream",
       "stream": "stdout",
       "text": [
        " 740\nTemp/train equal: False\nTimes where there was atleast 1 rationale:"
       ]
      },
      {
       "output_type": "stream",
       "stream": "stdout",
       "text": [
        " 749\nTemp/train equal: False\nTimes where there was atleast 1 rationale:"
       ]
      },
      {
       "output_type": "stream",
       "stream": "stdout",
       "text": [
        " 752\nTemp/train equal: False\nTimes where there was atleast 1 rationale:"
       ]
      },
      {
       "output_type": "stream",
       "stream": "stdout",
       "text": [
        " 767\nTemp/train equal: False\nTimes when maes were not equal:"
       ]
      },
      {
       "output_type": "stream",
       "stream": "stdout",
       "text": [
        " 475\ntime: 24.9 s\n"
       ]
      }
     ],
     "input": [
      "model = linear_model.Ridge()\n",
      "reg_rate = 0\n",
      "curve, rationale_curve = get_cv_curves(np.array(data), np.array(target), alpha, folds, trials, step, budget, model, reg_rate)"
     ],
     "language": "python",
     "prompt_number": 34
    },
    {
     "cell_type": "code",
     "execution_count": null,
     "metadata": {},
     "outputs": [
      {
       "output_type": "stream",
       "stream": "stdout",
       "text": [
        "Average MAE No Rationales 1.02041585565\nAverage MAE WithRationales 0.88849030888\n"
       ]
      },
      {
       "output_type": "display_data",
       "png": "[encoded data removed]",
       "text": [
        "<matplotlib.figure.Figure at 0x18fad908>"
       ],
       "metadata": {}
      },
      {
       "output_type": "stream",
       "stream": "stdout",
       "text": [
        "time: 155 ms\n"
       ]
      }
     ],
     "input": [
      "print \"Average MAE No Rationales\", np.average(curve[:,1][:5])\n",
      "print \"Average MAE WithRationales\", np.average(rationale_curve[:,1][:5])\n",
      "plt.xlabel('Train Examples')\n",
      "plt.ylabel('MAE')\n",
      "plt.title('Ridge Regression with 5 Fold Cross Validation')\n",
      "plt.plot(curve[:,0], curve[:,1], '.r-', rationale_curve[:,0], rationale_curve[:,1], '.b-')\n",
      "plt.legend(['No Rationales', 'With Rationales'])\n",
      "plt.show()"
     ],
     "language": "python",
     "prompt_number": 35
    },
    {
     "cell_type": "code",
     "execution_count": null,
     "metadata": {},
     "outputs": [
      {
       "output_type": "stream",
       "stream": "stdout",
       "text": [
        "Times where there was atleast 1 rationale: 736\nTemp/train equal: False\nTimes where there was atleast 1 rationale:"
       ]
      },
      {
       "output_type": "stream",
       "stream": "stdout",
       "text": [
        " 740\nTemp/train equal: False\nTimes where there was atleast 1 rationale:"
       ]
      },
      {
       "output_type": "stream",
       "stream": "stdout",
       "text": [
        " 749\nTemp/train equal: False\nTimes where there was atleast 1 rationale:"
       ]
      },
      {
       "output_type": "stream",
       "stream": "stdout",
       "text": [
        " 752\nTemp/train equal: False\nTimes where there was atleast 1 rationale:"
       ]
      },
      {
       "output_type": "stream",
       "stream": "stdout",
       "text": [
        " 767\nTemp/train equal: False\nTimes when maes were not equal:"
       ]
      },
      {
       "output_type": "stream",
       "stream": "stdout",
       "text": [
        " 35\ntime: 4.28 s\n"
       ]
      }
     ],
     "input": [
      "model = linear_model.Ridge()\n",
      "alpha = 1\n",
      "folds = 5\n",
      "trials = 1\n",
      "step = 50\n",
      "budget = 400\n",
      "curve, rationale_curve, s_curve = get_cv_curves_scaled(np.array(data), np.array(target), alpha, folds, trials, step, budget, model, reg_rate)"
     ],
     "language": "python",
     "prompt_number": 58
    },
    {
     "cell_type": "code",
     "execution_count": null,
     "metadata": {},
     "outputs": [
      {
       "output_type": "stream",
       "stream": "stdout",
       "text": [
        "Average MAE No Rationales 0.37862312672\nAverage MAE WithRationales 0.528586307241\nAverage MAE scaled 0.530507160471\n"
       ]
      },
      {
       "output_type": "display_data",
       "png": "[encoded data removed]",
       "text": [
        "<matplotlib.figure.Figure at 0x31a6e470>"
       ],
       "metadata": {}
      },
      {
       "output_type": "stream",
       "stream": "stdout",
       "text": [
        "time: 193 ms\n"
       ]
      }
     ],
     "input": [
      "print \"Average MAE No Rationales\", np.average(curve[:,1][:5])\n",
      "print \"Average MAE WithRationales\", np.average(rationale_curve[:,1][:5])\n",
      "print \"Average MAE scaled\", np.average(s_curve[:,1][:5])\n",
      "plt.xlabel('Train Examples')\n",
      "plt.ylabel('MAE')\n",
      "plt.title('Ridge Regression with 5 Fold Cross Validation')\n",
      "plt.plot(curve[:,0], curve[:,1], '.r-', s_curve[:,0], s_curve[:,1], '.g-', rationale_curve[:,0], rationale_curve[:,1], '.b-')\n",
      "plt.legend(['No Rationales', 'No Rationales Scaled', 'With Rationales'])\n",
      "plt.show()"
     ],
     "language": "python",
     "prompt_number": 59
    },
    {
     "cell_type": "code",
     "execution_count": null,
     "metadata": {},
     "outputs": [
      {
       "output_type": "stream",
       "stream": "stdout",
       "text": [
        "Times where there was atleast 1 rationale: 957\nTemp/train equal: False\nTimes when maes were not equal:"
       ]
      },
      {
       "output_type": "stream",
       "stream": "stdout",
       "text": [
        " 75\ntime: 14.3 s\n"
       ]
      }
     ],
     "input": [
      "alpha = 1\n",
      "folds = 5\n",
      "trials = 1\n",
      "step = 50\n",
      "budget = 800\n",
      "model = linear_model.Ridge()\n",
      "reg_rate = 0\n",
      "curve, rationale_curve, s_curve = get_cv_curves_scaled(np.array(data), np.array(target), alpha, folds, trials, step, budget, model, reg_rate)"
     ],
     "language": "python",
     "prompt_number": 108
    },
    {
     "cell_type": "code",
     "execution_count": null,
     "metadata": {},
     "outputs": [
      {
       "output_type": "stream",
       "stream": "stdout",
       "text": [
        "Average MAE No Rationales 1.17472796015\nAverage MAE WithRationales 1.21758046527\n"
       ]
      },
      {
       "output_type": "display_data",
       "png": "[encoded data removed]",
       "text": [
        "<matplotlib.figure.Figure at 0x53c9d518>"
       ],
       "metadata": {}
      },
      {
       "output_type": "stream",
       "stream": "stdout",
       "text": [
        "time: 188 ms\n"
       ]
      }
     ],
     "input": [
      "print \"Average MAE No Rationales\", np.average(curve[:,1][:5])\n",
      "print \"Average MAE WithRationales\", np.average(rationale_curve[:,1][:5])\n",
      "plt.xlabel('Train Examples')\n",
      "plt.ylabel('MAE')\n",
      "plt.title('Ridge Regression with 5 Fold Cross Validation')\n",
      "plt.plot(curve[:,0], curve[:,1], '.r-', s_curve[:,0], s_curve[:,1], '.g-', rationale_curve[:,0], rationale_curve[:,1], '.b-')\n",
      "plt.legend(['No Rationales', 'No Rationales Scaled', 'With Rationales'])\n",
      "plt.show()"
     ],
     "language": "python",
     "prompt_number": 109
    },
    {
     "cell_type": "code",
     "execution_count": null,
     "metadata": {},
     "outputs": [
      {
       "output_type": "stream",
       "stream": "stdout",
       "text": [
        "Times where there was atleast 1 rationale: 1314\nTemp/train equal: False\nTimes when maes were not equal:"
       ]
      },
      {
       "output_type": "stream",
       "stream": "stdout",
       "text": [
        " 475\ntime: 36.9 s\n"
       ]
      }
     ],
     "input": [
      "alpha = 0.1\n",
      "model = linear_model.Lasso()\n",
      "reg_rate = 0\n",
      "curve, rationale_curve = get_cv_curves(np.array(data), np.array(target), alpha, folds, trials, step, budget, model, reg_rate)"
     ],
     "language": "python",
     "prompt_number": 60
    },
    {
     "cell_type": "code",
     "execution_count": null,
     "metadata": {},
     "outputs": [
      {
       "output_type": "stream",
       "stream": "stdout",
       "text": [
        "Average MAE No Rationales 0.818406462675\nAverage MAE WithRationales 0.816943352215\n"
       ]
      },
      {
       "output_type": "display_data",
       "png": "[encoded data removed]",
       "text": [
        "<matplotlib.figure.Figure at 0x627f80b8>"
       ],
       "metadata": {}
      },
      {
       "output_type": "stream",
       "stream": "stdout",
       "text": [
        "time: 162 ms\n"
       ]
      }
     ],
     "input": [
      "print \"Average MAE No Rationales\", np.average(curve[:,1])\n",
      "print \"Average MAE WithRationales\", np.average(rationale_curve[:,1])\n",
      "plt.clf()\n",
      "plt.xlabel('Train Examples')\n",
      "plt.ylabel('MAE')\n",
      "plt.title('Lasso Regression with 5 Fold Cross Validation')\n",
      "plt.plot(curve[:,0], curve[:,1], '.r-', rationale_curve[:,0], rationale_curve[:,1], '.b-')\n",
      "plt.legend(['No Rationales', 'With Rationales'])\n",
      "plt.show()"
     ],
     "language": "python",
     "prompt_number": 61
    },
    {
     "cell_type": "code",
     "execution_count": null,
     "metadata": {},
     "outputs": [
      {
       "output_type": "stream",
       "stream": "stdout",
       "text": [
        "Times where there was atleast 1 rationale: 1314\nTemp/train equal: False\nTimes when maes were not equal:"
       ]
      },
      {
       "output_type": "stream",
       "stream": "stdout",
       "text": [
        " 475\ntime: 54.1 s\n"
       ]
      }
     ],
     "input": [
      "model = linear_model.Lasso()\n",
      "reg_rate = 0\n",
      "curve, rationale_curve, s_curve = get_cv_curves_scaled(np.array(data), np.array(target), alpha, folds, trials, step, budget, model, reg_rate)"
     ],
     "language": "python",
     "prompt_number": 62
    },
    {
     "cell_type": "code",
     "execution_count": null,
     "metadata": {},
     "outputs": [
      {
       "output_type": "stream",
       "stream": "stdout",
       "text": [
        "Average MAE No Rationales 0.851778131833\nAverage MAE WithRationales 1.25850802195\n"
       ]
      },
      {
       "output_type": "display_data",
       "png": "[encoded data removed]",
       "text": [
        "<matplotlib.figure.Figure at 0x16a77f60>"
       ],
       "metadata": {}
      },
      {
       "output_type": "stream",
       "stream": "stdout",
       "text": [
        "time: 210 ms\n"
       ]
      }
     ],
     "input": [
      "print \"Average MAE No Rationales\", np.average(curve[:,1][:5])\n",
      "print \"Average MAE WithRationales\", np.average(rationale_curve[:,1][:5])\n",
      "plt.clf()\n",
      "plt.xlabel('Train Examples')\n",
      "plt.ylabel('MAE')\n",
      "plt.title('Lasso Regression with 5 Fold Cross Validation')\n",
      "plt.plot(curve[:,0], curve[:,1], '.r-', s_curve[:,0], s_curve[:,1], '.g-', rationale_curve[:,0], rationale_curve[:,1], '.b-')\n",
      "plt.legend(['No Rationales', 'No Rationales Scaled', 'With Rationales'])\n",
      "plt.show()"
     ],
     "language": "python",
     "prompt_number": 63
    },
    {
     "cell_type": "code",
     "execution_count": null,
     "metadata": {},
     "outputs": [
      {
       "output_type": "stream",
       "stream": "stdout",
       "text": [
        "Times where there was atleast 1 rationale: 1314\nTemp/train equal: False\nTimes when maes were not equal:"
       ]
      },
      {
       "output_type": "stream",
       "stream": "stdout",
       "text": [
        " 75\ntime: 14.1 s\n"
       ]
      }
     ],
     "input": [
      "alpha = 1\n",
      "folds = 5\n",
      "trials = 1\n",
      "step = 50\n",
      "budget = 800\n",
      "model = linear_model.Ridge()\n",
      "reg_rate = 0\n",
      "curve, rationale_curve, s_curve = get_cv_curves_scaled2(np.array(data), np.array(target), alpha, folds, trials, step, budget, model, reg_rate)"
     ],
     "language": "python",
     "prompt_number": 124
    },
    {
     "cell_type": "code",
     "execution_count": null,
     "metadata": {},
     "outputs": [
      {
       "output_type": "stream",
       "stream": "stdout",
       "text": [
        "Average MAE No Rationales 0.919407733428\nAverage MAE WithRationales 0.841200616063\n"
       ]
      },
      {
       "output_type": "display_data",
       "png": "[encoded data removed]",
       "text": [
        "<matplotlib.figure.Figure at 0x16a77ef0>"
       ],
       "metadata": {}
      },
      {
       "output_type": "stream",
       "stream": "stdout",
       "text": [
        "time: 178 ms\n"
       ]
      }
     ],
     "input": [
      "print \"Average MAE No Rationales\", np.average(curve[:,1][:5])\n",
      "print \"Average MAE WithRationales\", np.average(rationale_curve[:,1][:5])\n",
      "plt.xlabel('Train Examples')\n",
      "plt.ylabel('MAE')\n",
      "plt.title('Ridge Regression with 5 Fold Cross Validation')\n",
      "plt.plot(curve[:,0], curve[:,1], '.r-', s_curve[:,0], s_curve[:,1], '.g-', rationale_curve[:,0], rationale_curve[:,1], '.b-')\n",
      "plt.legend(['No Rationales', 'No Rationales Scaled', 'With Rationales'])\n",
      "plt.show()"
     ],
     "language": "python",
     "prompt_number": 125
    },
    {
     "cell_type": "code",
     "execution_count": null,
     "metadata": {},
     "outputs": [
      {
       "output_type": "stream",
       "stream": "stdout",
       "text": [
        "Times where there was atleast 1 rationale: 1262\nTemp/train equal: False\nTimes when maes were not equal:"
       ]
      },
      {
       "output_type": "stream",
       "stream": "stdout",
       "text": [
        " 475\ntime: 36.1 s\n"
       ]
      }
     ],
     "input": [
      "alpha = 1\n",
      "folds = 5\n",
      "trials = 5\n",
      "step = 20\n",
      "budget = 400\n",
      "model = linear_model.Ridge()\n",
      "reg_rate = 0\n",
      "curve, rationale_curve, s_curve = get_cv_curves_scaled3(np.array(data), np.array(target), alpha, folds, trials, step, budget, model, reg_rate)"
     ],
     "language": "python",
     "prompt_number": 33
    },
    {
     "cell_type": "code",
     "execution_count": null,
     "metadata": {},
     "outputs": [
      {
       "output_type": "stream",
       "stream": "stdout",
       "text": [
        "Average MAE No Rationales 1.23834163076\nAverage MAE WithRationales 1.35547800897\n"
       ]
      },
      {
       "output_type": "display_data",
       "png": "[encoded data removed]",
       "text": [
        "<matplotlib.figure.Figure at 0x167d0ba8>"
       ],
       "metadata": {}
      },
      {
       "output_type": "stream",
       "stream": "stdout",
       "text": [
        "time: 190 ms\n"
       ]
      }
     ],
     "input": [
      "print \"Average MAE No Rationales\", np.average(curve[:,1][:5])\n",
      "print \"Average MAE WithRationales\", np.average(rationale_curve[:,1][:5])\n",
      "plt.xlabel('Train Examples')\n",
      "plt.ylabel('MAE')\n",
      "plt.title('Ridge Regression with 5 Fold Cross Validation')\n",
      "#plt.figure(figsize=(8,6))\n",
      "plt.plot(curve[:,0], curve[:,1], '.r-', s_curve[:,0], s_curve[:,1], '.g-', rationale_curve[:,0], rationale_curve[:,1], '.b-')\n",
      "plt.legend(['No Rationales', 'No Rationales Scaled', 'With Rationales'])\n",
      "plt.show()"
     ],
     "language": "python",
     "prompt_number": 34
    },
    {
     "cell_type": "code",
     "execution_count": null,
     "metadata": {},
     "outputs": [],
     "input": [
      ""
     ],
     "language": "python"
    }
   ]
  }
 ],
 "cells": [],
 "metadata": {},
 "nbformat": 3,
 "nbformat_minor": 0
}