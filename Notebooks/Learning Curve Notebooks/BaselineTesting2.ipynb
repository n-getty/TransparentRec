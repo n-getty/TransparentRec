{
 "worksheets": [
  {
   "cells": [
    {
     "cell_type": "code",
     "execution_count": null,
     "metadata": {},
     "outputs": [
      {
       "output_type": "stream",
       "stream": "stdout",
       "text": [
        "The autoreload extension is already loaded. To reload it, use:\n  %reload_ext autoreload\nInstalled autotime.py. To use it, type:"
       ]
      },
      {
       "output_type": "stream",
       "stream": "stdout",
       "text": [
        "\n  %load_ext autotime\nThe autotime extension is already loaded. To reload it, use:\n  %reload_ext autotime\ntime: 538 ms\n"
       ]
      }
     ],
     "input": [
      "%load_ext autoreload\n",
      "%matplotlib inline\n",
      "%install_ext https://raw.github.com/cpcloud/ipython-autotime/master/autotime.py\n",
      "%load_ext autotime\n",
      "import matplotlib.pyplot as plt\n",
      "import RationaleSelect\n",
      "from RationaleSelect import *\n",
      "from Classifiers import TransparentLinearRegression\n",
      "from sklearn import cross_validation, linear_model\n",
      "from sklearn.metrics import mean_absolute_error, precision_score\n",
      "from sklearn.cross_validation import train_test_split\n",
      "import pandas as pd"
     ],
     "language": "python",
     "prompt_number": 36
    },
    {
     "cell_type": "code",
     "execution_count": null,
     "metadata": {},
     "outputs": [
      {
       "output_type": "pyout",
       "prompt_number": 37,
       "text": [
        "<module 'RationaleSelect' from 'RationaleSelect.pyc'>"
       ],
       "metadata": {}
      },
      {
       "output_type": "stream",
       "stream": "stdout",
       "text": [
        "time: 4 ms\n"
       ]
      }
     ],
     "input": [
      "reload(RationaleSelect)"
     ],
     "language": "python",
     "prompt_number": 37
    },
    {
     "cell_type": "code",
     "execution_count": null,
     "metadata": {},
     "outputs": [
      {
       "output_type": "stream",
       "stream": "stdout",
       "text": [
        "Number of rated movies, 764\ntime: 11.2 s\n"
       ]
      }
     ],
     "input": [
      "userid = 46262\n",
      "user_ratings = get_matched_user_ratings(userid)\n",
      "movies = user_ratings.keys()\n",
      "ratings = user_ratings.values()\n",
      "\n",
      "id_dict = get_id_row_dict()\n",
      "idxs = [id_dict[k] for k in movies]\n",
      "avg_and_num = sort_avg()\n",
      "print \"Number of rated movies,\", len(ratings)"
     ],
     "language": "python",
     "prompt_number": 16
    },
    {
     "cell_type": "code",
     "execution_count": null,
     "metadata": {},
     "outputs": [
      {
       "output_type": "stream",
       "stream": "stdout",
       "text": [
        "time: 41.7 s\n"
       ]
      }
     ],
     "input": [
      "genre_matrix = get_genre_matrix()[idxs]\n",
      "user_key_matrix  = get_key_matrix()[idxs]\n",
      "actor_matrix = get_actor_matrix()[idxs]"
     ],
     "language": "python",
     "prompt_number": 17
    },
    {
     "cell_type": "code",
     "execution_count": null,
     "metadata": {},
     "outputs": [
      {
       "output_type": "stream",
       "stream": "stdout",
       "text": [
        "time: 2.46 s\n"
       ]
      }
     ],
     "input": [
      "key_names = get_key_names()\n",
      "genre_names = np.array(get_genre_dict().keys())\n",
      "actor_names = np.array(get_actor_names())"
     ],
     "language": "python",
     "prompt_number": 18
    },
    {
     "cell_type": "code",
     "execution_count": null,
     "metadata": {},
     "outputs": [
      {
       "output_type": "stream",
       "stream": "stdout",
       "text": [
        "time: 21 ms\n"
       ]
      }
     ],
     "input": [
      "pp.scale(avg_and_num[:,0], with_mean=True, with_std=True, copy=False)\n",
      "pp.scale(avg_and_num[:,1], with_mean=True, with_std=True, copy=False)\n",
      "data = np.column_stack((avg_and_num[idxs], genre_matrix, user_key_matrix, actor_matrix))\n",
      "target = ratings"
     ],
     "language": "python",
     "prompt_number": 19
    },
    {
     "cell_type": "code",
     "execution_count": null,
     "metadata": {},
     "outputs": [
      {
       "output_type": "stream",
       "stream": "stdout",
       "text": [
        "time: 55 ms\n"
       ]
      }
     ],
     "input": [
      "def get_frequent_rationales(train_data, y_train, frequency):\n",
      "    non_avg = train_data[:,2:]\n",
      "    rationale_weights = get_rationale_weights(non_avg, y_train)\n",
      "    maxs, mins = build_rationales(non_avg, y_train, rationale_weights, frequency)\n",
      "    print_rationales(mins,maxs)\n",
      "    maxs = maxs.keys()\n",
      "    mins = mins.keys()\n",
      "    return maxs, mins\n",
      "\n",
      "\n",
      "def build_train_with_rationales(train_data, y_train, maxs, mins):\n",
      "    non_avg = train_data[:,2:]\n",
      "    count = 0\n",
      "    for x in range(train_data.shape[0]):\n",
      "        movie = non_avg[x]\n",
      "        nz = np.nonzero(movie)\n",
      "        valid_maxs = np.intersect1d(maxs, nz)\n",
      "        valid_mins = np.intersect1d(mins, nz)\n",
      "        \n",
      "        if y_train[x] > 3.5 and len(valid_maxs) > 0:\n",
      "            count +=1\n",
      "            movie = np.multiply(movie, 0.001)\n",
      "            rationale = np.random.choice(maxs, min(len(valid_maxs),1))\n",
      "            movie[rationale] *= 1000\n",
      "        elif y_train[x] < 2.5 and len(valid_mins) > 0:\n",
      "            count +=1            \n",
      "            movie = np.multiply(movie, 0.001)\n",
      "            rationale = np.random.choice(mins, min(len(valid_mins),1))\n",
      "            movie[rationale] *= 1000\n",
      "        train_data[x][2:] = movie\n",
      "    return train_data\n",
      "\n",
      "\n",
      "def hi_lo_precision(y_test, y_pred):\n",
      "    true = np.array(y_test)\n",
      "    pred = np.array(y_pred)\n",
      "    hi_idxs = np.where(true>3.5)\n",
      "    lo_idxs = np.where(true<2.0)\n",
      "    hi_lo = np.append(hi_idxs, lo_idxs)\n",
      "    \n",
      "    pred = pred[hi_lo]   \n",
      "    hi_pred = np.where(pred>3.5)\n",
      "    lo_pred = np.where(pred<2.0)\n",
      "    \n",
      "    true[hi_idxs] = 1\n",
      "    true[lo_idxs] = 0\n",
      "    true = true[hi_lo]\n",
      "    \n",
      "    pred.fill(2)\n",
      "    pred[hi_pred] = 1\n",
      "    pred[lo_pred] = 0\n",
      "    return precision_score(true, pred, average='micro')"
     ],
     "language": "python",
     "prompt_number": 20
    },
    {
     "cell_type": "code",
     "execution_count": null,
     "metadata": {},
     "outputs": [
      {
       "output_type": "stream",
       "stream": "stdout",
       "text": [
        "time: 18 ms\n"
       ]
      }
     ],
     "input": [
      "def gen_indices(y_train, indices):\n",
      "    hi = np.where(y_train > 3.5)[0]\n",
      "    np.random.shuffle(hi)\n",
      "    lo = np.where(y_train < 2.5)[0]\n",
      "    np.random.shuffle(lo)\n",
      "    hi_lo = np.hstack((hi[:10],lo[:10]))\n",
      "    indices = np.setdiff1d(indices, hi_lo, assume_unique= True)\n",
      "    np.random.shuffle(indices)\n",
      "    indices = np.hstack((hi_lo, indices))\n",
      "    return indices\n",
      "\n",
      "\n",
      "def gen_curves(mae_dict, rationale_mae_dict, s_dict):\n",
      "    mae_curve = [[k,np.average(v)] for k,v in mae_dict.iteritems()]\n",
      "    mae_curve.sort(key=lambda x:x[0])\n",
      "    rationale_mae_curve = [[k,np.average(v)] for k,v in rationale_mae_dict.iteritems()]\n",
      "    rationale_mae_curve.sort(key=lambda x:x[0])\n",
      "    s_curve = [[k,np.average(v)] for k,v in s_dict.iteritems()]\n",
      "    s_curve.sort(key=lambda x:x[0])\n",
      "    return np.array(mae_curve), np.array(rationale_mae_curve), np.array(s_curve)"
     ],
     "language": "python",
     "prompt_number": 21
    },
    {
     "cell_type": "code",
     "execution_count": null,
     "metadata": {},
     "outputs": [
      {
       "output_type": "stream",
       "stream": "stdout",
       "text": [
        "time: 39 ms\n"
       ]
      }
     ],
     "input": [
      "def get_cv_curves_scaled(data, target, alpha, folds, trials, step, budget, model):\n",
      "    model.alpha = alpha\n",
      "\n",
      "    kf = cross_validation.KFold(data.shape[0], n_folds=folds, shuffle = True, random_state = 42)\n",
      "    \n",
      "    mae_dict = {}\n",
      "    rationale_mae_dict = {}\n",
      "    s_dict = {}\n",
      "    iters = 10\n",
      "    for train_index, test_index in kf:\n",
      "        X_train, X_test = data[train_index], data[test_index]\n",
      "        y_train, y_test = target[train_index], target[test_index]\n",
      "        s_train = np.array(X_train)\n",
      "        s_train[:,2:] = np.multiply(s_train[:,2:], 0.01)\n",
      "        rationale_train = build_train_with_rationales(np.array(X_train), np.array(y_train), maxs, mins)\n",
      "        \n",
      "        indices = np.arange(len(y_train))\n",
      "        sublens = np.arange(step, min(len(y_train),budget), step)\n",
      "        \n",
      "        for _ in xrange(trials):\n",
      "            indices = gen_indices(y_train, indices)\n",
      "            for sublen in sublens:\n",
      "                sub = indices[range(sublen)]\n",
      "                \n",
      "                mae = optimal_alpha_predict(model, X_test, X_train[sub], y_train[sub], y_test, iters)\n",
      "                if sublen in mae_dict:\n",
      "                    mae_dict[sublen].append(mae)\n",
      "                else:\n",
      "                    mae_dict[sublen] = [mae]\n",
      "                    \n",
      "                scaled_mae = optimal_alpha_predict(model, X_test, s_train[sub], y_train[sub], y_test, iters)\n",
      "                if sublen in s_dict:\n",
      "                    s_dict[sublen].append(scaled_mae)\n",
      "                else:\n",
      "                    s_dict[sublen] = [scaled_mae]\n",
      "    \n",
      "                rationale_mae = optimal_alpha_predict(model, X_test, rationale_train[sub], y_train[sub], y_test, iters)\n",
      "                if sublen in rationale_mae_dict:\n",
      "                    rationale_mae_dict[sublen].append(rationale_mae)\n",
      "                else:\n",
      "                    rationale_mae_dict[sublen] = [rationale_mae]\n",
      "    return gen_curves(mae_dict, rationale_mae_dict, s_dict)"
     ],
     "language": "python",
     "prompt_number": 22
    },
    {
     "cell_type": "code",
     "execution_count": null,
     "metadata": {},
     "outputs": [
      {
       "output_type": "stream",
       "stream": "stdout",
       "text": [
        "time: 11 ms\n"
       ]
      }
     ],
     "input": [
      "def optimal_alpha_predict(model, X_test, X_train, y_train, y_test, iters=10):\n",
      "    alpha = 1\n",
      "    min_mae = 100\n",
      "    for i in range(iters):\n",
      "        model.alpha = alpha\n",
      "        model.fit(X_train, y_train)\n",
      "        y_pred = model.predict(X_test)\n",
      "        mae = mean_absolute_error(y_test, y_pred)\n",
      "        if mae < min_mae:\n",
      "            min_mae = mae\n",
      "        alpha+=1+i/2\n",
      "    return min_mae"
     ],
     "language": "python",
     "prompt_number": 23
    },
    {
     "cell_type": "code",
     "execution_count": null,
     "metadata": {},
     "outputs": [
      {
       "output_type": "stream",
       "stream": "stdout",
       "text": [
        "Reloaded\n        Featue Name Top Weight Occurence Total Frequency\n0            Horror                  166           272.0\n1           Fantasy                   42           119.0\n2               War                   63            83.0\n3             1990s                   19           115.0\n4       immortality                   12            16.0\n5       news-report                   19            35.0\n6     presumed-dead                   18            37.0\n7        friendship                   98           201.0\n8             train                   21           102.0\n9         telescope                   14            28.0\n10          wedding                   12            84.0\n11          theatre                   10            15.0\n12        affection                   21            34.0\n13            2000s                   27            69.0\n14    christmas-eve                   12            18.0\n15   security-guard                    9            38.0\n16            magic                   37            56.0\n17            1980s                    9            52.0\n18              pig                   12            29.0\n19       first-part                   41            82.0\n20   talking-animal                   26            33.0\n21  death-of-father                   16            54.0\n22           tunnel                   14            33.0\n23       police-car                   19            50.0\n24      Carrey, Jim                    8            14.0"
       ]
      },
      {
       "output_type": "stream",
       "stream": "stdout",
       "text": [
        "\n                   Featue Name Top Weight Occurence Total Frequency\n0                    Film-Noir                   46           104.0\n1                        Drama                  195           291.0\n2                    Animation                   78            85.0\n3                       Comedy                  211           261.0\n4                  Documentary                   29            31.0\n5                       camera                   34            63.0\n6                female-nudity                   67           105.0\n7          imperative-in-title                   10            21.0\n8                          sea                    8            13.0\n9                      soldier                   10            66.0\n10                        liar                    8            31.0\n11                      forest                   10            69.0\n12                     suicide                    9            77.0\n13      orchestral-music-score                   13            28.0\n14    interracial-relationship                   17            21.0\n15             railway-station                   12            24.0\n16                      friend                   31           106.0\n17                   execution                   15            31.0\n18                    drowning                   12            37.0\n19                     revenge                   39           149.0\n20                       spoof                   13            27.0\n21  sister-sister-relationship                    9            44.0\nNumber of frequent positive features: 25\nNumber of frequent negative features: 22\ntime: 1.07 s\n"
       ]
      }
     ],
     "input": [
      "def print_rationales(mins,maxs):\n",
      "    names = np.hstack([genre_names, key_names, actor_names])\n",
      "    col_names = [\"Featue Name\", \"Top Weight Occurence\", \"Total Frequency\"]\n",
      "    tot_freq = np.sum(data[:,2:], axis = 0)\n",
      "    max_vals = np.column_stack((names[maxs.keys()], maxs.values(), tot_freq[maxs.keys()]))\n",
      "    min_vals = np.column_stack((names[mins.keys()], mins.values(), tot_freq[mins.keys()]))\n",
      "    \n",
      "    maxs_df = pd.DataFrame(max_vals, columns = col_names)\n",
      "    mins_df = pd.DataFrame(min_vals, columns = col_names)\n",
      "    print maxs_df\n",
      "    print mins_df\n",
      "\n",
      "frequency = .01\n",
      "maxs, mins = get_frequent_rationales(np.array(data), np.array(target), frequency)\n",
      "print \"Number of frequent positive features:\", len(maxs)\n",
      "print \"Number of frequent negative features:\", len(mins)"
     ],
     "language": "python",
     "prompt_number": 38
    },
    {
     "cell_type": "code",
     "execution_count": null,
     "metadata": {},
     "outputs": [
      {
       "output_type": "stream",
       "stream": "stdout",
       "text": [
        "time: 4min 24s\n"
       ]
      }
     ],
     "input": [
      "model = linear_model.Ridge()\n",
      "alpha = 1\n",
      "folds = 5\n",
      "trials = 5\n",
      "step = 20\n",
      "budget = 400\n",
      "curve, rationale_curve, s_curve = get_cv_curves_scaled(np.array(data), np.array(target), alpha, folds, trials, step, budget, model)"
     ],
     "language": "python",
     "prompt_number": 39
    },
    {
     "cell_type": "code",
     "execution_count": null,
     "metadata": {},
     "outputs": [
      {
       "output_type": "stream",
       "stream": "stdout",
       "text": [
        "Average MAE No Rationales 1.34728678938\nAverage MAE With Rationales 1.45883914005\nAverage MAE scaled 1.4439339343\n"
       ]
      },
      {
       "output_type": "display_data",
       "png": "[encoded data removed]",
       "text": [
        "<matplotlib.figure.Figure at 0x84f225c0>"
       ],
       "metadata": {}
      },
      {
       "output_type": "stream",
       "stream": "stdout",
       "text": [
        "time: 219 ms\n"
       ]
      }
     ],
     "input": [
      "print \"Average MAE No Rationales\", np.average(curve[:,1][:5])\n",
      "print \"Average MAE With Rationales\", np.average(rationale_curve[:,1][:5])\n",
      "print \"Average MAE scaled\", np.average(s_curve[:,1][:5])\n",
      "plt.xlabel('Train Examples')\n",
      "plt.ylabel('MAE')\n",
      "plt.title('Ridge Regression with 5 Fold Cross Validation')\n",
      "plt.plot(curve[:,0], curve[:,1], '.r-', s_curve[:,0], s_curve[:,1], '.g-', rationale_curve[:,0], rationale_curve[:,1], '.b-')\n",
      "plt.legend(['No Rationales', 'No Rationales Scaled', 'With Rationales'])\n",
      "plt.show()"
     ],
     "language": "python",
     "prompt_number": 40
    },
    {
     "cell_type": "code",
     "execution_count": null,
     "metadata": {},
     "outputs": [
      {
       "output_type": "stream",
       "stream": "stdout",
       "text": [
        "time: 46 ms\n"
       ]
      }
     ],
     "input": [
      "def get_cv_curves_scaled_no_avg(data, target, alpha, folds, trials, step, budget, model):\n",
      "    model.alpha = alpha\n",
      "\n",
      "    kf = cross_validation.KFold(data.shape[0], n_folds=folds, shuffle = True, random_state = 42)\n",
      "    \n",
      "    mae_dict = {}\n",
      "    rationale_mae_dict = {}\n",
      "    s_dict = {}\n",
      "    iters = 10\n",
      "    for train_index, test_index in kf:\n",
      "        X_train, X_test = data[train_index], data[test_index]\n",
      "        y_train, y_test = target[train_index], target[test_index]\n",
      "        s_train = np.array(X_train)\n",
      "        s_train[:,2:] = np.multiply(s_train[:,2:], 0.001)\n",
      "        rationale_train = build_train_with_rationales(np.array(s_train), np.array(y_train), maxs, mins)\n",
      "        \n",
      "        s_train = s_train[:,2:]\n",
      "        rationale_train = rationale_train[:,2:]\n",
      "        X_test = X_test[:,2:]\n",
      "        X_train = X_train[:,2:]\n",
      "        \n",
      "        indices = np.arange(len(y_train))\n",
      "        sublens = np.arange(step, min(len(y_train),budget), step)\n",
      "        \n",
      "        for _ in xrange(trials):\n",
      "            indices = gen_indices(y_train, indices)\n",
      "            for sublen in sublens:\n",
      "                sub = indices[range(sublen)]\n",
      "                \n",
      "                mae = optimal_alpha_predict(model, X_test, X_train[sub], y_train[sub], y_test, iters)\n",
      "                if sublen in mae_dict:\n",
      "                    mae_dict[sublen].append(mae)\n",
      "                else:\n",
      "                    mae_dict[sublen] = [mae]\n",
      "                    \n",
      "                scaled_mae = optimal_alpha_predict(model, X_test, s_train[sub], y_train[sub], y_test, iters)\n",
      "                if sublen in s_dict:\n",
      "                    s_dict[sublen].append(scaled_mae)\n",
      "                else:\n",
      "                    s_dict[sublen] = [scaled_mae]\n",
      "    \n",
      "                rationale_mae = optimal_alpha_predict(model, X_test, rationale_train[sub], y_train[sub], y_test, iters)\n",
      "                if sublen in rationale_mae_dict:\n",
      "                    rationale_mae_dict[sublen].append(rationale_mae)\n",
      "                else:\n",
      "                    rationale_mae_dict[sublen] = [rationale_mae]\n",
      "    return gen_curves(mae_dict, rationale_mae_dict, s_dict)"
     ],
     "language": "python",
     "prompt_number": 41
    },
    {
     "cell_type": "code",
     "execution_count": null,
     "metadata": {},
     "outputs": [
      {
       "output_type": "stream",
       "stream": "stdout",
       "text": [
        "time: 4min 50s\n"
       ]
      }
     ],
     "input": [
      "model = linear_model.Ridge()\n",
      "alpha = 1\n",
      "folds = 5\n",
      "trials = 5\n",
      "step = 20\n",
      "budget = 400\n",
      "curve, rationale_curve, s_curve = get_cv_curves_scaled_no_avg(np.array(data), np.array(target), alpha, folds, trials, step, budget, model)"
     ],
     "language": "python",
     "prompt_number": 42
    },
    {
     "cell_type": "code",
     "execution_count": null,
     "metadata": {},
     "outputs": [
      {
       "output_type": "stream",
       "stream": "stdout",
       "text": [
        "Average MAE No Rationales 1.34411036077\nAverage MAE With Rationales 1.81741471829\nAverage MAE scaled 1.73536101789\n"
       ]
      },
      {
       "output_type": "display_data",
       "png": "[encoded data removed]",
       "text": [
        "<matplotlib.figure.Figure at 0x93f67320>"
       ],
       "metadata": {}
      },
      {
       "output_type": "stream",
       "stream": "stdout",
       "text": [
        "time: 201 ms\n"
       ]
      }
     ],
     "input": [
      "print \"Average MAE No Rationales\", np.average(curve[:,1][:5])\n",
      "print \"Average MAE With Rationales\", np.average(rationale_curve[:,1][:5])\n",
      "print \"Average MAE scaled\", np.average(s_curve[:,1][:5])\n",
      "plt.xlabel('Train Examples')\n",
      "plt.ylabel('MAE')\n",
      "plt.title('Ridge Regression with 5 Fold Cross Validation')\n",
      "plt.plot(curve[:,0], curve[:,1], '.r-', s_curve[:,0], s_curve[:,1], '.g-', rationale_curve[:,0], rationale_curve[:,1], '.b-')\n",
      "plt.legend(['No Rationales', 'No Rationales Scaled', 'With Rationales'])\n",
      "plt.show()"
     ],
     "language": "python",
     "prompt_number": 43
    },
    {
     "cell_type": "code",
     "execution_count": null,
     "metadata": {},
     "outputs": [
      {
       "output_type": "stream",
       "stream": "stdout",
       "text": [
        "time: 38 ms\n"
       ]
      }
     ],
     "input": [
      "def get_cv_curves_scaled_with_avg(data, target, alpha, folds, trials, step, budget, model, iters):\n",
      "    model.alpha = alpha\n",
      "    kf = cross_validation.KFold(data.shape[0], n_folds=folds, shuffle = True, random_state = 42)    \n",
      "    mae_dict = {}\n",
      "    rationale_mae_dict = {}\n",
      "    s_dict = {}\n",
      "    for train_index, test_index in kf:\n",
      "        X_train, X_test = data[train_index], data[test_index]\n",
      "        y_train, y_test = target[train_index], target[test_index]\n",
      "        s_train = np.array(X_train)\n",
      "        s_train = np.multiply(s_train, 0.001)\n",
      "        rationale_train = build_train_with_rationales_avg(np.array(X_train), np.array(y_train), maxs_avg, mins_avg)        \n",
      "        indices = np.arange(len(y_train))\n",
      "        sublens = np.arange(step, min(len(y_train),budget), step)      \n",
      "        \n",
      "        for _ in xrange(trials):\n",
      "            indices = gen_indices(y_train, indices)\n",
      "            for sublen in sublens:\n",
      "                sub = indices[range(sublen)]\n",
      "                \n",
      "                mae = optimal_alpha_predict(model, X_test, X_train[sub], y_train[sub], y_test, iters)\n",
      "                if sublen in mae_dict:\n",
      "                    mae_dict[sublen].append(mae)\n",
      "                else:\n",
      "                    mae_dict[sublen] = [mae]\n",
      "                    \n",
      "                scaled_mae = optimal_alpha_predict(model, X_test, s_train[sub], y_train[sub], y_test, iters)\n",
      "                if sublen in s_dict:\n",
      "                    s_dict[sublen].append(scaled_mae)\n",
      "                else:\n",
      "                    s_dict[sublen] = [scaled_mae]\n",
      "    \n",
      "                rationale_mae = optimal_alpha_predict(model, X_test, rationale_train[sub], y_train[sub], y_test, iters)\n",
      "                if sublen in rationale_mae_dict:\n",
      "                    rationale_mae_dict[sublen].append(rationale_mae)\n",
      "                else:\n",
      "                    rationale_mae_dict[sublen] = [rationale_mae]\n",
      "    return gen_curves(mae_dict, rationale_mae_dict, s_dict)"
     ],
     "language": "python",
     "prompt_number": 44
    },
    {
     "cell_type": "code",
     "execution_count": null,
     "metadata": {},
     "outputs": [
      {
       "output_type": "stream",
       "stream": "stdout",
       "text": [
        "time: 22 ms\n"
       ]
      }
     ],
     "input": [
      "def get_frequent_rationales_avg(train_data, y_train, frequency):\n",
      "    non_avg = train_data\n",
      "    rationale_weights = get_rationale_weights(non_avg, y_train)\n",
      "    maxs, mins = build_rationales(non_avg, y_train, rationale_weights, frequency)\n",
      "    print_rationales(mins,maxs)\n",
      "    maxs = maxs.keys()\n",
      "    mins = mins.keys()\n",
      "    return maxs, mins\n",
      "\n",
      "\n",
      "def build_train_with_rationales_avg(train_data, y_train, maxs, mins):\n",
      "    count = 0\n",
      "    for x in range(train_data.shape[0]):\n",
      "        movie = train_data[x]\n",
      "        nz = np.nonzero(movie)\n",
      "        valid_maxs = np.intersect1d(maxs, nz)\n",
      "        valid_mins = np.intersect1d(mins, nz)\n",
      "        \n",
      "        if y_train[x] > 3.5 and len(valid_maxs) > 0:\n",
      "            count +=1\n",
      "            movie = np.multiply(movie, 0.001)\n",
      "            rationale = np.random.choice(maxs, min(len(valid_maxs),1))\n",
      "            movie[rationale] *= 1000\n",
      "        elif y_train[x] < 2.5 and len(valid_mins) > 0:\n",
      "            count +=1            \n",
      "            movie = np.multiply(movie, 0.001)\n",
      "            rationale = np.random.choice(mins, min(len(valid_mins),1))\n",
      "            movie[rationale] *= 1000\n",
      "        train_data[x] = movie\n",
      "    return train_data"
     ],
     "language": "python",
     "prompt_number": 45
    },
    {
     "cell_type": "code",
     "execution_count": null,
     "metadata": {},
     "outputs": [
      {
       "output_type": "stream",
       "stream": "stdout",
       "text": [
        "Reloaded\n         Featue Name Top Weight Occurence Total Frequency\n0            Romance                   57           190.0\n1              Crime                  166             7.0\n2          Animation                   29            85.0\n3             Action                   63           143.0\n4           suspense                    9            71.0\n5          filmmaker                    7             4.0\n6        black-humor                   11            24.0\n7           mistress                   19             8.0\n8             suburb                    8            36.0\n9              widow                   18            29.0\n10          car-bomb                   86             5.0\n11              cage                   27            23.0\n12           diamond                    8            21.0\n13         scientist                    9            52.0\n14         handcuffs                   13            46.0\n15            bruise                   12             7.0\n16             cliff                    8            17.0\n17            weapon                   18            18.0\n18       vietnam-war                   28             7.0\n19             italy                    7             9.0\n20           poverty                   37            14.0\n21  expectant-mother                    8            14.0\n22       underground                   12            15.0\n23          standoff                   41            14.0\n24            french                   27            12.0\n25           divorce                   14            41.0\n26        masked-man                   10            15.0\n27           brother                   18             8.0"
       ]
      },
      {
       "output_type": "stream",
       "stream": "stdout",
       "text": [
        "\n                     Featue Name Top Weight Occurence Total Frequency\n0                        Mystery                   20           205.0\n1                          Drama                   27           291.0\n2                        Musical                  184             2.0\n3                      Adventure                   78            62.0\n4                       Children                  211            14.0\n5                       Thriller                   29            21.0\n6                      pool-hall                   37             4.0\n7                           aids                   66             2.0\n8                  holding-hands                   10             3.0\n9                      flat-tire                    9            10.0\n10                    skateboard                    7            10.0\n11  father-daughter-relationship                    8           184.0\n12                    teen-angst                    7            35.0\n13                        psycho                    7            11.0\n14                    filmmaking                    8            14.0\n15                          maid                   12            30.0\n16                        palace                   12            14.0\n17                        school                   17            54.0\n18                one-word-title                   12           109.0\n19                 swimming-pool                    7            49.0\n20                       veteran                   40             0.0\n21               secret-identity                   12            21.0\n22                    photograph                    8           127.0\n23                      preacher                   59             5.0\n24                 father-figure                    8            13.0\n25                    foot-chase                   13            62.0\n26                   action-hero                    8            89.0\nNumber of frequent positive features: 28\nNumber of frequent negative features: 27\ntime: 1.09 s\n"
       ]
      }
     ],
     "input": [
      "frequency = .008\n",
      "maxs_avg, mins_avg = get_frequent_rationales_avg(np.array(data), np.array(target), frequency)\n",
      "print \"Number of frequent positive features:\", len(maxs_avg)\n",
      "print \"Number of frequent negative features:\", len(mins_avg)"
     ],
     "language": "python",
     "prompt_number": 46
    },
    {
     "cell_type": "code",
     "execution_count": null,
     "metadata": {},
     "outputs": [
      {
       "output_type": "stream",
       "stream": "stdout",
       "text": [
        "time: 30.6 s\n"
       ]
      }
     ],
     "input": [
      "model = linear_model.Ridge()\n",
      "alpha = 1\n",
      "folds = 5\n",
      "trials = 5\n",
      "step = 20\n",
      "budget = 400\n",
      "reg_rate = 0\n",
      "iters = 1\n",
      "curve, rationale_curve, s_curve = get_cv_curves_scaled_with_avg(np.array(data), np.array(target), alpha, folds, trials, step, budget, model,iters)"
     ],
     "language": "python",
     "prompt_number": 47
    },
    {
     "cell_type": "code",
     "execution_count": null,
     "metadata": {},
     "outputs": [
      {
       "output_type": "stream",
       "stream": "stdout",
       "text": [
        "Average MAE No Rationales 1.34509036631\nAverage MAE With Rationales 1.62695288458\nAverage MAE scaled 1.71598278755\n"
       ]
      },
      {
       "output_type": "display_data",
       "png": "[encoded data removed]",
       "text": [
        "<matplotlib.figure.Figure at 0x195b67f0>"
       ],
       "metadata": {}
      },
      {
       "output_type": "stream",
       "stream": "stdout",
       "text": [
        "time: 216 ms\n"
       ]
      }
     ],
     "input": [
      "print \"Average MAE No Rationales\", np.average(curve[:,1][:5])\n",
      "print \"Average MAE With Rationales\", np.average(rationale_curve[:,1][:5])\n",
      "print \"Average MAE scaled\", np.average(s_curve[:,1][:5])\n",
      "plt.xlabel('Train Examples')\n",
      "plt.ylabel('MAE')\n",
      "plt.title('Ridge Regression with 5 Fold Cross Validation')\n",
      "plt.plot(curve[:,0], curve[:,1], '.r-', s_curve[:,0], s_curve[:,1], '.g-', rationale_curve[:,0], rationale_curve[:,1], '.b-')\n",
      "plt.legend(['No Rationales', 'No Rationales Scaled', 'With Rationales'])\n",
      "plt.show()"
     ],
     "language": "python",
     "prompt_number": 48
    },
    {
     "cell_type": "code",
     "execution_count": null,
     "metadata": {},
     "outputs": [],
     "input": [
      ""
     ],
     "language": "python"
    }
   ]
  }
 ],
 "cells": [],
 "metadata": {},
 "nbformat": 3,
 "nbformat_minor": 0
}