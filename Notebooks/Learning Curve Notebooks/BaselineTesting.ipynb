{
 "worksheets": [
  {
   "cells": [
    {
     "cell_type": "code",
     "execution_count": null,
     "metadata": {},
     "outputs": [
      {
       "output_type": "stream",
       "stream": "stdout",
       "text": [
        "Installed autotime.py. To use it, type:\n  %load_ext autotime\n"
       ]
      }
     ],
     "input": [
      "%load_ext autoreload\n",
      "%matplotlib inline\n",
      "%install_ext https://raw.github.com/cpcloud/ipython-autotime/master/autotime.py\n",
      "%load_ext autotime\n",
      "import matplotlib.pyplot as plt\n",
      "import RationaleSelect\n",
      "from RationaleSelect import *\n",
      "from Classifiers import TransparentLinearRegression\n",
      "from sklearn import cross_validation, linear_model\n",
      "from sklearn.metrics import mean_absolute_error, precision_score\n",
      "from sklearn.cross_validation import train_test_split\n",
      "import pandas as pd"
     ],
     "language": "python",
     "prompt_number": 1
    },
    {
     "cell_type": "code",
     "execution_count": null,
     "metadata": {},
     "outputs": [
      {
       "output_type": "stream",
       "stream": "stdout",
       "text": [
        "time: 9.75 s\n"
       ]
      }
     ],
     "input": [
      "userid = 170099\n",
      "user_ratings = get_matched_user_ratings(userid)\n",
      "movies = user_ratings.keys()\n",
      "ratings = user_ratings.values()\n",
      "\n",
      "id_dict = get_id_row_dict()\n",
      "idxs = [id_dict[k] for k in movies]\n",
      "avg_and_num = sort_avg()"
     ],
     "language": "python",
     "prompt_number": 28
    },
    {
     "cell_type": "code",
     "execution_count": null,
     "metadata": {},
     "outputs": [
      {
       "output_type": "stream",
       "stream": "stdout",
       "text": [
        "time: 33.3 s\n"
       ]
      }
     ],
     "input": [
      "genre_matrix = get_genre_matrix()[idxs]\n",
      "user_key_matrix  = get_key_matrix()[idxs]\n",
      "actor_matrix = get_actor_matrix()[idxs]"
     ],
     "language": "python",
     "prompt_number": 3
    },
    {
     "cell_type": "code",
     "execution_count": null,
     "metadata": {},
     "outputs": [
      {
       "output_type": "stream",
       "stream": "stdout",
       "text": [
        "time: 2.28 s\n"
       ]
      }
     ],
     "input": [
      "key_names = get_key_names()\n",
      "genre_names = np.array(get_genre_dict().keys())\n",
      "actor_names = np.array(get_actor_names())"
     ],
     "language": "python",
     "prompt_number": 4
    },
    {
     "cell_type": "code",
     "execution_count": null,
     "metadata": {},
     "outputs": [
      {
       "output_type": "stream",
       "stream": "stdout",
       "text": [
        "time: 40 ms\n"
       ]
      }
     ],
     "input": [
      "pp.scale(avg_and_num[:,0], with_mean=True, with_std=True, copy=False)\n",
      "pp.scale(avg_and_num[:,1], with_mean=True, with_std=True, copy=False)\n",
      "data = np.column_stack((avg_and_num[idxs], genre_matrix, user_key_matrix, actor_matrix))\n",
      "target = ratings"
     ],
     "language": "python",
     "prompt_number": 29
    },
    {
     "cell_type": "code",
     "execution_count": null,
     "metadata": {},
     "outputs": [
      {
       "output_type": "stream",
       "stream": "stdout",
       "text": [
        "time: 99 ms\n"
       ]
      }
     ],
     "input": [
      "def get_frequent_rationales(train_data, y_train, frequency):\n",
      "    non_avg = train_data[:,2:]\n",
      "    rationale_weights = get_rationale_weights(non_avg, y_train)\n",
      "    maxs, mins = build_rationales(non_avg, y_train, rationale_weights, frequency)\n",
      "    print_rationales(mins,maxs)\n",
      "    maxs = maxs.keys()\n",
      "    mins = mins.keys()\n",
      "    return maxs, mins\n",
      "\n",
      "\n",
      "def build_train_with_rationales(train_data, y_train, maxs, mins):\n",
      "    temp = np.array(train_data)\n",
      "    non_avg = train_data[:,2:]\n",
      "    count = 0\n",
      "    for x in range(train_data.shape[0]):\n",
      "        movie = non_avg[x]\n",
      "        nz = np.nonzero(movie)\n",
      "        valid_maxs = np.intersect1d(maxs, nz)\n",
      "        valid_mins = np.intersect1d(mins, nz)\n",
      "        \n",
      "        if y_train[x] > 3.5 and len(valid_maxs) > 0:\n",
      "            count +=1\n",
      "            #movie = np.multiply(movie, 0.001)\n",
      "            rationale = np.random.choice(maxs, min(len(valid_maxs),1))\n",
      "            movie[rationale] *= 100\n",
      "        elif y_train[x] < 2.5 and len(valid_mins) > 0:\n",
      "            count +=1            \n",
      "            #movie = np.multiply(movie, 0.001)\n",
      "            rationale = np.random.choice(mins, min(len(valid_mins),1))\n",
      "            movie[rationale] *= 100\n",
      "        train_data[x][2:] = movie\n",
      "    print \"Times where there was atleast 1 rationale:\", count\n",
      "    print \"Temp/train equal:\",np.array_equal(temp,train_data)\n",
      "    return train_data\n",
      "\n",
      "\n",
      "def hi_lo_precision(y_test, y_pred):\n",
      "    true = np.array(y_test)\n",
      "    pred = np.array(y_pred)\n",
      "    hi_idxs = np.where(true>3.5)\n",
      "    lo_idxs = np.where(true<2.0)\n",
      "    hi_lo = np.append(hi_idxs, lo_idxs)\n",
      "    \n",
      "    pred = pred[hi_lo]   \n",
      "    hi_pred = np.where(pred>3.5)\n",
      "    lo_pred = np.where(pred<2.0)\n",
      "    \n",
      "    true[hi_idxs] = 1\n",
      "    true[lo_idxs] = 0\n",
      "    true = true[hi_lo]\n",
      "    \n",
      "    pred.fill(2)\n",
      "    pred[hi_pred] = 1\n",
      "    pred[lo_pred] = 0\n",
      "    return precision_score(true, pred, average='micro')"
     ],
     "language": "python",
     "prompt_number": 30
    },
    {
     "cell_type": "code",
     "execution_count": null,
     "metadata": {},
     "outputs": [
      {
       "output_type": "stream",
       "stream": "stdout",
       "text": [
        "time: 68 ms\n"
       ]
      }
     ],
     "input": [
      "def get_cv_curves_scaled(data, target, alpha, folds, trials, step, budget, model, reg_rate):\n",
      "    model.alpha = alpha\n",
      "\n",
      "    kf = cross_validation.KFold(data.shape[0], n_folds=folds, shuffle = True, random_state = 42)\n",
      "    \n",
      "    mae_dict = {}\n",
      "    rationale_mae_dict = {}\n",
      "    s_dict = {}\n",
      "    #rationale_data = build_train_with_rationales(np.array(data), np.array(target), maxs, mins)\n",
      "    maene = 0\n",
      "    \n",
      "    for train_index, test_index in kf:\n",
      "        X_train, X_test = data[train_index], data[test_index]\n",
      "        y_train, y_test = target[train_index], target[test_index]\n",
      "        s_train = np.array(X_train)\n",
      "        s_train[:,2:] = np.multiply(s_train[:,2:], 0.001)\n",
      "        rationale_train = build_train_with_rationales(np.array(s_train), np.array(y_train), maxs, mins)\n",
      "        \n",
      "        #rationale_train = rationale_data[train_index]\n",
      "        indices = np.arange(len(y_train))\n",
      "        sublens = np.arange(step, min(len(y_train),budget), step)\n",
      "        \n",
      "        for _ in xrange(trials):\n",
      "            model.alpha = alpha\n",
      "            indices = gen_indices(y_train, indices)\n",
      "            \n",
      "            for sublen in sublens:\n",
      "                model.alpha += reg_rate\n",
      "                sub = indices[range(sublen)]\n",
      "                model.fit(X_train[sub], y_train[sub])\n",
      "                y_pred = model.predict(X_test)\n",
      "                mae = mean_absolute_error(y_test, y_pred)\n",
      "                if sublen in mae_dict:\n",
      "                    mae_dict[sublen].append(mae)\n",
      "                else:\n",
      "                    mae_dict[sublen] = [mae]\n",
      "\n",
      "                model.fit(s_train[sub], y_train[sub])\n",
      "                y_pred = model.predict(X_test)\n",
      "                s_mae = mean_absolute_error(y_test, y_pred)\n",
      "                if sublen in s_dict:\n",
      "                    s_dict[sublen].append(s_mae)\n",
      "                else:\n",
      "                    s_dict[sublen] = [s_mae]\n",
      "    \n",
      "                model.fit(rationale_train[sub], y_train[sub])\n",
      "                y_pred = model.predict(X_test)\n",
      "                mae2 = mean_absolute_error(y_test, y_pred)\n",
      "                if sublen in rationale_mae_dict:\n",
      "                    rationale_mae_dict[sublen].append(mae2)\n",
      "                else:\n",
      "                    rationale_mae_dict[sublen] = [mae2]\n",
      "                \n",
      "                if not np.array_equal(X_train[sub],rationale_train[sub]):\n",
      "                    maene +=1\n",
      "    mae_curve = [[k,np.average(v)] for k,v in mae_dict.iteritems()]\n",
      "    mae_curve.sort(key=lambda x:x[0])\n",
      "    rationale_mae_curve = [[k,np.average(v)] for k,v in rationale_mae_dict.iteritems()]\n",
      "    rationale_mae_curve.sort(key=lambda x:x[0])\n",
      "    s_curve = [[k,np.average(v)] for k,v in s_dict.iteritems()]\n",
      "    s_curve.sort(key=lambda x:x[0])\n",
      "    print \"Times when maes were not equal:\", maene\n",
      "    return np.array(mae_curve), np.array(rationale_mae_curve), np.array(s_curve)"
     ],
     "language": "python",
     "prompt_number": 7
    },
    {
     "cell_type": "code",
     "execution_count": null,
     "metadata": {},
     "outputs": [
      {
       "output_type": "stream",
       "stream": "stdout",
       "text": [
        "time: 87 ms\n"
       ]
      }
     ],
     "input": [
      "def gen_indices(y_train, indices):\n",
      "    hi = np.where(y_train > 3.5)[0]\n",
      "    np.random.shuffle(hi)\n",
      "    lo = np.where(y_train < 2.5)[0]\n",
      "    np.random.shuffle(lo)\n",
      "    hi_lo = np.hstack((hi[:10],lo[:10]))\n",
      "    indices = np.setdiff1d(indices, hi_lo, assume_unique= True)\n",
      "    np.random.shuffle(indices)\n",
      "    indices = np.hstack((hi_lo, indices))\n",
      "    return indices\n",
      "\n",
      "def get_cv_curves_scaled_precision(data, target, alpha, folds, trials, step, budget, model, reg_rate):\n",
      "    model.alpha = alpha\n",
      "\n",
      "    kf = cross_validation.KFold(data.shape[0], n_folds=folds, shuffle = True, random_state = 42)\n",
      "    \n",
      "    mae_dict = {}\n",
      "    rationale_mae_dict = {}\n",
      "    s_dict = {}\n",
      "    #rationale_data = build_train_with_rationales(np.array(data), np.array(target), maxs, mins)\n",
      "    maene = 0\n",
      "    \n",
      "    for train_index, test_index in kf:\n",
      "        X_train, X_test = data[train_index], data[test_index]\n",
      "        y_train, y_test = target[train_index], target[test_index]\n",
      "        s_train = np.array(X_train)\n",
      "        s_train[:,2:] = np.multiply(s_train[:,2:], 0.001)\n",
      "        rationale_train = build_train_with_rationales(np.array(s_train), np.array(y_train), maxs, mins)\n",
      "        \n",
      "        #rationale_train = rationale_data[train_index]\n",
      "        indices = np.arange(len(y_train))\n",
      "        sublens = np.arange(step, min(len(y_train),budget), step)\n",
      "        \n",
      "        for _ in xrange(trials):\n",
      "            model.alpha = alpha\n",
      "            indices = gen_indices(y_train, indices)\n",
      "            \n",
      "            for sublen in sublens:\n",
      "                model.alpha += reg_rate\n",
      "                sub = indices[range(sublen)]\n",
      "                model.fit(X_train[sub], y_train[sub])\n",
      "                y_pred = model.predict(X_test)\n",
      "                mae = hi_lo_precision(y_test, y_pred)\n",
      "                if sublen in mae_dict:\n",
      "                    mae_dict[sublen].append(mae)\n",
      "                else:\n",
      "                    mae_dict[sublen] = [mae]\n",
      "\n",
      "                model.fit(s_train[sub], y_train[sub])\n",
      "                y_pred = model.predict(X_test)\n",
      "                s_mae = hi_lo_precision(y_test, y_pred)\n",
      "                if sublen in s_dict:\n",
      "                    s_dict[sublen].append(s_mae)\n",
      "                else:\n",
      "                    s_dict[sublen] = [s_mae]\n",
      "    \n",
      "                model.fit(rationale_train[sub], y_train[sub])\n",
      "                y_pred = model.predict(X_test)\n",
      "                mae2 = hi_lo_precision(y_test, y_pred)\n",
      "                if sublen in rationale_mae_dict:\n",
      "                    rationale_mae_dict[sublen].append(mae2)\n",
      "                else:\n",
      "                    rationale_mae_dict[sublen] = [mae2]\n",
      "                \n",
      "                if not np.array_equal(X_train[sub],rationale_train[sub]):\n",
      "                    maene +=1\n",
      "    mae_curve = [[k,np.average(v)] for k,v in mae_dict.iteritems()]\n",
      "    mae_curve.sort(key=lambda x:x[0])\n",
      "    rationale_mae_curve = [[k,np.average(v)] for k,v in rationale_mae_dict.iteritems()]\n",
      "    rationale_mae_curve.sort(key=lambda x:x[0])\n",
      "    s_curve = [[k,np.average(v)] for k,v in s_dict.iteritems()]\n",
      "    s_curve.sort(key=lambda x:x[0])\n",
      "    print \"Times when maes were not equal:\", maene\n",
      "    return np.array(mae_curve), np.array(rationale_mae_curve), np.array(s_curve)"
     ],
     "language": "python",
     "prompt_number": 17
    },
    {
     "cell_type": "code",
     "execution_count": null,
     "metadata": {},
     "outputs": [
      {
       "output_type": "stream",
       "stream": "stdout",
       "text": [
        "time: 11 ms\n"
       ]
      }
     ],
     "input": [
      "def print_rationales(mins,maxs):\n",
      "    names = np.hstack([genre_names, key_names, actor_names])\n",
      "    col_names = [\"Featue Name\", \"Top Weight Occurence\", \"Total Frequency\"]\n",
      "    print 'Getting tot freq'\n",
      "    tot_freq = np.sum(data[:,2:], axis = 0)\n",
      "    print \"Done tot freq\"\n",
      "    max_vals = np.column_stack((names[maxs.keys()], maxs.values(), tot_freq[maxs.keys()]))\n",
      "    min_vals = np.column_stack((names[mins.keys()], mins.values(), tot_freq[mins.keys()]))\n",
      "    \n",
      "    maxs_df = pd.DataFrame(max_vals, columns = col_names)\n",
      "    mins_df = pd.DataFrame(min_vals, columns = col_names)\n",
      "    print maxs_df\n",
      "    print mins_df"
     ],
     "language": "python",
     "prompt_number": 9
    },
    {
     "cell_type": "code",
     "execution_count": null,
     "metadata": {},
     "outputs": [
      {
       "output_type": "stream",
       "stream": "stdout",
       "text": [
        "Reloaded\nNonzero weights:"
       ]
      },
      {
       "output_type": "stream",
       "stream": "stdout",
       "text": [
        " 4082\nNonzero: "
       ]
      },
      {
       "output_type": "stream",
       "stream": "stdout",
       "text": [
        "174543\nPrim:"
       ]
      },
      {
       "output_type": "stream",
       "stream": "stdout",
       "text": [
        " 0\nPost: 0\nGetting tot freq\nDone tot freq\n                           Featue Name Top Weight Occurence Total Frequency\n0                                 IMAX                   56            99.0\n1                                Crime                   75            86.0\n2  written-and-directed-by-cast-member                   45            61.0\n3                            obsession                   76           147.0\n4                                  sex                  221           381.0\n5                          blockbuster                  178           370.0\n6                           surrealism                  109           193.0\n7                 critically-acclaimed                   86           104.0\n8                               tunnel                   47            68.0\n       Featue Name Top Weight Occurence Total Frequency\n0          Mystery                  189           417.0\n1          Fantasy                   75           175.0\n2        Animation                  107           271.0\n3  box-office-flop                   76           145.0\n4           sequel                  142           223.0\nNumber of frequent positive features: 9\nNumber of frequent negative features: 5\ntime: 10.3 s\n"
       ]
      }
     ],
     "input": [
      "frequency = .02\n",
      "maxs, mins = get_frequent_rationales(np.array(data), np.array(target), frequency)\n",
      "print \"Number of frequent positive features:\", len(maxs)\n",
      "print \"Number of frequent negative features:\", len(mins)"
     ],
     "language": "python",
     "prompt_number": 10
    },
    {
     "cell_type": "code",
     "execution_count": null,
     "metadata": {},
     "outputs": [
      {
       "output_type": "stream",
       "stream": "stdout",
       "text": [
        "Times where there was atleast 1 rationale: 736\nTemp/train equal: False\nTimes where there was atleast 1 rationale:"
       ]
      },
      {
       "output_type": "stream",
       "stream": "stdout",
       "text": [
        " 740\nTemp/train equal: False\nTimes where there was atleast 1 rationale:"
       ]
      },
      {
       "output_type": "stream",
       "stream": "stdout",
       "text": [
        " 749\nTemp/train equal: False\nTimes where there was atleast 1 rationale:"
       ]
      },
      {
       "output_type": "stream",
       "stream": "stdout",
       "text": [
        " 752\nTemp/train equal: False\nTimes where there was atleast 1 rationale:"
       ]
      },
      {
       "output_type": "stream",
       "stream": "stdout",
       "text": [
        " 767\nTemp/train equal: False\nTimes when maes were not equal:"
       ]
      },
      {
       "output_type": "stream",
       "stream": "stdout",
       "text": [
        " 475\ntime: 36.4 s\n"
       ]
      }
     ],
     "input": [
      "model = linear_model.Ridge()\n",
      "alpha = 1\n",
      "folds = 5\n",
      "trials = 5\n",
      "step = 20\n",
      "budget = 400\n",
      "reg_rate = 0\n",
      "curve, rationale_curve, s_curve = get_cv_curves_scaled(np.array(data), np.array(target), alpha, folds, trials, step, budget, model, reg_rate)"
     ],
     "language": "python",
     "prompt_number": 31
    },
    {
     "cell_type": "code",
     "execution_count": null,
     "metadata": {},
     "outputs": [
      {
       "output_type": "stream",
       "stream": "stdout",
       "text": [
        "Average MAE No Rationales 1.02067380926\nAverage MAE WithRationales 0.821516613066\nAverage MAE scaled 0.82017897156\n"
       ]
      },
      {
       "output_type": "display_data",
       "png": "[encoded data removed]",
       "text": [
        "<matplotlib.figure.Figure at 0x181e31d0>"
       ],
       "metadata": {}
      },
      {
       "output_type": "stream",
       "stream": "stdout",
       "text": [
        "time: 204 ms\n"
       ]
      }
     ],
     "input": [
      "print \"Average MAE No Rationales\", np.average(curve[:,1][:5])\n",
      "print \"Average MAE WithRationales\", np.average(rationale_curve[:,1][:5])\n",
      "print \"Average MAE scaled\", np.average(s_curve[:,1][:5])\n",
      "plt.xlabel('Train Examples')\n",
      "plt.ylabel('MAE')\n",
      "plt.title('Ridge Regression with 5 Fold Cross Validation')\n",
      "plt.plot(curve[:,0], curve[:,1], '.r-', s_curve[:,0], s_curve[:,1], '.g-', rationale_curve[:,0], rationale_curve[:,1], '.b-')\n",
      "plt.legend(['No Rationales', 'No Rationales Scaled', 'With Rationales'])\n",
      "plt.show()"
     ],
     "language": "python",
     "prompt_number": 32
    },
    {
     "cell_type": "code",
     "execution_count": null,
     "metadata": {},
     "outputs": [
      {
       "output_type": "stream",
       "stream": "stdout",
       "text": [
        "Times where there was atleast 1 rationale: 736\nTemp/train equal: False\nTimes where there was atleast 1 rationale:"
       ]
      },
      {
       "output_type": "stream",
       "stream": "stdout",
       "text": [
        " 740\nTemp/train equal: False\nTimes where there was atleast 1 rationale:"
       ]
      },
      {
       "output_type": "stream",
       "stream": "stdout",
       "text": [
        " 749\nTemp/train equal: False\nTimes where there was atleast 1 rationale:"
       ]
      },
      {
       "output_type": "stream",
       "stream": "stdout",
       "text": [
        " 752\nTemp/train equal: False\nTimes where there was atleast 1 rationale:"
       ]
      },
      {
       "output_type": "stream",
       "stream": "stdout",
       "text": [
        " 767\nTemp/train equal: False\nTimes when maes were not equal:"
       ]
      },
      {
       "output_type": "stream",
       "stream": "stdout",
       "text": [
        " 475\ntime: 37 s\n"
       ]
      }
     ],
     "input": [
      "model = linear_model.Ridge()\n",
      "alpha = 1\n",
      "folds = 5\n",
      "trials = 5\n",
      "step = 20\n",
      "budget = 400\n",
      "curve, rationale_curve, s_curve = get_cv_curves_scaled_precision(np.array(data), np.array(target), alpha, folds, trials, step, budget, model, reg_rate)"
     ],
     "language": "python",
     "prompt_number": 33
    },
    {
     "cell_type": "code",
     "execution_count": null,
     "metadata": {},
     "outputs": [
      {
       "output_type": "stream",
       "stream": "stdout",
       "text": [
        "Average MAE No Rationales 0.399206874253\nAverage MAE WithRationales 0.666629363006\nAverage MAE scaled 0.664984693314\n"
       ]
      },
      {
       "output_type": "display_data",
       "png": "[encoded data removed]",
       "text": [
        "<matplotlib.figure.Figure at 0x410c9940>"
       ],
       "metadata": {}
      },
      {
       "output_type": "stream",
       "stream": "stdout",
       "text": [
        "time: 205 ms\n"
       ]
      }
     ],
     "input": [
      "print \"Average Precision No Rationales\", np.average(curve[:,1][:5])\n",
      "print \"Average Precision WithRationales\", np.average(rationale_curve[:,1][:5])\n",
      "print \"Average Precision scaled\", np.average(s_curve[:,1][:5])\n",
      "plt.xlabel('Train Examples')\n",
      "plt.ylabel('Precision')\n",
      "plt.title('Ridge Regression with 5 Fold Cross Validation')\n",
      "plt.plot(curve[:,0], curve[:,1], '.r-', s_curve[:,0], s_curve[:,1], '.g-', rationale_curve[:,0], rationale_curve[:,1], '.b-')\n",
      "plt.legend(['No Rationales', 'No Rationales Scaled', 'With Rationales'])\n",
      "plt.show()"
     ],
     "language": "python",
     "prompt_number": 34
    },
    {
     "cell_type": "code",
     "execution_count": null,
     "metadata": {},
     "outputs": [],
     "input": [
      ""
     ],
     "language": "python"
    }
   ]
  }
 ],
 "cells": [],
 "metadata": {},
 "nbformat": 3,
 "nbformat_minor": 0
}