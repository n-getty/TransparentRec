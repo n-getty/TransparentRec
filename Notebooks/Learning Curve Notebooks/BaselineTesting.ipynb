{
 "worksheets": [
  {
   "cells": [
    {
     "cell_type": "code",
     "execution_count": null,
     "metadata": {},
     "outputs": [
      {
       "output_type": "stream",
       "stream": "stdout",
       "text": [
        "The autoreload extension is already loaded. To reload it, use:\n  %reload_ext autoreload\nInstalled autotime.py. To use it, type:"
       ]
      },
      {
       "output_type": "stream",
       "stream": "stdout",
       "text": [
        "\n  %load_ext autotime\nThe autotime extension is already loaded. To reload it, use:\n  %reload_ext autotime\ntime: 705 ms\n"
       ]
      }
     ],
     "input": [
      "%load_ext autoreload\n",
      "%matplotlib inline\n",
      "%install_ext https://raw.github.com/cpcloud/ipython-autotime/master/autotime.py\n",
      "%load_ext autotime\n",
      "import matplotlib.pyplot as plt\n",
      "import RationaleSelect\n",
      "from RationaleSelect import *\n",
      "from Classifiers import TransparentLinearRegression\n",
      "from sklearn import cross_validation, linear_model\n",
      "from sklearn.metrics import mean_absolute_error, precision_score\n",
      "from sklearn.cross_validation import train_test_split\n",
      "import pandas as pd"
     ],
     "language": "python",
     "prompt_number": 19
    },
    {
     "cell_type": "code",
     "execution_count": null,
     "metadata": {},
     "outputs": [
      {
       "output_type": "pyout",
       "prompt_number": 18,
       "text": [
        "<module 'RationaleSelect' from 'RationaleSelect.py'>"
       ],
       "metadata": {}
      },
      {
       "output_type": "stream",
       "stream": "stdout",
       "text": [
        "time: 9 ms\n"
       ]
      }
     ],
     "input": [
      "reload(RationaleSelect)"
     ],
     "language": "python",
     "prompt_number": 18
    },
    {
     "cell_type": "code",
     "execution_count": null,
     "metadata": {},
     "outputs": [
      {
       "output_type": "stream",
       "stream": "stdout",
       "text": [
        "Number of rated movies, 2102\ntime: 10.8 s\n"
       ]
      }
     ],
     "input": [
      "userid = 170099\n",
      "user_ratings = get_matched_user_ratings(userid)\n",
      "movies = user_ratings.keys()\n",
      "ratings = user_ratings.values()\n",
      "\n",
      "id_dict = get_id_row_dict()\n",
      "idxs = [id_dict[k] for k in movies]\n",
      "avg_and_num = sort_avg()\n",
      "print \"Number of rated movies,\", len(ratings)"
     ],
     "language": "python",
     "prompt_number": 2
    },
    {
     "cell_type": "code",
     "execution_count": null,
     "metadata": {},
     "outputs": [
      {
       "output_type": "stream",
       "stream": "stdout",
       "text": [
        "time: 34.5 s\n"
       ]
      }
     ],
     "input": [
      "genre_matrix = get_genre_matrix()[idxs]\n",
      "user_key_matrix  = get_key_matrix()[idxs]\n",
      "actor_matrix = get_actor_matrix()[idxs]"
     ],
     "language": "python",
     "prompt_number": 3
    },
    {
     "cell_type": "code",
     "execution_count": null,
     "metadata": {},
     "outputs": [
      {
       "output_type": "stream",
       "stream": "stdout",
       "text": [
        "time: 2.49 s\n"
       ]
      }
     ],
     "input": [
      "key_names = get_key_names()\n",
      "genre_names = np.array(get_genre_dict().keys())\n",
      "actor_names = np.array(get_actor_names())"
     ],
     "language": "python",
     "prompt_number": 4
    },
    {
     "cell_type": "code",
     "execution_count": null,
     "metadata": {},
     "outputs": [
      {
       "output_type": "stream",
       "stream": "stdout",
       "text": [
        "time: 48 ms\n"
       ]
      }
     ],
     "input": [
      "pp.scale(avg_and_num[:,0], with_mean=True, with_std=True, copy=False)\n",
      "pp.scale(avg_and_num[:,1], with_mean=True, with_std=True, copy=False)\n",
      "data = np.column_stack((avg_and_num[idxs], genre_matrix, user_key_matrix, actor_matrix))\n",
      "target = ratings"
     ],
     "language": "python",
     "prompt_number": 5
    },
    {
     "cell_type": "code",
     "execution_count": null,
     "metadata": {},
     "outputs": [
      {
       "output_type": "stream",
       "stream": "stdout",
       "text": [
        "time: 54 ms\n"
       ]
      }
     ],
     "input": [
      "def get_frequent_rationales(train_data, y_train, frequency):\n",
      "    non_avg = train_data[:,2:]\n",
      "    rationale_weights = get_rationale_weights(non_avg, y_train)\n",
      "    maxs, mins = build_rationales(non_avg, y_train, rationale_weights, frequency)\n",
      "    print_rationales(mins,maxs)\n",
      "    maxs = maxs.keys()\n",
      "    mins = mins.keys()\n",
      "    return maxs, mins\n",
      "\n",
      "\n",
      "def build_train_with_rationales(train_data, y_train, maxs, mins):\n",
      "    non_avg = train_data[:,2:]\n",
      "    count = 0\n",
      "    for x in range(train_data.shape[0]):\n",
      "        movie = non_avg[x]\n",
      "        nz = np.nonzero(movie)\n",
      "        valid_maxs = np.intersect1d(maxs, nz)\n",
      "        valid_mins = np.intersect1d(mins, nz)\n",
      "        \n",
      "        if y_train[x] > 3.5 and len(valid_maxs) > 0:\n",
      "            count +=1\n",
      "            movie = np.multiply(movie, 0.001)\n",
      "            rationale = np.random.choice(maxs, min(len(valid_maxs),1))\n",
      "            movie[rationale] *= 1000\n",
      "        elif y_train[x] < 2.5 and len(valid_mins) > 0:\n",
      "            count +=1            \n",
      "            movie = np.multiply(movie, 0.001)\n",
      "            rationale = np.random.choice(mins, min(len(valid_mins),1))\n",
      "            movie[rationale] *= 1000\n",
      "        train_data[x][2:] = movie\n",
      "    return train_data\n",
      "\n",
      "\n",
      "def hi_lo_precision(y_test, y_pred):\n",
      "    true = np.array(y_test)\n",
      "    pred = np.array(y_pred)\n",
      "    hi_idxs = np.where(true>3.5)\n",
      "    lo_idxs = np.where(true<2.0)\n",
      "    hi_lo = np.append(hi_idxs, lo_idxs)\n",
      "    \n",
      "    pred = pred[hi_lo]   \n",
      "    hi_pred = np.where(pred>3.5)\n",
      "    lo_pred = np.where(pred<2.0)\n",
      "    \n",
      "    true[hi_idxs] = 1\n",
      "    true[lo_idxs] = 0\n",
      "    true = true[hi_lo]\n",
      "    \n",
      "    pred.fill(2)\n",
      "    pred[hi_pred] = 1\n",
      "    pred[lo_pred] = 0\n",
      "    return precision_score(true, pred, average='micro')"
     ],
     "language": "python",
     "prompt_number": 71
    },
    {
     "cell_type": "code",
     "execution_count": null,
     "metadata": {},
     "outputs": [
      {
       "output_type": "stream",
       "stream": "stdout",
       "text": [
        "time: 18 ms\n"
       ]
      }
     ],
     "input": [
      "def gen_indices(y_train, indices):\n",
      "    hi = np.where(y_train > 3.5)[0]\n",
      "    np.random.shuffle(hi)\n",
      "    lo = np.where(y_train < 2.5)[0]\n",
      "    np.random.shuffle(lo)\n",
      "    hi_lo = np.hstack((hi[:10],lo[:10]))\n",
      "    indices = np.setdiff1d(indices, hi_lo, assume_unique= True)\n",
      "    np.random.shuffle(indices)\n",
      "    indices = np.hstack((hi_lo, indices))\n",
      "    return indices\n",
      "\n",
      "\n",
      "def gen_curves(mae_dict, rationale_mae_dict, s_dict):\n",
      "    mae_curve = [[k,np.average(v)] for k,v in mae_dict.iteritems()]\n",
      "    mae_curve.sort(key=lambda x:x[0])\n",
      "    rationale_mae_curve = [[k,np.average(v)] for k,v in rationale_mae_dict.iteritems()]\n",
      "    rationale_mae_curve.sort(key=lambda x:x[0])\n",
      "    s_curve = [[k,np.average(v)] for k,v in s_dict.iteritems()]\n",
      "    s_curve.sort(key=lambda x:x[0])\n",
      "    return np.array(mae_curve), np.array(rationale_mae_curve), np.array(s_curve)"
     ],
     "language": "python",
     "prompt_number": 7
    },
    {
     "cell_type": "code",
     "execution_count": null,
     "metadata": {},
     "outputs": [
      {
       "output_type": "stream",
       "stream": "stdout",
       "text": [
        "time: 43 ms\n"
       ]
      }
     ],
     "input": [
      "def get_cv_curves_scaled(data, target, alpha, folds, trials, step, budget, model):\n",
      "    model.alpha = alpha\n",
      "\n",
      "    kf = cross_validation.KFold(data.shape[0], n_folds=folds, shuffle = True, random_state = 42)\n",
      "    \n",
      "    mae_dict = {}\n",
      "    rationale_mae_dict = {}\n",
      "    s_dict = {}\n",
      "    iters = 10\n",
      "    for train_index, test_index in kf:\n",
      "        X_train, X_test = data[train_index], data[test_index]\n",
      "        y_train, y_test = target[train_index], target[test_index]\n",
      "        s_train = np.array(X_train)\n",
      "        s_train[:,2:] = np.multiply(s_train[:,2:], 0.01)\n",
      "        rationale_train = build_train_with_rationales(np.array(X_train), np.array(y_train), maxs, mins)\n",
      "        \n",
      "        indices = np.arange(len(y_train))\n",
      "        sublens = np.arange(step, min(len(y_train),budget), step)\n",
      "        \n",
      "        for _ in xrange(trials):\n",
      "            indices = gen_indices(y_train, indices)\n",
      "            for sublen in sublens:\n",
      "                sub = indices[range(sublen)]\n",
      "                \n",
      "                mae = optimal_alpha_predict(model, X_test, X_train[sub], y_train[sub], y_test, iters)\n",
      "                if sublen in mae_dict:\n",
      "                    mae_dict[sublen].append(mae)\n",
      "                else:\n",
      "                    mae_dict[sublen] = [mae]\n",
      "                    \n",
      "                scaled_mae = optimal_alpha_predict(model, X_test, s_train[sub], y_train[sub], y_test, iters)\n",
      "                if sublen in s_dict:\n",
      "                    s_dict[sublen].append(scaled_mae)\n",
      "                else:\n",
      "                    s_dict[sublen] = [scaled_mae]\n",
      "    \n",
      "                rationale_mae = optimal_alpha_predict(model, X_test, rationale_train[sub], y_train[sub], y_test, iters)\n",
      "                if sublen in rationale_mae_dict:\n",
      "                    rationale_mae_dict[sublen].append(rationale_mae)\n",
      "                else:\n",
      "                    rationale_mae_dict[sublen] = [rationale_mae]\n",
      "    return gen_curves(mae_dict, rationale_mae_dict, s_dict)"
     ],
     "language": "python",
     "prompt_number": 58
    },
    {
     "cell_type": "code",
     "execution_count": null,
     "metadata": {},
     "outputs": [
      {
       "output_type": "stream",
       "stream": "stdout",
       "text": [
        "time: 7 ms\n"
       ]
      }
     ],
     "input": [
      "def optimal_alpha_predict(model, X_test, X_train, y_train, y_test, iters=10):\n",
      "    alpha = 1\n",
      "    min_mae = 100\n",
      "    for i in range(iters):\n",
      "        model.alpha = alpha\n",
      "        model.fit(X_train, y_train)\n",
      "        y_pred = model.predict(X_test)\n",
      "        mae = mean_absolute_error(y_test, y_pred)\n",
      "        if mae < min_mae:\n",
      "            min_mae = mae\n",
      "        alpha+=1+i/2\n",
      "    return min_mae"
     ],
     "language": "python",
     "prompt_number": 51
    },
    {
     "cell_type": "code",
     "execution_count": null,
     "metadata": {},
     "outputs": [
      {
       "output_type": "stream",
       "stream": "stdout",
       "text": [
        "Reloaded\n                            Featue Name Top Weight Occurence Total Frequency\n0                                  IMAX                   46            99.0\n1                                 Crime                   64            86.0\n2                                 Drama                   22           955.0\n3                           millionaire                   28            58.0\n4                        london-england                   32           134.0\n5                      reckless-driving                   27            56.0\n6   written-and-directed-by-cast-member                   36            61.0\n7                             obsession                   68           147.0\n8                               despair                   22            35.0\n9                                winter                   26            48.0\n10                                  sex                  182           381.0\n11                          blockbuster                  141           370.0\n12                           starvation                   29            37.0\n13                 punctuation-in-title                   28            79.0\n14                                 gift                   35            63.0\n15               brooklyn-new-york-city                   28            43.0\n16                         gay-interest                   23            39.0\n17                    private-detective                   24            48.0\n18                       telephone-call                   28           334.0\n19               orchestral-music-score                   29            78.0\n20                              partner                   30            57.0\n21                             underdog                   27            53.0\n22                           surrealism                   93           193.0\n23                              uniform                   35            64.0\n24                 critically-acclaimed                   80           104.0\n25                           first-part                   25           152.0\n26                               tunnel                   38            68.0\n27                              jukebox                   24            38.0"
       ]
      },
      {
       "output_type": "stream",
       "stream": "stdout",
       "text": [
        "\n       Featue Name Top Weight Occurence Total Frequency\n0          Mystery                  152           417.0\n1          Fantasy                   61           175.0\n2        Animation                   83           271.0\n3     decapitation                   36           121.0\n4  box-office-flop                   67           145.0\n5         waitress                   23           108.0\n6           sequel                  122           223.0\nNumber of frequent positive features: 28\nNumber of frequent negative features: 7\ntime: 11 s\n"
       ]
      }
     ],
     "input": [
      "def print_rationales(mins,maxs):\n",
      "    names = np.hstack([genre_names, key_names, actor_names])\n",
      "    col_names = [\"Featue Name\", \"Top Weight Occurence\", \"Total Frequency\"]\n",
      "    tot_freq = np.sum(data[:,2:], axis = 0)\n",
      "    max_vals = np.column_stack((names[maxs.keys()], maxs.values(), tot_freq[maxs.keys()]))\n",
      "    min_vals = np.column_stack((names[mins.keys()], mins.values(), tot_freq[mins.keys()]))\n",
      "    \n",
      "    maxs_df = pd.DataFrame(max_vals, columns = col_names)\n",
      "    mins_df = pd.DataFrame(min_vals, columns = col_names)\n",
      "    print maxs_df\n",
      "    print mins_df\n",
      "\n",
      "frequency = .01\n",
      "maxs, mins = get_frequent_rationales(np.array(data), np.array(target), frequency)\n",
      "print \"Number of frequent positive features:\", len(maxs)\n",
      "print \"Number of frequent negative features:\", len(mins)"
     ],
     "language": "python",
     "prompt_number": 20
    },
    {
     "cell_type": "code",
     "execution_count": null,
     "metadata": {},
     "outputs": [
      {
       "output_type": "stream",
       "stream": "stdout",
       "text": [
        "time: 4min 59s\n"
       ]
      }
     ],
     "input": [
      "model = linear_model.Ridge()\n",
      "alpha = 1\n",
      "folds = 5\n",
      "trials = 5\n",
      "step = 20\n",
      "budget = 400\n",
      "curve, rationale_curve, s_curve = get_cv_curves_scaled(np.array(data), np.array(target), alpha, folds, trials, step, budget, model)"
     ],
     "language": "python",
     "prompt_number": 72
    },
    {
     "cell_type": "code",
     "execution_count": null,
     "metadata": {},
     "outputs": [
      {
       "output_type": "stream",
       "stream": "stdout",
       "text": [
        "Average MAE No Rationales 1.0294575527\nAverage MAE With Rationales 0.881024937335\nAverage MAE scaled 0.807773328679\n"
       ]
      },
      {
       "output_type": "display_data",
       "png": "[encoded data removed]",
       "text": [
        "<matplotlib.figure.Figure at 0x926aa1d0>"
       ],
       "metadata": {}
      },
      {
       "output_type": "stream",
       "stream": "stdout",
       "text": [
        "time: 223 ms\n"
       ]
      }
     ],
     "input": [
      "print \"Average MAE No Rationales\", np.average(curve[:,1][:5])\n",
      "print \"Average MAE With Rationales\", np.average(rationale_curve[:,1][:5])\n",
      "print \"Average MAE scaled\", np.average(s_curve[:,1][:5])\n",
      "plt.xlabel('Train Examples')\n",
      "plt.ylabel('MAE')\n",
      "plt.title('Ridge Regression with 5 Fold Cross Validation')\n",
      "plt.plot(curve[:,0], curve[:,1], '.r-', s_curve[:,0], s_curve[:,1], '.g-', rationale_curve[:,0], rationale_curve[:,1], '.b-')\n",
      "plt.legend(['No Rationales', 'No Rationales Scaled', 'With Rationales'])\n",
      "plt.show()"
     ],
     "language": "python",
     "prompt_number": 73
    },
    {
     "cell_type": "code",
     "execution_count": null,
     "metadata": {},
     "outputs": [
      {
       "output_type": "stream",
       "stream": "stdout",
       "text": [
        "time: 37 ms\n"
       ]
      }
     ],
     "input": [
      "def get_cv_curves_scaled_no_avg(data, target, alpha, folds, trials, step, budget, model):\n",
      "    model.alpha = alpha\n",
      "\n",
      "    kf = cross_validation.KFold(data.shape[0], n_folds=folds, shuffle = True, random_state = 42)\n",
      "    \n",
      "    mae_dict = {}\n",
      "    rationale_mae_dict = {}\n",
      "    s_dict = {}\n",
      "    iters = 10\n",
      "    for train_index, test_index in kf:\n",
      "        X_train, X_test = data[train_index], data[test_index]\n",
      "        y_train, y_test = target[train_index], target[test_index]\n",
      "        s_train = np.array(X_train)\n",
      "        s_train[:,2:] = np.multiply(s_train[:,2:], 0.001)\n",
      "        rationale_train = build_train_with_rationales(np.array(s_train), np.array(y_train), maxs, mins)\n",
      "        \n",
      "        s_train = s_train[:,2:]\n",
      "        rationale_train = rationale_train[:,2:]\n",
      "        X_test = X_test[:,2:]\n",
      "        X_train = X_train[:,2:]\n",
      "        \n",
      "        indices = np.arange(len(y_train))\n",
      "        sublens = np.arange(step, min(len(y_train),budget), step)\n",
      "        \n",
      "        for _ in xrange(trials):\n",
      "            indices = gen_indices(y_train, indices)\n",
      "            for sublen in sublens:\n",
      "                sub = indices[range(sublen)]\n",
      "                \n",
      "                mae = optimal_alpha_predict(model, X_test, X_train[sub], y_train[sub], y_test, iters)\n",
      "                if sublen in mae_dict:\n",
      "                    mae_dict[sublen].append(mae)\n",
      "                else:\n",
      "                    mae_dict[sublen] = [mae]\n",
      "                    \n",
      "                scaled_mae = optimal_alpha_predict(model, X_test, s_train[sub], y_train[sub], y_test, iters)\n",
      "                if sublen in s_dict:\n",
      "                    s_dict[sublen].append(scaled_mae)\n",
      "                else:\n",
      "                    s_dict[sublen] = [scaled_mae]\n",
      "    \n",
      "                rationale_mae = optimal_alpha_predict(model, X_test, rationale_train[sub], y_train[sub], y_test, iters)\n",
      "                if sublen in rationale_mae_dict:\n",
      "                    rationale_mae_dict[sublen].append(rationale_mae)\n",
      "                else:\n",
      "                    rationale_mae_dict[sublen] = [rationale_mae]\n",
      "    return gen_curves(mae_dict, rationale_mae_dict, s_dict)"
     ],
     "language": "python",
     "prompt_number": 41
    },
    {
     "cell_type": "code",
     "execution_count": null,
     "metadata": {},
     "outputs": [
      {
       "output_type": "stream",
       "stream": "stdout",
       "text": [
        "time: 6min 52s\n"
       ]
      }
     ],
     "input": [
      "model = linear_model.Ridge()\n",
      "alpha = 1\n",
      "folds = 5\n",
      "trials = 5\n",
      "step = 20\n",
      "budget = 400\n",
      "curve, rationale_curve, s_curve = get_cv_curves_scaled_no_avg(np.array(data), np.array(target), alpha, folds, trials, step, budget, model)"
     ],
     "language": "python",
     "prompt_number": 44
    },
    {
     "cell_type": "code",
     "execution_count": null,
     "metadata": {},
     "outputs": [
      {
       "output_type": "stream",
       "stream": "stdout",
       "text": [
        "Average MAE No Rationales 1.20506706021\nAverage MAE WithRationales 1.23376990728\nAverage MAE scaled 1.26379254411\n"
       ]
      },
      {
       "output_type": "display_data",
       "png": "[encoded data removed]",
       "text": [
        "<matplotlib.figure.Figure at 0x8595cfd0>"
       ],
       "metadata": {}
      },
      {
       "output_type": "stream",
       "stream": "stdout",
       "text": [
        "time: 221 ms\n"
       ]
      }
     ],
     "input": [
      "print \"Average MAE No Rationales\", np.average(curve[:,1][:5])\n",
      "print \"Average MAE With Rationales\", np.average(rationale_curve[:,1][:5])\n",
      "print \"Average MAE scaled\", np.average(s_curve[:,1][:5])\n",
      "plt.xlabel('Train Examples')\n",
      "plt.ylabel('MAE')\n",
      "plt.title('Ridge Regression with 5 Fold Cross Validation')\n",
      "plt.plot(curve[:,0], curve[:,1], '.r-', s_curve[:,0], s_curve[:,1], '.g-', rationale_curve[:,0], rationale_curve[:,1], '.b-')\n",
      "plt.legend(['No Rationales', 'No Rationales Scaled', 'With Rationales'])\n",
      "plt.show()"
     ],
     "language": "python",
     "prompt_number": 45
    },
    {
     "cell_type": "code",
     "execution_count": null,
     "metadata": {},
     "outputs": [
      {
       "output_type": "stream",
       "stream": "stdout",
       "text": [
        "time: 40 ms\n"
       ]
      }
     ],
     "input": [
      "def get_cv_curves_scaled_with_avg(data, target, alpha, folds, trials, step, budget, model, iters):\n",
      "    model.alpha = alpha\n",
      "    kf = cross_validation.KFold(data.shape[0], n_folds=folds, shuffle = True, random_state = 42)    \n",
      "    mae_dict = {}\n",
      "    rationale_mae_dict = {}\n",
      "    s_dict = {}\n",
      "    for train_index, test_index in kf:\n",
      "        X_train, X_test = data[train_index], data[test_index]\n",
      "        y_train, y_test = target[train_index], target[test_index]\n",
      "        s_train = np.array(X_train)\n",
      "        s_train = np.multiply(s_train, 0.001)\n",
      "        rationale_train = build_train_with_rationales_avg(np.array(X_train), np.array(y_train), maxs_avg, mins_avg)        \n",
      "        indices = np.arange(len(y_train))\n",
      "        sublens = np.arange(step, min(len(y_train),budget), step)      \n",
      "        \n",
      "        for _ in xrange(trials):\n",
      "            indices = gen_indices(y_train, indices)\n",
      "            for sublen in sublens:\n",
      "                sub = indices[range(sublen)]\n",
      "                \n",
      "                mae = optimal_alpha_predict(model, X_test, X_train[sub], y_train[sub], y_test, iters)\n",
      "                if sublen in mae_dict:\n",
      "                    mae_dict[sublen].append(mae)\n",
      "                else:\n",
      "                    mae_dict[sublen] = [mae]\n",
      "                    \n",
      "                scaled_mae = optimal_alpha_predict(model, X_test, s_train[sub], y_train[sub], y_test, iters)\n",
      "                if sublen in s_dict:\n",
      "                    s_dict[sublen].append(scaled_mae)\n",
      "                else:\n",
      "                    s_dict[sublen] = [scaled_mae]\n",
      "    \n",
      "                rationale_mae = optimal_alpha_predict(model, X_test, rationale_train[sub], y_train[sub], y_test, iters)\n",
      "                if sublen in rationale_mae_dict:\n",
      "                    rationale_mae_dict[sublen].append(rationale_mae)\n",
      "                else:\n",
      "                    rationale_mae_dict[sublen] = [rationale_mae]\n",
      "    return gen_curves(mae_dict, rationale_mae_dict, s_dict)"
     ],
     "language": "python",
     "prompt_number": 68
    },
    {
     "cell_type": "code",
     "execution_count": null,
     "metadata": {},
     "outputs": [
      {
       "output_type": "stream",
       "stream": "stdout",
       "text": [
        "time: 30 ms\n"
       ]
      }
     ],
     "input": [
      "def get_frequent_rationales_avg(train_data, y_train, frequency):\n",
      "    non_avg = train_data\n",
      "    rationale_weights = get_rationale_weights(non_avg, y_train)\n",
      "    maxs, mins = build_rationales(non_avg, y_train, rationale_weights, frequency)\n",
      "    print_rationales(mins,maxs)\n",
      "    maxs = maxs.keys()\n",
      "    mins = mins.keys()\n",
      "    return maxs, mins\n",
      "\n",
      "\n",
      "def build_train_with_rationales_avg(train_data, y_train, maxs, mins):\n",
      "    count = 0\n",
      "    for x in range(train_data.shape[0]):\n",
      "        movie = train_data[x]\n",
      "        nz = np.nonzero(movie)\n",
      "        valid_maxs = np.intersect1d(maxs, nz)\n",
      "        valid_mins = np.intersect1d(mins, nz)\n",
      "        \n",
      "        if y_train[x] > 3.5 and len(valid_maxs) > 0:\n",
      "            count +=1\n",
      "            movie = np.multiply(movie, 0.001)\n",
      "            rationale = np.random.choice(maxs, min(len(valid_maxs),1))\n",
      "            movie[rationale] *= 1000\n",
      "        elif y_train[x] < 2.5 and len(valid_mins) > 0:\n",
      "            count +=1            \n",
      "            movie = np.multiply(movie, 0.001)\n",
      "            rationale = np.random.choice(mins, min(len(valid_mins),1))\n",
      "            movie[rationale] *= 1000\n",
      "        train_data[x] = movie\n",
      "    return train_data"
     ],
     "language": "python",
     "prompt_number": 67
    },
    {
     "cell_type": "code",
     "execution_count": null,
     "metadata": {},
     "outputs": [
      {
       "output_type": "stream",
       "stream": "stdout",
       "text": [
        "Reloaded\n               Featue Name Top Weight Occurence Total Frequency\n0                  Mystery                  857           417.0\n1                  Romance                   97           301.0\n2                  Fantasy                   38           175.0\n3                Adventure                   20           201.0\n4            mercilessness                   29            36.0\n5              pot-smoking                   21            60.0\n6         reckless-driving                   58            56.0\n7   punched-in-the-stomach                   36            52.0\n8                   heroin                   21            53.0\n9                     rose                  150            28.0\n10           rock-'n'-roll                   24            27.0\n11        falling-to-death                   17            44.0\n12            martial-arts                   28           232.0\n13                 camping                   34            20.0\n14                   dance                   21           136.0\n15                idealism                   47            34.0\n16         animal-in-title                   17            58.0\n17       phonograph-record                   17            29.0\n18      marital-separation                   19            37.0\n19       wedding-reception                   21            43.0\n20                 bonfire                   35            26.0\n21                   ghost                   25            81.0\n22             dead-animal                   19            29.0\n23           christmas-eve                   39            27.0\n24                    city                   48            60.0\n25             traffic-jam                   19            38.0\n26   body-landing-on-a-car                   18            45.0\n27               vandalism                   20            56.0\n28               explosive                   21            47.0\n29              masked-man                   38            46.0"
       ]
      },
      {
       "output_type": "stream",
       "stream": "stdout",
       "text": [
        "\n       Featue Name Top Weight Occurence Total Frequency\n0          Mystery                  266           417.0\n1             IMAX                  152            99.0\n2        Animation                   61           271.0\n3  laptop-computer                   31            33.0\n4          actress                   21            91.0\n5   telephone-call                   19           334.0\n6      hairy-chest                   26            51.0\n7      tragic-hero                   72            63.0\n8             milk                   17            35.0\n9        explosion                   28           379.0\nNumber of frequent positive features: 30\nNumber of frequent negative features: 10\ntime: 10.5 s\n"
       ]
      }
     ],
     "input": [
      "frequency = .008\n",
      "maxs_avg, mins_avg = get_frequent_rationales_avg(np.array(data), np.array(target), frequency)\n",
      "print \"Number of frequent positive features:\", len(maxs_avg)\n",
      "print \"Number of frequent negative features:\", len(mins_avg)"
     ],
     "language": "python",
     "prompt_number": 62
    },
    {
     "cell_type": "code",
     "execution_count": null,
     "metadata": {},
     "outputs": [
      {
       "output_type": "stream",
       "stream": "stdout",
       "text": [
        "time: 36.3 s\n"
       ]
      }
     ],
     "input": [
      "model = linear_model.Ridge()\n",
      "alpha = 1\n",
      "folds = 5\n",
      "trials = 5\n",
      "step = 20\n",
      "budget = 400\n",
      "reg_rate = 0\n",
      "iters = 1\n",
      "curve, rationale_curve, s_curve = get_cv_curves_scaled_with_avg(np.array(data), np.array(target), alpha, folds, trials, step, budget, model,iters)"
     ],
     "language": "python",
     "prompt_number": 69
    },
    {
     "cell_type": "code",
     "execution_count": null,
     "metadata": {},
     "outputs": [
      {
       "output_type": "stream",
       "stream": "stdout",
       "text": [
        "Average MAE No Rationales 1.02030506584\nAverage MAE With Rationales 1.14370978653\nAverage MAE scaled 1.2063608063\n"
       ]
      },
      {
       "output_type": "display_data",
       "png": "[encoded data removed]",
       "text": [
        "<matplotlib.figure.Figure at 0x926839b0>"
       ],
       "metadata": {}
      },
      {
       "output_type": "stream",
       "stream": "stdout",
       "text": [
        "time: 674 ms\n"
       ]
      }
     ],
     "input": [
      "print \"Average MAE No Rationales\", np.average(curve[:,1][:5])\n",
      "print \"Average MAE With Rationales\", np.average(rationale_curve[:,1][:5])\n",
      "print \"Average MAE scaled\", np.average(s_curve[:,1][:5])\n",
      "plt.xlabel('Train Examples')\n",
      "plt.ylabel('MAE')\n",
      "plt.title('Ridge Regression with 5 Fold Cross Validation')\n",
      "plt.plot(curve[:,0], curve[:,1], '.r-', s_curve[:,0], s_curve[:,1], '.g-', rationale_curve[:,0], rationale_curve[:,1], '.b-')\n",
      "plt.legend(['No Rationales', 'No Rationales Scaled', 'With Rationales'])\n",
      "plt.show()"
     ],
     "language": "python",
     "prompt_number": 70
    },
    {
     "cell_type": "code",
     "execution_count": null,
     "metadata": {},
     "outputs": [],
     "input": [
      ""
     ],
     "language": "python"
    }
   ]
  }
 ],
 "cells": [],
 "metadata": {},
 "nbformat": 3,
 "nbformat_minor": 0
}