{
 "worksheets": [
  {
   "cells": [
    {
     "cell_type": "code",
     "execution_count": null,
     "metadata": {},
     "outputs": [],
     "input": [
      "import numpy as np\n",
      "from pandas import DataFrame as df\n",
      "from Classifiers import TransparentLinearRegression\n",
      "from scipy.sparse import diags\n",
      "import PredictiveModels as pm\n",
      "import pandas as pd\n",
      "from LatestPreprocessing import *\n",
      "from RationaleSelect import *\n",
      "from sklearn import cross_validation, linear_model\n",
      "from sklearn.metrics import mean_absolute_error"
     ],
     "language": "python",
     "prompt_number": 1
    },
    {
     "cell_type": "code",
     "execution_count": null,
     "metadata": {},
     "outputs": [],
     "input": [
      "userid = 28451\n",
      "user_ratings = get_matched_user_ratings(userid)\n",
      "movies = user_ratings.keys()\n",
      "ratings = user_ratings.values()"
     ],
     "language": "python",
     "prompt_number": 2
    },
    {
     "cell_type": "code",
     "execution_count": null,
     "metadata": {},
     "outputs": [],
     "input": [
      "id_dict = get_id_row_dict()\n",
      "idxs = [id_dict[k] for k in movies]\n",
      "avg_and_num = sort_avg()"
     ],
     "language": "python",
     "prompt_number": 3
    },
    {
     "cell_type": "code",
     "execution_count": null,
     "metadata": {},
     "outputs": [],
     "input": [
      "genre_matrix = get_genre_matrix()[idxs]\n",
      "user_key_matrix  = get_keyword_matrix()[idxs]\n",
      "actor_matrix = get_actor_matrix()[idxs]"
     ],
     "language": "python",
     "prompt_number": 4
    },
    {
     "cell_type": "code",
     "execution_count": null,
     "metadata": {},
     "outputs": [
      {
       "output_type": "stream",
       "stream": "stdout",
       "text": [
        "(1286L, 4225L)\n"
       ]
      }
     ],
     "input": [
      "rationale_data = np.column_stack((genre_matrix, user_key_matrix, actor_matrix))\n",
      "print rationale_data.shape\n",
      "rationale_weights = get_rationale_weight(rationale_data, ratings)"
     ],
     "language": "python",
     "prompt_number": 5
    },
    {
     "cell_type": "code",
     "execution_count": null,
     "metadata": {},
     "outputs": [
      {
       "output_type": "stream",
       "stream": "stdout",
       "text": [
        "(1286L, 4227L)\n"
       ]
      }
     ],
     "input": [
      "pp.scale(avg_and_num[:,0], with_mean=True, with_std=True, copy=False)\n",
      "pp.scale(avg_and_num[:,1], with_mean=True, with_std=True, copy=False)\n",
      "data = np.column_stack((avg_and_num[idxs], genre_matrix, user_key_matrix, actor_matrix))\n",
      "target = ratings\n",
      "print data.shape"
     ],
     "language": "python",
     "prompt_number": 6
    },
    {
     "cell_type": "code",
     "execution_count": null,
     "metadata": {},
     "outputs": [
      {
       "output_type": "stream",
       "stream": "stdout",
       "text": [
        "Ten Lowest Errors\n  Movie ID User Rating Model Prediction       Model Error\n0   1191.0         0.5   0.504250698657  0.00425069865669\n1   2858.0         1.0   0.995479055317   0.0045209446832\n2  32316.0         0.5   0.507709818058  0.00770981805756\n3   5992.0         0.5   0.508173649971  0.00817364997126\n4   1704.0         2.5     2.4882377744   0.0117622256022\n5    915.0         5.0     4.9853640815   0.0146359185033\n6   2102.0         4.0     4.0175731553   0.0175731552999\n7   2011.0         5.0    4.97289610687   0.0271038931263\n8   1252.0         5.0     4.9680953221   0.0319046778968\n9   1204.0         0.5   0.532294081745   0.0322940817448\n\nTen Highest Errors\n      Movie ID    User Rating Model Prediction    Model Error\n1277    1213.0            5.0   0.453455357622  4.54654464238\n1278    4426.0            0.5    5.13364329316  4.63364329316\n1279     923.0            5.0   0.258772204326  4.74122779567\n1280     943.0            5.0   0.167388311744  4.83261168826\n1281     296.0            1.0    5.95021048028  4.95021048028\n1282    6874.0            5.0  -0.198109629051  5.19810962905\n1283    4014.0            5.0   -0.63168197363  5.63168197363\n1284    2712.0            4.5   -1.47787061563  5.97787061563\n1285    3265.0            5.0   -1.06703956693  6.06703956693\n1286  Average:  2.81842923795    2.82136744758  1.52353128142\n"
       ]
      }
     ],
     "input": [
      "results = pm.get_ridge_cv_results(np.column_stack((data,target)), 28, 10)\n",
      "\n",
      "y_pred = results[2]\n",
      "ratings = user_ratings.values()\n",
      "error_from_pred = np.abs(ratings-y_pred)\n",
      "\n",
      "col_names = [\"Movie ID\" ,\"User Rating\",\"Model Prediction\",\"Model Error\"]\n",
      "\n",
      "col_avg = [\"Average:\", np.average(ratings),np.average(y_pred),np.average(error_from_pred)]\n",
      "user_result = np.column_stack((user_ratings.keys(), ratings, y_pred, error_from_pred))\n",
      "user_result = user_result[np.argsort(user_result[:, 3])]\n",
      "user_result = np.vstack((user_result,col_avg))\n",
      "\n",
      "results_df = pd.DataFrame(user_result, columns = col_names)\n",
      "print \"Ten Lowest Errors\"\n",
      "print results_df.head(10)\n",
      "print \"\\nTen Highest Errors\"\n",
      "print results_df.tail(10)"
     ],
     "language": "python",
     "prompt_number": 17
    },
    {
     "cell_type": "code",
     "execution_count": null,
     "metadata": {},
     "outputs": [],
     "input": [
      "def get_rationale_train(data):\n",
      "    for x in range(data.shape[0]):\n",
      "        movie = data[x]\n",
      "        movie = np.multiply(movie, .1)\n",
      "        rationales = np.hstack(get_rationales(rationale_weights, movie))\n",
      "        for rationale in np.add(rationales, 2):\n",
      "            movie[rationale] *= 10\n",
      "        movie[0] *= 10\n",
      "        movie[1] *= 10\n",
      "        data[x] = movie  \n",
      "    return data"
     ],
     "language": "python",
     "prompt_number": 39
    },
    {
     "cell_type": "code",
     "execution_count": null,
     "metadata": {},
     "outputs": [],
     "input": [
      "def get_ridge_cv_results_rationales(user_matrix, alpha, folds):\n",
      "    user_cols = user_matrix.shape[1]\n",
      "    data = user_matrix[:, :(user_cols-1)]\n",
      "    target = user_matrix[:, (user_cols-1)]\n",
      "\n",
      "    ridge = linear_model.Ridge()\n",
      "    ridge.alpha = alpha\n",
      "    \n",
      "    kf = cross_validation.KFold(user_matrix.shape[0], n_folds=folds, shuffle = True, random_state = 16834)\n",
      "    all_pred = np.zeros(shape=(0))\n",
      "    all_indices = np.zeros(shape=(0))\n",
      "    mae_list = list()\n",
      "    for train_index, test_index in kf:\n",
      "        X_train, X_test =data[train_index], data[test_index]\n",
      "        y_train, y_test = target[train_index], target[test_index]\n",
      "        \n",
      "        rationale_train = get_rationale_train(X_train)\n",
      "        \n",
      "        ridge.fit(rationale_train, y_train)\n",
      "        y_pred = ridge.predict(X_test)\n",
      "\n",
      "        mae = mean_absolute_error(y_test, y_pred)\n",
      "\n",
      "        all_pred = np.concatenate((all_pred,y_pred))\n",
      "        all_indices = np.concatenate((all_indices, test_index))\n",
      "\n",
      "        mae_list.append(mae)\n",
      "\n",
      "    y_pred = np.column_stack((all_indices,all_pred))\n",
      "    y_pred = y_pred[np.argsort(y_pred[:,0])][:,1]\n",
      "\n",
      "    mae = np.average(mae_list)\n",
      "    weights = ridge.coef_\n",
      "\n",
      "    return [mae, weights, y_pred]"
     ],
     "language": "python",
     "prompt_number": 25
    },
    {
     "cell_type": "code",
     "execution_count": null,
     "metadata": {},
     "outputs": [
      {
       "output_type": "stream",
       "stream": "stdout",
       "text": [
        "Ten Lowest Errors\n  Movie ID User Rating Model Prediction       Model Error\n0   1183.0         0.5   0.492966957615  0.00703304238543\n1   1608.0         5.0    4.98499880296    0.015001197038\n2   8384.0         2.5     2.4836422516    0.016357748395\n3   1025.0         4.5    4.48322689457   0.0167731054304\n4   7826.0         5.0    5.01679659745   0.0167965974534\n5   2294.0         4.5    4.51921013283   0.0192101328309\n6   8762.0         4.5    4.47598834696   0.0240116530409\n7  34072.0         2.5    2.52424228983   0.0242422898302\n8   5385.0         2.5    2.52521729306   0.0252172930649\n9   7618.0         2.5    2.53469171577   0.0346917157712\n\nTen Highest Errors\n      Movie ID    User Rating Model Prediction    Model Error\n1277    1213.0            5.0  -0.302892153857  5.30289215386\n1278     923.0            5.0  -0.487382209748  5.48738220975\n1279    4223.0            4.5   -1.06290511482  5.56290511482\n1280    2571.0            1.0    6.58623094095  5.58623094095\n1281    3447.0            2.5   -3.26499094047  5.76499094047\n1282    4234.0            4.5   -1.49452263097  5.99452263097\n1283    4406.0            5.0   -1.02459960604  6.02459960604\n1284    4014.0            5.0   -1.60239092404  6.60239092404\n1285    2712.0            4.5    -2.6664690643   7.1664690643\n1286  Average:  2.81842923795    2.53838462544  1.60845739357\n"
       ]
      }
     ],
     "input": [
      "results = get_ridge_cv_results_rationales(np.column_stack((data,target)), 28, 10)\n",
      "\n",
      "y_pred = results[2]\n",
      "ratings = user_ratings.values()\n",
      "error_from_pred = np.abs(ratings-y_pred)\n",
      "\n",
      "col_names = [\"Movie ID\" ,\"User Rating\",\"Model Prediction\",\"Model Error\"]\n",
      "\n",
      "col_avg = [\"Average:\", np.average(ratings),np.average(y_pred),np.average(error_from_pred)]\n",
      "user_result = np.column_stack((user_ratings.keys(), ratings, y_pred, error_from_pred))\n",
      "user_result = user_result[np.argsort(user_result[:, 3])]\n",
      "user_result = np.vstack((user_result,col_avg))\n",
      "\n",
      "results_df = pd.DataFrame(user_result, columns = col_names)\n",
      "print \"Ten Lowest Errors\"\n",
      "print results_df.head(10)\n",
      "print \"\\nTen Highest Errors\"\n",
      "print results_df.tail(10)"
     ],
     "language": "python",
     "prompt_number": 38
    },
    {
     "cell_type": "code",
     "execution_count": null,
     "metadata": {},
     "outputs": [],
     "input": [
      ""
     ],
     "language": "python"
    }
   ]
  }
 ],
 "cells": [],
 "metadata": {},
 "nbformat": 3,
 "nbformat_minor": 0
}