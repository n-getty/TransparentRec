{
 "worksheets": [
  {
   "cells": [
    {
     "cell_type": "code",
     "execution_count": null,
     "metadata": {},
     "outputs": [],
     "input": [
      "import numpy as np\n",
      "from pandas import DataFrame as df\n",
      "from Classifiers import TransparentLinearRegression\n",
      "from scipy.sparse import diags\n",
      "import PredictiveModels as pm\n",
      "import pandas as pd\n",
      "from LatestPreprocessing import *\n",
      "from RationaleSelect import *\n",
      "from sklearn import cross_validation, linear_model\n",
      "from sklearn.metrics import mean_absolute_error"
     ],
     "language": "python",
     "prompt_number": 40
    },
    {
     "cell_type": "code",
     "execution_count": null,
     "metadata": {},
     "outputs": [],
     "input": [
      "userid = 28451\n",
      "user_ratings = get_matched_user_ratings(userid)\n",
      "movies = user_ratings.keys()\n",
      "ratings = user_ratings.values()"
     ],
     "language": "python",
     "prompt_number": 3
    },
    {
     "cell_type": "code",
     "execution_count": null,
     "metadata": {},
     "outputs": [],
     "input": [
      "id_dict = get_id_row_dict()\n",
      "idxs = [id_dict[k] for k in movies]\n",
      "avg_and_num = sort_avg()"
     ],
     "language": "python",
     "prompt_number": 4
    },
    {
     "cell_type": "code",
     "execution_count": null,
     "metadata": {},
     "outputs": [],
     "input": [
      "genre_matrix = get_genre_matrix()[idxs]\n",
      "user_key_matrix  = get_keyword_matrix()[idxs]\n",
      "actor_matrix = get_actor_matrix()[idxs]"
     ],
     "language": "python",
     "prompt_number": 5
    },
    {
     "cell_type": "code",
     "execution_count": null,
     "metadata": {},
     "outputs": [],
     "input": [
      "rationale_data = np.column_stack((genre_matrix, user_key_matrix, actor_matrix))\n",
      "print rationale_data.shape\n",
      "rationale_weights = get_rationale_weight(rationale_data, ratings)"
     ],
     "language": "python",
     "prompt_number": 27
    },
    {
     "cell_type": "code",
     "execution_count": null,
     "metadata": {},
     "outputs": [],
     "input": [
      ""
     ],
     "language": "python"
    },
    {
     "cell_type": "code",
     "execution_count": null,
     "metadata": {},
     "outputs": [
      {
       "output_type": "stream",
       "stream": "stdout",
       "text": [
        "Ten Lowest Errors\n  Movie ID User Rating Model Prediction       Model Error\n0    762.0         1.0   0.998595808076  0.00140419192422\n1   5952.0         5.0    5.00490072335  0.00490072335309\n2   2207.0         1.0   0.993768980269  0.00623101973067\n3   3668.0         0.5   0.493683023836  0.00631697616371\n4    733.0         5.0    4.99182171655  0.00817828344513\n5   2858.0         1.0   0.990443627515  0.00955637248473\n6    597.0         4.5    4.49013928139   0.0098607186061\n7  26230.0         1.0   0.989013047124   0.0109869528759\n8   6031.0         0.5   0.484500859801   0.0154991401986\n9    239.0         4.5    4.48351331634   0.0164866836616\n\nTen Highest Errors\n      Movie ID    User Rating Model Prediction    Model Error\n1277    4426.0            0.5    5.04488689984  4.54488689984\n1278    2000.0            5.0   0.433811890965  4.56618810903\n1279    3438.0            0.5    5.32383762634  4.82383762634\n1280     296.0            1.0    6.16008995934  5.16008995934\n1281     943.0            5.0  -0.231347775742  5.23134777574\n1282    2712.0            4.5  -0.989219026614  5.48921902661\n1283    6874.0            5.0  -0.504143592877  5.50414359288\n1284    4014.0            5.0  -0.578766899259  5.57876689926\n1285    3265.0            5.0   -1.60334343776  6.60334343776\n1286  Average:  2.81842923795    2.81998239679  1.55661407269\n"
       ]
      }
     ],
     "input": [
      "results = pm.get_ridge_cv_results(np.column_stack((data,target)), 28, 10)\n",
      "\n",
      "y_pred = results[2]\n",
      "ratings = user_ratings.values()\n",
      "error_from_pred = np.abs(ratings-y_pred)\n",
      "\n",
      "col_names = [\"Movie ID\" ,\"User Rating\",\"Model Prediction\",\"Model Error\"]\n",
      "\n",
      "col_avg = [\"Average:\", np.average(ratings),np.average(y_pred),np.average(error_from_pred)]\n",
      "user_result = np.column_stack((user_ratings.keys(), ratings, y_pred, error_from_pred))\n",
      "user_result = user_result[np.argsort(user_result[:, 3])]\n",
      "user_result = np.vstack((user_result,col_avg))\n",
      "\n",
      "results_df = pd.DataFrame(user_result, columns = col_names)\n",
      "print \"Ten Lowest Errors\"\n",
      "print results_df.head(10)\n",
      "print \"\\nTen Highest Errors\"\n",
      "print results_df.tail(10)"
     ],
     "language": "python",
     "prompt_number": 15
    },
    {
     "cell_type": "code",
     "execution_count": null,
     "metadata": {},
     "outputs": [],
     "input": [
      "def get_rationale_train(data):\n",
      "    for movie in data:\n",
      "        movie = np.multiply(movie, 0.1)\n",
      "        rationales, alt_rationales = get_rationales(rationale_weights, movie)\n",
      "        for rationale in np.add(rationales, 0):\n",
      "            movie[rationale] *= 10.1\n",
      "        for rationale in np.add(alt_rationales, 0):\n",
      "            movie[rationale] *= 10.1\n",
      "    return data"
     ],
     "language": "python",
     "prompt_number": 54
    },
    {
     "cell_type": "code",
     "execution_count": null,
     "metadata": {},
     "outputs": [],
     "input": [
      "def get_ridge_cv_results_rationales(user_matrix, alpha, folds):\n",
      "    user_cols = user_matrix.shape[1]\n",
      "    data = user_matrix[:, :(user_cols-1)]\n",
      "    target = user_matrix[:, (user_cols-1)]\n",
      "\n",
      "    ridge = linear_model.Ridge()\n",
      "\n",
      "    kf = cross_validation.KFold(user_matrix.shape[0], n_folds=folds, shuffle = True, random_state = 16834)\n",
      "    all_pred = np.zeros(shape=(0))\n",
      "    all_indices = np.zeros(shape=(0))\n",
      "    mae_list = list()\n",
      "    for train_index, test_index in kf:\n",
      "        X_train, X_test =data[train_index], data[test_index]\n",
      "        y_train, y_test = target[train_index], target[test_index]\n",
      "        \n",
      "        rationale_train = get_rationale_train(X_train)\n",
      "        \n",
      "        ridge.fit(rationale_train, y_train)\n",
      "        y_pred = ridge.predict(X_test)\n",
      "\n",
      "        mae = mean_absolute_error(y_test, y_pred)\n",
      "\n",
      "        all_pred = np.concatenate((all_pred,y_pred))\n",
      "        all_indices = np.concatenate((all_indices, test_index))\n",
      "\n",
      "        mae_list.append(mae)\n",
      "\n",
      "    y_pred = np.column_stack((all_indices,all_pred))\n",
      "    y_pred = y_pred[np.argsort(y_pred[:,0])][:,1]\n",
      "\n",
      "    mae = np.average(mae_list)\n",
      "    weights = ridge.coef_\n",
      "\n",
      "    return [mae, weights, y_pred]"
     ],
     "language": "python",
     "prompt_number": 55
    },
    {
     "cell_type": "code",
     "execution_count": null,
     "metadata": {},
     "outputs": [
      {
       "output_type": "stream",
       "stream": "stdout",
       "text": [
        "Ten Lowest Errors\n  Movie ID User Rating Model Prediction       Model Error\n0    965.0         5.0    5.00183934518  0.00183934517515\n1   2003.0         1.0    1.00293512684  0.00293512684264\n2   1334.0         0.5    0.49625086012  0.00374913987956\n3    616.0         4.5    4.50770595732  0.00770595731843\n4   3629.0         5.0    5.01084392762   0.0108439276167\n5   7883.0         1.0    1.01565704977   0.0156570497727\n6   8711.0         5.0    4.97854555013   0.0214544498747\n7   3345.0         2.5    2.47322275712   0.0267772428778\n8   1208.0         1.0   0.971287879748   0.0287121202516\n9   2205.0         5.0     4.9672769205   0.0327230794958\n\nTen Highest Errors\n      Movie ID    User Rating Model Prediction    Model Error\n1277    5989.0            4.5   -2.01819026134  6.51819026134\n1278    7335.0            0.5    7.03740807356  6.53740807356\n1279    3438.0            0.5    7.07236911906  6.57236911906\n1280    4426.0            0.5    7.64622811888  7.14622811888\n1281     296.0            1.0    8.76486537164  7.76486537164\n1282    4014.0            5.0    -3.0581939164   8.0581939164\n1283    2712.0            4.5   -3.76937091191  8.26937091191\n1284    3265.0            5.0   -3.40628703937  8.40628703937\n1285    6874.0            5.0   -3.78556853487  8.78556853487\n1286  Average:  2.81842923795     2.8290619789  1.76668173971\n"
       ]
      }
     ],
     "input": [
      "results = get_ridge_cv_results_rationales(np.column_stack((data,target)), 28, 10)\n",
      "\n",
      "y_pred = results[2]\n",
      "ratings = user_ratings.values()\n",
      "error_from_pred = np.abs(ratings-y_pred)\n",
      "\n",
      "col_names = [\"Movie ID\" ,\"User Rating\",\"Model Prediction\",\"Model Error\"]\n",
      "\n",
      "col_avg = [\"Average:\", np.average(ratings),np.average(y_pred),np.average(error_from_pred)]\n",
      "user_result = np.column_stack((user_ratings.keys(), ratings, y_pred, error_from_pred))\n",
      "user_result = user_result[np.argsort(user_result[:, 3])]\n",
      "user_result = np.vstack((user_result,col_avg))\n",
      "\n",
      "results_df = pd.DataFrame(user_result, columns = col_names)\n",
      "print \"Ten Lowest Errors\"\n",
      "print results_df.head(10)\n",
      "print \"\\nTen Highest Errors\"\n",
      "print results_df.tail(10)"
     ],
     "language": "python",
     "prompt_number": 56
    },
    {
     "cell_type": "code",
     "execution_count": null,
     "metadata": {},
     "outputs": [],
     "input": [
      ""
     ],
     "language": "python"
    }
   ]
  }
 ],
 "cells": [],
 "metadata": {},
 "nbformat": 3,
 "nbformat_minor": 0
}