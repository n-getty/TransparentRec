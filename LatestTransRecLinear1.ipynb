{
 "cells": [
  {
   "cell_type": "code",
   "execution_count": 1,
   "metadata": {},
   "outputs": [],
   "source": [
    "%matplotlib inline\n",
    "import numpy as np\n",
    "from pandas import DataFrame as df\n",
    "from Classifiers import TransparentLinearRegression\n",
    "from scipy.sparse import diags\n",
    "import matplotlib.pyplot as plt\n",
    "import PredictiveModels as pm\n",
    "import pandas as pd\n",
    "from LatestPreprocessing import *"
   ]
  },
  {
   "cell_type": "markdown",
   "metadata": {},
   "source": [
    "# User Transparency"
   ]
  },
  {
   "cell_type": "code",
   "execution_count": 3,
   "metadata": {},
   "outputs": [
    {
     "name": "stdout",
     "output_type": "stream",
     "text": [
      "   User ID  Number of Ratings  Average Rating  Variance  Genre Ratio  Key Ratio  Fitness\n0   242763               1929           2.875     4.092            0      0.040    0.369\n1    28451               1274           2.813     3.909            0      0.086    0.305\n2    87971               1181           3.383     3.426            0      0.065    0.278\n3   155440               1028           2.631     3.292            0      0.085    0.245\n4    60484               1224           2.054     3.114            0      0.077    0.234\n5   120899               2031           2.662     2.356            0      0.022    0.214\n6    46262                747           2.509     3.603            0      0.159    0.202\n7   225941               1646           1.797     2.348            0      0.037    0.198\n8   170099               2067           3.215     2.179            0      0.021    0.197\n9   234450               1798           2.885     2.215            0      0.034    0.187\n"
     ]
    }
   ],
   "source": [
    "pd.set_option('display.width', 100)\n",
    "user_stats = pd.read_csv('ml-latest/user_stats.csv', sep = ',',nrows=20)\n",
    "print user_stats.head(10)"
   ]
  },
  {
   "cell_type": "markdown",
   "metadata": {},
   "source": [
    "## Loading user matrix"
   ]
  },
  {
   "cell_type": "code",
   "execution_count": 2,
   "metadata": {},
   "outputs": [
    {
     "name": "stdout",
     "output_type": "stream",
     "text": [
      "User average rating:  2.81842923795\nNumber of movies rated by this user:  1286\n"
     ]
    }
   ],
   "source": [
    "userid = 28451\n",
    "user_ratings = get_matched_user_ratings(userid)\n",
    "movies = user_ratings.keys()\n",
    "ratings = user_ratings.values()\n",
    "print \"User average rating: \", np.average(ratings)\n",
    "print \"Number of movies rated by this user: \", len(ratings)"
   ]
  },
  {
   "cell_type": "code",
   "execution_count": 3,
   "metadata": {},
   "outputs": [
    {
     "name": "stdout",
     "output_type": "stream",
     "text": [
      "Loading average and number of rating\n"
     ]
    }
   ],
   "source": [
    "print \"Loading average and number of rating\"\n",
    "id_dict = get_id_row_dict()\n",
    "idxs = [id_dict[k] for k in movies]\n",
    "avg_and_num = sort_avg()"
   ]
  },
  {
   "cell_type": "markdown",
   "metadata": {},
   "source": [
    "## Highest rated movies"
   ]
  },
  {
   "cell_type": "code",
   "execution_count": 6,
   "metadata": {},
   "outputs": [
    {
     "name": "stdout",
     "output_type": "stream",
     "text": [
      "                                                   Movie Average Rating Number of Ratings\n10075                    THE SHAWSHANK REDEMPTION (1994)       4.442559             77367\n6085                                THE GODFATHER (1972)       4.354139             49554\n3561                           THE USUAL SUSPECTS (1995)       4.319778             52957\n18479                            SCHINDLER'S LIST (1993)       4.292279             59539\n20916                      THE GODFATHER: PART II (1974)       4.269065             32048\n18913                        SHICHININ NO SAMURAI (1954)       4.263744             12696\n6943                                  REAR WINDOW (1954)       4.248423             19338\n10182             ONE FLEW OVER THE CUCKOO'S NEST (1975)       4.243332             35657\n15480                                  FIGHT CLUB (1999)       4.234274             48471\n8583                                   CASABLANCA (1942)       4.233015             27715\n12624  DR. STRANGELOVE OR: HOW I LEARNED TO STOP WORR...       4.226128             25658\n4557                                 12 ANGRY MEN (1957)       4.223266             14738\n17374                               THE THIRD MAN (1949)       4.222866              7159\n1963                                 SUNSET BLVD. (1950)       4.221635              7289\n15522                          NORTH BY NORTHWEST (1959)       4.217631             17787\n2003                             DOUBLE INDEMNITY (1944)        4.21173              5226\n717                                CIDADE DE DEUS (2002)       4.211117             16299\n19975                              PATHS OF GLORY (1957)       4.206326              3841\n17187                             THE DARK KNIGHT (2008)       4.202483             29037\n3130                        DAS LEBEN DER ANDEREN (2006)       4.202116              7372\n"
     ]
    }
   ],
   "source": [
    "movie_set = pd.read_csv(\"ml-latest/matched_set.csv\", sep = \",\")\n",
    "avg_df = df(np.column_stack((movie_set.title,avg_and_num)), columns = (\"Movie\", \"Average Rating\", \"Number of Ratings\"))\n",
    "print avg_df.loc[avg_df[\"Number of Ratings\"] > 100].sort([\"Average Rating\", \"Number of Ratings\"], ascending=[0,0]).head(20)"
   ]
  },
  {
   "cell_type": "heading",
   "metadata": {},
   "level": 2,
   "source": [
    "User Highest Rated"
   ]
  },
  {
   "cell_type": "code",
   "execution_count": 11,
   "metadata": {},
   "outputs": [
    {
     "name": "stdout",
     "output_type": "stream",
     "text": [
      "                                                   Movie Rating\n642                        SWISS FAMILY ROBINSON (1960) 5.0000\n1                                      TOY STORY (1995) 5.0000\n1281          DARBY O'GILL AND THE LITTLE PEOPLE (1959) 5.0000\n1279                                  CANDLESHOE (1977) 5.0000\n4                                    HOCUS POCUS (1993) 5.0000\n5                    FATHER OF THE BRIDE PART II (1995) 5.0000\n6                       HONEY, I SHRUNK THE KIDS (1989) 5.0000\n1276                          A SHOT IN THE DARK (1964) 5.0000\n1274                         YOU ONLY LIVE TWICE (1967) 5.0000\n9                                      GOLDENEYE (1995) 5.0000\n10                        THE AMERICAN PRESIDENT (1995) 5.0000\n1272                             DESIGNING WOMAN (1957) 5.0000\n1269                                       BAMBI (1942) 5.0000\n13                               THE ITALIAN JOB (1969) 5.0000\n1267  A FUNNY THING HAPPENED ON THE WAY TO THE FORUM... 5.0000\n1266                 THE ABSENT-MINDED PROFESSOR (1961) 5.0000\n16                               OUT OF THE PAST (1947) 5.0000\n1265                           TORA! TORA! TORA! (1970) 5.0000\n1264                 BACK TO THE FUTURE PART III (1990) 5.0000\n19                            THE UGLY DACHSHUND (1966) 5.0000\n"
     ]
    }
   ],
   "source": [
    "all_names = get_movie_names()\n",
    "names = all_names[idxs]\n",
    "rating_df = df(np.column_stack((names,ratings)), columns = (\"Movie\", \"Rating\"))\n",
    "print rating_df.sort([\"Rating\"], ascending=0).head(20)"
   ]
  },
  {
   "cell_type": "markdown",
   "metadata": {},
   "source": [
    "## User rating distribution"
   ]
  },
  {
   "cell_type": "code",
   "execution_count": 8,
   "metadata": {},
   "outputs": [
    {
     "data": {
      "image/png": "[encoded data removed]"
     },
     "output_type": "display_data",
     "text": [
      "<matplotlib.figure.Figure at 0x17d37d30>"
     ],
     "metadata": {}
    }
   ],
   "source": [
    "x = ratings\n",
    "his = np.histogram(x, bins = np.arange(0.5,6,0.5))\n",
    "fig, ax = plt.subplots()\n",
    "offset = 0.25\n",
    "plt.bar(his[1][1:],his[0],width=.5)\n",
    "ax.set_xticks(his[1][1:] + offset)\n",
    "ax.set_xticklabels(np.arange(0.5,6,0.5))\n",
    "plt.title(\"Rating Frequency\")\n",
    "plt.xlabel(\"Rating\")\n",
    "plt.ylabel(\"Frequency\")\n",
    "plt.show()"
   ]
  },
  {
   "cell_type": "markdown",
   "metadata": {},
   "source": [
    "## Genre Distribution"
   ]
  },
  {
   "cell_type": "code",
   "execution_count": 4,
   "metadata": {},
   "outputs": [
    {
     "name": "stdout",
     "output_type": "stream",
     "text": [
      "Loading genre matrix\n"
     ]
    }
   ],
   "source": [
    "print \"Loading genre matrix\"\n",
    "genre_matrix = get_genre_matrix()[idxs]\n",
    "genre_dict = get_genre_dict()\n",
    "inv_map = {v: k for k, v in genre_dict.items()}\n",
    "names = [inv_map[k] for k in range(len(genre_dict))]"
   ]
  },
  {
   "cell_type": "code",
   "execution_count": 10,
   "metadata": {},
   "outputs": [
    {
     "data": {
      "image/png": "[encoded data removed]"
     },
     "output_type": "display_data",
     "text": [
      "<matplotlib.figure.Figure at 0x18a266a0>"
     ],
     "metadata": {}
    }
   ],
   "source": [
    "x = np.sum(genre_matrix, axis=0)\n",
    "his = np.histogram(x, bins = range(0,21))\n",
    "fig, ax = plt.subplots()\n",
    "offset = 0\n",
    "plt.bar(his[1][1:],x,align='center')\n",
    "ax.set_xticks(his[1][1:] + offset)\n",
    "ax.set_xticklabels((list(names)))\n",
    "locs, labels = plt.xticks()\n",
    "plt.setp(labels, rotation=70)\n",
    "plt.title(\"Genre Frequency\")\n",
    "plt.xlabel(\"Genre\")\n",
    "plt.ylabel(\"Frequency\")\n",
    "plt.show()"
   ]
  },
  {
   "cell_type": "code",
   "execution_count": 5,
   "metadata": {},
   "outputs": [
    {
     "name": "stdout",
     "output_type": "stream",
     "text": [
      "Loading key matrix\nNumber of popular keys:"
     ]
    },
    {
     "name": "stdout",
     "output_type": "stream",
     "text": [
      " 2336\n"
     ]
    }
   ],
   "source": [
    "print \"Loading key matrix\"\n",
    "keywords = pd.read_csv(\"ml-latest/matched_movies\", delimiter='\\t', usecols = [0,3], names = ['id', 'key'] )\n",
    "x = get_popular_key_dict(keywords.key)\n",
    "inv_map = {v: k for k, v in x.items()}\n",
    "names = np.array([inv_map[k] for k in range(len(x))])\n",
    "user_key_matrix = get_keyword_matrix()[idxs]"
   ]
  },
  {
   "cell_type": "markdown",
   "metadata": {},
   "source": [
    "## User Keyword Frequency"
   ]
  },
  {
   "cell_type": "code",
   "execution_count": 14,
   "metadata": {},
   "outputs": [
    {
     "name": "stdout",
     "output_type": "stream",
     "text": [
      "                     Keyword Frequency\n2184               policeman        99\n2180                paranoia        98\n2183                adultery        98\n2182        held-at-gunpoint        98\n2181       subjective-camera        98\n2178                cemetery        96\n2179  orchestral-music-score        96\n2175     extramarital-affair        95\n2177              redemption        95\n2176                 funeral        95\n2171                  camera        94\n2174         number-in-title        94\n2173            photographer        94\n2172              first-part        94\n2170                   nurse        93\n2169                   1980s        93\n2168              foot-chase        92\n2167                   1940s        92\n2166  los-angeles-california        92\n2165                   theft        92\n"
     ]
    }
   ],
   "source": [
    "frequency = np.sum(user_key_matrix, axis=0, dtype = int)\n",
    "indices = np.argsort(frequency)\n",
    "keyword_df = df((np.column_stack((names[indices], frequency[indices]))), columns = (\"Keyword\", \"Frequency\"))\n",
    "print keyword_df.sort([\"Frequency\"], ascending = 0).head(20)"
   ]
  },
  {
   "cell_type": "markdown",
   "metadata": {},
   "source": [
    "## User Actor Frequency"
   ]
  },
  {
   "cell_type": "code",
   "execution_count": 6,
   "metadata": {},
   "outputs": [
    {
     "name": "stdout",
     "output_type": "stream",
     "text": [
      "Loading actor matrix\n                    Actor Frequency\n400     Blystone, Stanley       9.0\n1738         Tornek, Jack       9.0\n2      Adams, Dorothy (I)       9.0\n1185  Madsen, Michael (I)       9.0\n1611       Seymour, Harry       9.0\n1188         Malden, Karl       9.0\n1608   Sellers, Peter (I)       9.0\n1629      Shields, Arthur       9.0\n1200    Mark, Michael (I)       9.0\n909    Hayward, Chuck (I)       9.0\n10         Bacall, Lauren       9.0\n776   Freeman, Morgan (I)       9.0\n1211    Martin, Steve (I)       9.0\n1586          Saylor, Syd       9.0\n1086     Kruger, Paul (I)       9.0\n770       Fowley, Douglas       9.0\n769         Foulk, Robert       9.0\n906            Hawn, Phil       9.0\n1578   Sanford, Ralph (I)       9.0\n1226      Mayo, Frank (I)       9.0"
     ]
    },
    {
     "name": "stdout",
     "output_type": "stream",
     "text": [
      "\n"
     ]
    }
   ],
   "source": [
    "print \"Loading actor matrix\"\n",
    "actor_matrix = get_actor_matrix()[idxs]\n",
    "frequency = np.sum(actor_matrix, axis=0)\n",
    "names = get_actor_names()\n",
    "actor_df = df((np.column_stack((names, frequency))), columns = (\"Actor\", \"Frequency\"))\n",
    "print actor_df.sort_index(by=[\"Frequency\"], ascending = 0).head(20)"
   ]
  },
  {
   "cell_type": "markdown",
   "metadata": {},
   "source": [
    "## Creating Linear Model with Cross Validation and 10 Folds"
   ]
  },
  {
   "cell_type": "code",
   "execution_count": 7,
   "metadata": {},
   "outputs": [
    {
     "name": "stdout",
     "output_type": "stream",
     "text": [
      "Ten Lowest Errors\n  Movie ID User Rating Model Prediction       Model Error\n0   4432.0         1.0     1.0080051358  0.00800513580256\n1   2211.0         4.5    4.50869483694   0.0086948369351\n2   2395.0         0.5   0.511135240641    0.011135240641\n3   8404.0         5.0    4.98804309087   0.0119569091329\n4   7584.0         5.0    4.98534840378   0.0146515962155\n5      3.0         4.5    4.48530514389   0.0146948561131\n6   2001.0         4.5    4.52136109853   0.0213610985275\n7   5375.0         2.5    2.47747854674   0.0225214532563\n8    940.0         5.0    4.96948356054   0.0305164394644\n9   2660.0         1.0    1.03423420489   0.0342342048856\n\nTen Highest Errors\n      Movie ID    User Rating Model Prediction    Model Error\n1277    1230.0            0.5    7.47440168242  6.97440168242\n1278    2000.0            5.0   -2.14837143809  7.14837143809\n1279    3438.0            0.5    7.86196809015  7.36196809015\n1280    4426.0            0.5    8.10713346645  7.60713346645\n1281    4014.0            5.0    -2.8462717261   7.8462717261\n1282    2712.0            4.5   -3.38761192929  7.88761192929\n1283    3265.0            5.0    -3.8528002552   8.8528002552\n1284     296.0            1.0    9.93531758818  8.93531758818\n1285    6874.0            5.0   -4.88270712766  9.88270712766\n1286  Average:  2.81842923795    2.83213849778  1.87596834523\n"
     ]
    }
   ],
   "source": [
    "pp.scale(avg_and_num[:,0], with_mean=True, with_std=True, copy=False)\n",
    "pp.scale(avg_and_num[:,1], with_mean=True, with_std=True, copy=False)\n",
    "data = np.column_stack((avg_and_num[idxs], genre_matrix, user_key_matrix, actor_matrix))\n",
    "target = ratings\n",
    "results = pm.get_linear_cv_results(np.column_stack((data,target)), 10)\n",
    "\n",
    "y_pred = results[2]\n",
    "ratings = user_ratings.values()\n",
    "error_from_pred = np.abs(ratings-y_pred)\n",
    "\n",
    "col_names = [\"Movie ID\" ,\"User Rating\",\"Model Prediction\",\"Model Error\"]\n",
    "\n",
    "col_avg = [\"Average:\", np.average(ratings),np.average(y_pred),np.average(error_from_pred)]\n",
    "user_result = np.column_stack((user_ratings.keys(), ratings, y_pred, error_from_pred))\n",
    "user_result = user_result[np.argsort(user_result[:, 3])]\n",
    "user_result = np.vstack((user_result,col_avg))\n",
    "\n",
    "results_df = pd.DataFrame(user_result, columns = col_names)\n",
    "print \"Ten Lowest Errors\"\n",
    "print results_df.head(10)\n",
    "print \"\\nTen Highest Errors\"\n",
    "print results_df.tail(10)"
   ]
  },
  {
   "cell_type": "markdown",
   "metadata": {},
   "source": [
    "## Creating Linear Model with Full Training Set"
   ]
  },
  {
   "cell_type": "code",
   "execution_count": 8,
   "metadata": {},
   "outputs": [],
   "source": [
    "clf =TransparentLinearRegression()\n",
    "user_cols = data.shape[1]+1\n",
    "clf.fit(data,target)\n",
    "weights = clf.coef_\n",
    "neg_evi, pos_evi = clf.predict_evidences(data)\n",
    "bias = clf.get_bias()\n",
    "y_pred = clf.predict(data)\n",
    "indices = np.argsort(y_pred)\n",
    "coef_diags = diags(clf.coef_, 0)\n",
    "dm = data * coef_diags"
   ]
  },
  {
   "cell_type": "markdown",
   "metadata": {},
   "source": [
    "## Weights and Features"
   ]
  },
  {
   "cell_type": "code",
   "execution_count": 9,
   "metadata": {},
   "outputs": [
    {
     "name": "stdout",
     "output_type": "stream",
     "text": [
      "                        Features   Weights\n3                         Sci-Fi  1.203605\n4                         Horror  0.892770\n0                 Average Rating  0.869910\n888   reference-to-elvis-presley  0.710070\n167                     evil-man  0.706363\n1155                   fistfight  0.672887\n260                         orgy  0.672037\n2                           IMAX  0.671147\n913                         scam  0.632753\n1336                 Beatty, Ned  0.619408\n               Features   Weights\n1087         tough-girl -0.693841\n498          alienation -0.691244\n966         supermarket -0.686456\n977                lion -0.673435\n471     telephone-booth -0.671608\n1942  Root, Stephen (I) -0.664797\n2044       Warden, Jack -0.646399\n640                farm -0.642881\n6             Animation -0.628588\n523            waitress -0.619446\n"
     ]
    }
   ],
   "source": [
    "get_popular_key_dict(keywords.key)\n",
    "inv_map = {v: k for k, v in x.items()}\n",
    "key_names = [inv_map[k] for k in range(len(x))]\n",
    "genre_names = get_genre_dict().keys()\n",
    "actor_names = get_actor_names()\n",
    "features = np.hstack([['Average Rating', 'Number of Ratings'], genre_names, key_names, actor_names])\n",
    "\n",
    "positive_weight_indices = weights > 0\n",
    "negative_weight_indices = weights < 0\n",
    "\n",
    "positive_features = np.column_stack((features[positive_weight_indices], weights[positive_weight_indices].astype(float)))\n",
    "negative_features = np.column_stack((features[negative_weight_indices], weights[negative_weight_indices].astype(float)))\n",
    "\n",
    "positive_df = pd.DataFrame(positive_features, columns = [\"Features\", \"Weights\"])\n",
    "positive_df = positive_df.convert_objects(convert_numeric=True)\n",
    "positive_df = positive_df.sort(\"Weights\", ascending=0)\n",
    "\n",
    "negative_df = pd.DataFrame(negative_features, columns = [\"Features\", \"Weights\"])\n",
    "negative_df = negative_df.convert_objects(convert_numeric=True)\n",
    "\n",
    "negative_df = negative_df.sort(\"Weights\", ascending=1)\n",
    "\n",
    "print positive_df.head(10)\n",
    "print negative_df.head(10)"
   ]
  },
  {
   "cell_type": "markdown",
   "metadata": {},
   "source": [
    "## The Highest Predicted Rating"
   ]
  },
  {
   "cell_type": "code",
   "execution_count": 19,
   "metadata": {},
   "outputs": [
    {
     "name": "stdout",
     "output_type": "stream",
     "text": [
      "Movie Title:  GREASE (1978)\nActual User Rating:  5.0\nPredicted User Rating:  5.0\n"
     ]
    }
   ],
   "source": [
    "j = indices[-1]\n",
    "titles = pd.read_csv(\"ml-latest/matched_set.csv\", sep = \",\")\n",
    "movie_id = movies[j]\n",
    "movie_index = np.where(movies == movie_id)\n",
    "movie_dm = dm[movie_index][0]\n",
    "feature_names = features\n",
    "\n",
    "positive_weights = movie_dm[movie_dm > 0]\n",
    "negative_weights = movie_dm[movie_dm < 0]\n",
    "\n",
    "positive_names = feature_names[movie_dm > 0]\n",
    "negative_names = feature_names[movie_dm < 0]\n",
    "\n",
    "positive_weights = np.column_stack((positive_names,positive_weights))\n",
    "positive_weights = positive_weights[np.argsort(positive_weights[:,1])][::-1]\n",
    "\n",
    "negative_weights = np.column_stack((negative_names,negative_weights))\n",
    "negative_weights = negative_weights[np.argsort(negative_weights[:,1])][::-1]\n",
    "\n",
    "positive_df = pd.DataFrame(positive_weights, columns = [\"Feature\", \"Weights\"])\n",
    "positive_df = positive_df.convert_objects(convert_numeric=True)\n",
    "\n",
    "negative_df = pd.DataFrame(negative_weights, columns = [\"Feature\", \"Weights\"])\n",
    "negative_df = negative_df.convert_objects(convert_numeric=True)\n",
    "\n",
    "pd.options.display.float_format = '{:,.4f}'.format\n",
    "\n",
    "print \"Movie Title: \", all_names[id_dict[movie_id]]\n",
    "print \"Actual User Rating: \", user_ratings[movie_id]\n",
    "print \"Predicted User Rating: \", y_pred[j]"
   ]
  },
  {
   "cell_type": "markdown",
   "metadata": {},
   "source": [
    "### Movie Rating Distribution"
   ]
  },
  {
   "cell_type": "code",
   "execution_count": 14,
   "metadata": {},
   "outputs": [
    {
     "name": "stdout",
     "output_type": "stream",
     "text": [
      "Number of Ratings: 17023\n"
     ]
    },
    {
     "data": {
      "image/png": "[encoded data removed]"
     },
     "output_type": "display_data",
     "text": [
      "<matplotlib.figure.Figure at 0x1a878240>"
     ],
     "metadata": {}
    }
   ],
   "source": [
    "ratings = pd.read_csv(\"ml-latest/ratings.csv\", delimiter=',', quotechar='\"', names = ['userId', 'movieId', 'rating'])\n",
    "movie_ratings = ratings.loc[ratings['movieId'] == movie_id]\n",
    "x = movie_ratings\n",
    "his = np.histogram(x, bins = np.arange(0.5,6,0.5))\n",
    "fig, ax = plt.subplots()\n",
    "offset = 0.25\n",
    "plt.bar(his[1][1:],his[0],width=.5)\n",
    "ax.set_xticks(his[1][1:] + offset)\n",
    "ax.set_xticklabels(np.arange(0.5,6,0.5))\n",
    "print \"Number of Ratings:\", movie_ratings.shape[0]\n",
    "plt.title(\"Rating Frequency\")\n",
    "plt.xlabel(\"Rating\")\n",
    "plt.ylabel(\"Frequency\")\n",
    "plt.show()"
   ]
  },
  {
   "cell_type": "markdown",
   "metadata": {},
   "source": [
    "### Evidence"
   ]
  },
  {
   "cell_type": "code",
   "execution_count": 21,
   "metadata": {},
   "outputs": [
    {
     "name": "stdout",
     "output_type": "stream",
     "text": [
      "Prediction:  5.0\nBias and evidences: 2.01208475607 -4.63698898059 7.62490422452\nPositive Features\n                      Feature  Weights\n0                      Horror   0.8928\n1  reference-to-elvis-presley   0.7101\n2           Number of Ratings   0.4763\n3                        ring   0.3728\n4              Biehn, Michael   0.3709\n5                        love   0.3277\n6            fantasy-sequence   0.3170\n7              Average Rating   0.3105\n8                  graduation   0.3037\n9                 blockbuster   0.3034\nNegative Features\n          Feature  Weights\n0       wrestling  -0.3888\n1  premarital-sex  -0.3876\n2          blonde  -0.3703\n3       cult-film  -0.3503\n4           rival  -0.3053\n5        teenager  -0.2970\n6     high-school  -0.2815\n7          school  -0.2519\n8        carnival  -0.2412\n9      friendship  -0.2137\n"
     ]
    }
   ],
   "source": [
    "print \"Prediction: \",  y_pred[j]\n",
    "print \"Bias and evidences:\", bias, neg_evi[j], pos_evi[j]\n",
    "print \"Positive Features\"\n",
    "print positive_df.head(10)\n",
    "print \"Negative Features\"\n",
    "print negative_df.head(10)"
   ]
  },
  {
   "cell_type": "markdown",
   "metadata": {},
   "source": [
    "## The Lowest Rating"
   ]
  },
  {
   "cell_type": "code",
   "execution_count": 22,
   "metadata": {},
   "outputs": [
    {
     "name": "stdout",
     "output_type": "stream",
     "text": [
      "Movie Title:  SCREAM 3 (2000)\nActual User Rating:  0.5\nPredicted User Rating:  0.5\n"
     ]
    }
   ],
   "source": [
    "j = indices[0]\n",
    "titles = pd.read_csv(\"ml-latest/matched_set.csv\", sep = \",\")\n",
    "movie_id = movies[j]\n",
    "movie_index = np.where(movies == movie_id)\n",
    "movie_dm = dm[movie_index][0]\n",
    "feature_names = features\n",
    "\n",
    "positive_weights = movie_dm[movie_dm > 0]\n",
    "negative_weights = movie_dm[movie_dm < 0]\n",
    "\n",
    "positive_names = feature_names[movie_dm > 0]\n",
    "negative_names = feature_names[movie_dm < 0]\n",
    "\n",
    "positive_weights = np.column_stack((positive_names,positive_weights))\n",
    "positive_weights = positive_weights[np.argsort(positive_weights[:,1])][::-1]\n",
    "\n",
    "negative_weights = np.column_stack((negative_names,negative_weights))\n",
    "negative_weights = negative_weights[np.argsort(negative_weights[:,1])][::-1]\n",
    "\n",
    "positive_df = pd.DataFrame(positive_weights, columns = [\"Feature\", \"Weights\"])\n",
    "positive_df = positive_df.convert_objects(convert_numeric=True)\n",
    "\n",
    "negative_df = pd.DataFrame(negative_weights, columns = [\"Feature\", \"Weights\"])\n",
    "negative_df = negative_df.convert_objects(convert_numeric=True)\n",
    "\n",
    "pd.options.display.float_format = '{:,.4f}'.format\n",
    "\n",
    "print \"Movie Title: \", all_names[id_dict[movie_id]]\n",
    "print \"Actual User Rating: \", user_ratings[movie_id]\n",
    "print \"Predicted User Rating: \", y_pred[j]"
   ]
  },
  {
   "cell_type": "markdown",
   "metadata": {},
   "source": [
    "### Movie Rating Distribution"
   ]
  },
  {
   "cell_type": "code",
   "execution_count": 23,
   "metadata": {},
   "outputs": [
    {
     "name": "stdout",
     "output_type": "stream",
     "text": [
      "Number of Ratings: 7117\n"
     ]
    },
    {
     "data": {
      "image/png": "[encoded data removed]"
     },
     "output_type": "display_data",
     "text": [
      "<matplotlib.figure.Figure at 0x1c1f0860>"
     ],
     "metadata": {}
    }
   ],
   "source": [
    "movie_ratings = ratings.loc[ratings['movieId'] == movie_id]\n",
    "x = movie_ratings\n",
    "his = np.histogram(x, bins = np.arange(0.5,6,0.5))\n",
    "fig, ax = plt.subplots()\n",
    "offset = 0.25\n",
    "plt.bar(his[1][1:],his[0],width=.5)\n",
    "ax.set_xticks(his[1][1:] + offset)\n",
    "ax.set_xticklabels(np.arange(0.5,6,0.5))\n",
    "print \"Number of Ratings:\", movie_ratings.shape[0]\n",
    "plt.title(\"Rating Frequency\")\n",
    "plt.xlabel(\"Rating\")\n",
    "plt.ylabel(\"Frequency\")\n",
    "plt.show()"
   ]
  },
  {
   "cell_type": "markdown",
   "metadata": {},
   "source": [
    "### Evidence"
   ]
  },
  {
   "cell_type": "code",
   "execution_count": 24,
   "metadata": {},
   "outputs": [
    {
     "name": "stdout",
     "output_type": "stream",
     "text": [
      "Prediction:  0.5\nBias and evidences: 2.01208475607 -19.0896053003 17.5775205442\nPositive Features\n             Feature  Weights\n0             Horror   0.8928\n1          fistfight   0.6729\n2        faked-death   0.4342\n3  disarming-someone   0.4293\n4        famous-line   0.3964\n5         photograph   0.3678\n6   police-detective   0.3677\n7      investigation   0.3647\n8             sequel   0.3561\n9         third-part   0.3231\nNegative Features\n            Feature  Weights\n0         screaming  -0.0001\n1        tough-girl  -0.6938\n2    Average Rating  -0.6864\n3         Animation  -0.6286\n4   female-reporter  -0.4423\n5  stabbed-to-death  -0.4309\n6           courage  -0.4140\n7    media-coverage  -0.4072\n8    premarital-sex  -0.3876\n9            secret  -0.3768\n"
     ]
    }
   ],
   "source": [
    "print \"Prediction: \",  y_pred[j]\n",
    "print \"Bias and evidences:\", bias, neg_evi[j], pos_evi[j]\n",
    "print \"Positive Features\"\n",
    "print positive_df.head(10)\n",
    "print \"Negative Features\"\n",
    "print negative_df.head(10)"
   ]
  },
  {
   "cell_type": "markdown",
   "metadata": {},
   "source": [
    "## The case that has the most negative evidence, regardless of positive evidence"
   ]
  },
  {
   "cell_type": "code",
   "execution_count": 25,
   "metadata": {},
   "outputs": [
    {
     "name": "stdout",
     "output_type": "stream",
     "text": [
      "Movie Title:  GONE WITH THE WIND (1939)\nActual User Rating:  0.5\nPredicted User Rating:  0.5\n"
     ]
    }
   ],
   "source": [
    "j = np.argsort(neg_evi)[0]\n",
    "titles = pd.read_csv(\"ml-latest/matched_set.csv\", sep = \",\")\n",
    "movie_id = movies[j]\n",
    "movie_index = np.where(movies == movie_id)\n",
    "movie_dm = dm[movie_index][0]\n",
    "feature_names = features\n",
    "\n",
    "positive_weights = movie_dm[movie_dm > 0]\n",
    "negative_weights = movie_dm[movie_dm < 0]\n",
    "\n",
    "positive_names = feature_names[movie_dm > 0]\n",
    "negative_names = feature_names[movie_dm < 0]\n",
    "\n",
    "positive_weights = np.column_stack((positive_names,positive_weights))\n",
    "positive_weights = positive_weights[np.argsort(positive_weights[:,1])][::-1]\n",
    "\n",
    "negative_weights = np.column_stack((negative_names,negative_weights))\n",
    "negative_weights = negative_weights[np.argsort(negative_weights[:,1])][::-1]\n",
    "\n",
    "positive_df = pd.DataFrame(positive_weights, columns = [\"Feature\", \"Weights\"])\n",
    "positive_df = positive_df.convert_objects(convert_numeric=True)\n",
    "\n",
    "negative_df = pd.DataFrame(negative_weights, columns = [\"Feature\", \"Weights\"])\n",
    "negative_df = negative_df.convert_objects(convert_numeric=True)\n",
    "\n",
    "pd.options.display.float_format = '{:,.4f}'.format\n",
    "\n",
    "print \"Movie Title: \", all_names[id_dict[movie_id]]\n",
    "print \"Actual User Rating: \", user_ratings[movie_id]\n",
    "print \"Predicted User Rating: \", y_pred[j]"
   ]
  },
  {
   "cell_type": "markdown",
   "metadata": {},
   "source": [
    "### Movie Rating Distribution"
   ]
  },
  {
   "cell_type": "code",
   "execution_count": 26,
   "metadata": {},
   "outputs": [
    {
     "name": "stdout",
     "output_type": "stream",
     "text": [
      "Number of Ratings: 17023\n"
     ]
    },
    {
     "data": {
      "image/png": "[encoded data removed]"
     },
     "output_type": "display_data",
     "text": [
      "<matplotlib.figure.Figure at 0x190f5630>"
     ],
     "metadata": {}
    }
   ],
   "source": [
    "movie_ratings = ratings.loc[ratings['movieId'] == movie_id]\n",
    "x = movie_ratings\n",
    "his = np.histogram(x, bins = np.arange(0.5,6,0.5))\n",
    "fig, ax = plt.subplots()\n",
    "offset = 0.25\n",
    "plt.bar(his[1][1:],his[0],width=.5)\n",
    "ax.set_xticks(his[1][1:] + offset)\n",
    "ax.set_xticklabels(np.arange(0.5,6,0.5))\n",
    "print \"Number of Ratings:\", movie_ratings.shape[0]\n",
    "plt.title(\"Rating Frequency\")\n",
    "plt.xlabel(\"Rating\")\n",
    "plt.ylabel(\"Frequency\")\n",
    "plt.show()"
   ]
  },
  {
   "cell_type": "markdown",
   "metadata": {},
   "source": [
    "### Evidence"
   ]
  },
  {
   "cell_type": "code",
   "execution_count": 27,
   "metadata": {},
   "outputs": [
    {
     "name": "stdout",
     "output_type": "stream",
     "text": [
      "Prediction:  0.5\nBias and evidences: 2.01208475607 -22.1985309113 20.6864461553\nPositive Features\n             Feature  Weights\n0     Average Rating   0.9035\n1  Number of Ratings   0.4679\n2              major   0.4434\n3          christian   0.4174\n4       19th-century   0.4172\n5   twenty-something   0.3974\n6        famous-line   0.3964\n7          champagne   0.3931\n8    Phelps, Lee (I)   0.3860\n9            slavery   0.3797\nNegative Features\n                        Feature  Weights\n0              Gable, Clark (I)  -0.6140\n1                          barn  -0.5860\n2                         money  -0.5695\n3                         Drama  -0.5389\n4                self-sacrifice  -0.5054\n5                          maid  -0.4962\n6                irish-american  -0.4331\n7                mental-illness  -0.4326\n8                       courage  -0.4140\n9  mother-daughter-relationship  -0.3985\n"
     ]
    }
   ],
   "source": [
    "print \"Prediction: \",  y_pred[j]\n",
    "print \"Bias and evidences:\", bias, neg_evi[j], pos_evi[j]\n",
    "print \"Positive Features\"\n",
    "print positive_df.head(10)\n",
    "print \"Negative Features\"\n",
    "print negative_df.head(10)"
   ]
  },
  {
   "cell_type": "markdown",
   "metadata": {},
   "source": [
    "## The case that has the most positive evidence, regardless of negative evidence"
   ]
  },
  {
   "cell_type": "code",
   "execution_count": 28,
   "metadata": {},
   "outputs": [
    {
     "name": "stdout",
     "output_type": "stream",
     "text": [
      "Movie Title:  GONE WITH THE WIND (1939)\nActual User Rating:  0.5\nPredicted User Rating:  0.5\n"
     ]
    }
   ],
   "source": [
    "j = np.argsort(pos_evi)[-1]\n",
    "titles = pd.read_csv(\"ml-latest/matched_set.csv\", sep = \",\")\n",
    "movie_id = movies[j]\n",
    "movie_index = np.where(movies == movie_id)\n",
    "movie_dm = dm[movie_index][0]\n",
    "feature_names = features\n",
    "\n",
    "positive_weights = movie_dm[movie_dm > 0]\n",
    "negative_weights = movie_dm[movie_dm < 0]\n",
    "\n",
    "positive_names = feature_names[movie_dm > 0]\n",
    "negative_names = feature_names[movie_dm < 0]\n",
    "\n",
    "positive_weights = np.column_stack((positive_names,positive_weights))\n",
    "positive_weights = positive_weights[np.argsort(positive_weights[:,1])][::-1]\n",
    "\n",
    "negative_weights = np.column_stack((negative_names,negative_weights))\n",
    "negative_weights = negative_weights[np.argsort(negative_weights[:,1])][::-1]\n",
    "\n",
    "positive_df = pd.DataFrame(positive_weights, columns = [\"Feature\", \"Weights\"])\n",
    "positive_df = positive_df.convert_objects(convert_numeric=True)\n",
    "\n",
    "negative_df = pd.DataFrame(negative_weights, columns = [\"Feature\", \"Weights\"])\n",
    "negative_df = negative_df.convert_objects(convert_numeric=True)\n",
    "\n",
    "pd.options.display.float_format = '{:,.4f}'.format\n",
    "\n",
    "print \"Movie Title: \", all_names[id_dict[movie_id]]\n",
    "print \"Actual User Rating: \", user_ratings[movie_id]\n",
    "print \"Predicted User Rating: \", y_pred[j]"
   ]
  },
  {
   "cell_type": "markdown",
   "metadata": {},
   "source": [
    "### Movie Rating Distribution"
   ]
  },
  {
   "cell_type": "code",
   "execution_count": 29,
   "metadata": {},
   "outputs": [
    {
     "name": "stdout",
     "output_type": "stream",
     "text": [
      "Number of Ratings: 17023\n"
     ]
    },
    {
     "data": {
      "image/png": "[encoded data removed]"
     },
     "output_type": "display_data",
     "text": [
      "<matplotlib.figure.Figure at 0x20574588>"
     ],
     "metadata": {}
    }
   ],
   "source": [
    "movie_ratings = ratings.loc[ratings['movieId'] == movie_id]\n",
    "x = movie_ratings\n",
    "his = np.histogram(x, bins = np.arange(0.5,6,0.5))\n",
    "fig, ax = plt.subplots()\n",
    "offset = 0.25\n",
    "plt.bar(his[1][1:],his[0],width=.5)\n",
    "ax.set_xticks(his[1][1:] + offset)\n",
    "ax.set_xticklabels(np.arange(0.5,6,0.5))\n",
    "print \"Number of Ratings:\", movie_ratings.shape[0]\n",
    "plt.title(\"Rating Frequency\")\n",
    "plt.xlabel(\"Rating\")\n",
    "plt.ylabel(\"Frequency\")\n",
    "plt.show()"
   ]
  },
  {
   "cell_type": "markdown",
   "metadata": {},
   "source": [
    "### Evidence"
   ]
  },
  {
   "cell_type": "code",
   "execution_count": 30,
   "metadata": {},
   "outputs": [
    {
     "name": "stdout",
     "output_type": "stream",
     "text": [
      "Prediction:  0.5\nBias and evidences: 2.01208475607 -22.1985309113 20.6864461553\nPositive Features\n             Feature  Weights\n0     Average Rating   0.9035\n1  Number of Ratings   0.4679\n2              major   0.4434\n3          christian   0.4174\n4       19th-century   0.4172\n5   twenty-something   0.3974\n6        famous-line   0.3964\n7          champagne   0.3931\n8    Phelps, Lee (I)   0.3860\n9            slavery   0.3797\nNegative Features\n                        Feature  Weights\n0              Gable, Clark (I)  -0.6140\n1                          barn  -0.5860\n2                         money  -0.5695\n3                         Drama  -0.5389\n4                self-sacrifice  -0.5054\n5                          maid  -0.4962\n6                irish-american  -0.4331\n7                mental-illness  -0.4326\n8                       courage  -0.4140\n9  mother-daughter-relationship  -0.3985\n"
     ]
    }
   ],
   "source": [
    "print \"Prediction: \",  y_pred[j]\n",
    "print \"Bias and evidences:\", bias, neg_evi[j], pos_evi[j]\n",
    "print \"Positive Features\"\n",
    "print positive_df.head(10)\n",
    "print \"Negative Features\"\n",
    "print negative_df.head(10)"
   ]
  },
  {
   "cell_type": "markdown",
   "metadata": {},
   "source": [
    "# Most conflicted"
   ]
  },
  {
   "cell_type": "code",
   "execution_count": 15,
   "metadata": {},
   "outputs": [
    {
     "name": "stdout",
     "output_type": "stream",
     "text": [
      "Movie Title:  GONE WITH THE WIND (1939)\nActual User Rating:  0.5\nPredicted User Rating:  0.5\n"
     ]
    }
   ],
   "source": [
    "conflict = np.min([abs(neg_evi), pos_evi], axis=0)\n",
    "indices = np.argsort(conflict)\n",
    "j=indices[-1]\n",
    "titles = pd.read_csv(\"ml-latest/matched_set.csv\", sep = \",\")\n",
    "movie_id = movies[j]\n",
    "movie_index = np.where(movies == movie_id)\n",
    "movie_dm = dm[movie_index][0]\n",
    "feature_names = features\n",
    "\n",
    "positive_weights = movie_dm[movie_dm > 0]\n",
    "negative_weights = movie_dm[movie_dm < 0]\n",
    "\n",
    "positive_names = feature_names[movie_dm > 0]\n",
    "negative_names = feature_names[movie_dm < 0]\n",
    "\n",
    "positive_weights = np.column_stack((positive_names,positive_weights))\n",
    "positive_weights = positive_weights[np.argsort(positive_weights[:,1])][::-1]\n",
    "\n",
    "negative_weights = np.column_stack((negative_names,negative_weights))\n",
    "negative_weights = negative_weights[np.argsort(negative_weights[:,1])][::-1]\n",
    "\n",
    "positive_df = pd.DataFrame(positive_weights, columns = [\"Feature\", \"Weights\"])\n",
    "positive_df = positive_df.convert_objects(convert_numeric=True)\n",
    "\n",
    "negative_df = pd.DataFrame(negative_weights, columns = [\"Feature\", \"Weights\"])\n",
    "negative_df = negative_df.convert_objects(convert_numeric=True)\n",
    "\n",
    "pd.options.display.float_format = '{:,.4f}'.format\n",
    "\n",
    "print \"Movie Title: \", all_names[id_dict[movie_id]]\n",
    "print \"Actual User Rating: \", user_ratings[movie_id]\n",
    "print \"Predicted User Rating: \", y_pred[j]"
   ]
  },
  {
   "cell_type": "markdown",
   "metadata": {},
   "source": [
    "### Movie Rating Distribution"
   ]
  },
  {
   "cell_type": "code",
   "execution_count": 16,
   "metadata": {},
   "outputs": [
    {
     "name": "stdout",
     "output_type": "stream",
     "text": [
      "Number of Ratings: 17023\n"
     ]
    },
    {
     "data": {
      "image/png": "[encoded data removed]"
     },
     "output_type": "display_data",
     "text": [
      "<matplotlib.figure.Figure at 0x22be65c0>"
     ],
     "metadata": {}
    }
   ],
   "source": [
    "movie_ratings = ratings.loc[ratings['movieId'] == movie_id]\n",
    "x = movie_ratings\n",
    "his = np.histogram(x, bins = np.arange(0.5,6,0.5))\n",
    "fig, ax = plt.subplots()\n",
    "offset = 0.25\n",
    "plt.bar(his[1][1:],his[0],width=.5)\n",
    "ax.set_xticks(his[1][1:] + offset)\n",
    "ax.set_xticklabels(np.arange(0.5,6,0.5))\n",
    "print \"Number of Ratings:\", movie_ratings.shape[0]\n",
    "plt.title(\"Rating Frequency\")\n",
    "plt.xlabel(\"Rating\")\n",
    "plt.ylabel(\"Frequency\")\n",
    "plt.show()"
   ]
  },
  {
   "cell_type": "markdown",
   "metadata": {},
   "source": [
    "### Evidence"
   ]
  },
  {
   "cell_type": "code",
   "execution_count": 17,
   "metadata": {},
   "outputs": [
    {
     "name": "stdout",
     "output_type": "stream",
     "text": [
      "Prediction:  0.5\nBias and evidences: 2.01208475607 -22.1985309113 20.6864461553\nPositive Features\n             Feature  Weights\n0     Average Rating   0.9035\n1  Number of Ratings   0.4679\n2              major   0.4434\n3          christian   0.4174\n4       19th-century   0.4172\n5   twenty-something   0.3974\n6        famous-line   0.3964\n7          champagne   0.3931\n8    Phelps, Lee (I)   0.3860\n9            slavery   0.3797\nNegative Features\n                        Feature  Weights\n0              Gable, Clark (I)  -0.6140\n1                          barn  -0.5860\n2                         money  -0.5695\n3                         Drama  -0.5389\n4                self-sacrifice  -0.5054\n5                          maid  -0.4962\n6                irish-american  -0.4331\n7                mental-illness  -0.4326\n8                       courage  -0.4140\n9  mother-daughter-relationship  -0.3985\n"
     ]
    }
   ],
   "source": [
    "print \"Prediction: \",  y_pred[j]\n",
    "print \"Bias and evidences:\", bias, neg_evi[j], pos_evi[j]\n",
    "print \"Positive Features\"\n",
    "print positive_df.head(10)\n",
    "print \"Negative Features\"\n",
    "print negative_df.head(10)"
   ]
  },
  {
   "cell_type": "markdown",
   "metadata": {},
   "source": [
    "# Least amount of info"
   ]
  },
  {
   "cell_type": "code",
   "execution_count": 18,
   "metadata": {},
   "outputs": [
    {
     "name": "stdout",
     "output_type": "stream",
     "text": [
      "Movie Title:  CHARLIE, THE LONESOME COUGAR (1967)\nActual User Rating:  2.5\nPredicted User Rating:  2.5\n"
     ]
    }
   ],
   "source": [
    "information = np.max([abs(neg_evi), pos_evi], axis=0)\n",
    "indices = np.argsort(information)\n",
    "j=indices[0]\n",
    "titles = pd.read_csv(\"ml-latest/matched_set.csv\", sep = \",\")\n",
    "movie_id = movies[j]\n",
    "movie_index = np.where(movies == movie_id)\n",
    "movie_dm = dm[movie_index][0]\n",
    "feature_names = features\n",
    "\n",
    "positive_weights = movie_dm[movie_dm > 0]\n",
    "negative_weights = movie_dm[movie_dm < 0]\n",
    "\n",
    "positive_names = feature_names[movie_dm > 0]\n",
    "negative_names = feature_names[movie_dm < 0]\n",
    "\n",
    "positive_weights = np.column_stack((positive_names,positive_weights))\n",
    "positive_weights = positive_weights[np.argsort(positive_weights[:,1])][::-1]\n",
    "\n",
    "negative_weights = np.column_stack((negative_names,negative_weights))\n",
    "negative_weights = negative_weights[np.argsort(negative_weights[:,1])][::-1]\n",
    "\n",
    "positive_df = pd.DataFrame(positive_weights, columns = [\"Feature\", \"Weights\"])\n",
    "positive_df = positive_df.convert_objects(convert_numeric=True)\n",
    "\n",
    "negative_df = pd.DataFrame(negative_weights, columns = [\"Feature\", \"Weights\"])\n",
    "negative_df = negative_df.convert_objects(convert_numeric=True)\n",
    "\n",
    "pd.options.display.float_format = '{:,.4f}'.format\n",
    "\n",
    "print \"Movie Title: \", all_names[id_dict[movie_id]]\n",
    "print \"Actual User Rating: \", user_ratings[movie_id]\n",
    "print \"Predicted User Rating: \", y_pred[j]"
   ]
  },
  {
   "cell_type": "markdown",
   "metadata": {},
   "source": [
    "### Movie Rating Distribution"
   ]
  },
  {
   "cell_type": "code",
   "execution_count": 19,
   "metadata": {},
   "outputs": [
    {
     "name": "stdout",
     "output_type": "stream",
     "text": [
      "Number of Ratings: 114\n"
     ]
    },
    {
     "data": {
      "image/png": "[encoded data removed]"
     },
     "output_type": "display_data",
     "text": [
      "<matplotlib.figure.Figure at 0x22be6048>"
     ],
     "metadata": {}
    }
   ],
   "source": [
    "movie_ratings = ratings.loc[ratings['movieId'] == movie_id]\n",
    "x = movie_ratings\n",
    "his = np.histogram(x, bins = np.arange(0.5,6,0.5))\n",
    "fig, ax = plt.subplots()\n",
    "offset = 0.25\n",
    "plt.bar(his[1][1:],his[0],width=.5)\n",
    "ax.set_xticks(his[1][1:] + offset)\n",
    "ax.set_xticklabels(np.arange(0.5,6,0.5))\n",
    "print \"Number of Ratings:\", movie_ratings.shape[0]\n",
    "plt.title(\"Rating Frequency\")\n",
    "plt.xlabel(\"Rating\")\n",
    "plt.ylabel(\"Frequency\")\n",
    "plt.show()"
   ]
  },
  {
   "cell_type": "markdown",
   "metadata": {},
   "source": [
    "### Evidence"
   ]
  },
  {
   "cell_type": "code",
   "execution_count": 20,
   "metadata": {},
   "outputs": [
    {
     "name": "stdout",
     "output_type": "stream",
     "text": [
      "Prediction:  2.5\nBias and evidences: 2.01208475607 -1.05857082462 1.54648606855\nPositive Features\n          Feature  Weights\n0          Sci-Fi   1.2036\n1  Average Rating   0.2273\n2      wilderness   0.1156\nNegative Features\n                   Feature  Weights\n0                  Romance  -0.3484\n1                   orphan  -0.2435\n2               friendship  -0.2137\n3                   animal  -0.1195\n4  character-name-in-title  -0.1092\n5        Number of Ratings  -0.0244\n"
     ]
    }
   ],
   "source": [
    "print \"Prediction: \",  y_pred[j]\n",
    "print \"Bias and evidences:\", bias, neg_evi[j], pos_evi[j]\n",
    "print \"Positive Features\"\n",
    "print positive_df.head(10)\n",
    "print \"Negative Features\"\n",
    "print negative_df.head(10)"
   ]
  },
  {
   "cell_type": "markdown",
   "metadata": {},
   "source": [
    "## Defining movie matrix for unrated films"
   ]
  },
  {
   "cell_type": "code",
   "execution_count": 38,
   "metadata": {},
   "outputs": [
    {
     "ename": "NameError",
     "evalue": "name 'user_matrix' is not defined",
     "output_type": "error",
     "traceback": [
      "\u001b[1;31m---------------------------------------------------------------------------\u001b[0m",
      "\u001b[1;31mNameError\u001b[0m                                 Traceback (most recent call last)",
      "\u001b[1;32m<ipython-input-38-a2a3296f034b>\u001b[0m in \u001b[0;36m<module>\u001b[1;34m()\u001b[0m\n\u001b[1;32m----> 1\u001b[1;33m \u001b[0muser_cols\u001b[0m \u001b[1;33m=\u001b[0m \u001b[0muser_matrix\u001b[0m\u001b[1;33m.\u001b[0m\u001b[0mshape\u001b[0m\u001b[1;33m[\u001b[0m\u001b[1;36m1\u001b[0m\u001b[1;33m]\u001b[0m\u001b[1;33m\u001b[0m\u001b[0m\n\u001b[0m\u001b[0;32m      2\u001b[0m \u001b[0mdata\u001b[0m \u001b[1;33m=\u001b[0m \u001b[0muser_matrix\u001b[0m\u001b[1;33m[\u001b[0m\u001b[1;33m:\u001b[0m\u001b[1;33m,\u001b[0m \u001b[1;36m1\u001b[0m\u001b[1;33m:\u001b[0m\u001b[1;33m(\u001b[0m\u001b[0muser_cols\u001b[0m\u001b[1;33m-\u001b[0m\u001b[1;36m1\u001b[0m\u001b[1;33m)\u001b[0m\u001b[1;33m]\u001b[0m\u001b[1;33m\u001b[0m\u001b[0m\n\u001b[0;32m      3\u001b[0m \u001b[0mtarget\u001b[0m \u001b[1;33m=\u001b[0m \u001b[0muser_matrix\u001b[0m\u001b[1;33m[\u001b[0m\u001b[1;33m:\u001b[0m\u001b[1;33m,\u001b[0m \u001b[1;33m(\u001b[0m\u001b[0muser_cols\u001b[0m\u001b[1;33m-\u001b[0m\u001b[1;36m1\u001b[0m\u001b[1;33m)\u001b[0m\u001b[1;33m]\u001b[0m\u001b[1;33m\u001b[0m\u001b[0m\n\u001b[0;32m      4\u001b[0m \u001b[0muser_rated\u001b[0m \u001b[1;33m=\u001b[0m \u001b[0muser_matrix\u001b[0m\u001b[1;33m[\u001b[0m\u001b[1;33m:\u001b[0m\u001b[1;33m,\u001b[0m \u001b[1;36m0\u001b[0m\u001b[1;33m]\u001b[0m\u001b[1;33m-\u001b[0m\u001b[1;36m1\u001b[0m\u001b[1;33m\u001b[0m\u001b[0m\n\u001b[0;32m      5\u001b[0m \u001b[0mmovie_file\u001b[0m \u001b[1;33m=\u001b[0m \u001b[0mopen\u001b[0m\u001b[1;33m(\u001b[0m\u001b[1;34m\"postprocessed-data/movie_matrix\"\u001b[0m\u001b[1;33m,\u001b[0m \u001b[1;34m\"r\"\u001b[0m\u001b[1;33m)\u001b[0m\u001b[1;33m\u001b[0m\u001b[0m\n",
      "\u001b[1;31mNameError\u001b[0m: name 'user_matrix' is not defined"
     ]
    }
   ],
   "source": [
    "user_cols = user_matrix.shape[1]\n",
    "data = user_matrix[:, 1:(user_cols-1)]\n",
    "target = user_matrix[:, (user_cols-1)]\n",
    "user_rated = user_matrix[:, 0]-1\n",
    "movie_file = open(\"postprocessed-data/movie_matrix\", \"r\")\n",
    "movie_matrix = pickle.load(movie_file)[:, 1:]\n",
    "movie_file.close()"
   ]
  },
  {
   "cell_type": "markdown",
   "metadata": {},
   "source": [
    "## Predicting unrated films using Lasso and 5 fold cross validation"
   ]
  },
  {
   "cell_type": "code",
   "execution_count": null,
   "metadata": {},
   "outputs": [],
   "source": [
    "clf =TransparentLasso(min_lasso_alpha)\n",
    "clf.fit(data,target)\n",
    "all_pred = clf.predict(movie_matrix)\n",
    "unrated_pred = np.delete(all_pred, user_rated, 0)\n",
    "indices = np.argsort(unrated_pred)[::-1]\n",
    "unrated_movies = np.delete(movies, user_rated, 0)\n",
    "sorted_movies = unrated_movies[indices]\n",
    "movie_df = pd.DataFrame(np.column_stack((sorted_movies,unrated_pred[indices])), columns = ['Movie', 'Prediction'])\n",
    "print \"Top predicted movies\"\n",
    "print movie_df.head(10)\n",
    "print \"Lowest predicted movies\"\n",
    "print movie_df.tail(10)"
   ]
  }
 ],
 "metadata": {
  "kernelspec": {
   "display_name": "Python 2",
   "language": "python",
   "name": "python2"
  },
  "language_info": {
   "codemirror_mode": {
    "name": "ipython",
    "version": 2.0
   },
   "file_extension": ".py",
   "mimetype": "text/x-python",
   "name": "python",
   "nbconvert_exporter": "python",
   "pygments_lexer": "ipython2",
   "version": "2.7.9"
  }
 },
 "nbformat": 4,
 "nbformat_minor": 0
}