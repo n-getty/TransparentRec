{
 "worksheets": [
  {
   "cells": [
    {
     "cell_type": "code",
     "execution_count": null,
     "metadata": {},
     "outputs": [],
     "input": [
      "import LatestPreprocessing as lp\n",
      "import pandas as pd"
     ],
     "language": "python",
     "prompt_number": 1
    },
    {
     "cell_type": "markdown",
     "metadata": {},
     "source": [
      "User information including number of ratings, average rating, variance, unique genre/keyword percentage, and overall fitness"
     ]
    },
    {
     "cell_type": "code",
     "execution_count": null,
     "metadata": {},
     "outputs": [],
     "input": [
      "user_stat_df = lp.user_stat_df = lp.get_all_user_stats()"
     ],
     "language": "python",
     "prompt_number": 1
    },
    {
     "cell_type": "markdown",
     "metadata": {},
     "source": [
      "Sorted by fitness"
     ]
    },
    {
     "cell_type": "code",
     "execution_count": null,
     "metadata": {},
     "outputs": [],
     "input": [
      "print user_stat_df.head(10)"
     ],
     "language": "python"
    },
    {
     "cell_type": "markdown",
     "metadata": {},
     "source": [
      "Sorted by number of ratings"
     ]
    },
    {
     "cell_type": "code",
     "execution_count": null,
     "metadata": {},
     "outputs": [],
     "input": [
      "print user_stat_df.sort(['Number of Ratings'], ascending = 0).head(10)"
     ],
     "language": "python"
    },
    {
     "cell_type": "markdown",
     "metadata": {},
     "source": [
      "Sorted by variance"
     ]
    },
    {
     "cell_type": "code",
     "execution_count": null,
     "metadata": {},
     "outputs": [],
     "input": [
      ""
     ],
     "language": "python"
    },
    {
     "cell_type": "markdown",
     "metadata": {},
     "source": [
      "Users with the most ratings on matched movies"
     ]
    },
    {
     "cell_type": "code",
     "execution_count": null,
     "metadata": {},
     "outputs": [
      {
       "output_type": "stream",
       "stream": "stdout",
       "text": [
        "        User ID  Number of Ratings\n197530   197531               7975\n49424     49425               6294\n132644   132645               6065\n212133   212134               5022\n229841   229842               4945\n62397     62398               4849\n10277     10278               4845\n204256   204257               4556\n15917     15918               4535\n237450   237451               4425\n"
       ]
      }
     ],
     "input": [
      "lp.gen_num_matched_ratings()"
     ],
     "language": "python",
     "prompt_number": 2
    }
   ]
  }
 ],
 "cells": [],
 "metadata": {},
 "nbformat": 3,
 "nbformat_minor": 0
}