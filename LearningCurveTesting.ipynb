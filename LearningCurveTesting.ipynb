{
 "worksheets": [
  {
   "cells": [
    {
     "cell_type": "code",
     "execution_count": null,
     "metadata": {},
     "outputs": [],
     "input": [
      "%matplotlib inline\n",
      "import PredictiveModels as pm\n",
      "import matplotlib.pyplot as plt\n",
      "from RationaleSelect import *\n",
      "from Classifiers import TransparentLinearRegression\n",
      "from sklearn import cross_validation, linear_model\n",
      "from sklearn.metrics import mean_absolute_error\n",
      "from sklearn.cross_validation import train_test_split"
     ],
     "language": "python",
     "prompt_number": 1
    },
    {
     "cell_type": "code",
     "execution_count": null,
     "metadata": {},
     "outputs": [],
     "input": [
      "userid = 170099\n",
      "user_ratings = get_matched_user_ratings(userid)\n",
      "movies = user_ratings.keys()\n",
      "ratings = user_ratings.values()"
     ],
     "language": "python",
     "prompt_number": 2
    },
    {
     "cell_type": "code",
     "execution_count": null,
     "metadata": {},
     "outputs": [],
     "input": [
      "id_dict = get_id_row_dict()\n",
      "idxs = [id_dict[k] for k in movies]\n",
      "avg_and_num = sort_avg()"
     ],
     "language": "python",
     "prompt_number": 3
    },
    {
     "cell_type": "code",
     "execution_count": null,
     "metadata": {},
     "outputs": [],
     "input": [
      "genre_matrix = get_genre_matrix()[idxs]\n",
      "user_key_matrix  = get_key_matrix()[idxs]\n",
      "actor_matrix = get_actor_matrix()[idxs]"
     ],
     "language": "python",
     "prompt_number": 4
    },
    {
     "cell_type": "code",
     "execution_count": null,
     "metadata": {},
     "outputs": [
      {
       "output_type": "stream",
       "stream": "stderr",
       "text": [
        "C:\\Python27\\lib\\site-packages\\sklearn\\preprocessing\\data.py:153: UserWarning: Numerical issues were encountered when centering the data and might not be solved. Dataset may contain too large values. You may need to prescale your features.\n  warnings.warn(\"Numerical issues were encountered \"\n"
       ]
      }
     ],
     "input": [
      "pp.scale(avg_and_num[:,0], with_mean=True, with_std=True, copy=False)\n",
      "pp.scale(avg_and_num[:,1], with_mean=True, with_std=True, copy=False)\n",
      "data = np.column_stack((avg_and_num[idxs], genre_matrix, user_key_matrix, actor_matrix))\n",
      "target = ratings"
     ],
     "language": "python",
     "prompt_number": 5
    },
    {
     "cell_type": "code",
     "execution_count": null,
     "metadata": {},
     "outputs": [],
     "input": [
      "def get_rationales(train_data, y_train):\n",
      "    non_avg = train_data[:,2:]\n",
      "    rationale_weights = get_rationale_weights(non_avg, y_train)\n",
      "    maxs, mins = build_rationales(non_avg, rationale_weights, 0.01)\n",
      "    maxs = maxs.keys()\n",
      "    mins = mins.keys()\n",
      "    return maxs, mins"
     ],
     "language": "python",
     "prompt_number": 6
    },
    {
     "cell_type": "code",
     "execution_count": null,
     "metadata": {},
     "outputs": [],
     "input": [
      "def build_train_with_rationales(train_data, y_train, maxs, mins):\n",
      "    non_avg = train_data[:,2:]\n",
      "    for x in range(train_data.shape[0]):\n",
      "        movie = non_avg[x]\n",
      "        maxs = np.intersect1d(maxs, np.nonzero(movie))\n",
      "        mins = np.intersect1d(mins, np.nonzero(movie))\n",
      "        if y_train[x] > 3.5 and len(maxs) > 0:\n",
      "            movie = np.multiply(movie, .01)\n",
      "            rationale = np.random.choice(maxs, 1)\n",
      "            movie[rationale] *= 100\n",
      "        elif y_train[x] < 2.5 and len(mins) > 0:\n",
      "            movie = np.multiply(movie, .01)\n",
      "            rationale = np.random.choice(mins, 1)\n",
      "            movie[rationale] *= 100\n",
      "        train_data[x][2:] = movie\n",
      "    return train_data"
     ],
     "language": "python",
     "prompt_number": 7
    },
    {
     "cell_type": "code",
     "execution_count": null,
     "metadata": {},
     "outputs": [],
     "input": [
      "maxs, mins = get_rationales(data, target)"
     ],
     "language": "python",
     "prompt_number": 8
    },
    {
     "cell_type": "code",
     "execution_count": null,
     "metadata": {},
     "outputs": [],
     "input": [
      "def get_ridge_cv_results_rationales(user_matrix, alpha, folds):\n",
      "    \n",
      "    user_cols = user_matrix.shape[1]\n",
      "    data = user_matrix[:, :(user_cols-1)]\n",
      "    target = user_matrix[:, (user_cols-1)]\n",
      "    \n",
      "    ridge = linear_model.Ridge()\n",
      "    ridge.alpha = alpha\n",
      "    \n",
      "    kf = cross_validation.KFold(user_matrix.shape[0], n_folds=folds, shuffle = True, random_state = 16834)\n",
      "    all_pred = np.zeros(shape=(0))\n",
      "    all_indices = np.zeros(shape=(0))\n",
      "    mae_list = list()\n",
      "    for train_index, test_index in kf:\n",
      "        X_train, X_test =data[train_index], data[test_index]\n",
      "        y_train, y_test = target[train_index], target[test_index]\n",
      "        \n",
      "        rationale_train = build_train_with_rationales(X_train, y_train, maxs, mins)\n",
      "        \n",
      "        ridge.fit(rationale_train, y_train)\n",
      "        y_pred = ridge.predict(X_test)\n",
      "\n",
      "        mae = mean_absolute_error(y_test, y_pred)\n",
      "\n",
      "        all_pred = np.concatenate((all_pred,y_pred))\n",
      "        all_indices = np.concatenate((all_indices, test_index))\n",
      "\n",
      "        mae_list.append(mae)\n",
      "\n",
      "    y_pred = np.column_stack((all_indices,all_pred))\n",
      "    y_pred = y_pred[np.argsort(y_pred[:,0])][:,1]\n",
      "\n",
      "    mae = np.average(mae_list)\n",
      "    weights = ridge.coef_\n",
      "\n",
      "    return [mae, weights, y_pred]"
     ],
     "language": "python",
     "prompt_number": 9
    },
    {
     "cell_type": "code",
     "execution_count": null,
     "metadata": {},
     "outputs": [],
     "input": [
      "def get_curve(data,target,step,indices):\n",
      "    mae_curve = []\n",
      "    sublens = np.arange(step, len(target), step)\n",
      "    for sublen in sublens:\n",
      "        sub = indices[range(sublen)]\n",
      "        mae = pm.get_ridge_cv_results(np.column_stack((data[sub],target[sub])), 45, 10)[0]\n",
      "        mae_curve.append(mae)\n",
      "    return mae_curve"
     ],
     "language": "python",
     "prompt_number": 10
    },
    {
     "cell_type": "code",
     "execution_count": null,
     "metadata": {},
     "outputs": [],
     "input": [
      "def get_rationale_curve(data,target,step,indices):\n",
      "    mae_curve = []\n",
      "    sublens = np.arange(step, len(target), step)\n",
      "    for sublen in sublens:\n",
      "        sub = indices[range(sublen)]\n",
      "        mae = get_ridge_cv_results_rationales(np.column_stack((data[sub],target[sub])), 45, 10)[0]\n",
      "        mae_curve.append(mae)\n",
      "    return mae_curve"
     ],
     "language": "python",
     "prompt_number": 11
    },
    {
     "cell_type": "code",
     "execution_count": null,
     "metadata": {},
     "outputs": [],
     "input": [
      "def get_lasso_curve(data,target,step,indices):\n",
      "    mae_curve = []\n",
      "    sublens = np.arange(step, len(target), step)\n",
      "    for sublen in sublens:\n",
      "        sub = indices[range(sublen)]\n",
      "        mae = pm.get_lasso_cv_results(np.column_stack((data[sub],target[sub])), .01, 10)[0]\n",
      "        mae_curve.append(mae)\n",
      "    return mae_curve"
     ],
     "language": "python",
     "prompt_number": 12
    },
    {
     "cell_type": "code",
     "execution_count": null,
     "metadata": {},
     "outputs": [],
     "input": [
      "step = 20\n",
      "indices = np.arange(len(target))\n",
      "hi_lo = np.hstack((np.where(target > 3.5)[0][:10], np.where(target < 2.5)[0][:10]))\n",
      "indices = np.setdiff1d(indices, hi_lo, assume_unique= True)\n",
      "np.random.shuffle(indices)\n",
      "indices = np.hstack((hi_lo, indices))"
     ],
     "language": "python",
     "prompt_number": 13
    },
    {
     "cell_type": "code",
     "execution_count": null,
     "metadata": {},
     "outputs": [],
     "input": [
      "curve = get_curve(np.array(data),np.array(target),step,indices)"
     ],
     "language": "python",
     "prompt_number": 14
    },
    {
     "cell_type": "code",
     "execution_count": null,
     "metadata": {},
     "outputs": [],
     "input": [
      "rationale_curve = get_rationale_curve(np.array(data),np.array(target),step, indices)"
     ],
     "language": "python",
     "prompt_number": 15
    },
    {
     "cell_type": "markdown",
     "metadata": {},
     "source": [
      "# MAE v Number of Movies with Ridge Regression and Cross Validation"
     ]
    },
    {
     "cell_type": "code",
     "execution_count": null,
     "metadata": {},
     "outputs": [
      {
       "output_type": "display_data",
       "png": "[encoded data removed]",
       "text": [
        "<matplotlib.figure.Figure at 0x16212f98>"
       ],
       "metadata": {}
      }
     ],
     "input": [
      "sublens = np.arange(step, len(target), step)\n",
      "plt.plot(sublens, curve, 'ro', sublens, rationale_curve, 'g^')\n",
      "plt.show()"
     ],
     "language": "python",
     "prompt_number": 16
    },
    {
     "cell_type": "code",
     "execution_count": null,
     "metadata": {},
     "outputs": [],
     "input": [
      "lasso_curve = get_lasso_curve(np.array(data),np.array(target),step,indices)"
     ],
     "language": "python",
     "prompt_number": 17
    },
    {
     "cell_type": "code",
     "execution_count": null,
     "metadata": {},
     "outputs": [],
     "input": [
      "def get_lasso_cv_results_rationales(user_matrix, alpha, folds):\n",
      "    user_cols = user_matrix.shape[1]\n",
      "    data = user_matrix[:, :(user_cols-1)]\n",
      "    target = user_matrix[:, (user_cols-1)]\n",
      "\n",
      "    lasso = linear_model.Lasso()\n",
      "    lasso.alpha = alpha\n",
      "    \n",
      "    kf = cross_validation.KFold(user_matrix.shape[0], n_folds=folds, shuffle = True, random_state = 16834)\n",
      "    all_pred = np.zeros(shape=(0))\n",
      "    all_indices = np.zeros(shape=(0))\n",
      "    mae_list = list()\n",
      "    for train_index, test_index in kf:\n",
      "        X_train, X_test =data[train_index], data[test_index]\n",
      "        y_train, y_test = target[train_index], target[test_index]\n",
      "        \n",
      "        rationale_train = build_train_with_rationales(X_train, y_train, maxs, mins)\n",
      "        \n",
      "        lasso.fit(rationale_train, y_train)\n",
      "        y_pred = lasso.predict(X_test)\n",
      "\n",
      "        mae = mean_absolute_error(y_test, y_pred)\n",
      "\n",
      "        all_pred = np.concatenate((all_pred,y_pred))\n",
      "        all_indices = np.concatenate((all_indices, test_index))\n",
      "\n",
      "        mae_list.append(mae)\n",
      "\n",
      "    y_pred = np.column_stack((all_indices,all_pred))\n",
      "    y_pred = y_pred[np.argsort(y_pred[:,0])][:,1]\n",
      "\n",
      "    mae = np.average(mae_list)\n",
      "    weights = lasso.coef_\n",
      "\n",
      "    return [mae, weights, y_pred]"
     ],
     "language": "python",
     "prompt_number": 18
    },
    {
     "cell_type": "code",
     "execution_count": null,
     "metadata": {},
     "outputs": [],
     "input": [
      "def get_lasso_rationale_curve(data,target,step,indices):\n",
      "    mae_curve = []\n",
      "    sublens = np.arange(step, len(target), step)\n",
      "    for sublen in sublens:\n",
      "        sub = indices[range(sublen)]\n",
      "        mae = get_lasso_cv_results_rationales(np.column_stack((data[sub],target[sub])), .01, 10)[0]\n",
      "        mae_curve.append(mae)\n",
      "    return mae_curve"
     ],
     "language": "python",
     "prompt_number": 30
    },
    {
     "cell_type": "code",
     "execution_count": null,
     "metadata": {},
     "outputs": [],
     "input": [
      "lasso_rationale_curve = get_lasso_rationale_curve(np.array(data),np.array(target),step,indices)"
     ],
     "language": "python",
     "prompt_number": 21
    },
    {
     "cell_type": "markdown",
     "metadata": {},
     "source": [
      "# MAE v Number of Movies with Lasso Regression and Cross Validation"
     ]
    },
    {
     "cell_type": "code",
     "execution_count": null,
     "metadata": {},
     "outputs": [],
     "input": [
      "plt.clf()\n",
      "sublens = np.arange(step, len(target), step)\n",
      "plt.plot(sublens, lasso_curve, 'ro', sublens, lasso_rationale_curve, 'g^')\n",
      "plt.show()"
     ],
     "language": "python",
     "prompt_number": 29
    },
    {
     "cell_type": "code",
     "execution_count": null,
     "metadata": {},
     "outputs": [],
     "input": [
      ""
     ],
     "language": "python"
    }
   ]
  }
 ],
 "cells": [],
 "metadata": {},
 "nbformat": 3,
 "nbformat_minor": 0
}